{
 "cells": [
  {
   "cell_type": "code",
   "execution_count": 3,
   "metadata": {},
   "outputs": [],
   "source": [
    "# imports"
   ]
  },
  {
   "cell_type": "markdown",
   "metadata": {},
   "source": [
    "# Arrays and Strings"
   ]
  },
  {
   "cell_type": "markdown",
   "metadata": {},
   "source": [
    "### Longest Substring Without Repeating Characters\n",
    "\n",
    "[1] https://leetcode.com/problems/longest-substring-without-repeating-characters/\n",
    "\n",
    "Given a string s, find the length of the longest substring without repeating characters.\n",
    "```\n",
    "Example 1:\n",
    "\n",
    "Input: s = \"abcabcbb\"\n",
    "Output: 3\n",
    "Explanation: The answer is \"abc\", with the length of 3.\n",
    "```"
   ]
  },
  {
   "cell_type": "code",
   "execution_count": 1,
   "metadata": {},
   "outputs": [],
   "source": [
    "def lengthOfLongestSubstring(s: str) -> int:\n",
    "\n",
    "\n",
    "    \"\"\"\n",
    "    TWO POINTER WITH DICT APPROACH\n",
    "    \n",
    "    use this  case a    c    b    d   b   a   c \n",
    "    If s[r] not in seen, we can keep increasing the window size by moving right pointer\n",
    "\n",
    "    There are two cases if s[r] in seen:\n",
    "    case1: s[r] is inside the current window, we need to change the window by\n",
    "    moving left pointer to seen[s[r]] + 1.\n",
    "    case2: s[r] is not inside the current window, we can keep increase the window\n",
    "    \"\"\"\n",
    "\n",
    "    seen = {}\n",
    "\n",
    "    output = left = 0\n",
    "\n",
    "    for right, letter in enumerate(s):\n",
    "\n",
    "        if letter not in seen:\n",
    "            output = max(output, right-left+1)\n",
    "\n",
    "\n",
    "        else:\n",
    "            if seen[letter] < left:\n",
    "                output = max(output, right-left+1)\n",
    "\n",
    "            else:\n",
    "                left = seen[letter] + 1\n",
    "\n",
    "        seen[letter] = right\n",
    "\n",
    "    return output\n",
    "\n",
    "\n"
   ]
  },
  {
   "cell_type": "code",
   "execution_count": 2,
   "metadata": {},
   "outputs": [
    {
     "data": {
      "text/plain": [
       "4"
      ]
     },
     "execution_count": 2,
     "metadata": {},
     "output_type": "execute_result"
    }
   ],
   "source": [
    "lengthOfLongestSubstring('acbdbac')"
   ]
  },
  {
   "cell_type": "markdown",
   "metadata": {},
   "source": [
    "### String to Integer (atoi)\n",
    "\n",
    "[2] https://leetcode.com/problems/string-to-integer-atoi/\n",
    "\n",
    "```\n",
    "Input: s = \"4193 with words\"\n",
    "Output: 4193\n",
    "Explanation:\n",
    "Step 1: \"4193 with words\" (no characters read because there is no leading whitespace)\n",
    "         ^\n",
    "Step 2: \"4193 with words\" (no characters read because there is neither a '-' nor '+')\n",
    "         ^\n",
    "Step 3: \"4193 with words\" (\"4193\" is read in; reading stops because the next character is a non-digit)\n",
    "             ^\n",
    "The parsed integer is 4193.\n",
    "Since 4193 is in the range [-231, 231 - 1], the final result is 4193.\n",
    "```"
   ]
  },
  {
   "cell_type": "markdown",
   "metadata": {},
   "source": [
    "#### SOULTION\n",
    "\n",
    "1. First set up the MAX and MIN number to perform capping.\n",
    "2. Remove/Strip white space. check if the string empty and if yes, return 0.\n",
    "3. check if the string starts with signs or number. If not return 0.\n",
    "4. Store the sign.\n",
    "5. create a helper function to loop though the string and convert it to a number."
   ]
  },
  {
   "cell_type": "code",
   "execution_count": 4,
   "metadata": {},
   "outputs": [],
   "source": [
    "# helper funtion to construct the words to numbers\n",
    "def helper(string):\n",
    "    MAPPING = {\n",
    "        \"1\": 1,\n",
    "        \"2\": 2,\n",
    "        \"3\": 3,\n",
    "        \"4\": 4,\n",
    "        \"5\": 5,\n",
    "        \"6\": 6,\n",
    "        \"7\": 7,\n",
    "        \"8\": 8,\n",
    "        \"9\": 9,\n",
    "        \"0\": 0,\n",
    "    }\n",
    "\n",
    "    res = 0\n",
    "    for s in string:\n",
    "        if not s.isdigit():\n",
    "            break\n",
    "        res = 10 * res + MAPPING[s]\n",
    "    return res"
   ]
  },
  {
   "cell_type": "code",
   "execution_count": 5,
   "metadata": {},
   "outputs": [],
   "source": [
    "\n",
    "def myAtoi(s: str) -> int:\n",
    "\n",
    "    MAX_INT = 2**31-1\n",
    "    MIN_INT = -(2**31)\n",
    "\n",
    "    string = s.strip()\n",
    "\n",
    "    # check if it is empty\n",
    "    if string == \"\":\n",
    "        return 0\n",
    "\n",
    "    #check if it start is not (+, -) and not a digit\n",
    "    if string[0] != \"+\" and string[0] != \"-\" and not string[0].isdigit():\n",
    "        return 0\n",
    "\n",
    "\n",
    "    if string[0] in [\"+\", \"-\"]: # first letter is \"+\" or \"+\"\n",
    "        sign = string[0]\n",
    "        res = helper(string[1:])\n",
    "\n",
    "        return min(res, MAX_INT) if sign == \"+\" else max(-1 * res, MIN_INT)\n",
    "\n",
    "    else: # first letter is a digit \n",
    "        return min(helper(string), MAX_INT)\n",
    "\n"
   ]
  },
  {
   "cell_type": "code",
   "execution_count": 6,
   "metadata": {},
   "outputs": [
    {
     "data": {
      "text/plain": [
       "4193"
      ]
     },
     "execution_count": 6,
     "metadata": {},
     "output_type": "execute_result"
    }
   ],
   "source": [
    "myAtoi(\"4193 with words\")"
   ]
  },
  {
   "cell_type": "code",
   "execution_count": 7,
   "metadata": {},
   "outputs": [
    {
     "data": {
      "text/plain": [
       "-2147483648"
      ]
     },
     "execution_count": 7,
     "metadata": {},
     "output_type": "execute_result"
    }
   ],
   "source": [
    "myAtoi(\"-91283472332\")"
   ]
  },
  {
   "cell_type": "markdown",
   "metadata": {},
   "source": [
    "### Roman to Integer\n",
    "\n",
    "[3] https://leetcode.com/problems/roman-to-integer/"
   ]
  },
  {
   "cell_type": "code",
   "execution_count": 1,
   "metadata": {},
   "outputs": [],
   "source": [
    "def romanToInt(s: str) -> int:\n",
    "    roman_to_int = {\n",
    "        'I' : 1,\n",
    "        'V' : 5,\n",
    "        'X' : 10,\n",
    "        'L' : 50,\n",
    "        'C' : 100,\n",
    "        'D' : 500,\n",
    "        'M' : 1000\n",
    "    }\n",
    "\n",
    "    result = prev = 0\n",
    "\n",
    "    for letter in s:\n",
    "\n",
    "        current = roman_to_int[letter]\n",
    "\n",
    "        result += current\n",
    "\n",
    "        if current > prev:\n",
    "            # if preceding roman nummber is smaller\n",
    "            # we need to undo the previous addition\n",
    "            # and substract the preceding roman char\n",
    "            # from the current one, i.e. we need to\n",
    "            # substract twice the previous roman char\n",
    "\n",
    "            result -= 2*prev\n",
    "\n",
    "        prev =  current\n",
    "\n",
    "    return result"
   ]
  },
  {
   "cell_type": "code",
   "execution_count": 2,
   "metadata": {},
   "outputs": [
    {
     "data": {
      "text/plain": [
       "4"
      ]
     },
     "execution_count": 2,
     "metadata": {},
     "output_type": "execute_result"
    }
   ],
   "source": [
    "romanToInt('IV')"
   ]
  },
  {
   "cell_type": "markdown",
   "metadata": {},
   "source": [
    "## 3Sum\n",
    "\n",
    "[4] https://leetcode.com/problems/3sum/\n",
    "    \n",
    "Given an integer array nums, return all the triplets [nums[i], nums[j], nums[k]] such that i != j, i != k, and j != k, and nums[i] + nums[j] + nums[k] == 0.\n",
    "\n",
    "Notice that the solution set must not contain duplicate triplets.\n",
    "\n",
    "Example 1:\n",
    "```\n",
    "Input: nums = [-1,0,1,2,-1,-4]\n",
    "Output: [[-1,-1,2],[-1,0,1]]\n",
    "```\n",
    "\n",
    "Example 2:\n",
    "```\n",
    "Input: nums = []\n",
    "Output: []\n",
    "```"
   ]
  },
  {
   "cell_type": "code",
   "execution_count": null,
   "metadata": {},
   "outputs": [],
   "source": []
  },
  {
   "cell_type": "code",
   "execution_count": null,
   "metadata": {},
   "outputs": [],
   "source": []
  },
  {
   "cell_type": "code",
   "execution_count": null,
   "metadata": {},
   "outputs": [],
   "source": []
  },
  {
   "cell_type": "markdown",
   "metadata": {},
   "source": [
    "## Remove Duplicates from Sorted Array\n",
    "[5] https://leetcode.com/problems/remove-duplicates-from-sorted-array/\n",
    "\n",
    "Do not allocate extra space for another array. You must do this by modifying the input array in-place with O(1) extra memory.\n",
    "\n",
    "```\n",
    "Input: nums = [1,1,2]\n",
    "Output: 2, nums = [1,2,_]\n",
    "Explanation: Your function should return k = 2, with the first two elements of nums being 1 and 2 respectively.\n",
    "It does not matter what you leave beyond the returned k (hence they are underscores).\n",
    "```\n",
    "\n",
    "##### SOLUTION\n",
    "NOTE: \n",
    "- Donot use a for loop to iterate when you pop a list. This is would always to lead to `list out of bound error`.\n",
    "- Could have used set but the question states clearly to O(1) memory.\n",
    "\n",
    "1. set an index=1\n",
    "2. if the number in current index equals to the previous, then pop the number else increment the index by 1\n",
    "3. Finally return the len of element in the list"
   ]
  },
  {
   "cell_type": "code",
   "execution_count": 8,
   "metadata": {},
   "outputs": [],
   "source": [
    "def removeDuplicates(nums) -> int:\n",
    "\n",
    "    # set index\n",
    "    indx = 1\n",
    "\n",
    "    while indx < len(nums):\n",
    "        if nums[indx] == nums[indx-1]:\n",
    "            nums.pop(indx)\n",
    "\n",
    "        else:\n",
    "            indx+=1\n",
    "\n",
    "    return indx"
   ]
  },
  {
   "cell_type": "code",
   "execution_count": 9,
   "metadata": {},
   "outputs": [
    {
     "data": {
      "text/plain": [
       "5"
      ]
     },
     "execution_count": 9,
     "metadata": {},
     "output_type": "execute_result"
    }
   ],
   "source": [
    "removeDuplicates([0,0,1,1,1,2,2,3,3,4])"
   ]
  },
  {
   "cell_type": "markdown",
   "metadata": {},
   "source": [
    "## Next Permutation\n",
    "[6]https://leetcode.com/problems/next-permutation/\n",
    "\n",
    "Implement next permutation, which rearranges numbers into the lexicographically next greater permutation of numbers.\n",
    "\n",
    "If such an arrangement is not possible, it must rearrange it as the lowest possible order (i.e., sorted in ascending order).\n",
    "\n",
    "The replacement must be in place and use only constant extra memory.\n",
    "\n",
    "```\n",
    "Example 1:\n",
    "\n",
    "Input: nums = [1,2,3]\n",
    "Output: [1,3,2]\n",
    "```\n",
    "\n",
    "```\n",
    "Example 2:\n",
    "\n",
    "Input: nums = [3,2,1]\n",
    "Output: [1,2,3]\n",
    "```\n",
    "\n",
    "```\n",
    "Example 3:\n",
    "\n",
    "Input: nums = [1]\n",
    "Output: [1]\n",
    "```"
   ]
  },
  {
   "cell_type": "code",
   "execution_count": null,
   "metadata": {},
   "outputs": [],
   "source": []
  },
  {
   "cell_type": "code",
   "execution_count": null,
   "metadata": {},
   "outputs": [],
   "source": []
  },
  {
   "cell_type": "code",
   "execution_count": null,
   "metadata": {},
   "outputs": [],
   "source": []
  },
  {
   "cell_type": "markdown",
   "metadata": {},
   "source": [
    "## Multiply Strings\n",
    "[7] https://leetcode.com/problems/multiply-strings/\n",
    "\n",
    "Given two non-negative integers num1 and num2 represented as strings, return the product of num1 and num2, also represented as a string.\n",
    "\n",
    "Note: You must not use any built-in BigInteger library or convert the inputs to integer directly.\n",
    "\n",
    " \n",
    "```\n",
    "Example 1:\n",
    "\n",
    "Input: num1 = \"2\", num2 = \"3\"\n",
    "Output: \"6\"\n",
    "Example 2:\n",
    "\n",
    "Input: num1 = \"123\", num2 = \"456\"\n",
    "Output: \"56088\"\n",
    "```"
   ]
  },
  {
   "cell_type": "code",
   "execution_count": 10,
   "metadata": {},
   "outputs": [],
   "source": [
    "def str_int(string):\n",
    "    num_dict = {\n",
    "        '1':1,\n",
    "        '2':2,\n",
    "        '3':3,\n",
    "        '4':4,\n",
    "        '5':5,\n",
    "        '6':6,\n",
    "        '7':7,\n",
    "        '8':8,\n",
    "        '9':9,\n",
    "        '0':0\n",
    "    }\n",
    "\n",
    "\n",
    "    number = 0\n",
    "\n",
    "    for i in string:\n",
    "        number = number * 10 + num_dict[i]\n",
    "\n",
    "    return number\n",
    "\n",
    "\n",
    "def multiply(num1: str, num2: str) -> str:\n",
    "\n",
    "    return str(str_int(num1)*str_int(num2))\n"
   ]
  },
  {
   "cell_type": "code",
   "execution_count": 11,
   "metadata": {},
   "outputs": [
    {
     "data": {
      "text/plain": [
       "'56088'"
      ]
     },
     "execution_count": 11,
     "metadata": {},
     "output_type": "execute_result"
    }
   ],
   "source": [
    "multiply(\"123\", \"456\")"
   ]
  },
  {
   "cell_type": "markdown",
   "metadata": {},
   "source": [
    "## Group Anagrams\n",
    "[8]https://leetcode.com/problems/group-anagrams/ \n",
    "\n",
    "Given an array of strings strs, group the anagrams together. You can return the answer in any order.\n",
    "\n",
    "An Anagram is a word or phrase formed by rearranging the letters of a different word or phrase, typically using all the original letters exactly once.\n",
    "\n",
    "```\n",
    "Example 1:\n",
    "\n",
    "Input: strs = [\"eat\",\"tea\",\"tan\",\"ate\",\"nat\",\"bat\"]\n",
    "Output: [[\"bat\"],[\"nat\",\"tan\"],[\"ate\",\"eat\",\"tea\"]]\n",
    "Example 2:\n",
    "\n",
    "Input: strs = [\"\"]\n",
    "Output: [[\"\"]]\n",
    "Example 3:\n",
    "\n",
    "Input: strs = [\"a\"]\n",
    "Output: [[\"a\"]]\n",
    "```\n"
   ]
  },
  {
   "cell_type": "markdown",
   "metadata": {},
   "source": [
    "#### NOTE:\n",
    "sort return list of individual character"
   ]
  },
  {
   "cell_type": "code",
   "execution_count": 15,
   "metadata": {},
   "outputs": [],
   "source": [
    "def groupAnagrams(strs):\n",
    "    seen = {}\n",
    "\n",
    "    for string in strs:\n",
    "        # NOTE: sort return list of individual character.\n",
    "        # We need to convert it to a string using join\n",
    "        str_sorted= ''.join(sorted(string))\n",
    "\n",
    "        if str_sorted in seen:\n",
    "            seen[str_sorted].append(string)\n",
    "        else:\n",
    "            seen[str_sorted] = [string]\n",
    "\n",
    "    return list(seen.values())"
   ]
  },
  {
   "cell_type": "code",
   "execution_count": 16,
   "metadata": {},
   "outputs": [
    {
     "data": {
      "text/plain": [
       "[['eat', 'tea', 'ate'], ['tan', 'nat'], ['bat']]"
      ]
     },
     "execution_count": 16,
     "metadata": {},
     "output_type": "execute_result"
    }
   ],
   "source": [
    "groupAnagrams([\"eat\",\"tea\",\"tan\",\"ate\",\"nat\",\"bat\"])"
   ]
  },
  {
   "cell_type": "markdown",
   "metadata": {},
   "source": [
    "## Add Binary\n",
    "[9] https://leetcode.com/problems/add-binary/\n",
    "    \n",
    "```\n",
    "Example 1:\n",
    "\n",
    "Input: a = \"11\", b = \"1\"\n",
    "Output: \"100\"\n",
    "Example 2:\n",
    "\n",
    "Input: a = \"1010\", b = \"1011\"\n",
    "Output: \"10101\"\n",
    "```"
   ]
  },
  {
   "cell_type": "markdown",
   "metadata": {},
   "source": [
    "#### NOTE\n",
    "- To convert a word to list of characters, typecast the word to list.\n",
    "- We cannot use the split method here.\n",
    "\n",
    "#### SOLUTION\n",
    "- Trick is to add number to carry\n",
    "- carry Mod 2 gives the sum\n",
    "- The quotient after dividing the carry by 2 is new carry"
   ]
  },
  {
   "cell_type": "code",
   "execution_count": 19,
   "metadata": {},
   "outputs": [
    {
     "data": {
      "text/plain": [
       "['g', 'h', 'i', 'l', 'l', 'i']"
      ]
     },
     "execution_count": 19,
     "metadata": {},
     "output_type": "execute_result"
    }
   ],
   "source": [
    "list('ghilli')"
   ]
  },
  {
   "cell_type": "code",
   "execution_count": 20,
   "metadata": {},
   "outputs": [],
   "source": [
    "def addBinary(a: str, b: str) -> str:\n",
    "\n",
    "    # convert the strings to list\n",
    "    a = list(a)\n",
    "    b = list(b)\n",
    "    carry = 0\n",
    "    result = ''\n",
    "\n",
    "    while a or b or carry:\n",
    "        if a:\n",
    "            carry += int(a.pop())\n",
    "\n",
    "        if b:\n",
    "            carry += int(b.pop())\n",
    "\n",
    "        result += str(carry%2)\n",
    "        carry = carry//2\n",
    "\n",
    "    return result[::-1]"
   ]
  },
  {
   "cell_type": "code",
   "execution_count": 21,
   "metadata": {},
   "outputs": [
    {
     "data": {
      "text/plain": [
       "'110'"
      ]
     },
     "execution_count": 21,
     "metadata": {},
     "output_type": "execute_result"
    }
   ],
   "source": [
    "addBinary('101','1')"
   ]
  },
  {
   "cell_type": "code",
   "execution_count": 22,
   "metadata": {},
   "outputs": [],
   "source": [
    "def addBinary( a, b):\n",
    "    return bin(eval('0b' + a) + eval('0b' + b))[2:]"
   ]
  },
  {
   "cell_type": "code",
   "execution_count": 23,
   "metadata": {},
   "outputs": [],
   "source": [
    "def addBinary(self, a, b):\n",
    "    return bin(int(a,2) + int(b,2))[2:]"
   ]
  },
  {
   "cell_type": "markdown",
   "metadata": {},
   "source": [
    "## Minimum Window Substring\n",
    "[10] https://leetcode.com/explore/interview/card/facebook/5/array-and-strings/285/\n",
    "\n",
    "Given two strings s and t of lengths m and n respectively, return the minimum window substring of s such that every character in t (including duplicates) is included in the window. If there is no such substring, return the empty string \"\".\n",
    "\n",
    "The testcases will be generated such that the answer is unique.\n",
    "\n",
    "A substring is a contiguous sequence of characters within the string.\n",
    "\n",
    "```\n",
    "Example 1:\n",
    "\n",
    "Input: s = \"ADOBECODEBANC\", t = \"ABC\"\n",
    "Output: \"BANC\"\n",
    "Explanation: The minimum window substring \"BANC\" includes 'A', 'B', and 'C' from string t.\n",
    "Example 2:\n",
    "\n",
    "Input: s = \"a\", t = \"a\"\n",
    "Output: \"a\"\n",
    "Explanation: The entire string s is the minimum window.\n",
    "\n",
    "Example 3:\n",
    "\n",
    "Input: s = \"a\", t = \"aa\"\n",
    "Output: \"\"\n",
    "Explanation: Both 'a's from t must be included in the window.\n",
    "Since the largest window of s only has one 'a', return empty string.\n",
    "```"
   ]
  },
  {
   "cell_type": "code",
   "execution_count": null,
   "metadata": {},
   "outputs": [],
   "source": []
  },
  {
   "cell_type": "code",
   "execution_count": null,
   "metadata": {},
   "outputs": [],
   "source": []
  },
  {
   "cell_type": "code",
   "execution_count": null,
   "metadata": {},
   "outputs": [],
   "source": []
  },
  {
   "cell_type": "markdown",
   "metadata": {},
   "source": [
    "## Merge Sorted Array\n",
    "[11] https://leetcode.com/problems/merge-sorted-array/\n",
    "\n",
    "You are given two integer arrays nums1 and nums2, sorted in non-decreasing order, and two integers m and n, representing the number of elements in nums1 and nums2 respectively.\n",
    "\n",
    "Merge nums1 and nums2 into a single array sorted in non-decreasing order.\n",
    "\n",
    "The final sorted array should not be returned by the function, but instead be stored inside the array nums1. To accommodate this, nums1 has a length of m + n, where the first m elements denote the elements that should be merged, and the last n elements are set to 0 and should be ignored. nums2 has a length of n.\n",
    "\n",
    "```\n",
    "Example 1:\n",
    "\n",
    "Input: nums1 = [1,2,3,0,0,0], m = 3, nums2 = [2,5,6], n = 3\n",
    "Output: [1,2,2,3,5,6]\n",
    "Explanation: The arrays we are merging are [1,2,3] and [2,5,6].\n",
    "The result of the merge is [1,2,2,3,5,6] with the underlined elements coming from nums1.\n",
    "Example 2:\n",
    "\n",
    "Input: nums1 = [1], m = 1, nums2 = [], n = 0\n",
    "Output: [1]\n",
    "Explanation: The arrays we are merging are [1] and [].\n",
    "The result of the merge is [1].\n",
    "Example 3:\n",
    "\n",
    "Input: nums1 = [0], m = 0, nums2 = [1], n = 1\n",
    "Output: [1]\n",
    "Explanation: The arrays we are merging are [] and [1].\n",
    "The result of the merge is [1].\n",
    "Note that because m = 0, there are no elements in nums1. The 0 is only there to ensure the merge result can fit in nums1.\n",
    " \n",
    "```"
   ]
  },
  {
   "cell_type": "code",
   "execution_count": 26,
   "metadata": {},
   "outputs": [
    {
     "name": "stdout",
     "output_type": "stream",
     "text": [
      "[1, 2, 2, 3, 5, 6]\n"
     ]
    }
   ],
   "source": [
    "# simple approach but it not in place\n",
    "# donot use this\n",
    "nums1 = [1,2,3,0,0,0]\n",
    "m = 3\n",
    "nums2 = [2,5,6]\n",
    "n = 3\n",
    "\n",
    "nums3 = nums1[:m] + nums2[:n] \n",
    "nums1 = sorted(nums3)\n",
    "print(nums1)"
   ]
  },
  {
   "cell_type": "markdown",
   "metadata": {},
   "source": [
    "#### Solution\n",
    "1. while m and n are greater than 0. check the greater elements at the end of the list. \n",
    "2. Replace the greatest at the index m+n-1\n",
    "3. decrement the corresponding index of the list\n",
    "4. If m=0 and n is not simply copy all the element in list 2 upto n"
   ]
  },
  {
   "cell_type": "code",
   "execution_count": 27,
   "metadata": {},
   "outputs": [],
   "source": [
    "def merge(nums1, m, nums2, n) -> None:\n",
    "    \"\"\"\n",
    "    Do not return anything, modify nums1 in-place instead.\n",
    "    \"\"\"\n",
    "    while m and n:\n",
    "        if nums1[m-1] > nums2[n-1]:\n",
    "            nums1[m+n-1]= nums1[m-1]\n",
    "            m-=1\n",
    "        else:\n",
    "            nums1[m+n-1]= nums2[n-1]\n",
    "            n-=1\n",
    "\n",
    "    nums1[:n] = nums2[:n]\n"
   ]
  },
  {
   "cell_type": "code",
   "execution_count": 28,
   "metadata": {},
   "outputs": [
    {
     "name": "stdout",
     "output_type": "stream",
     "text": [
      "[1, 2, 2, 3, 5, 6]\n"
     ]
    }
   ],
   "source": [
    "nums1 = [1,2,3,0,0,0]\n",
    "m = 3\n",
    "nums2 = [2,5,6]\n",
    "n = 3\n",
    "\n",
    "merge(nums1, m, nums2, n)\n",
    "\n",
    "print(nums1)"
   ]
  },
  {
   "cell_type": "markdown",
   "metadata": {},
   "source": [
    "## Valid Palindrome\n",
    "[12] https://leetcode.com/problems/valid-palindrome/"
   ]
  },
  {
   "cell_type": "code",
   "execution_count": 33,
   "metadata": {},
   "outputs": [],
   "source": [
    "def isPalindrome(s: str) -> bool:\n",
    "\n",
    "    normalised_string = ''.join(e for e in s.lower().strip() if e.isalnum())\n",
    "\n",
    "    if len(normalised_string) == 1:\n",
    "        return True\n",
    "\n",
    "    ## Approach 1 reverse a string\n",
    "    #reversed_string = normalised_string[::-1]\n",
    "    #return reversed_string == normalised_string\n",
    "\n",
    "    ## Approach 2 compare both halves\n",
    "    for i in range(len(normalised_string)//2):\n",
    "        if normalised_string[i] != normalised_string[len(normalised_string)-1-i]:\n",
    "            return False\n",
    "    return True"
   ]
  },
  {
   "cell_type": "code",
   "execution_count": 34,
   "metadata": {},
   "outputs": [
    {
     "data": {
      "text/plain": [
       "True"
      ]
     },
     "execution_count": 34,
     "metadata": {},
     "output_type": "execute_result"
    }
   ],
   "source": [
    "isPalindrome(\"Aaa\")"
   ]
  },
  {
   "cell_type": "markdown",
   "metadata": {},
   "source": [
    "## Read N Characters Given Read4\n",
    "[13] https://leetcode.com/problems/read-n-characters-given-read4/"
   ]
  },
  {
   "cell_type": "code",
   "execution_count": 37,
   "metadata": {},
   "outputs": [],
   "source": [
    "class Solution:\n",
    "    def read(self, buf, n):\n",
    "        \"\"\"\n",
    "        :type buf: Destination buffer (List[str])\n",
    "        :type n: Number of characters to read (int)\n",
    "        :rtype: The number of actual characters read (int)\n",
    "        \"\"\"\n",
    "        ## RC ##\n",
    "        ## APPROACH : BUFFER READING ##\n",
    "        ## 1. dont get confused with question description, our final buf will have min( n, all the characters that are in file)\n",
    "        ## 2. At any point buf4, will maximum of 4 characters or count returned from the read4.\n",
    "        ## 3. As I can read utmost 4 chars at a time, I create an array of size 4 and pass it to the function read4(buf4). That read4 function will fill my buf4 and returns the count how many characters it filled.\n",
    "        ## 4. I take those buf4 chars filled and append it to my final buf.\n",
    "        \n",
    "        buf4 = [''] * 4         \n",
    "        read = 0\n",
    "        while read < n: \n",
    "            count = read4(buf4)             # Read file into buf4 && count -> num of chars in buf4\n",
    "            if not count: break             # no of chars to read, EOF\n",
    "            count = min(count, n - read)    # if n = 5 and file size is 8, in second read you have to take only n-read i.e 5-4 = 1\n",
    "            buf[read:] = buf4[:count]       # Copy from buf4 to buf.\n",
    "            read += count\n",
    "        return read                         # we have return total num of characters read"
   ]
  },
  {
   "cell_type": "markdown",
   "metadata": {},
   "source": [
    "## Read N Characters Given Read4 II - Call multiple times\n",
    "[14] https://leetcode.com/problems/read-n-characters-given-read4-ii-call-multiple-times/"
   ]
  },
  {
   "cell_type": "code",
   "execution_count": null,
   "metadata": {},
   "outputs": [],
   "source": []
  },
  {
   "cell_type": "code",
   "execution_count": null,
   "metadata": {},
   "outputs": [],
   "source": []
  },
  {
   "cell_type": "markdown",
   "metadata": {},
   "source": [
    "## One Edit Distance\n",
    "[15] https://leetcode.com/problems/one-edit-distance/\n",
    "\n",
    "Given two strings s and t, return true if they are both one edit distance apart, otherwise return false.\n",
    "\n",
    "A string s is said to be one distance apart from a string t if you can:\n",
    "\n",
    "Insert exactly one character into s to get t.\n",
    "Delete exactly one character from s to get t.\n",
    "Replace exactly one character of s with a different character to get t.\n",
    " \n",
    "```\n",
    "Example 1:\n",
    "\n",
    "Input: s = \"ab\", t = \"acb\"\n",
    "Output: true\n",
    "Explanation: We can insert 'c' into s to get t.\n",
    "Example 2:\n",
    "\n",
    "Input: s = \"\", t = \"\"\n",
    "Output: false\n",
    "Explanation: We cannot get t from s by only one step.\n",
    "Example 3:\n",
    "\n",
    "Input: s = \"a\", t = \"\"\n",
    "Output: true\n",
    "```"
   ]
  },
  {
   "cell_type": "code",
   "execution_count": 52,
   "metadata": {},
   "outputs": [],
   "source": [
    "\n",
    "def isOneEditDistance( s: str, t: str) -> bool:\n",
    "\n",
    "    # 1. Always force left to be smaller than right for convenience\n",
    "    if len(s)>len(t):\n",
    "        return isOneEditDistance(t, s)\n",
    "\n",
    "    # 2. If the abs diff is greater than 1 or both are same then return False\n",
    "    if abs(len(t)-len(s))>1 or s==t:\n",
    "        return False\n",
    "\n",
    "    # 3. Loop through the letters and find the mismatch\n",
    "    for  i in range(len(s)):\n",
    "        if s[i]!=t[i]:\n",
    "       \n",
    "            # 3a. If the length are same say s='ab' and t='ac'\n",
    "            if len(s) == len(t):\n",
    "                s = s[:i]+t[i]+s[i+1:] # replacement\n",
    "\n",
    "            # 3b. If the length are difference say s='ab' and t='acb'    \n",
    "            else:\n",
    "                s = s[:i]+t[i]+s[i:] #insertion\n",
    "\n",
    "            break # 3c. once we find a mismatch we need to break the loop inorder\n",
    "            # cases like s='ab' and t=ba   \n",
    "\n",
    "    # we could have case where s='ab' t='abc'\n",
    "    return s==t or s==t[:-1]\n"
   ]
  },
  {
   "cell_type": "code",
   "execution_count": 51,
   "metadata": {},
   "outputs": [
    {
     "name": "stdout",
     "output_type": "stream",
     "text": [
      "ac\n",
      "ab\n"
     ]
    },
    {
     "data": {
      "text/plain": [
       "True"
      ]
     },
     "execution_count": 51,
     "metadata": {},
     "output_type": "execute_result"
    }
   ],
   "source": [
    "isOneEditDistance('ac','ab')"
   ]
  },
  {
   "cell_type": "code",
   "execution_count": 53,
   "metadata": {},
   "outputs": [
    {
     "data": {
      "text/plain": [
       "False"
      ]
     },
     "execution_count": 53,
     "metadata": {},
     "output_type": "execute_result"
    }
   ],
   "source": [
    "isOneEditDistance('ab','ba')"
   ]
  },
  {
   "cell_type": "markdown",
   "metadata": {},
   "source": [
    "## Product of Array Except Self\n",
    "[16] https://leetcode.com/problems/product-of-array-except-self/\n",
    "\n",
    "The product of any prefix or suffix of nums is guaranteed to fit in a 32-bit integer.\n",
    "\n",
    "You must write an algorithm that runs in O(n) time and without using the division operation.\n",
    "\n",
    " \n",
    "```\n",
    "Example 1:\n",
    "\n",
    "Input: nums = [1,2,3,4]\n",
    "Output: [24,12,8,6]\n",
    "Example 2:\n",
    "\n",
    "Input: nums = [-1,1,0,-3,3]\n",
    "Output: [0,0,9,0,0]\n",
    "```"
   ]
  },
  {
   "cell_type": "code",
   "execution_count": 2,
   "metadata": {},
   "outputs": [
    {
     "data": {
      "text/plain": [
       "True"
      ]
     },
     "execution_count": 2,
     "metadata": {},
     "output_type": "execute_result"
    }
   ],
   "source": [
    "'4'.isdigit()"
   ]
  },
  {
   "cell_type": "code",
   "execution_count": 3,
   "metadata": {},
   "outputs": [
    {
     "data": {
      "text/plain": [
       "['d', 'o', 'r', 'w']"
      ]
     },
     "execution_count": 3,
     "metadata": {},
     "output_type": "execute_result"
    }
   ],
   "source": [
    "sorted('word')"
   ]
  },
  {
   "cell_type": "code",
   "execution_count": null,
   "metadata": {},
   "outputs": [],
   "source": []
  },
  {
   "cell_type": "markdown",
   "metadata": {},
   "source": [
    "# Search and Sorthing"
   ]
  },
  {
   "cell_type": "code",
   "execution_count": 6,
   "metadata": {},
   "outputs": [],
   "source": [
    "# Basic understanding of binary search\n",
    "\n",
    "#recursive\n",
    "\n",
    "# Python 3 program for recursive binary search.\n",
    "# Modifications needed for the older Python 2 are found in comments.\n",
    "\n",
    "# Returns index of x in arr if present, else -1\n",
    "def binary_search(arr, low, high, x):\n",
    "\n",
    "    # Check base case\n",
    "    if high >= low:\n",
    "\n",
    "        mid = (high + low) // 2\n",
    "\n",
    "        # If element is present at the middle itself\n",
    "        if arr[mid] == x:\n",
    "            return mid\n",
    "\n",
    "        # If element is smaller than mid, then it can only\n",
    "        # be present in left subarray\n",
    "        elif arr[mid] > x:\n",
    "            return binary_search(arr, low, mid - 1, x)\n",
    "\n",
    "        # Else the element can only be present in right subarray\n",
    "        else:\n",
    "            return binary_search(arr, mid + 1, high, x)\n",
    "\n",
    "    else:\n",
    "        # Element is not present in the array\n",
    "        return -1"
   ]
  },
  {
   "cell_type": "code",
   "execution_count": 5,
   "metadata": {},
   "outputs": [
    {
     "name": "stdout",
     "output_type": "stream",
     "text": [
      "Element is present at index 3\n"
     ]
    }
   ],
   "source": [
    "# Test array\n",
    "arr = [ 2, 3, 4, 10, 40 ]\n",
    "x = 10\n",
    "\n",
    "# Function call\n",
    "result = binary_search(arr, 0, len(arr)-1, x)\n",
    "\n",
    "if result != -1:\n",
    "    print(\"Element is present at index\", str(result))\n",
    "else:\n",
    "    print(\"Element is not present in array\")\n"
   ]
  },
  {
   "cell_type": "code",
   "execution_count": 7,
   "metadata": {},
   "outputs": [],
   "source": [
    "# Iterative Binary Search Function\n",
    "# It returns index of x in given array arr if present,\n",
    "# else returns -1\n",
    "def binary_search(arr, x):\n",
    "    low = 0\n",
    "    high = len(arr) - 1\n",
    "    mid = 0\n",
    "\n",
    "    while low <= high:\n",
    "\n",
    "        mid = (high + low) // 2\n",
    "\n",
    "        # If x is greater, ignore left half\n",
    "        if arr[mid] < x:\n",
    "            low = mid + 1\n",
    "\n",
    "        # If x is smaller, ignore right half\n",
    "        elif arr[mid] > x:\n",
    "            high = mid - 1\n",
    "\n",
    "        # means x is present at mid\n",
    "        else:\n",
    "            return mid\n",
    "\n",
    "    # If we reach here, then the element was not present\n",
    "    return -1"
   ]
  },
  {
   "cell_type": "code",
   "execution_count": 8,
   "metadata": {},
   "outputs": [
    {
     "name": "stdout",
     "output_type": "stream",
     "text": [
      "Element is present at index 3\n"
     ]
    }
   ],
   "source": [
    "# Test array\n",
    "arr = [ 2, 3, 4, 10, 40 ]\n",
    "x = 10\n",
    "\n",
    "# Function call\n",
    "result = binary_search(arr, x)\n",
    "\n",
    "if result != -1:\n",
    "    print(\"Element is present at index\", str(result))\n",
    "else:\n",
    "    print(\"Element is not present in array\")"
   ]
  },
  {
   "cell_type": "code",
   "execution_count": 6,
   "metadata": {},
   "outputs": [],
   "source": [
    "l = [1,2,3]"
   ]
  },
  {
   "cell_type": "code",
   "execution_count": 7,
   "metadata": {},
   "outputs": [
    {
     "data": {
      "text/plain": [
       "0"
      ]
     },
     "execution_count": 7,
     "metadata": {},
     "output_type": "execute_result"
    }
   ],
   "source": [
    "l.index(1)"
   ]
  },
  {
   "cell_type": "code",
   "execution_count": 9,
   "metadata": {},
   "outputs": [
    {
     "data": {
      "text/plain": [
       "[3]"
      ]
     },
     "execution_count": 9,
     "metadata": {},
     "output_type": "execute_result"
    }
   ],
   "source": [
    "l[2:]"
   ]
  },
  {
   "cell_type": "markdown",
   "metadata": {},
   "source": []
  }
 ],
 "metadata": {
  "kernelspec": {
   "display_name": "Python 3",
   "language": "python",
   "name": "python3"
  },
  "language_info": {
   "codemirror_mode": {
    "name": "ipython",
    "version": 3
   },
   "file_extension": ".py",
   "mimetype": "text/x-python",
   "name": "python",
   "nbconvert_exporter": "python",
   "pygments_lexer": "ipython3",
   "version": "3.7.6"
  }
 },
 "nbformat": 4,
 "nbformat_minor": 4
}
