{
 "cells": [
  {
   "cell_type": "markdown",
   "metadata": {},
   "source": [
    "### Longest Substring Without Repeating Characters\n",
    "\n",
    "[1] https://leetcode.com/problems/longest-substring-without-repeating-characters/\n",
    "\n",
    "Given a string s, find the length of the longest substring without repeating characters.\n",
    "```\n",
    "Example 1:\n",
    "\n",
    "Input: s = \"abcabcbb\"\n",
    "Output: 3\n",
    "Explanation: The answer is \"abc\", with the length of 3.\n",
    "```"
   ]
  },
  {
   "cell_type": "code",
   "execution_count": 1,
   "metadata": {},
   "outputs": [],
   "source": [
    "def lengthOfLongestSubstring(s: str) -> int:\n",
    "\n",
    "\n",
    "    \"\"\"\n",
    "    use this  case a    c    b    d   b   a   c \n",
    "    If s[r] not in seen, we can keep increasing the window size by moving right pointer\n",
    "\n",
    "    There are two cases if s[r] in seen:\n",
    "    case1: s[r] is inside the current window, we need to change the window by\n",
    "    moving left   \n",
    "    pointer to seen[s[r]] + 1.\n",
    "    case2: s[r] is not inside the current window, we can keep increase the window\n",
    "    \"\"\"\n",
    "\n",
    "    seen = {}\n",
    "\n",
    "    output = left = 0\n",
    "\n",
    "    for right, letter in enumerate(s):\n",
    "\n",
    "        if letter not in seen:\n",
    "            output = max(output, right-left+1)\n",
    "\n",
    "\n",
    "        else:\n",
    "            if seen[letter] < left:\n",
    "                output = max(output, right-left+1)\n",
    "\n",
    "            else:\n",
    "                left = seen[letter] + 1\n",
    "\n",
    "        seen[letter] = right\n",
    "\n",
    "    return output\n",
    "\n",
    "\n"
   ]
  },
  {
   "cell_type": "code",
   "execution_count": 2,
   "metadata": {},
   "outputs": [
    {
     "data": {
      "text/plain": [
       "4"
      ]
     },
     "execution_count": 2,
     "metadata": {},
     "output_type": "execute_result"
    }
   ],
   "source": [
    "lengthOfLongestSubstring('acbdbac')"
   ]
  },
  {
   "cell_type": "markdown",
   "metadata": {},
   "source": [
    "String to Integer (atoi)\n",
    "\n",
    "[2] https://leetcode.com/problems/string-to-integer-atoi/\n",
    "\n",
    "```\n",
    "Input: s = \"4193 with words\"\n",
    "Output: 4193\n",
    "Explanation:\n",
    "Step 1: \"4193 with words\" (no characters read because there is no leading whitespace)\n",
    "         ^\n",
    "Step 2: \"4193 with words\" (no characters read because there is neither a '-' nor '+')\n",
    "         ^\n",
    "Step 3: \"4193 with words\" (\"4193\" is read in; reading stops because the next character is a non-digit)\n",
    "             ^\n",
    "The parsed integer is 4193.\n",
    "Since 4193 is in the range [-231, 231 - 1], the final result is 4193.\n",
    "```"
   ]
  },
  {
   "cell_type": "code",
   "execution_count": 9,
   "metadata": {},
   "outputs": [],
   "source": [
    "# helper funtion to construct the words to numbers\n",
    "def helper(string):\n",
    "    MAPPING = {\n",
    "        \"1\": 1,\n",
    "        \"2\": 2,\n",
    "        \"3\": 3,\n",
    "        \"4\": 4,\n",
    "        \"5\": 5,\n",
    "        \"6\": 6,\n",
    "        \"7\": 7,\n",
    "        \"8\": 8,\n",
    "        \"9\": 9,\n",
    "        \"0\": 0,\n",
    "    }\n",
    "\n",
    "    res = 0\n",
    "    for s in string:\n",
    "        if not s.isdigit():\n",
    "            break\n",
    "        res = 10 * res + MAPPING[s]\n",
    "    return res"
   ]
  },
  {
   "cell_type": "code",
   "execution_count": 10,
   "metadata": {},
   "outputs": [],
   "source": [
    "\n",
    "def myAtoi(s: str) -> int:\n",
    "\n",
    "    MAX_INT = 2**31-1\n",
    "    MIN_INT = -(2**31)\n",
    "\n",
    "    str = s.strip()\n",
    "\n",
    "    # check if it is empty\n",
    "    if str == \"\":\n",
    "        return 0\n",
    "\n",
    "    #check if it start is not (+, -) and not a digit\n",
    "    if str[0] != \"+\" and str[0] != \"-\" and not str[0].isdigit():\n",
    "        return 0\n",
    "\n",
    "\n",
    "    if str[0] in [\"+\", \"-\"]: # first letter is \"+\" or \"+\"\n",
    "        sign = str[0]\n",
    "        res = helper(str[1:])\n",
    "\n",
    "        return min(res, MAX_INT) if sign == \"+\" else max(-1 * res, MIN_INT)\n",
    "\n",
    "    else: # first letter is a digit \n",
    "        return min(helper(str), 2147483647)\n",
    "\n"
   ]
  },
  {
   "cell_type": "code",
   "execution_count": 11,
   "metadata": {},
   "outputs": [
    {
     "data": {
      "text/plain": [
       "4193"
      ]
     },
     "execution_count": 11,
     "metadata": {},
     "output_type": "execute_result"
    }
   ],
   "source": [
    "myAtoi(\"4193 with words\")"
   ]
  },
  {
   "cell_type": "code",
   "execution_count": 12,
   "metadata": {},
   "outputs": [
    {
     "data": {
      "text/plain": [
       "-2147483648"
      ]
     },
     "execution_count": 12,
     "metadata": {},
     "output_type": "execute_result"
    }
   ],
   "source": [
    "myAtoi(\"-91283472332\")"
   ]
  },
  {
   "cell_type": "markdown",
   "metadata": {},
   "source": [
    "### Roman to Integer\n",
    "\n",
    "[3] https://leetcode.com/problems/roman-to-integer/"
   ]
  },
  {
   "cell_type": "code",
   "execution_count": 1,
   "metadata": {},
   "outputs": [],
   "source": [
    "def romanToInt(s: str) -> int:\n",
    "    roman_to_int = {\n",
    "        'I' : 1,\n",
    "        'V' : 5,\n",
    "        'X' : 10,\n",
    "        'L' : 50,\n",
    "        'C' : 100,\n",
    "        'D' : 500,\n",
    "        'M' : 1000\n",
    "    }\n",
    "\n",
    "    result = prev = 0\n",
    "\n",
    "    for letter in s:\n",
    "\n",
    "        current = roman_to_int[letter]\n",
    "\n",
    "        result += current\n",
    "\n",
    "        if current > prev:\n",
    "            # if preceding roman nummber is smaller\n",
    "            # we need to undo the previous addition\n",
    "            # and substract the preceding roman char\n",
    "            # from the current one, i.e. we need to\n",
    "            # substract twice the previous roman char\n",
    "\n",
    "            result -= 2*prev\n",
    "\n",
    "        prev =  current\n",
    "\n",
    "    return result"
   ]
  },
  {
   "cell_type": "code",
   "execution_count": 2,
   "metadata": {},
   "outputs": [
    {
     "data": {
      "text/plain": [
       "4"
      ]
     },
     "execution_count": 2,
     "metadata": {},
     "output_type": "execute_result"
    }
   ],
   "source": [
    "romanToInt('IV')"
   ]
  },
  {
   "cell_type": "code",
   "execution_count": null,
   "metadata": {},
   "outputs": [],
   "source": []
  }
 ],
 "metadata": {
  "kernelspec": {
   "display_name": "Python 3",
   "language": "python",
   "name": "python3"
  },
  "language_info": {
   "codemirror_mode": {
    "name": "ipython",
    "version": 3
   },
   "file_extension": ".py",
   "mimetype": "text/x-python",
   "name": "python",
   "nbconvert_exporter": "python",
   "pygments_lexer": "ipython3",
   "version": "3.7.6"
  }
 },
 "nbformat": 4,
 "nbformat_minor": 4
}
