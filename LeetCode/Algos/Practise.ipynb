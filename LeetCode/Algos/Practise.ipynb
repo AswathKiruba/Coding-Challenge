{
 "cells": [
  {
   "cell_type": "code",
   "execution_count": 1,
   "metadata": {},
   "outputs": [],
   "source": [
    "from collections import defaultdict, Counter\n",
    "import re"
   ]
  },
  {
   "cell_type": "code",
   "execution_count": 2,
   "metadata": {},
   "outputs": [],
   "source": [
    "# 1 question (Friends)\n",
    "# edge case return 1. dict 2. list\n",
    "\n",
    "def frnds(l):\n",
    "    if len(l) == 0:\n",
    "        return 0\n",
    "    \n",
    "    dict_frnd = {}\n",
    "    \n",
    "    for i in l:\n",
    "        if isinstance(i, list):\n",
    "            if len(i) == 2:\n",
    "                if i[0] not in dict_frnd:\n",
    "                    dict_frnd[i[0]] = 1\n",
    "                else:\n",
    "                    dict_frnd[i[0]] +=1\n",
    "\n",
    "                if i[1] not in dict_frnd:\n",
    "                    dict_frnd[i[1]] = 1\n",
    "                else:\n",
    "                    dict_frnd[i[1]] +=1\n",
    "\n",
    "            if len(i) ==1:\n",
    "                if i[0] not in dict_frnd:\n",
    "                    dict_frnd[i[0]] = 0\n",
    "                else:\n",
    "                    dict_frnd[i[0]] += 0\n",
    "        else:\n",
    "            if i not in dict_frnd:\n",
    "                dict_frnd[i] = 0\n",
    "            else:\n",
    "                dict_frnd[i] += 0\n",
    "\n",
    "\n",
    "    return dict_frnd\n",
    "    "
   ]
  },
  {
   "cell_type": "code",
<<<<<<< HEAD
   "execution_count": 87,
=======
   "execution_count": 5,
>>>>>>> f1bf59d87812a03f5948aaf28463e9abb79b52a4
   "metadata": {},
   "outputs": [],
   "source": [
    "def frnds(l):\n",
    "    \n",
<<<<<<< HEAD
    "    if l == []:\n",
    "        return {}\n",
    "    \n",
    "    dict_frnd = defaultdict(int)\n",
    "    \n",
    "    for i in l:\n",
    "        if isinstance(i, list):\n",
    "            if len(i) == 2:\n",
    "                dict_frnd[i[0]] +=1\n",
    "                dict_frnd[i[1]] +=1\n",
    "            if len(i) == 1:\n",
    "                dict_frnd[i[0]] +=0\n",
    "                \n",
    "        else:\n",
    "            dict_frnd[i] +=0\n",
    "            \n",
    "    return dict_frnd"
=======
    "    if len(l) == 0:\n",
    "        return {}\n",
    "    \n",
    "    frnd_dict = defaultdict(int)\n",
    "    for i in l:\n",
    "        if isinstance(i, list):\n",
    "            if len(i)==2:\n",
    "                frnd_dict[i[0]]+=1\n",
    "                frnd_dict[i[1]]+=1\n",
    "                \n",
    "            if len(i)==1:\n",
    "                frnd_dict[i[0]]+=0\n",
    "        else:\n",
    "            frnd_dict[i]+=0\n",
    "            \n",
    "    return frnd_dict\n",
    "                "
>>>>>>> f1bf59d87812a03f5948aaf28463e9abb79b52a4
   ]
  },
  {
   "cell_type": "code",
<<<<<<< HEAD
   "execution_count": 88,
=======
   "execution_count": 7,
>>>>>>> f1bf59d87812a03f5948aaf28463e9abb79b52a4
   "metadata": {},
   "outputs": [
    {
     "name": "stdout",
     "output_type": "stream",
     "text": [
      "defaultdict(<class 'int'>, {2: 1, 3: 2, 4: 1, 5: 0, 6: 1, 1: 2, 8: 1})\n",
      "{}\n",
      "defaultdict(<class 'int'>, {0: 0})\n"
     ]
    }
   ],
   "source": [
    "l = [[2,3],[3,4],[5],[6,1],[1],[8,1], 3, [5]]\n",
    "print(frnds(l))\n",
    "print(frnds([]))\n",
    "print(frnds([0]))"
   ]
  },
  {
   "cell_type": "code",
<<<<<<< HEAD
   "execution_count": 156,
=======
   "execution_count": 11,
>>>>>>> f1bf59d87812a03f5948aaf28463e9abb79b52a4
   "metadata": {},
   "outputs": [],
   "source": [
    "#2 question uncommon words in two sentence\n",
    "# edge cases 1. trim 2. remove punctuation\n",
    "\n",
    "def uncommon(s1, s2):\n",
    "    \n",
<<<<<<< HEAD
    "    s1_clean = set(re.sub('[^a-zA-Z\\s]', '', s1.strip()).split())\n",
    "    s2_clean = set(re.sub('[^a-zA-Z\\s]', '', s2.strip()).split())\n",
    "    \n",
    "#     return list(set.union(s1_clean, s2_clean) - s1_clean.intersection(s2_clean))\n",
    "    return s1_clean.symmetric_difference(s2_clean)\n",
=======
    "    s1_clean = re.sub('[^a-z\\s0-9]', '', s1.strip().lower())\n",
    "    s2_clean = re.sub('[^a-z\\s0-9]', '', s2.strip().lower())\n",
    "    \n",
    "    s1_set = set(s1_clean.split())\n",
    "    s2_set = set(s2_clean.split())\n",
    "    \n",
    "    return list(set.union(s1_set, s2_set) - s1_set.intersection(s2_set))\n",
>>>>>>> f1bf59d87812a03f5948aaf28463e9abb79b52a4
    "    "
   ]
  },
  {
   "cell_type": "code",
<<<<<<< HEAD
   "execution_count": 157,
=======
   "execution_count": 12,
>>>>>>> f1bf59d87812a03f5948aaf28463e9abb79b52a4
   "metadata": {},
   "outputs": [
    {
     "name": "stdout",
     "output_type": "stream",
     "text": [
<<<<<<< HEAD
      "{'first', 'Next', 'second', 'this', 'Firstly'}\n"
=======
      "['second', 'first', 'this', '123', 'firstly', 'next']\n"
>>>>>>> f1bf59d87812a03f5948aaf28463e9abb79b52a4
     ]
    }
   ],
   "source": [
<<<<<<< HEAD
    "s1=\"Firstly this is the first string first?** \"\n",
=======
    "s1=\"Firstly this is the first string?** \"\n",
>>>>>>> f1bf59d87812a03f5948aaf28463e9abb79b52a4
    "s2=\"Next is the 123 second string\"\n",
    "\n",
    "print(uncommon(s1, s2))"
   ]
  },
  {
   "cell_type": "code",
<<<<<<< HEAD
   "execution_count": 97,
   "metadata": {},
   "outputs": [
    {
     "name": "stdout",
     "output_type": "stream",
     "text": [
      "['Firstly', 'first^', 'this,', 'Next', 'second']\n",
      "['string', 'this', 'Firstly', 'is', 'first', 'the']\n"
     ]
=======
   "execution_count": 13,
   "metadata": {},
   "outputs": [
    {
     "data": {
      "text/plain": [
       "['first', 'this', 'firstly', 'second', '123', 'next']"
      ]
     },
     "execution_count": 13,
     "metadata": {},
     "output_type": "execute_result"
>>>>>>> f1bf59d87812a03f5948aaf28463e9abb79b52a4
    }
   ],
   "source": [
    "#2B exactly only in both the sentence\n",
    "\n",
    "\n",
    "def uncommon_words(s1, s2):\n",
<<<<<<< HEAD
    "    \n",
    "    s1_clean = set(re.sub('[^a-zA-Z\\s\\,\\^]','', s1.strip()).split())\n",
    "    s2_clean = set(re.sub('[^a-zA-Z\\s\\,\\^]','', s2.strip()).split())\n",
    "    \n",
    "    dict_check = defaultdict(int)\n",
    "    \n",
    "    for i in s1_clean:\n",
    "        dict_check[i] += 1\n",
    "    \n",
    "    for j in s2_clean:\n",
    "        dict_check[j] += 1\n",
    "        \n",
    "    result = []\n",
    "    \n",
    "    for key, val in dict_check.items():\n",
    "        if val == 1:\n",
=======
    "    s1_clean = re.sub('[^a-z\\s0-9]', '', s1.strip().lower())\n",
    "    s2_clean = re.sub('[^a-z\\s0-9]', '', s2.strip().lower())\n",
    "    \n",
    "    s1_set = set(s1_clean.split())\n",
    "    s2_set = set(s2_clean.split())\n",
    "    \n",
    "    dict_words = defaultdict(int)\n",
    "    \n",
    "    for i in s1_set:\n",
    "        dict_words[i]+=1\n",
    "    \n",
    "    for j in s2_set:\n",
    "        dict_words[j]+=1\n",
    "        \n",
    "    result = []\n",
    "    \n",
    "    for key, val in dict_words.items():\n",
    "        if val ==1:\n",
>>>>>>> f1bf59d87812a03f5948aaf28463e9abb79b52a4
    "            result.append(key)\n",
    "    \n",
    "    return result\n",
    "        \n",
    "    \n",
<<<<<<< HEAD
    "s1=\"Firstly this, is the first^ string?** \"\n",
    "s2=\"Next is the 123 second string\"\n",
    "print(uncommon_words(s1, s2))\n",
    "\n",
    "s1=\"Firstly this is the first string?** \"\n",
    "s2=\"\"\n",
    "print(uncommon_words(s1, s2))"
=======
    "s1=\"Firstly this is the first string?** \"\n",
    "s2=\"Next is the 123 second string\"\n",
    "uncommon_words(s1, s2)\n"
>>>>>>> f1bf59d87812a03f5948aaf28463e9abb79b52a4
   ]
  },
  {
   "cell_type": "code",
<<<<<<< HEAD
   "execution_count": 98,
=======
   "execution_count": 14,
>>>>>>> f1bf59d87812a03f5948aaf28463e9abb79b52a4
   "metadata": {},
   "outputs": [],
   "source": [
    "#3 question occurance in a character in a word (use counter)\n",
    "\n",
    "def occurance_checker(word, char):\n",
    "    \n",
<<<<<<< HEAD
    "    counter_word = Counter(word) \n",
    "    \n",
    "    return counter_word.get(char, -2)\n",
    "    \n",
    "    "
=======
    "#     if len(word) ==0  or len(char) == 0:\n",
    "#         return 0\n",
    "    \n",
    "    wrd_counter = Counter(word)\n",
    "    \n",
    "    return wrd_counter[char]"
>>>>>>> f1bf59d87812a03f5948aaf28463e9abb79b52a4
   ]
  },
  {
   "cell_type": "code",
<<<<<<< HEAD
   "execution_count": 99,
=======
   "execution_count": 15,
>>>>>>> f1bf59d87812a03f5948aaf28463e9abb79b52a4
   "metadata": {},
   "outputs": [
    {
     "name": "stdout",
     "output_type": "stream",
     "text": [
      "4\n",
<<<<<<< HEAD
      "-2\n",
      "-2\n"
=======
      "0\n",
      "0\n"
>>>>>>> f1bf59d87812a03f5948aaf28463e9abb79b52a4
     ]
    }
   ],
   "source": [
    "word = \"mississippi\"\n",
    "char = 'i'\n",
    "print(occurance_checker(word, char))\n",
    "print(occurance_checker(word, ''))\n",
    "print(occurance_checker(word, 'char'))"
   ]
  },
  {
   "cell_type": "code",
<<<<<<< HEAD
   "execution_count": 100,
=======
   "execution_count": 16,
>>>>>>> f1bf59d87812a03f5948aaf28463e9abb79b52a4
   "metadata": {},
   "outputs": [],
   "source": [
    "# 4 question replace None with prev\n",
    "def prev_insert(l):\n",
<<<<<<< HEAD
    "    \n",
    "    if len(l) <= 1:\n",
    "        return l\n",
    "    \n",
=======
    "    if len(l) <= 1:\n",
    "        return l\n",
>>>>>>> f1bf59d87812a03f5948aaf28463e9abb79b52a4
    "    prev = None\n",
    "    \n",
    "    for i in range(len(l)):\n",
    "        if l[i] == None:\n",
<<<<<<< HEAD
    "            l[i] = prev\n",
    "            \n",
    "        if isinstance(l[i], int):\n",
    "            prev = l[i]\n",
    "            \n",
    "    return l"
=======
    "            l[i]=prev\n",
    "        if isinstance(l[i], int):\n",
    "            prev = l[i]\n",
    "    \n",
    "    return l\n",
    "            "
>>>>>>> f1bf59d87812a03f5948aaf28463e9abb79b52a4
   ]
  },
  {
   "cell_type": "code",
<<<<<<< HEAD
   "execution_count": 101,
=======
   "execution_count": 17,
>>>>>>> f1bf59d87812a03f5948aaf28463e9abb79b52a4
   "metadata": {},
   "outputs": [
    {
     "name": "stdout",
     "output_type": "stream",
     "text": [
      "[None, 1, 1, 2, 3, 3, 3, 5, 5]\n",
      "[None, 1, 1, 2, 3, 3, 's', 3, 5, 5]\n"
     ]
    }
   ],
   "source": [
    "l = [None, 1, None, 2, 3, None, None, 5, None] \n",
    "\n",
    "prev_insert(l)\n",
    "print(l)\n",
    "\n",
    "l = [None, 1, None, 2, 3, None, 's', None, 5, None] \n",
    "prev_insert(l)\n",
    "print(l)"
   ]
  },
  {
   "cell_type": "code",
<<<<<<< HEAD
   "execution_count": 102,
=======
   "execution_count": 20,
>>>>>>> f1bf59d87812a03f5948aaf28463e9abb79b52a4
   "metadata": {},
   "outputs": [],
   "source": [
    "#5 question montonic list\n",
    "\n",
    "def monotonic(l):\n",
<<<<<<< HEAD
    "    if l==[]:\n",
    "        return False\n",
    "    \n",
    "    return True if sorted(l)==l or sorted(l, reverse=True) ==l else False"
=======
    "    \n",
    "    if l == sorted(l) or l == sorted(l, reverse=True):\n",
    "        return True\n",
    "    \n",
    "    return False\n"
>>>>>>> f1bf59d87812a03f5948aaf28463e9abb79b52a4
   ]
  },
  {
   "cell_type": "code",
<<<<<<< HEAD
   "execution_count": 103,
=======
   "execution_count": 21,
>>>>>>> f1bf59d87812a03f5948aaf28463e9abb79b52a4
   "metadata": {},
   "outputs": [
    {
     "name": "stdout",
     "output_type": "stream",
     "text": [
      "True\n",
      "True\n",
      "False\n",
<<<<<<< HEAD
      "False\n",
=======
>>>>>>> f1bf59d87812a03f5948aaf28463e9abb79b52a4
      "True\n"
     ]
    }
   ],
   "source": [
    "print(monotonic([1,2,5,5,8]))\n",
    "print(monotonic([8,5,5,2,1]))\n",
    "print(monotonic([1,2,5,5,2]))\n",
<<<<<<< HEAD
    "print(monotonic([]))\n",
    "print(monotonic([1]))"
=======
    "print(monotonic([]))"
>>>>>>> f1bf59d87812a03f5948aaf28463e9abb79b52a4
   ]
  },
  {
   "cell_type": "code",
<<<<<<< HEAD
   "execution_count": 104,
=======
   "execution_count": 22,
>>>>>>> f1bf59d87812a03f5948aaf28463e9abb79b52a4
   "metadata": {},
   "outputs": [],
   "source": [
    "#5 using flags \n",
    "\n",
    "def monotonic(l):\n",
<<<<<<< HEAD
    "    if l==[]:\n",
    "        return False\n",
    "    \n",
=======
    "    #using flags\n",
>>>>>>> f1bf59d87812a03f5948aaf28463e9abb79b52a4
    "    asc = True\n",
    "    desc = True\n",
    "    \n",
    "    for i in range(len(l)-1):\n",
<<<<<<< HEAD
    "        if l[i]<l[i+1]:\n",
    "            desc = False\n",
    "        if l[i]>l[i+1]:\n",
    "            asc = False\n",
    "            \n",
    "    return asc or desc"
=======
    "        if l[i]>l[i+1]:\n",
    "            desc = False\n",
    "        \n",
    "        if l[i]<l[i+1]:\n",
    "            asc = False\n",
    "        \n",
    "    return asc or desc\n"
>>>>>>> f1bf59d87812a03f5948aaf28463e9abb79b52a4
   ]
  },
  {
   "cell_type": "code",
<<<<<<< HEAD
   "execution_count": 105,
=======
   "execution_count": 23,
>>>>>>> f1bf59d87812a03f5948aaf28463e9abb79b52a4
   "metadata": {},
   "outputs": [
    {
     "name": "stdout",
     "output_type": "stream",
     "text": [
      "True\n",
      "True\n",
      "False\n",
<<<<<<< HEAD
      "False\n"
=======
      "True\n"
>>>>>>> f1bf59d87812a03f5948aaf28463e9abb79b52a4
     ]
    }
   ],
   "source": [
    "print(monotonic([1,2,5,5,8]))\n",
    "print(monotonic([8,5,5,2,1]))\n",
    "print(monotonic([1,2,5,5,2]))\n",
    "print(monotonic([]))"
   ]
  },
  {
   "cell_type": "code",
<<<<<<< HEAD
   "execution_count": 106,
=======
   "execution_count": 26,
>>>>>>> f1bf59d87812a03f5948aaf28463e9abb79b52a4
   "metadata": {},
   "outputs": [],
   "source": [
    "#6 n highest key in dict\n",
    "\n",
    "def dict_n_value(n, num_dict):\n",
<<<<<<< HEAD
    "    if num_dict == {}:\n",
    "        return -1\n",
    "    \n",
    "    sort_val = sorted(set(num_dict.values()))\n",
    "    \n",
    "    if n<= len(sort_val):\n",
    "        n_val = sort_val[-n]\n",
    "    else:\n",
    "        n_val = sort_val[0]\n",
    "        \n",
    "    result = []\n",
    "        \n",
    "    for key, val in num_dict.items():\n",
    "        if val == n_val:\n",
    "            result.append(key)\n",
    "            \n",
    "    return min(result)\n",
    "    "
=======
    "    \n",
    "    if not num_dict:\n",
    "        return -1\n",
    "    \n",
    "    sorted_val = sorted(set(num_dict.values()))\n",
    "    \n",
    "    if n > len(sorted_val):\n",
    "        req_val =  sorted_val[0]\n",
    "    else:\n",
    "        req_val =  sorted_val[-n]\n",
    "        \n",
    "    result = []    \n",
    "    for key , val in num_dict.items():\n",
    "        if val == req_val:\n",
    "            result.append(key)\n",
    "    \n",
    "    return max(result)"
>>>>>>> f1bf59d87812a03f5948aaf28463e9abb79b52a4
   ]
  },
  {
   "cell_type": "code",
<<<<<<< HEAD
   "execution_count": 107,
=======
   "execution_count": 27,
>>>>>>> f1bf59d87812a03f5948aaf28463e9abb79b52a4
   "metadata": {},
   "outputs": [
    {
     "name": "stdout",
     "output_type": "stream",
     "text": [
<<<<<<< HEAD
      "1\n",
      "4\n",
=======
      "2\n",
      "5\n",
>>>>>>> f1bf59d87812a03f5948aaf28463e9abb79b52a4
      "-1\n"
     ]
    }
   ],
   "source": [
    "num_dict = {\n",
    "    1 : 4,\n",
    "    2 : 4,\n",
    "    3 : 6,\n",
    "    4 : 8,\n",
    "    5 : 8,\n",
    "    6 : 9\n",
    "}\n",
    "\n",
    "print(dict_n_value(5, num_dict))\n",
    "print(dict_n_value(2, num_dict))\n",
    "print(dict_n_value(2,{}))"
   ]
  },
  {
   "cell_type": "code",
<<<<<<< HEAD
   "execution_count": 108,
=======
   "execution_count": 28,
>>>>>>> f1bf59d87812a03f5948aaf28463e9abb79b52a4
   "metadata": {},
   "outputs": [],
   "source": [
    "# 7 question Find numbers that will make an array balanced\n",
    "\n",
    "def balance_array(l):\n",
<<<<<<< HEAD
    "    \n",
    "    if l==[]:\n",
    "        return None\n",
    "    \n",
    "    mid = len(l)//2\n",
    "    \n",
    "    return abs(sum(l[:mid]) - sum(l[mid:]))"
=======
    "    if len(l)%2!=0:\n",
    "        return -1\n",
    "    \n",
    "    mid = len(l)//2\n",
    "    \n",
    "    return abs(sum(l[:mid]) - sum(l[mid:]))\n",
    "    "
>>>>>>> f1bf59d87812a03f5948aaf28463e9abb79b52a4
   ]
  },
  {
   "cell_type": "code",
<<<<<<< HEAD
   "execution_count": 110,
=======
   "execution_count": 29,
>>>>>>> f1bf59d87812a03f5948aaf28463e9abb79b52a4
   "metadata": {},
   "outputs": [
    {
     "name": "stdout",
     "output_type": "stream",
     "text": [
      "2\n",
<<<<<<< HEAD
      "5\n",
      "1\n"
=======
      "4\n"
>>>>>>> f1bf59d87812a03f5948aaf28463e9abb79b52a4
     ]
    }
   ],
   "source": [
    "print(balance_array([-1, -2, -1, -2, -1, -3]))\n",
<<<<<<< HEAD
    "print(balance_array([1,2,4]))\n",
    "print(balance_array([1]))"
   ]
  },
  {
   "cell_type": "code",
   "execution_count": 114,
   "metadata": {},
   "outputs": [
    {
     "name": "stdout",
     "output_type": "stream",
     "text": [
      "0\n",
      "0\n",
      "1\n"
     ]
    }
   ],
   "source": [
    "#Note\n",
    "l = [1]\n",
    "print(len(l)//2)\n",
    "mid =len(l)//2\n",
    "print(sum(l[:mid]))\n",
    "print(sum(l[mid:]))"
=======
    "print(balance_array([1,2,3,4]))"
>>>>>>> f1bf59d87812a03f5948aaf28463e9abb79b52a4
   ]
  },
  {
   "cell_type": "code",
<<<<<<< HEAD
   "execution_count": 115,
=======
   "execution_count": 30,
>>>>>>> f1bf59d87812a03f5948aaf28463e9abb79b52a4
   "metadata": {},
   "outputs": [],
   "source": [
    "# 8 find the pivot index\n",
    "def pivot_ind_1(nums):\n",
<<<<<<< HEAD
    "    \n",
    "    if nums == []:\n",
    "        return -2\n",
=======
    "    if len(nums) == 0:\n",
    "        return -1\n",
>>>>>>> f1bf59d87812a03f5948aaf28463e9abb79b52a4
    "    \n",
    "    for i in range(len(nums)):\n",
    "        if sum(nums[:i]) == sum(nums[i+1:]):\n",
    "            return i\n",
<<<<<<< HEAD
    "        \n",
    "    return -2\n",
    "    "
=======
    "    \n",
    "    return -1"
>>>>>>> f1bf59d87812a03f5948aaf28463e9abb79b52a4
   ]
  },
  {
   "cell_type": "code",
<<<<<<< HEAD
   "execution_count": 116,
=======
   "execution_count": 31,
>>>>>>> f1bf59d87812a03f5948aaf28463e9abb79b52a4
   "metadata": {},
   "outputs": [
    {
     "name": "stdout",
     "output_type": "stream",
     "text": [
      "2\n",
<<<<<<< HEAD
      "-2\n",
      "0\n",
      "-2\n"
=======
      "-1\n",
      "0\n",
      "-1\n"
>>>>>>> f1bf59d87812a03f5948aaf28463e9abb79b52a4
     ]
    }
   ],
   "source": [
    "print(pivot_ind_1([2,3,4,5]))\n",
    "print(pivot_ind_1([0,1,1]))\n",
    "print(pivot_ind_1([2,-1,1]))\n",
    "print(pivot_ind_1([]))"
   ]
  },
  {
   "cell_type": "code",
<<<<<<< HEAD
   "execution_count": 42,
=======
   "execution_count": 40,
>>>>>>> f1bf59d87812a03f5948aaf28463e9abb79b52a4
   "metadata": {},
   "outputs": [],
   "source": [
    "#9 Validate IP address\n",
    "\n",
    "def ipv4(ip):\n",
    "    \n",
    "    ipv4 = ip.split('.')\n",
    "    \n",
<<<<<<< HEAD
    "    if len(ipv4)==4:\n",
    "        for i in ipv4:\n",
    "            if not i.isdigit() or int(i)>255 or i == '' or (i[0]=='0' and len(i)!=1):\n",
=======
    "    if len(ipv4) == 4:\n",
    "        for i in ipv4:\n",
    "            if i=='' or int(i)>255 or (i=='0' and len(i)!=0) or not i.isdigit():\n",
>>>>>>> f1bf59d87812a03f5948aaf28463e9abb79b52a4
    "                return False\n",
    "        \n",
    "    else:\n",
    "        return False\n",
    "    \n",
<<<<<<< HEAD
    "    return True\n",
    "    \n",
    "    "
=======
    "    return True"
>>>>>>> f1bf59d87812a03f5948aaf28463e9abb79b52a4
   ]
  },
  {
   "cell_type": "code",
<<<<<<< HEAD
   "execution_count": 117,
=======
   "execution_count": 41,
>>>>>>> f1bf59d87812a03f5948aaf28463e9abb79b52a4
   "metadata": {},
   "outputs": [
    {
     "name": "stdout",
     "output_type": "stream",
     "text": [
<<<<<<< HEAD
      "True\n",
=======
>>>>>>> f1bf59d87812a03f5948aaf28463e9abb79b52a4
      "False\n",
      "False\n",
      "True\n",
      "False\n"
     ]
    }
   ],
   "source": [
    "print(ipv4('0.16.254.1'))\n",
<<<<<<< HEAD
    "print(ipv4('00.16.254.1'))\n",
=======
>>>>>>> f1bf59d87812a03f5948aaf28463e9abb79b52a4
    "print(ipv4('666.1.2.2'))\n",
    "print(ipv4('110.234.52.124'))\n",
    "print(ipv4('110.234.52'))"
   ]
  },
  {
   "cell_type": "code",
<<<<<<< HEAD
   "execution_count": 120,
=======
   "execution_count": 68,
>>>>>>> f1bf59d87812a03f5948aaf28463e9abb79b52a4
   "metadata": {},
   "outputs": [],
   "source": [
    "#10 Nested dictionary\n",
    "\n",
    "def unnest_dict(num_dict):\n",
<<<<<<< HEAD
    "    \n",
=======
>>>>>>> f1bf59d87812a03f5948aaf28463e9abb79b52a4
    "    out = {}\n",
    "    \n",
    "    for key, val in num_dict.items():\n",
    "        if isinstance(val, dict):\n",
    "            val = [val]\n",
    "            \n",
    "            if isinstance(val, list):\n",
    "                for sub_dict in val:\n",
    "                    res_dict = unnest_dict(sub_dict)\n",
<<<<<<< HEAD
    "                    out.update({ key+'_'+key2: val2 for key2, val2 in res_dict.items()})\n",
    "        else:\n",
    "            out[key] = val\n",
    "            \n",
    "    return out\n",
    "    "
=======
    "                    out.update({key+'_'+key2:val2 for key2, val2 in res_dict.items()})\n",
    "        else:\n",
    "            out[key] = val\n",
    "    \n",
    "    return out\n",
    "            "
>>>>>>> f1bf59d87812a03f5948aaf28463e9abb79b52a4
   ]
  },
  {
   "cell_type": "code",
<<<<<<< HEAD
   "execution_count": 121,
=======
   "execution_count": 69,
>>>>>>> f1bf59d87812a03f5948aaf28463e9abb79b52a4
   "metadata": {},
   "outputs": [
    {
     "name": "stdout",
     "output_type": "stream",
     "text": [
      "{'username': 'myEmail@email.com', 'name_first': 'John', 'name_last': 'Doe', 'occupation': 'Web Developer', 'asw_name_poda': 'dog'}\n"
     ]
    }
   ],
   "source": [
    "my_dict = { \n",
    "    \"username\": \"myEmail@email.com\",\n",
    "    \"name\": { \"first\": \"John\", \"last\": \"Doe\" },\n",
    "    \"occupation\": \"Web Developer\",\n",
    "    \"asw\":{\"name\":{\"poda\":\"dog\"} }\n",
    "}\n",
    "\n",
    "print(unnest_dict(my_dict))"
   ]
  },
  {
   "cell_type": "code",
   "execution_count": 48,
   "metadata": {},
   "outputs": [],
   "source": [
    "# 11 question create a histogram from a given list\n",
    "\n",
    "def hist(l):\n",
    "    \n",
    "    return Counter(l)"
   ]
  },
  {
   "cell_type": "code",
   "execution_count": 50,
   "metadata": {},
   "outputs": [],
   "source": [
    "def hist(l):\n",
    "    #suing dict\n",
    "    cnt_dict = defaultdict(int)\n",
    "    \n",
    "    for i in l:\n",
    "        cnt_dict[i] +=1\n",
    "    \n",
    "    return cnt_dict"
   ]
  },
  {
   "cell_type": "code",
   "execution_count": 51,
   "metadata": {},
   "outputs": [
    {
     "name": "stdout",
     "output_type": "stream",
     "text": [
      "defaultdict(<class 'int'>, {111: 1, 1: 3, 3: 1, 4: 1, 5: 1, 6: 2, 77: 1, 88: 1, 9: 1, 0: 2})\n"
     ]
    }
   ],
   "source": [
    "l = [111, 1, 1, 1, 3, 4, 5, 6, 77, 88, 9, 0, 0, 6]\n",
    "print(hist(l))"
   ]
  },
  {
   "cell_type": "code",
<<<<<<< HEAD
   "execution_count": 125,
=======
   "execution_count": 70,
>>>>>>> f1bf59d87812a03f5948aaf28463e9abb79b52a4
   "metadata": {},
   "outputs": [],
   "source": [
    "#12 Flatten a list\n",
    "\n",
<<<<<<< HEAD
    "# Note important thing is define a list globally\n",
    "def unnest_list(l):\n",
    "    out = []\n",
    "    \n",
    "    def recur(l, out):\n",
    "        for i in l:\n",
    "            if isinstance(i, list):\n",
    "                recur(i, out)\n",
    "            else:\n",
    "                out.append(i)\n",
    "                \n",
    "        return out\n",
    "    \n",
    "    return recur(l, out)\n",
    "   "
=======
    "def recur_list(l, out):\n",
    "    for i in l:\n",
    "        if isinstance(i, list):\n",
    "            recur_list(i, out)\n",
    "        else:\n",
    "            out.append(i)\n",
    "    return out\n",
    "\n",
    "# Note important thing is define a list globally\n",
    "def unnest_list(l):\n",
    "    out =[]\n",
    "    return recur_list(l, out)"
>>>>>>> f1bf59d87812a03f5948aaf28463e9abb79b52a4
   ]
  },
  {
   "cell_type": "code",
<<<<<<< HEAD
   "execution_count": 126,
=======
   "execution_count": 71,
>>>>>>> f1bf59d87812a03f5948aaf28463e9abb79b52a4
   "metadata": {},
   "outputs": [
    {
     "name": "stdout",
     "output_type": "stream",
     "text": [
      "[1, 2, [3, 4, [5], [6, 7, [8, [9]]]]]\n"
     ]
    }
   ],
   "source": [
    "l=[1,2,[3,4, [5],[6,7,[8,[9]]]]]\n",
    "print(l)\n"
   ]
  },
  {
   "cell_type": "code",
<<<<<<< HEAD
   "execution_count": 127,
=======
   "execution_count": 72,
>>>>>>> f1bf59d87812a03f5948aaf28463e9abb79b52a4
   "metadata": {},
   "outputs": [
    {
     "name": "stdout",
     "output_type": "stream",
     "text": [
      "[1, 2, 3, 4, 5, 6, 7, 8, 9]\n"
     ]
    }
   ],
   "source": [
    "print(unnest_list(l))"
   ]
  },
  {
   "cell_type": "code",
<<<<<<< HEAD
   "execution_count": 128,
=======
   "execution_count": 36,
>>>>>>> f1bf59d87812a03f5948aaf28463e9abb79b52a4
   "metadata": {},
   "outputs": [
    {
     "name": "stdout",
     "output_type": "stream",
     "text": [
      "{1, 2, 3, 4, 5, 6, 7, 8, 9}\n"
     ]
    }
   ],
   "source": [
    "#13 question remove duplicates in a list\n",
    "\n",
    "l = [1, 2, 3, 4, 5, 6, 7, 5, 6, 7, 8, 9]\n",
    "print(set(l))"
   ]
  },
  {
   "cell_type": "code",
<<<<<<< HEAD
   "execution_count": 131,
=======
   "execution_count": 73,
>>>>>>> f1bf59d87812a03f5948aaf28463e9abb79b52a4
   "metadata": {},
   "outputs": [],
   "source": [
    "#14 question Count words in a sentence\n",
    "\n",
    "def count_word(sent):\n",
    "    \n",
<<<<<<< HEAD
    "    clean =  re.sub('[^a-zA-Z0-9\\s]', '', sent.strip()).split()\n",
    "    \n",
    "    return len(clean)\n",
    "    "
=======
    "    sent_clean = re.sub('[^a-z\\s]', '', s.strip().lower())\n",
    "    \n",
    "    return len(sent_clean.split())"
>>>>>>> f1bf59d87812a03f5948aaf28463e9abb79b52a4
   ]
  },
  {
   "cell_type": "code",
<<<<<<< HEAD
   "execution_count": 132,
=======
   "execution_count": 74,
>>>>>>> f1bf59d87812a03f5948aaf28463e9abb79b52a4
   "metadata": {},
   "outputs": [
    {
     "name": "stdout",
     "output_type": "stream",
     "text": [
<<<<<<< HEAD
      "8\n"
=======
      "7\n"
>>>>>>> f1bf59d87812a03f5948aaf28463e9abb79b52a4
     ]
    }
   ],
   "source": [
    "s = 'aswath try, try, 123 **? try don''t leave this. '\n",
    "print(count_word(s))"
   ]
  },
  {
   "cell_type": "code",
<<<<<<< HEAD
   "execution_count": 133,
=======
   "execution_count": 83,
>>>>>>> f1bf59d87812a03f5948aaf28463e9abb79b52a4
   "metadata": {},
   "outputs": [],
   "source": [
    "#15 Calculate the average word length.\n",
    "\n",
    "def avg_word_len(s):\n",
<<<<<<< HEAD
    "    \n",
    "    s_clean = re.sub('[^a-zA-Z\\s]','', s.strip()).split()\n",
    "    \n",
    "    total = 0\n",
    "    \n",
    "    for i in s_clean:\n",
    "        total+=len(i)\n",
    "        \n",
    "    return total/len(s_clean)"
=======
    "    sent_clean = re.sub('[^a-z\\s]', '', s.strip().lower()).split()\n",
    "    \n",
    "    total = 0\n",
    "    for i in sent_clean:\n",
    "        total += len(i)\n",
    "        \n",
    "    return total/len(sent_clean)"
>>>>>>> f1bf59d87812a03f5948aaf28463e9abb79b52a4
   ]
  },
  {
   "cell_type": "code",
<<<<<<< HEAD
   "execution_count": 134,
=======
   "execution_count": 84,
>>>>>>> f1bf59d87812a03f5948aaf28463e9abb79b52a4
   "metadata": {},
   "outputs": [
    {
     "name": "stdout",
     "output_type": "stream",
     "text": [
      "4.0\n"
     ]
    }
   ],
   "source": [
    "s = 'aswath try, try, try don''t leave this. '\n",
    "print(avg_word_len(s))"
   ]
  },
  {
   "cell_type": "code",
<<<<<<< HEAD
   "execution_count": 137,
=======
   "execution_count": 85,
>>>>>>> f1bf59d87812a03f5948aaf28463e9abb79b52a4
   "metadata": {},
   "outputs": [],
   "source": [
    "# 16 Count the number of unique words in a sequence?\n",
    "\n",
    "def uniq_words(s):\n",
<<<<<<< HEAD
    "\n",
    "    clean =  re.sub('[^a-zA-Z0-9\\s]', '', s.strip()).split()\n",
    "    \n",
    "    return len(set(clean))\n",
=======
    "    sent_clean = re.sub('[^a-z\\s]', '', s.strip().lower()).split()\n",
    "    \n",
    "    return len(set(sent_clean))\n",
>>>>>>> f1bf59d87812a03f5948aaf28463e9abb79b52a4
    "    "
   ]
  },
  {
   "cell_type": "code",
<<<<<<< HEAD
   "execution_count": 138,
=======
   "execution_count": 86,
>>>>>>> f1bf59d87812a03f5948aaf28463e9abb79b52a4
   "metadata": {},
   "outputs": [
    {
     "name": "stdout",
     "output_type": "stream",
     "text": [
      "5\n"
     ]
    }
   ],
   "source": [
    "print(uniq_words(s))"
   ]
  },
  {
   "cell_type": "code",
   "execution_count": 43,
   "metadata": {},
   "outputs": [
    {
     "name": "stdout",
     "output_type": "stream",
     "text": [
      "4\n"
     ]
    }
   ],
   "source": [
    "#17 find the max no from the given set of elements in an array\n",
    "print(max([1,2,3,4]))"
   ]
  },
  {
   "cell_type": "code",
<<<<<<< HEAD
   "execution_count": 139,
=======
   "execution_count": 88,
>>>>>>> f1bf59d87812a03f5948aaf28463e9abb79b52a4
   "metadata": {},
   "outputs": [
    {
     "name": "stdout",
     "output_type": "stream",
     "text": [
<<<<<<< HEAD
      "{6: 39, 4: 39, 2: 3, 1: 3, 8: 1}\n"
=======
      "[(6, 39), (4, 39), (2, 3), (1, 3), (8, 1)]\n"
>>>>>>> f1bf59d87812a03f5948aaf28463e9abb79b52a4
     ]
    }
   ],
   "source": [
    "# 18 Sort dict by values (descending order). if tie order the keys in descending order\n",
    "\n",
    "dict_unsrt = {1:3, 2:3, 8:1, 6:39, 4:39}\n",
    "\n",
<<<<<<< HEAD
    "intr = sorted(dict_unsrt.items(), key=lambda x:x[0], reverse= True)\n",
    "\n",
    "sorted_dict = sorted(intr, key=lambda x:x[1], reverse= True)\n",
    "\n",
    "print(dict(sorted_dict))"
=======
    "sort_key = sorted(dict_unsrt.items(), key=lambda x : x[0], reverse= True)\n",
    "sort_val = sorted(sort_key, key= lambda x: x[1], reverse= True)\n",
    "\n",
    "print(sort_val)"
>>>>>>> f1bf59d87812a03f5948aaf28463e9abb79b52a4
   ]
  },
  {
   "cell_type": "code",
<<<<<<< HEAD
   "execution_count": 140,
=======
   "execution_count": 97,
>>>>>>> f1bf59d87812a03f5948aaf28463e9abb79b52a4
   "metadata": {},
   "outputs": [],
   "source": [
    "#19 min abs diff\n",
    "\n",
    "def min_abs_diff(nums):\n",
<<<<<<< HEAD
    "    if nums==[]:\n",
    "        return -1\n",
    "    \n",
    "    if len(nums)==1:\n",
    "        return nums[0]\n",
    "    \n",
    "    diff = float('inf')\n",
    "    \n",
    "    for i in range(len(nums)-1):\n",
    "        current_diff = abs(nums[i+1] - nums[i])\n",
    "        diff = min(current_diff, diff)\n",
    "    \n",
    "    return diff\n"
=======
    "    if nums == []:\n",
    "        return -1\n",
    "    \n",
    "    diff = float(\"inf\")\n",
    "    nums = sorted(nums)\n",
    "    \n",
    "    for i in range(1, len(nums)):\n",
    "        current_diff = abs(nums[i] - nums[i-1])\n",
    "        diff = min(diff, current_diff)\n",
    "    \n",
    "            \n",
    "    return diff"
>>>>>>> f1bf59d87812a03f5948aaf28463e9abb79b52a4
   ]
  },
  {
   "cell_type": "code",
<<<<<<< HEAD
   "execution_count": 141,
   "metadata": {},
   "outputs": [
    {
     "name": "stdout",
     "output_type": "stream",
     "text": [
      "3\n",
      "0\n",
      "9\n",
      "-1\n"
     ]
    }
   ],
   "source": [
    "print(min_abs_diff([-1, -5, 2, 5, 9, 21, 45]))\n",
    "print(min_abs_diff([-1, 2, 2, 5, 9, 21, 45]))\n",
    "print(min_abs_diff([9]))\n",
    "print(min_abs_diff([]))"
=======
   "execution_count": 98,
   "metadata": {},
   "outputs": [
    {
     "data": {
      "text/plain": [
       "3"
      ]
     },
     "execution_count": 98,
     "metadata": {},
     "output_type": "execute_result"
    }
   ],
   "source": [
    "min_abs_diff([-1, -5, 2, 5, 9, 21, 45])"
>>>>>>> f1bf59d87812a03f5948aaf28463e9abb79b52a4
   ]
  },
  {
   "cell_type": "code",
<<<<<<< HEAD
   "execution_count": 142,
=======
   "execution_count": 99,
   "metadata": {},
   "outputs": [
    {
     "data": {
      "text/plain": [
       "0"
      ]
     },
     "execution_count": 99,
     "metadata": {},
     "output_type": "execute_result"
    }
   ],
   "source": [
    "min_abs_diff([-1, 2, 2, 5, 9, 21, 45])"
   ]
  },
  {
   "cell_type": "code",
   "execution_count": 107,
>>>>>>> f1bf59d87812a03f5948aaf28463e9abb79b52a4
   "metadata": {},
   "outputs": [],
   "source": [
    "#20 Recursively parse a string for a pattern that can be either 1 or 2 characters long\n",
    "\n",
    "class StringManipulation:\n",
    "    \n",
    "    def string_1_2_char(self, s):\n",
<<<<<<< HEAD
    "        clean = re.sub('[^a-zA-Z0-9\\s]', '', s.strip()).split()\n",
    "        return self.string_recur(clean)\n",
    "        \n",
    "    def string_recur(self, s_list):\n",
    "        \n",
    "        if s_list==[]:\n",
    "            return 0\n",
    "        \n",
    "        if len(s_list[0]) in [1,2]:\n",
    "            return 1+self.string_recur(s_list[1:])\n",
    "        else:\n",
    "            return 0+self.string_recur(s_list[1:])"
=======
    "        s_clean = re.sub('[^a-z\\s]', '', s.strip().lower()).split()\n",
    "        print(s_clean)\n",
    "        \n",
    "        return self.string_recur(s_clean)\n",
    "        \n",
    "    def string_recur(self, s_list):\n",
    "        \n",
    "        if s_list == []:\n",
    "            return 0\n",
    "        \n",
    "        if len(s_list[0]) in [1,2]:\n",
    "            return 1+ self.string_recur(s_list[1:])\n",
    "        else:\n",
    "            return 0+ self.string_recur(s_list[1:])"
>>>>>>> f1bf59d87812a03f5948aaf28463e9abb79b52a4
   ]
  },
  {
   "cell_type": "code",
<<<<<<< HEAD
   "execution_count": 143,
=======
   "execution_count": 108,
>>>>>>> f1bf59d87812a03f5948aaf28463e9abb79b52a4
   "metadata": {},
   "outputs": [
    {
     "name": "stdout",
     "output_type": "stream",
     "text": [
<<<<<<< HEAD
=======
      "['the', 'quick', 'brown', 'cat', 'leaps', 'over', 'the', 'sad', 'boy', 'y', 'ar', 'u', 'me', 'na']\n",
>>>>>>> f1bf59d87812a03f5948aaf28463e9abb79b52a4
      "5\n"
     ]
    }
   ],
   "source": [
    "sentence = '*** The ?! quick brown cat:  leaps over the sad boy y ar u me na. '\n",
    "sm = StringManipulation()\n",
    "print(sm.string_1_2_char(sentence))"
   ]
  },
  {
   "cell_type": "code",
<<<<<<< HEAD
   "execution_count": 146,
=======
   "execution_count": 115,
>>>>>>> f1bf59d87812a03f5948aaf28463e9abb79b52a4
   "metadata": {},
   "outputs": [],
   "source": [
    "#21 Count the number of time a number occurs in list recursively\n",
    "\n",
    "def count_number(l, n):\n",
<<<<<<< HEAD
    "    if l ==[]:\n",
    "        return 0\n",
    "    \n",
    "    if l[0]==n:\n",
    "        return 1+count_number(l[1:], n)\n",
    "    else:\n",
    "        return 0+count_number(l[1:], n)\n",
    "    "
=======
    "    \n",
    "    if l==[]:\n",
    "        return 0\n",
    "    \n",
    "    if l[0]==n:\n",
    "        print(l)\n",
    "        return 1+count_number(l[1:], n)\n",
    "    else:\n",
    "        return 0+count_number(l[1:], n)"
>>>>>>> f1bf59d87812a03f5948aaf28463e9abb79b52a4
   ]
  },
  {
   "cell_type": "code",
<<<<<<< HEAD
   "execution_count": 147,
=======
   "execution_count": 116,
>>>>>>> f1bf59d87812a03f5948aaf28463e9abb79b52a4
   "metadata": {},
   "outputs": [
    {
     "name": "stdout",
     "output_type": "stream",
     "text": [
<<<<<<< HEAD
=======
      "['a', 'b', 'a']\n",
      "['a']\n",
>>>>>>> f1bf59d87812a03f5948aaf28463e9abb79b52a4
      "2\n"
     ]
    }
   ],
   "source": [
    "print(count_number(['a','b','a'],'a')) #prints 2"
   ]
  },
  {
   "cell_type": "code",
<<<<<<< HEAD
   "execution_count": 148,
=======
   "execution_count": 119,
>>>>>>> f1bf59d87812a03f5948aaf28463e9abb79b52a4
   "metadata": {},
   "outputs": [],
   "source": [
    "#22 Count the length of a string recursively\n",
    "\n",
    "def count_str(string):\n",
<<<<<<< HEAD
    "    if string =='':\n",
    "        return 0\n",
    "    \n",
    "    return 1+count_str(string[1:])\n",
    "    \n",
    "    "
=======
    "    \n",
    "    if string=='':\n",
    "        return 0\n",
    "    else:\n",
    "        return 1 + count_str(string[1:])"
>>>>>>> f1bf59d87812a03f5948aaf28463e9abb79b52a4
   ]
  },
  {
   "cell_type": "code",
<<<<<<< HEAD
   "execution_count": 149,
=======
   "execution_count": 120,
>>>>>>> f1bf59d87812a03f5948aaf28463e9abb79b52a4
   "metadata": {},
   "outputs": [
    {
     "name": "stdout",
     "output_type": "stream",
     "text": [
      "13\n"
     ]
    }
   ],
   "source": [
    "str = \"GeeksforGeeks\"\n",
    "print (count_str(str))"
   ]
  },
  {
   "cell_type": "code",
   "execution_count": null,
   "metadata": {},
   "outputs": [],
   "source": [
    "#23 Spell check engine\n"
   ]
  },
  {
   "cell_type": "code",
   "execution_count": null,
   "metadata": {},
   "outputs": [],
   "source": []
  },
  {
   "cell_type": "code",
<<<<<<< HEAD
   "execution_count": 150,
=======
   "execution_count": 121,
>>>>>>> f1bf59d87812a03f5948aaf28463e9abb79b52a4
   "metadata": {},
   "outputs": [],
   "source": [
    "#24  given a list of tuples of movie watched times, find how many unique minutes of the movie did the viewer watch\n",
    "\n",
    "def tuple_arr(t):\n",
<<<<<<< HEAD
    "    srt = sorted(t, key= lambda x: x[0])\n",
    "    \n",
    "    total = 0\n",
    "    for st, end in srt:\n",
    "        total += end-st\n",
    "        \n",
    "    return total\n",
    "    "
=======
    "    t_srt = sorted(t, key=lambda x :  x[0])\n",
    "    \n",
    "    total = 0 \n",
    "    for i, j in t_srt:\n",
    "        total += abs(j-i)\n",
    "        \n",
    "    return total"
>>>>>>> f1bf59d87812a03f5948aaf28463e9abb79b52a4
   ]
  },
  {
   "cell_type": "code",
<<<<<<< HEAD
   "execution_count": 151,
=======
   "execution_count": 122,
>>>>>>> f1bf59d87812a03f5948aaf28463e9abb79b52a4
   "metadata": {},
   "outputs": [
    {
     "data": {
      "text/plain": [
       "70"
      ]
     },
<<<<<<< HEAD
     "execution_count": 151,
=======
     "execution_count": 122,
>>>>>>> f1bf59d87812a03f5948aaf28463e9abb79b52a4
     "metadata": {},
     "output_type": "execute_result"
    }
   ],
   "source": [
    " tuple_arr([(0,15),(10,25), (45, 80), (30,35)])"
   ]
  },
  {
   "cell_type": "code",
   "execution_count": null,
   "metadata": {},
   "outputs": [],
   "source": []
  }
 ],
 "metadata": {
  "kernelspec": {
   "display_name": "Python 3",
   "language": "python",
   "name": "python3"
  },
  "language_info": {
   "codemirror_mode": {
    "name": "ipython",
    "version": 3
   },
   "file_extension": ".py",
   "mimetype": "text/x-python",
   "name": "python",
   "nbconvert_exporter": "python",
   "pygments_lexer": "ipython3",
   "version": "3.7.6"
  }
 },
 "nbformat": 4,
 "nbformat_minor": 4
}
