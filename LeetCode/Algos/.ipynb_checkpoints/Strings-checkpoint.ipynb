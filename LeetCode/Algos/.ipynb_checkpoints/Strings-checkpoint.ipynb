{
 "cells": [
  {
   "cell_type": "markdown",
   "metadata": {},
   "source": [
    "This notebooks contains solutions to STRING/TEXT related problems in Python"
   ]
  },
  {
   "cell_type": "markdown",
   "metadata": {},
   "source": [
    "## Palindrome\n",
    "[1] https://leetcode.com/problems/valid-palindrome/\n",
    "\n",
    "Given a string s, determine if it is a palindrome, considering only alphanumeric characters and ignoring cases. \n",
    "\n",
    "Example 1:\n",
    "\n",
    "Input: s = \"A man, a plan, a canal: Panama\"\n",
    "Output: true\n",
    "Explanation: \"amanaplanacanalpanama\" is a palindrome.\n",
    "Example 2:\n",
    "\n",
    "Input: s = \"race a car\"\n",
    "Output: false\n",
    "Explanation: \"raceacar\" is not a palindrome.\n",
    " \n",
    "\n",
    "Constraints:\n",
    "\n",
    "1 <= s.length <= 2 * 105\n",
    "s consists only of printable ASCII characters."
   ]
  },
  {
   "cell_type": "code",
   "execution_count": 1,
   "metadata": {},
   "outputs": [],
   "source": [
    "#Solution: reverse string\n",
    "def isPalindrome(self, s: str) -> bool:\n",
    "\n",
    "    normalised_string = ''.join(e for e in s if e.isalnum()).lower()\n",
    "\n",
    "    reversed_string = normalised_string[::-1]\n",
    "\n",
    "    return reversed_string == normalised_string"
   ]
  },
  {
   "cell_type": "code",
   "execution_count": 2,
   "metadata": {},
   "outputs": [],
   "source": [
    "# Approach 2 compare both halves\n",
    "def isPalindrome(self, s: str) -> bool:\n",
    "\n",
    "    for i in range(int(len(normalised_string)/2)):\n",
    "        if normalised_string[i] != normalised_string[len(normalised_string)-1-i]:\n",
    "            return False\n",
    "    \n",
    "    return True"
   ]
  },
  {
   "cell_type": "markdown",
   "metadata": {},
   "source": [
    "## Anagram\n",
    "\n",
    "[2] https://leetcode.com/problems/valid-anagram/\n",
    "Given two strings s and t, return true if t is an anagram of s, and false otherwise."
   ]
  },
  {
   "cell_type": "code",
   "execution_count": 1,
   "metadata": {},
   "outputs": [],
   "source": [
    "def isAnagram(self, s: str, t: str) -> bool:\n",
    "\n",
    "    d = {}\n",
    "\n",
    "    if len(s) == len(t):\n",
    "        for i in s:\n",
    "            if i not in d:\n",
    "                d[i] = 1\n",
    "            else:\n",
    "                d[i] +=1\n",
    "        print(d)\n",
    "\n",
    "        for j in t:\n",
    "\n",
    "            if j in d:\n",
    "                d[j] -=1\n",
    "\n",
    "            else:\n",
    "                return False\n",
    "\n",
    "        print(d)\n",
    "        for k in d:\n",
    "            if d[k] !=0:\n",
    "                return False\n",
    "\n",
    "        return True\n",
    "\n",
    "    else:\n",
    "        return False"
   ]
  },
  {
   "cell_type": "code",
   "execution_count": 2,
   "metadata": {},
   "outputs": [],
   "source": [
    "def isAnagram1(self, s, t):\n",
    "    dic1, dic2 = {}, {}\n",
    "    for item in s:\n",
    "        dic1[item] = dic1.get(item, 0) + 1\n",
    "    for item in t:\n",
    "        dic2[item] = dic2.get(item, 0) + 1\n",
    "    return dic1 == dic2\n",
    "    \n",
    "def isAnagram2(self, s, t):\n",
    "    dic1, dic2 = [0]*26, [0]*26\n",
    "    for item in s:\n",
    "        dic1[ord(item)-ord('a')] += 1\n",
    "    for item in t:\n",
    "        dic2[ord(item)-ord('a')] += 1\n",
    "    return dic1 == dic2\n",
    "    \n",
    "def isAnagram3(self, s, t):\n",
    "    return sorted(s) == sorted(t)"
   ]
  },
  {
   "cell_type": "markdown",
   "metadata": {},
   "source": [
    "## Add binary\n",
    "\n",
    "[3] https://leetcode.com/problems/add-binary/\n",
    "\n",
    "Given two binary strings a and b, return their sum as a binary string.\n",
    "\n",
    "Example 1:\n",
    "\n",
    "Input: a = \"11\", b = \"1\"\n",
    "Output: \"100\""
   ]
  },
  {
   "cell_type": "code",
   "execution_count": 1,
   "metadata": {},
   "outputs": [],
   "source": [
    "def addBinary(self, a: str, b: str) -> str:\n",
    "\n",
    "    max_length = max(len(a),len(b))\n",
    "    print(max_length)\n",
    "\n",
    "    a= a.zfill(max_length)\n",
    "    b= b.zfill(max_length)\n",
    "    print(f\"a is {a} and b is {b}\")\n",
    "\n",
    "    carry = 0\n",
    "    result = ''\n",
    "\n",
    "\n",
    "    for i in range(max_length):\n",
    "        carry +=1 if a[max_length-i-1] =='1' else 0\n",
    "        carry +=1 if b[max_length-i-1] =='1' else 0\n",
    "\n",
    "        result += str(carry%2)\n",
    "        carry = carry//2\n",
    "        print(carry)\n",
    "\n",
    "    if carry!=0:\n",
    "        result += str(carry%2)\n",
    "\n",
    "    return result[::-1]\n",
    "\n",
    "            "
   ]
  },
  {
   "cell_type": "code",
   "execution_count": 2,
   "metadata": {},
   "outputs": [
    {
     "name": "stdout",
     "output_type": "stream",
     "text": [
      "10001\n"
     ]
    }
   ],
   "source": [
    "a = \"1101\"\n",
    "b = \"100\"\n",
    "  \n",
    "# Calculating binary value using function \n",
    "sum = bin(int(a, 2) + int(b, 2)) \n",
    "  \n",
    "# Printing result \n",
    "print(sum[2:]) "
   ]
  },
  {
   "cell_type": "markdown",
   "metadata": {},
   "source": [
    "## Reverse Integer\n",
    "\n",
    "[4] https://leetcode.com/problems/reverse-integer/\n",
    "\n",
    "Given a signed 32-bit integer x, return x with its digits reversed. If reversing x causes the value to go outside the signed 32-bit integer range [-231, 231 - 1], then return 0."
   ]
  },
  {
   "cell_type": "code",
   "execution_count": 1,
   "metadata": {},
   "outputs": [],
   "source": [
    "#using string manipulation\n",
    "def reverse(self, x: int) -> int:\n",
    "    sign = 1\n",
    "\n",
    "    if x < 0:\n",
    "        sign = -1\n",
    "        x = -x\n",
    "\n",
    "    x_str = str(x)\n",
    "\n",
    "    return 0 if int(x_str[::-1]) > pow(2,31) else int(x_str[::-1]) * sign"
   ]
  },
  {
   "cell_type": "code",
   "execution_count": 2,
   "metadata": {},
   "outputs": [],
   "source": [
    "def reverse(self, x: int) -> int:\n",
    "    result = 0\n",
    "    symbol = 1\n",
    "\n",
    "    if x < 0:\n",
    "        symbol = -1\n",
    "        x = -x\n",
    "\n",
    "\n",
    "    while x:\n",
    "        result = result * 10 + x % 10\n",
    "        print(result)\n",
    "        x //= 10\n",
    "\n",
    "\n",
    "    return 0 if result > pow(2, 31) else result * symbol"
   ]
  },
  {
   "cell_type": "markdown",
   "metadata": {},
   "source": [
    "## Reverse Words in a String III\n",
    "\n",
    "[5] https://leetcode.com/problems/reverse-words-in-a-string-iii/\n",
    "    \n",
    "Given a string s, reverse the order of characters in each word within a sentence while still preserving whitespace and initial word order.\n",
    "\n",
    "Example 1:\n",
    "```\n",
    "Input: s = \"Let's take LeetCode contest\"\n",
    "Output: \"s'teL ekat edoCteeL tsetnoc\"\n",
    "Example 2:\n",
    "\n",
    "Input: s = \"God Ding\"\n",
    "Output: \"doG gniD\"\n",
    " \n",
    "\n",
    "Constraints:\n",
    "\n",
    "1 <= s.length <= 5 * 104\n",
    "s contains printable ASCII characters.\n",
    "s does not contain any leading or trailing spaces.\n",
    "There is at least one word in s.\n",
    "All the words in s are separated by a single space.\n",
    "````"
   ]
  },
  {
   "cell_type": "code",
   "execution_count": 1,
   "metadata": {},
   "outputs": [],
   "source": [
    "def reverseWords(s):\n",
    "    \"\"\"\n",
    "    :type s: str\n",
    "    :rtype: str\n",
    "    \"\"\"\n",
    "    split_words = s.split()\n",
    "\n",
    "    rev_words = [i[::-1] for i in split_words]\n",
    "\n",
    "    return \" \".join(rev_words)\n",
    "        "
   ]
  },
  {
   "cell_type": "markdown",
   "metadata": {},
   "source": [
    "## Path Crossing\n",
    "\n",
    "[6 https://leetcode.com/problems/path-crossing/\n",
    "\n",
    "Given a string path, where path[i] = 'N', 'S', 'E' or 'W', each representing moving one unit north, south, east, or west, respectively. You start at the origin (0, 0) on a 2D plane and walk on the path specified by path.\n",
    "\n",
    "Return true if the path crosses itself at any point, that is, if at any time you are on a location you have previously visited. Return false otherwise.\n"
   ]
  },
  {
   "cell_type": "code",
   "execution_count": 1,
   "metadata": {},
   "outputs": [],
   "source": [
    "\n",
    "def isPathCrossing(path: str) -> bool:\n",
    "    current = (0, 0)\n",
    "    seen = [current]\n",
    "\n",
    "    dict_path = {\n",
    "        'N' : (0, 1),\n",
    "        'S' : (0, -1),\n",
    "        'E' : (1, 0),\n",
    "        'W' : (-1, 0)\n",
    "    }\n",
    "\n",
    "    for p in path:\n",
    "\n",
    "        current =  (current[0] + dict_path[p][0] , current[1] + dict_path[p][1])\n",
    "\n",
    "        if current not in seen: \n",
    "            seen.append(current)   \n",
    "        else:\n",
    "            return True\n",
    "\n",
    "    return False"
   ]
  },
  {
   "cell_type": "code",
   "execution_count": 2,
   "metadata": {},
   "outputs": [
    {
     "name": "stdout",
     "output_type": "stream",
     "text": [
      "True\n"
     ]
    }
   ],
   "source": [
    "print(isPathCrossing('NESWW'))"
   ]
  },
  {
   "cell_type": "markdown",
   "metadata": {},
   "source": [
    "## Ransom Note\n",
    "\n",
    "[7] https://leetcode.com/problems/ransom-note/\n",
    "\n",
    "Given two stings ransomNote and magazine, return true if ransomNote can be constructed from magazine and false otherwise.\n",
    "\n",
    "Each letter in magazine can only be used once in ransomNote.\n",
    "\n",
    "```\n",
    "Example 1:\n",
    "\n",
    "Input: ransomNote = \"aa\", magazine = \"ab\"\n",
    "Output: false\n",
    "\n",
    "Example 2:\n",
    "\n",
    "Input: ransomNote = \"aa\", magazine = \"aab\"\n",
    "Output: true\n",
    "```"
   ]
  },
  {
   "cell_type": "code",
   "execution_count": 5,
   "metadata": {},
   "outputs": [],
   "source": [
    "from collections import Counter\n",
    "def canConstruct(ransomNote: str, magazine: str) -> bool:\n",
    "\n",
    "    counter_rn =  Counter(ransomNote)\n",
    "    counter_mz =  Counter(magazine)\n",
    "    print(counter_rn)\n",
    "    print(counter_mz)\n",
    "    print(counter_rn - counter_mz)\n",
    "\n",
    "    return counter_rn - counter_mz == {}"
   ]
  },
  {
   "cell_type": "code",
   "execution_count": 6,
   "metadata": {},
   "outputs": [
    {
     "name": "stdout",
     "output_type": "stream",
     "text": [
      "Counter({'a': 2, 'c': 1})\n",
      "Counter({'a': 2, 'b': 1})\n",
      "Counter({'c': 1})\n",
      "False\n"
     ]
    }
   ],
   "source": [
    "print(canConstruct(\"aac\", \"baa\"))"
   ]
  },
  {
   "cell_type": "markdown",
   "metadata": {},
   "source": [
    "## Longest Common Prefix\n",
    "\n",
    "Write a function to find the longest common prefix string amongst an array of strings.\n",
    "\n",
    "If there is no common prefix, return an empty string \"\".\n",
    "\n",
    "[8] https://leetcode.com/problems/longest-common-prefix/\n",
    "\n",
    "```\n",
    "Example 1:\n",
    "\n",
    "Input: strs = [\"flower\",\"flow\",\"flight\"]\n",
    "Output: \"fl\"\n",
    "```"
   ]
  },
  {
   "cell_type": "code",
   "execution_count": 3,
   "metadata": {},
   "outputs": [],
   "source": [
    "def longestCommonPrefix(strs):\n",
    "\n",
    "    if not strs:\n",
    "        return \"\"\n",
    "\n",
    "    shortest = min(strs,key=len)\n",
    "    #print(shortest)\n",
    "    for i, ch in enumerate(shortest):\n",
    "        for other in strs:\n",
    "            if other[i] != ch:\n",
    "                return shortest[:i]\n",
    "    return shortest "
   ]
  },
  {
   "cell_type": "code",
   "execution_count": 4,
   "metadata": {},
   "outputs": [
    {
     "name": "stdout",
     "output_type": "stream",
     "text": [
      "fl\n"
     ]
    }
   ],
   "source": [
    "print(longestCommonPrefix([\"flower\",\"flow\",\"flight\"]))"
   ]
  },
  {
   "cell_type": "markdown",
   "metadata": {},
   "source": [
    "## First Unique Character in a String\n",
    "\n",
    "[9] https://leetcode.com/problems/first-unique-character-in-a-string/\n",
    "\n",
    "Given a string s, return the first non-repeating character in it and return its index. If it does not exist, return -1.\n",
    "```\n",
    "Example 1:\n",
    "\n",
    "Input: s = \"leetcode\"\n",
    "Output: 0\n",
    "```"
   ]
  },
  {
   "cell_type": "code",
   "execution_count": 1,
   "metadata": {},
   "outputs": [],
   "source": [
    "def firstUniqChar(s: str) -> int:\n",
    "    dict_char = {}\n",
    "    seen = set()\n",
    "\n",
    "    for i, char in enumerate(s):\n",
    "        if char in dict_char:\n",
    "            del dict_char[char]\n",
    "        elif char not in seen:\n",
    "            seen.add(char)\n",
    "            dict_char[char] = i\n",
    "\n",
    "    if dict_char:\n",
    "        return min(list(dict_char.values()))\n",
    "    else:\n",
    "        return -1\n",
    "\n",
    "    # single line replacement of the above\n",
    "    # return min(d.values()) if d else -1"
   ]
  },
  {
   "cell_type": "code",
   "execution_count": 2,
   "metadata": {},
   "outputs": [
    {
     "name": "stdout",
     "output_type": "stream",
     "text": [
      "-1\n"
     ]
    }
   ],
   "source": [
    "print(firstUniqChar('aaa'))"
   ]
  },
  {
   "cell_type": "markdown",
   "metadata": {},
   "source": [
    "## Reorder Data in Log Files\n",
    "\n",
    "[10] https://leetcode.com/problems/reorder-data-in-log-files/\n",
    "\n",
    "You are given an array of logs. Each log is a space-delimited string of words, where the first word is the identifier.\n",
    "\n",
    "There are two types of logs:\n",
    "\n",
    "Letter-logs: All words (except the identifier) consist of lowercase English letters.\n",
    "Digit-logs: All words (except the identifier) consist of digits.\n",
    "Reorder these logs so that:\n",
    "\n",
    "The letter-logs come before all digit-logs.\n",
    "The letter-logs are sorted lexicographically by their contents. If their contents are the same, then sort them lexicographically by their identifiers.\n",
    "The digit-logs maintain their relative ordering.\n",
    "Return the final order of the logs.\n",
    "\n",
    " \n",
    "```\n",
    "Example 1:\n",
    "\n",
    "Input: logs = [\"dig1 8 1 5 1\",\"let1 art can\",\"dig2 3 6\",\"let2 own kit dig\",\"let3 art zero\"]\n",
    "Output: [\"let1 art can\",\"let3 art zero\",\"let2 own kit dig\",\"dig1 8 1 5 1\",\"dig2 3 6\"]\n",
    "Explanation:\n",
    "The letter-log contents are all different, so their ordering is \"art can\", \"art zero\", \"own kit dig\".\n",
    "The digit-logs have a relative order of \"dig1 8 1 5 1\", \"dig2 3 6\".\n",
    "```"
   ]
  },
  {
   "cell_type": "code",
   "execution_count": 3,
   "metadata": {},
   "outputs": [],
   "source": [
    "def reorderLogFiles(logs):\n",
    "    number, letter = [], []\n",
    "\n",
    "    #############Note##############\n",
    "    ## number, letter = [] would cause issues\n",
    "    ###############################\n",
    "\n",
    "    for log in logs:\n",
    "        intr = log.split(' ')\n",
    "        if intr[1].isdigit():\n",
    "            number.append(log)\n",
    "        else:\n",
    "            letter.append(log)\n",
    "\n",
    "\n",
    "    letter.sort(key = lambda x: x.split()[0])#sort by index\n",
    "    letter.sort(key = lambda x: x.split()[1:])#sort by suffix\n",
    "\n",
    "    return letter+number"
   ]
  },
  {
   "cell_type": "code",
   "execution_count": 4,
   "metadata": {},
   "outputs": [
    {
     "name": "stdout",
     "output_type": "stream",
     "text": [
      "['let1 art can', 'let3 art zero', 'let2 own kit dig', 'dig1 8 1 5 1', 'dig2 3 6']\n"
     ]
    }
   ],
   "source": [
    "print(reorderLogFiles([\"dig1 8 1 5 1\",\"let1 art can\",\"dig2 3 6\",\"let2 own kit dig\",\"let3 art zero\"]))"
   ]
  },
  {
   "cell_type": "markdown",
   "metadata": {},
   "source": [
    "## Longest Substring Without Repeating Characters\n",
    "\n",
    "[11] https://leetcode.com/problems/longest-substring-without-repeating-characters/\n",
    "\n",
    "Given a string s, find the length of the longest substring without repeating characters.\n",
    "\n",
    " \n",
    "```\n",
    "Example 1:\n",
    "\n",
    "Input: s = \"abcabcbb\"\n",
    "Output: 3\n",
    "Explanation: The answer is \"abc\", with the length of 3.\n",
    "```"
   ]
  },
  {
   "cell_type": "code",
   "execution_count": 1,
   "metadata": {},
   "outputs": [],
   "source": [
    "def lengthOfLongestSubstring(s: str):\n",
    "    \"\"\"\n",
    "    If s[r] not in seen, we can keep increasing the window size by moving right pointer\n",
    "\n",
    "    There are two cases if s[r] in seen:\n",
    "    case1: s[r] is inside the current window, we need to change the window by moving left   \n",
    "    pointer to seen[s[r]] + 1.\n",
    "    case2: s[r] is not inside the current window, we can keep increase the window\n",
    "    \"\"\"\n",
    "\n",
    "    seen = {}\n",
    "    l = output = 0\n",
    "\n",
    "    for r, c in enumerate(s):\n",
    "\n",
    "        if c not in seen:\n",
    "            output = max(output,r-l+1)\n",
    "\n",
    "        else:\n",
    "            if seen[c] < l:\n",
    "                output = max(output,r-l+1)\n",
    "            else:\n",
    "                l = seen[c] + 1\n",
    "        seen[c] = r\n",
    "\n",
    "    return output"
   ]
  },
  {
   "cell_type": "code",
   "execution_count": 3,
   "metadata": {},
   "outputs": [
    {
     "name": "stdout",
     "output_type": "stream",
     "text": [
      "2\n"
     ]
    }
   ],
   "source": [
    "print(lengthOfLongestSubstring('aab'))"
   ]
  },
  {
   "cell_type": "code",
   "execution_count": null,
   "metadata": {},
   "outputs": [],
   "source": []
  }
 ],
 "metadata": {
  "kernelspec": {
   "display_name": "Python 3",
   "language": "python",
   "name": "python3"
  },
  "language_info": {
   "codemirror_mode": {
    "name": "ipython",
    "version": 3
   },
   "file_extension": ".py",
   "mimetype": "text/x-python",
   "name": "python",
   "nbconvert_exporter": "python",
   "pygments_lexer": "ipython3",
   "version": "3.7.1"
  }
 },
 "nbformat": 4,
 "nbformat_minor": 2
}
