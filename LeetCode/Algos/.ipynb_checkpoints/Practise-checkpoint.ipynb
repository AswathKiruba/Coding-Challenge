{
 "cells": [
  {
   "cell_type": "code",
   "execution_count": 1,
   "metadata": {},
   "outputs": [],
   "source": [
    "from collections import defaultdict, Counter\n",
    "import re"
   ]
  },
  {
   "cell_type": "code",
   "execution_count": 2,
   "metadata": {},
   "outputs": [],
   "source": [
    "# 1 question (Friends)\n",
    "# edge case return 1. dict 2. list\n",
    "\n",
    "def frnds(l):\n",
    "    if len(l) == 0:\n",
    "        return 0\n",
    "    \n",
    "    dict_frnd = {}\n",
    "    \n",
    "    for i in l:\n",
    "        if isinstance(i, list):\n",
    "            if len(i) == 2:\n",
    "                if i[0] not in dict_frnd:\n",
    "                    dict_frnd[i[0]] = 1\n",
    "                else:\n",
    "                    dict_frnd[i[0]] +=1\n",
    "\n",
    "                if i[1] not in dict_frnd:\n",
    "                    dict_frnd[i[1]] = 1\n",
    "                else:\n",
    "                    dict_frnd[i[1]] +=1\n",
    "\n",
    "            if len(i) ==1:\n",
    "                if i[0] not in dict_frnd:\n",
    "                    dict_frnd[i[0]] = 0\n",
    "                else:\n",
    "                    dict_frnd[i[0]] += 0\n",
    "        else:\n",
    "            if i not in dict_frnd:\n",
    "                dict_frnd[i] = 0\n",
    "            else:\n",
    "                dict_frnd[i] += 0\n",
    "\n",
    "\n",
    "    return dict_frnd\n",
    "    "
   ]
  },
  {
   "cell_type": "code",
   "execution_count": 5,
   "metadata": {},
   "outputs": [],
   "source": [
    "def frnds(l):\n",
    "    \n",
    "    if len(l) == 0:\n",
    "        return {}\n",
    "    \n",
    "    frnd_dict = defaultdict(int)\n",
    "    for i in l:\n",
    "        if isinstance(i, list):\n",
    "            if len(i)==2:\n",
    "                frnd_dict[i[0]]+=1\n",
    "                frnd_dict[i[1]]+=1\n",
    "                \n",
    "            if len(i)==1:\n",
    "                frnd_dict[i[0]]+=0\n",
    "        else:\n",
    "            frnd_dict[i]+=0\n",
    "            \n",
    "    return frnd_dict\n",
    "                "
   ]
  },
  {
   "cell_type": "code",
   "execution_count": 7,
   "metadata": {},
   "outputs": [
    {
     "name": "stdout",
     "output_type": "stream",
     "text": [
      "defaultdict(<class 'int'>, {2: 1, 3: 2, 4: 1, 5: 0, 6: 1, 1: 2, 8: 1})\n",
      "{}\n",
      "defaultdict(<class 'int'>, {0: 0})\n"
     ]
    }
   ],
   "source": [
    "l = [[2,3],[3,4],[5],[6,1],[1],[8,1], 3, [5]]\n",
    "print(frnds(l))\n",
    "print(frnds([]))\n",
    "print(frnds([0]))"
   ]
  },
  {
   "cell_type": "code",
   "execution_count": 11,
   "metadata": {},
   "outputs": [],
   "source": [
    "#2 question uncommon words in two sentence\n",
    "# edge cases 1. trim 2. remove punctuation\n",
    "\n",
    "def uncommon(s1, s2):\n",
    "    \n",
    "    s1_clean = re.sub('[^a-z\\s0-9]', '', s1.strip().lower())\n",
    "    s2_clean = re.sub('[^a-z\\s0-9]', '', s2.strip().lower())\n",
    "    \n",
    "    s1_set = set(s1_clean.split())\n",
    "    s2_set = set(s2_clean.split())\n",
    "    \n",
    "    return list(set.union(s1_set, s2_set) - s1_set.intersection(s2_set))\n",
    "    "
   ]
  },
  {
   "cell_type": "code",
   "execution_count": 12,
   "metadata": {},
   "outputs": [
    {
     "name": "stdout",
     "output_type": "stream",
     "text": [
      "['second', 'first', 'this', '123', 'firstly', 'next']\n"
     ]
    }
   ],
   "source": [
    "s1=\"Firstly this is the first string?** \"\n",
    "s2=\"Next is the 123 second string\"\n",
    "\n",
    "print(uncommon(s1, s2))"
   ]
  },
  {
   "cell_type": "code",
   "execution_count": 13,
   "metadata": {},
   "outputs": [
    {
     "data": {
      "text/plain": [
       "['first', 'this', 'firstly', 'second', '123', 'next']"
      ]
     },
     "execution_count": 13,
     "metadata": {},
     "output_type": "execute_result"
    }
   ],
   "source": [
    "#2B exactly only in both the sentence\n",
    "\n",
    "\n",
    "def uncommon_words(s1, s2):\n",
    "    s1_clean = re.sub('[^a-z\\s0-9]', '', s1.strip().lower())\n",
    "    s2_clean = re.sub('[^a-z\\s0-9]', '', s2.strip().lower())\n",
    "    \n",
    "    s1_set = set(s1_clean.split())\n",
    "    s2_set = set(s2_clean.split())\n",
    "    \n",
    "    dict_words = defaultdict(int)\n",
    "    \n",
    "    for i in s1_set:\n",
    "        dict_words[i]+=1\n",
    "    \n",
    "    for j in s2_set:\n",
    "        dict_words[j]+=1\n",
    "        \n",
    "    result = []\n",
    "    \n",
    "    for key, val in dict_words.items():\n",
    "        if val ==1:\n",
    "            result.append(key)\n",
    "    \n",
    "    return result\n",
    "        \n",
    "    \n",
    "s1=\"Firstly this is the first string?** \"\n",
    "s2=\"Next is the 123 second string\"\n",
    "uncommon_words(s1, s2)\n"
   ]
  },
  {
   "cell_type": "code",
   "execution_count": 14,
   "metadata": {},
   "outputs": [],
   "source": [
    "#3 question occurance in a character in a word (use counter)\n",
    "\n",
    "def occurance_checker(word, char):\n",
    "    \n",
    "#     if len(word) ==0  or len(char) == 0:\n",
    "#         return 0\n",
    "    \n",
    "    wrd_counter = Counter(word)\n",
    "    \n",
    "    return wrd_counter[char]"
   ]
  },
  {
   "cell_type": "code",
   "execution_count": 15,
   "metadata": {},
   "outputs": [
    {
     "name": "stdout",
     "output_type": "stream",
     "text": [
      "4\n",
      "0\n",
      "0\n"
     ]
    }
   ],
   "source": [
    "word = \"mississippi\"\n",
    "char = 'i'\n",
    "print(occurance_checker(word, char))\n",
    "print(occurance_checker(word, ''))\n",
    "print(occurance_checker(word, 'char'))"
   ]
  },
  {
   "cell_type": "code",
   "execution_count": 16,
   "metadata": {},
   "outputs": [],
   "source": [
    "# 4 question replace None with prev\n",
    "def prev_insert(l):\n",
    "    if len(l) <= 1:\n",
    "        return l\n",
    "    prev = None\n",
    "    \n",
    "    for i in range(len(l)):\n",
    "        if l[i] == None:\n",
    "            l[i]=prev\n",
    "        if isinstance(l[i], int):\n",
    "            prev = l[i]\n",
    "    \n",
    "    return l\n",
    "            "
   ]
  },
  {
   "cell_type": "code",
   "execution_count": 17,
   "metadata": {},
   "outputs": [
    {
     "name": "stdout",
     "output_type": "stream",
     "text": [
      "[None, 1, 1, 2, 3, 3, 3, 5, 5]\n",
      "[None, 1, 1, 2, 3, 3, 's', 3, 5, 5]\n"
     ]
    }
   ],
   "source": [
    "l = [None, 1, None, 2, 3, None, None, 5, None] \n",
    "\n",
    "prev_insert(l)\n",
    "print(l)\n",
    "\n",
    "l = [None, 1, None, 2, 3, None, 's', None, 5, None] \n",
    "prev_insert(l)\n",
    "print(l)"
   ]
  },
  {
   "cell_type": "code",
   "execution_count": 20,
   "metadata": {},
   "outputs": [],
   "source": [
    "#5 question montonic list\n",
    "\n",
    "def monotonic(l):\n",
    "    \n",
    "    if l == sorted(l) or l == sorted(l, reverse=True):\n",
    "        return True\n",
    "    \n",
    "    return False\n"
   ]
  },
  {
   "cell_type": "code",
   "execution_count": 21,
   "metadata": {},
   "outputs": [
    {
     "name": "stdout",
     "output_type": "stream",
     "text": [
      "True\n",
      "True\n",
      "False\n",
      "True\n"
     ]
    }
   ],
   "source": [
    "print(monotonic([1,2,5,5,8]))\n",
    "print(monotonic([8,5,5,2,1]))\n",
    "print(monotonic([1,2,5,5,2]))\n",
    "print(monotonic([]))"
   ]
  },
  {
   "cell_type": "code",
   "execution_count": 22,
   "metadata": {},
   "outputs": [],
   "source": [
    "#5 using flags \n",
    "\n",
    "def monotonic(l):\n",
    "    #using flags\n",
    "    asc = True\n",
    "    desc = True\n",
    "    \n",
    "    for i in range(len(l)-1):\n",
    "        if l[i]>l[i+1]:\n",
    "            desc = False\n",
    "        \n",
    "        if l[i]<l[i+1]:\n",
    "            asc = False\n",
    "        \n",
    "    return asc or desc\n"
   ]
  },
  {
   "cell_type": "code",
   "execution_count": 23,
   "metadata": {},
   "outputs": [
    {
     "name": "stdout",
     "output_type": "stream",
     "text": [
      "True\n",
      "True\n",
      "False\n",
      "True\n"
     ]
    }
   ],
   "source": [
    "print(monotonic([1,2,5,5,8]))\n",
    "print(monotonic([8,5,5,2,1]))\n",
    "print(monotonic([1,2,5,5,2]))\n",
    "print(monotonic([]))"
   ]
  },
  {
   "cell_type": "code",
   "execution_count": 26,
   "metadata": {},
   "outputs": [],
   "source": [
    "#6 n highest key in dict\n",
    "\n",
    "def dict_n_value(n, num_dict):\n",
    "    \n",
    "    if not num_dict:\n",
    "        return -1\n",
    "    \n",
    "    sorted_val = sorted(set(num_dict.values()))\n",
    "    \n",
    "    if n > len(sorted_val):\n",
    "        req_val =  sorted_val[0]\n",
    "    else:\n",
    "        req_val =  sorted_val[-n]\n",
    "        \n",
    "    result = []    \n",
    "    for key , val in num_dict.items():\n",
    "        if val == req_val:\n",
    "            result.append(key)\n",
    "    \n",
    "    return max(result)"
   ]
  },
  {
   "cell_type": "code",
   "execution_count": 27,
   "metadata": {},
   "outputs": [
    {
     "name": "stdout",
     "output_type": "stream",
     "text": [
      "2\n",
      "5\n",
      "-1\n"
     ]
    }
   ],
   "source": [
    "num_dict = {\n",
    "    1 : 4,\n",
    "    2 : 4,\n",
    "    3 : 6,\n",
    "    4 : 8,\n",
    "    5 : 8,\n",
    "    6 : 9\n",
    "}\n",
    "\n",
    "print(dict_n_value(5, num_dict))\n",
    "print(dict_n_value(2, num_dict))\n",
    "print(dict_n_value(2,{}))"
   ]
  },
  {
   "cell_type": "code",
   "execution_count": 28,
   "metadata": {},
   "outputs": [],
   "source": [
    "# 7 question Find numbers that will make an array balanced\n",
    "\n",
    "def balance_array(l):\n",
    "    if len(l)%2!=0:\n",
    "        return -1\n",
    "    \n",
    "    mid = len(l)//2\n",
    "    \n",
    "    return abs(sum(l[:mid]) - sum(l[mid:]))\n",
    "    "
   ]
  },
  {
   "cell_type": "code",
   "execution_count": 29,
   "metadata": {},
   "outputs": [
    {
     "name": "stdout",
     "output_type": "stream",
     "text": [
      "2\n",
      "4\n"
     ]
    }
   ],
   "source": [
    "print(balance_array([-1, -2, -1, -2, -1, -3]))\n",
    "print(balance_array([1,2,3,4]))"
   ]
  },
  {
   "cell_type": "code",
   "execution_count": 30,
   "metadata": {},
   "outputs": [],
   "source": [
    "# 8 find the pivot index\n",
    "def pivot_ind_1(nums):\n",
    "    if len(nums) == 0:\n",
    "        return -1\n",
    "    \n",
    "    for i in range(len(nums)):\n",
    "        if sum(nums[:i]) == sum(nums[i+1:]):\n",
    "            return i\n",
    "    \n",
    "    return -1"
   ]
  },
  {
   "cell_type": "code",
   "execution_count": 31,
   "metadata": {},
   "outputs": [
    {
     "name": "stdout",
     "output_type": "stream",
     "text": [
      "2\n",
      "-1\n",
      "0\n",
      "-1\n"
     ]
    }
   ],
   "source": [
    "print(pivot_ind_1([2,3,4,5]))\n",
    "print(pivot_ind_1([0,1,1]))\n",
    "print(pivot_ind_1([2,-1,1]))\n",
    "print(pivot_ind_1([]))"
   ]
  },
  {
   "cell_type": "code",
   "execution_count": 40,
   "metadata": {},
   "outputs": [],
   "source": [
    "#9 Validate IP address\n",
    "\n",
    "def ipv4(ip):\n",
    "    \n",
    "    ipv4 = ip.split('.')\n",
    "    \n",
    "    if len(ipv4) == 4:\n",
    "        for i in ipv4:\n",
    "            if i=='' or int(i)>255 or (i=='0' and len(i)!=0) or not i.isdigit():\n",
    "                return False\n",
    "        \n",
    "    else:\n",
    "        return False\n",
    "    \n",
    "    return True"
   ]
  },
  {
   "cell_type": "code",
   "execution_count": 41,
   "metadata": {},
   "outputs": [
    {
     "name": "stdout",
     "output_type": "stream",
     "text": [
      "False\n",
      "False\n",
      "True\n",
      "False\n"
     ]
    }
   ],
   "source": [
    "print(ipv4('0.16.254.1'))\n",
    "print(ipv4('666.1.2.2'))\n",
    "print(ipv4('110.234.52.124'))\n",
    "print(ipv4('110.234.52'))"
   ]
  },
  {
   "cell_type": "code",
   "execution_count": 68,
   "metadata": {},
   "outputs": [],
   "source": [
    "#10 Nested dictionary\n",
    "\n",
    "def unnest_dict(num_dict):\n",
    "    out = {}\n",
    "    \n",
    "    for key, val in num_dict.items():\n",
    "        if isinstance(val, dict):\n",
    "            val = [val]\n",
    "            \n",
    "            if isinstance(val, list):\n",
    "                for sub_dict in val:\n",
    "                    res_dict = unnest_dict(sub_dict)\n",
    "                    out.update({key+'_'+key2:val2 for key2, val2 in res_dict.items()})\n",
    "        else:\n",
    "            out[key] = val\n",
    "    \n",
    "    return out\n",
    "            "
   ]
  },
  {
   "cell_type": "code",
   "execution_count": 69,
   "metadata": {},
   "outputs": [
    {
     "name": "stdout",
     "output_type": "stream",
     "text": [
      "{'username': 'myEmail@email.com', 'name_first': 'John', 'name_last': 'Doe', 'occupation': 'Web Developer', 'asw_name_poda': 'dog'}\n"
     ]
    }
   ],
   "source": [
    "my_dict = { \n",
    "    \"username\": \"myEmail@email.com\",\n",
    "    \"name\": { \"first\": \"John\", \"last\": \"Doe\" },\n",
    "    \"occupation\": \"Web Developer\",\n",
    "    \"asw\":{\"name\":{\"poda\":\"dog\"} }\n",
    "}\n",
    "\n",
    "print(unnest_dict(my_dict))"
   ]
  },
  {
   "cell_type": "code",
   "execution_count": 48,
   "metadata": {},
   "outputs": [],
   "source": [
    "# 11 question create a histogram from a given list\n",
    "\n",
    "def hist(l):\n",
    "    \n",
    "    return Counter(l)"
   ]
  },
  {
   "cell_type": "code",
   "execution_count": 50,
   "metadata": {},
   "outputs": [],
   "source": [
    "def hist(l):\n",
    "    #suing dict\n",
    "    cnt_dict = defaultdict(int)\n",
    "    \n",
    "    for i in l:\n",
    "        cnt_dict[i] +=1\n",
    "    \n",
    "    return cnt_dict"
   ]
  },
  {
   "cell_type": "code",
   "execution_count": 51,
   "metadata": {},
   "outputs": [
    {
     "name": "stdout",
     "output_type": "stream",
     "text": [
      "defaultdict(<class 'int'>, {111: 1, 1: 3, 3: 1, 4: 1, 5: 1, 6: 2, 77: 1, 88: 1, 9: 1, 0: 2})\n"
     ]
    }
   ],
   "source": [
    "l = [111, 1, 1, 1, 3, 4, 5, 6, 77, 88, 9, 0, 0, 6]\n",
    "print(hist(l))"
   ]
  },
  {
   "cell_type": "code",
   "execution_count": 70,
   "metadata": {},
   "outputs": [],
   "source": [
    "#12 Flatten a list\n",
    "\n",
    "def recur_list(l, out):\n",
    "    for i in l:\n",
    "        if isinstance(i, list):\n",
    "            recur_list(i, out)\n",
    "        else:\n",
    "            out.append(i)\n",
    "    return out\n",
    "\n",
    "# Note important thing is define a list globally\n",
    "def unnest_list(l):\n",
    "    out =[]\n",
    "    return recur_list(l, out)"
   ]
  },
  {
   "cell_type": "code",
   "execution_count": 71,
   "metadata": {},
   "outputs": [
    {
     "name": "stdout",
     "output_type": "stream",
     "text": [
      "[1, 2, [3, 4, [5], [6, 7, [8, [9]]]]]\n"
     ]
    }
   ],
   "source": [
    "l=[1,2,[3,4, [5],[6,7,[8,[9]]]]]\n",
    "print(l)\n"
   ]
  },
  {
   "cell_type": "code",
   "execution_count": 72,
   "metadata": {},
   "outputs": [
    {
     "name": "stdout",
     "output_type": "stream",
     "text": [
      "[1, 2, 3, 4, 5, 6, 7, 8, 9]\n"
     ]
    }
   ],
   "source": [
    "print(unnest_list(l))"
   ]
  },
  {
   "cell_type": "code",
   "execution_count": 36,
   "metadata": {},
   "outputs": [
    {
     "name": "stdout",
     "output_type": "stream",
     "text": [
      "{1, 2, 3, 4, 5, 6, 7, 8, 9}\n"
     ]
    }
   ],
   "source": [
    "#13 question remove duplicates in a list\n",
    "\n",
    "l = [1, 2, 3, 4, 5, 6, 7, 5, 6, 7, 8, 9]\n",
    "print(set(l))"
   ]
  },
  {
   "cell_type": "code",
   "execution_count": 73,
   "metadata": {},
   "outputs": [],
   "source": [
    "#14 question Count words in a sentence\n",
    "\n",
    "def count_word(sent):\n",
    "    \n",
    "    sent_clean = re.sub('[^a-z\\s]', '', s.strip().lower())\n",
    "    \n",
    "    return len(sent_clean.split())"
   ]
  },
  {
   "cell_type": "code",
   "execution_count": 74,
   "metadata": {},
   "outputs": [
    {
     "name": "stdout",
     "output_type": "stream",
     "text": [
      "7\n"
     ]
    }
   ],
   "source": [
    "s = 'aswath try, try, 123 **? try don''t leave this. '\n",
    "print(count_word(s))"
   ]
  },
  {
   "cell_type": "code",
   "execution_count": 83,
   "metadata": {},
   "outputs": [],
   "source": [
    "#15 Calculate the average word length.\n",
    "\n",
    "def avg_word_len(s):\n",
    "    sent_clean = re.sub('[^a-z\\s]', '', s.strip().lower()).split()\n",
    "    \n",
    "    total = 0\n",
    "    for i in sent_clean:\n",
    "        total += len(i)\n",
    "        \n",
    "    return total/len(sent_clean)"
   ]
  },
  {
   "cell_type": "code",
   "execution_count": 84,
   "metadata": {},
   "outputs": [
    {
     "name": "stdout",
     "output_type": "stream",
     "text": [
      "4.0\n"
     ]
    }
   ],
   "source": [
    "s = 'aswath try, try, try don''t leave this. '\n",
    "print(avg_word_len(s))"
   ]
  },
  {
   "cell_type": "code",
   "execution_count": 85,
   "metadata": {},
   "outputs": [],
   "source": [
    "# 16 Count the number of unique words in a sequence?\n",
    "\n",
    "def uniq_words(s):\n",
    "    sent_clean = re.sub('[^a-z\\s]', '', s.strip().lower()).split()\n",
    "    \n",
    "    return len(set(sent_clean))\n",
    "    "
   ]
  },
  {
   "cell_type": "code",
   "execution_count": 86,
   "metadata": {},
   "outputs": [
    {
     "name": "stdout",
     "output_type": "stream",
     "text": [
      "5\n"
     ]
    }
   ],
   "source": [
    "print(uniq_words(s))"
   ]
  },
  {
   "cell_type": "code",
   "execution_count": 43,
   "metadata": {},
   "outputs": [
    {
     "name": "stdout",
     "output_type": "stream",
     "text": [
      "4\n"
     ]
    }
   ],
   "source": [
    "#17 find the max no from the given set of elements in an array\n",
    "print(max([1,2,3,4]))"
   ]
  },
  {
   "cell_type": "code",
   "execution_count": 88,
   "metadata": {},
   "outputs": [
    {
     "name": "stdout",
     "output_type": "stream",
     "text": [
      "[(6, 39), (4, 39), (2, 3), (1, 3), (8, 1)]\n"
     ]
    }
   ],
   "source": [
    "# 18 Sort dict by values (descending order). if tie order the keys in descending order\n",
    "\n",
    "dict_unsrt = {1:3, 2:3, 8:1, 6:39, 4:39}\n",
    "\n",
    "sort_key = sorted(dict_unsrt.items(), key=lambda x : x[0], reverse= True)\n",
    "sort_val = sorted(sort_key, key= lambda x: x[1], reverse= True)\n",
    "\n",
    "print(sort_val)"
   ]
  },
  {
   "cell_type": "code",
   "execution_count": 97,
   "metadata": {},
   "outputs": [],
   "source": [
    "#19 min abs diff\n",
    "\n",
    "def min_abs_diff(nums):\n",
    "    if nums == []:\n",
    "        return -1\n",
    "    \n",
    "    diff = float(\"inf\")\n",
    "    nums = sorted(nums)\n",
    "    \n",
    "    for i in range(1, len(nums)):\n",
    "        current_diff = abs(nums[i] - nums[i-1])\n",
    "        diff = min(diff, current_diff)\n",
    "    \n",
    "            \n",
    "    return diff"
   ]
  },
  {
   "cell_type": "code",
   "execution_count": 98,
   "metadata": {},
   "outputs": [
    {
     "data": {
      "text/plain": [
       "3"
      ]
     },
     "execution_count": 98,
     "metadata": {},
     "output_type": "execute_result"
    }
   ],
   "source": [
    "min_abs_diff([-1, -5, 2, 5, 9, 21, 45])"
   ]
  },
  {
   "cell_type": "code",
   "execution_count": 99,
   "metadata": {},
   "outputs": [
    {
     "data": {
      "text/plain": [
       "0"
      ]
     },
     "execution_count": 99,
     "metadata": {},
     "output_type": "execute_result"
    }
   ],
   "source": [
    "min_abs_diff([-1, 2, 2, 5, 9, 21, 45])"
   ]
  },
  {
   "cell_type": "code",
   "execution_count": 107,
   "metadata": {},
   "outputs": [],
   "source": [
    "#20 Recursively parse a string for a pattern that can be either 1 or 2 characters long\n",
    "\n",
    "class StringManipulation:\n",
    "    \n",
    "    def string_1_2_char(self, s):\n",
    "        s_clean = re.sub('[^a-z\\s]', '', s.strip().lower()).split()\n",
    "        print(s_clean)\n",
    "        \n",
    "        return self.string_recur(s_clean)\n",
    "        \n",
    "    def string_recur(self, s_list):\n",
    "        \n",
    "        if s_list == []:\n",
    "            return 0\n",
    "        \n",
    "        if len(s_list[0]) in [1,2]:\n",
    "            return 1+ self.string_recur(s_list[1:])\n",
    "        else:\n",
    "            return 0+ self.string_recur(s_list[1:])"
   ]
  },
  {
   "cell_type": "code",
   "execution_count": 108,
   "metadata": {},
   "outputs": [
    {
     "name": "stdout",
     "output_type": "stream",
     "text": [
      "['the', 'quick', 'brown', 'cat', 'leaps', 'over', 'the', 'sad', 'boy', 'y', 'ar', 'u', 'me', 'na']\n",
      "5\n"
     ]
    }
   ],
   "source": [
    "sentence = '*** The ?! quick brown cat:  leaps over the sad boy y ar u me na. '\n",
    "sm = StringManipulation()\n",
    "print(sm.string_1_2_char(sentence))"
   ]
  },
  {
   "cell_type": "code",
   "execution_count": 115,
   "metadata": {},
   "outputs": [],
   "source": [
    "#21 Count the number of time a number occurs in list recursively\n",
    "\n",
    "def count_number(l, n):\n",
    "    \n",
    "    if l==[]:\n",
    "        return 0\n",
    "    \n",
    "    if l[0]==n:\n",
    "        print(l)\n",
    "        return 1+count_number(l[1:], n)\n",
    "    else:\n",
    "        return 0+count_number(l[1:], n)"
   ]
  },
  {
   "cell_type": "code",
   "execution_count": 116,
   "metadata": {},
   "outputs": [
    {
     "name": "stdout",
     "output_type": "stream",
     "text": [
      "['a', 'b', 'a']\n",
      "['a']\n",
      "2\n"
     ]
    }
   ],
   "source": [
    "print(count_number(['a','b','a'],'a')) #prints 2"
   ]
  },
  {
   "cell_type": "code",
   "execution_count": 119,
   "metadata": {},
   "outputs": [],
   "source": [
    "#22 Count the length of a string recursively\n",
    "\n",
    "def count_str(string):\n",
    "    \n",
    "    if string=='':\n",
    "        return 0\n",
    "    else:\n",
    "        return 1 + count_str(string[1:])"
   ]
  },
  {
   "cell_type": "code",
   "execution_count": 120,
   "metadata": {},
   "outputs": [
    {
     "name": "stdout",
     "output_type": "stream",
     "text": [
      "13\n"
     ]
    }
   ],
   "source": [
    "str = \"GeeksforGeeks\"\n",
    "print (count_str(str))"
   ]
  },
  {
   "cell_type": "code",
   "execution_count": null,
   "metadata": {},
   "outputs": [],
   "source": [
    "#23 Spell check engine\n"
   ]
  },
  {
   "cell_type": "code",
   "execution_count": null,
   "metadata": {},
   "outputs": [],
   "source": []
  },
  {
   "cell_type": "code",
   "execution_count": 121,
   "metadata": {},
   "outputs": [],
   "source": [
    "#24  given a list of tuples of movie watched times, find how many unique minutes of the movie did the viewer watch\n",
    "\n",
    "def tuple_arr(t):\n",
    "    t_srt = sorted(t, key=lambda x :  x[0])\n",
    "    \n",
    "    total = 0 \n",
    "    for i, j in t_srt:\n",
    "        total += abs(j-i)\n",
    "        \n",
    "    return total"
   ]
  },
  {
   "cell_type": "code",
   "execution_count": 122,
   "metadata": {},
   "outputs": [
    {
     "data": {
      "text/plain": [
       "70"
      ]
     },
     "execution_count": 122,
     "metadata": {},
     "output_type": "execute_result"
    }
   ],
   "source": [
    " tuple_arr([(0,15),(10,25), (45, 80), (30,35)])"
   ]
  },
  {
   "cell_type": "code",
   "execution_count": null,
   "metadata": {},
   "outputs": [],
   "source": []
  }
 ],
 "metadata": {
  "kernelspec": {
   "display_name": "Python 3",
   "language": "python",
   "name": "python3"
  },
  "language_info": {
   "codemirror_mode": {
    "name": "ipython",
    "version": 3
   },
   "file_extension": ".py",
   "mimetype": "text/x-python",
   "name": "python",
   "nbconvert_exporter": "python",
   "pygments_lexer": "ipython3",
   "version": "3.7.6"
  }
 },
 "nbformat": 4,
 "nbformat_minor": 4
}
