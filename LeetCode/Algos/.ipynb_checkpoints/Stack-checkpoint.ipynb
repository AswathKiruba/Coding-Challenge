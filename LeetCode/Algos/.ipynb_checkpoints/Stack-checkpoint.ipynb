{
 "cells": [
  {
   "cell_type": "markdown",
   "metadata": {},
   "source": [
    "## Remove All Adjacent Duplicates In String\n",
    "\n",
    "[1] https://leetcode.com/problems/remove-all-adjacent-duplicates-in-string/\n",
    "\n",
    "You are given a string s. A duplicate removal consists of choosing two adjacent and equal letters and removing them.\n",
    "\n",
    "We repeatedly make duplicate removals on s until we no longer can.\n",
    "\n",
    "Return the final string after all such duplicate removals have been made. It is guaranteed the answer is unique.\n",
    "\n",
    " \n",
    "```\n",
    "Example 1:\n",
    "\n",
    "Input: s = \"abbaca\"\n",
    "Output: \"ca\"\n",
    "Explanation: \n",
    "For example, in \"abbaca\" we could remove \"bb\" since the letters are adjacent and equal, and this is the only possible move.  The result of this move is that the string is \"aaca\", of which only \"aa\" is possible, so the final string is \"ca\".\n",
    "```\n",
    "\n",
    "```\n",
    "Example 2:\n",
    "\n",
    "Input: s = \"azxxzy\"\n",
    "Output: \"ay\"\n",
    "```"
   ]
  },
  {
   "cell_type": "code",
   "execution_count": 1,
   "metadata": {},
   "outputs": [],
   "source": [
    "def removeDuplicates(s: str) -> str:\n",
    "\n",
    "    stack = []\n",
    "\n",
    "    for char in s:\n",
    "        if stack and stack[-1] == char:\n",
    "            stack.pop()\n",
    "        else:\n",
    "            stack.append(char)\n",
    "\n",
    "    return ''.join(stack)"
   ]
  },
  {
   "cell_type": "code",
   "execution_count": 2,
   "metadata": {},
   "outputs": [
    {
     "name": "stdout",
     "output_type": "stream",
     "text": [
      "ay\n"
     ]
    }
   ],
   "source": [
    "print(removeDuplicates('azxxzy'))"
   ]
  },
  {
   "cell_type": "markdown",
   "metadata": {},
   "source": [
    "## Valid Parentheses\n",
    "\n",
    "[2] https://leetcode.com/problems/valid-parentheses/\n",
    "\n",
    "Given a string s containing just the characters '(', ')', '{', '}', '[' and ']', determine if the input string is valid.\n",
    "\n",
    "An input string is valid if:\n",
    "\n",
    "Open brackets must be closed by the same type of brackets.\n",
    "Open brackets must be closed in the correct order.\n",
    "\n",
    "```\n",
    "Example 1:\n",
    "\n",
    "Input: s = \"()[]{}\"\n",
    "Output: true\n",
    "\n",
    "Example 2:\n",
    "\n",
    "Input: s = \"(]\"\n",
    "Output: false\n",
    "```"
   ]
  },
  {
   "cell_type": "code",
   "execution_count": 1,
   "metadata": {},
   "outputs": [],
   "source": [
    "def isValid(s: str) -> bool:\n",
    "\n",
    "    d = {'(':')', '{':'}','[':']'}\n",
    "    stack = []\n",
    "    for i in s:\n",
    "        if i in d:  \n",
    "            stack.append(i)\n",
    "\n",
    "        elif  len(stack) == 0 or d[stack.pop()] != i:  \n",
    "            return False\n",
    "\n",
    "    return len(stack) == 0 "
   ]
  },
  {
   "cell_type": "code",
   "execution_count": null,
   "metadata": {},
   "outputs": [],
   "source": []
  }
 ],
 "metadata": {
  "kernelspec": {
   "display_name": "Python 3",
   "language": "python",
   "name": "python3"
  },
  "language_info": {
   "codemirror_mode": {
    "name": "ipython",
    "version": 3
   },
   "file_extension": ".py",
   "mimetype": "text/x-python",
   "name": "python",
   "nbconvert_exporter": "python",
   "pygments_lexer": "ipython3",
   "version": "3.7.1"
  }
 },
 "nbformat": 4,
 "nbformat_minor": 2
}
