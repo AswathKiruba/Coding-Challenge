{
 "cells": [
  {
   "cell_type": "markdown",
   "metadata": {},
   "source": [
    "### [1] Number of friends\n",
    "\n",
    "Given a two dimensional list, for example [ [2,3],[3,4],[5]] person 2 is friends with 3 etc, find how many friends each person has. Note, one person has no friends"
   ]
  },
  {
   "cell_type": "code",
   "execution_count": 3,
   "metadata": {},
   "outputs": [
    {
     "name": "stdout",
     "output_type": "stream",
     "text": [
      "{2: 1, 3: 1, 5: 0}\n"
     ]
    }
   ],
   "source": [
    "frnd_list =  [[2,3],[3,4],[5]]\n",
    "frnd_dict = {}\n",
    "\n",
    "for i in range(len(frnd_list)):\n",
    "\n",
    "    if frnd_list[i][0] not in frnd_dict:\n",
    "        if len(frnd_list[i])>1:\n",
    "            frnd_dict[frnd_list[i][0]] = 1\n",
    "        else:\n",
    "            frnd_dict[frnd_list[i][0]] = 0\n",
    "            \n",
    "    else:\n",
    "        frnd_dict[frnd_list[i][0]] +=1\n",
    "        \n",
    "print(frnd_dict)\n",
    "            \n",
    "    "
   ]
  },
  {
   "cell_type": "markdown",
   "metadata": {},
   "source": [
    "### [2] String manipulation\n",
    "\n",
    "Complete a function that returns a list containing all the mismatched words (case sensitive) between two given input strings \n",
    "For example: \n",
    "- string 1 : \"Firstly this is the first string\"  \n",
    "- string 2 : \"Next is the second string\" \n",
    "\n",
    "**output** : ['Firstly', 'this', 'first', 'Next', 'second']"
   ]
  },
  {
   "cell_type": "code",
   "execution_count": 4,
   "metadata": {},
   "outputs": [
    {
     "name": "stdout",
     "output_type": "stream",
     "text": [
      "['Firstly', 'this', 'first', 'Next', 'second']\n"
     ]
    }
   ],
   "source": [
    "s1=\"Firstly this is the first string\"\n",
    "s2=\"Next is the second string\"\n",
    "\n",
    "combn_list = s1.split() + s2.split()\n",
    "\n",
    "word_dict = {}\n",
    "\n",
    "for word in combn_list:\n",
    "    if word not in word_dict:\n",
    "        word_dict[word] = 1\n",
    "    else:\n",
    "        word_dict[word] += 1\n",
    "\n",
    "result = []\n",
    "\n",
    "for key, value in word_dict.items():\n",
    "    if value ==1:\n",
    "        result.append(key)\n",
    "        \n",
    "print(result)"
   ]
  },
  {
   "cell_type": "markdown",
   "metadata": {},
   "source": [
    "### [3] character occurance\n",
    "\n",
    "Complete a function that returns the number of times a given character occurs in the given string.\n",
    "```\n",
    "For example:\n",
    "- input string = \"mississippi\"\n",
    "- char = \"s\"\n",
    "- output : 4\n",
    "```"
   ]
  },
  {
   "cell_type": "code",
   "execution_count": 3,
   "metadata": {},
   "outputs": [],
   "source": [
    "from collections import Counter"
   ]
  },
  {
   "cell_type": "code",
   "execution_count": 16,
   "metadata": {},
   "outputs": [],
   "source": [
    "#using counter\n",
    "def occurance_checker(word, char):\n",
    "    '''\n",
    "    word: given word\n",
    "    char: letter to find\n",
    "    '''\n",
    "    c = Counter(word)\n",
    "    \n",
    "    return c[char]"
   ]
  },
  {
   "cell_type": "code",
   "execution_count": 15,
   "metadata": {},
   "outputs": [
    {
     "name": "stdout",
     "output_type": "stream",
     "text": [
      "2\n"
     ]
    }
   ],
   "source": [
    "print(occurance_checker(\"mississippi\",'p'))"
   ]
  },
  {
   "cell_type": "code",
   "execution_count": 17,
   "metadata": {},
   "outputs": [],
   "source": [
    "# using dictionary\n",
    "def occurance_checker(word, char):\n",
    "    '''\n",
    "    word: given word\n",
    "    char: letter to find\n",
    "    '''\n",
    "    c = {}\n",
    "    \n",
    "    for i in word:\n",
    "        if i in c:\n",
    "            c[i] +=1\n",
    "        else:\n",
    "            c[i] =1\n",
    "            \n",
    "    return c[char]"
   ]
  },
  {
   "cell_type": "code",
   "execution_count": 18,
   "metadata": {},
   "outputs": [
    {
     "name": "stdout",
     "output_type": "stream",
     "text": [
      "2\n"
     ]
    }
   ],
   "source": [
    "print(occurance_checker(\"mississippi\",'p'))"
   ]
  },
  {
   "cell_type": "code",
   "execution_count": 19,
   "metadata": {},
   "outputs": [],
   "source": [
    "from collections import defaultdict"
   ]
  },
  {
   "cell_type": "code",
   "execution_count": 22,
   "metadata": {},
   "outputs": [],
   "source": [
    "# using default dictionary\n",
    "def occurance_checker(word, char):\n",
    "    '''\n",
    "    word: given word\n",
    "    char: letter to find\n",
    "    '''\n",
    "    c = defaultdict(int)\n",
    "    \n",
    "    for i in word:\n",
    "            c[i] +=1\n",
    "\n",
    "    return c[char]"
   ]
  },
  {
   "cell_type": "code",
   "execution_count": 24,
   "metadata": {},
   "outputs": [
    {
     "name": "stdout",
     "output_type": "stream",
     "text": [
      "4\n"
     ]
    }
   ],
   "source": [
    "print(occurance_checker(\"mississippi\",'i'))"
   ]
  },
  {
   "cell_type": "code",
   "execution_count": null,
   "metadata": {},
   "outputs": [],
   "source": []
  }
 ],
 "metadata": {
  "kernelspec": {
   "display_name": "Python 3",
   "language": "python",
   "name": "python3"
  },
  "language_info": {
   "codemirror_mode": {
    "name": "ipython",
    "version": 3
   },
   "file_extension": ".py",
   "mimetype": "text/x-python",
   "name": "python",
   "nbconvert_exporter": "python",
   "pygments_lexer": "ipython3",
   "version": "3.7.6"
  }
 },
 "nbformat": 4,
 "nbformat_minor": 4
}
