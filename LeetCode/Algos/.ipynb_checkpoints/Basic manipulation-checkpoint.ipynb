{
 "cells": [
  {
   "cell_type": "markdown",
   "metadata": {},
   "source": [
    "### [1] Number of friends\n",
    "\n",
    "Given a two dimensional list, for example [ [2,3],[3,4],[5]] person 2 is friends with 3 etc, find how many friends each person has. Note, one person has no friends"
   ]
  },
  {
   "cell_type": "code",
   "execution_count": 41,
   "metadata": {},
   "outputs": [
    {
     "name": "stdout",
     "output_type": "stream",
     "text": [
      "{2: 1, 3: 1, 5: 0}\n"
     ]
    }
   ],
   "source": [
    "frnd_list =  [[2,3],[3,4],[5]]\n",
    "frnd_dict = {}\n",
    "\n",
    "for i in range(len(frnd_list)):\n",
    "\n",
    "    if frnd_list[i][0] not in frnd_dict:\n",
    "        if len(frnd_list[i])>1:\n",
    "            frnd_dict[frnd_list[i][0]] = 1\n",
    "        else:\n",
    "            frnd_dict[frnd_list[i][0]] = 0\n",
    "            \n",
    "    else:\n",
    "        frnd_dict[frnd_list[i][0]] +=1\n",
    "        \n",
    "print(frnd_dict)\n",
    "            \n",
    "    "
   ]
  },
  {
   "cell_type": "markdown",
   "metadata": {},
   "source": [
    "The above approach is wrong. \n",
    "\n",
    "The defaultdict is a subdivision of the dict class. Its importance lies in the fact that it allows each new key to be given a default value based on the type of dictionary being created.\n",
    "\n",
    "A defaultdict can be created by giving its declaration an argument that can have three values; list, set or int."
   ]
  },
  {
   "cell_type": "code",
   "execution_count": 44,
   "metadata": {},
   "outputs": [
    {
     "data": {
      "text/plain": [
       "defaultdict(int, {2: 1, 3: 2, 4: 1, 5: 0})"
      ]
     },
     "execution_count": 44,
     "metadata": {},
     "output_type": "execute_result"
    }
   ],
   "source": [
    "from collections import defaultdict\n",
    "friend_dict = defaultdict(int)\n",
    "\n",
    "for i in range(len(frnd_list)):\n",
    "    \n",
    "    if len(frnd_list[i]) == 2:\n",
    "        friend_dict[frnd_list[i][0]] += 1\n",
    "        friend_dict[frnd_list[i][1]] += 1\n",
    "        \n",
    "    else:\n",
    "        friend_dict[frnd_list[i][0]] += 0\n",
    "\n",
    "friend_dict\n",
    "    "
   ]
  },
  {
   "cell_type": "markdown",
   "metadata": {},
   "source": [
    "### [2] String manipulation\n",
    "https://leetcode.com/problems/uncommon-words-from-two-sentences/\n",
    "\n",
    "Complete a function that returns a list containing all the mismatched words (case sensitive) between two given input strings \n",
    "For example: \n",
    "- string 1 : \"Firstly this is the first string\"  \n",
    "- string 2 : \"Next is the second string\" \n",
    "\n",
    "**output** : ['Firstly', 'this', 'first', 'Next', 'second']"
   ]
  },
  {
   "cell_type": "code",
   "execution_count": 46,
   "metadata": {},
   "outputs": [
    {
     "name": "stdout",
     "output_type": "stream",
     "text": [
      "['Firstly', 'this', 'first', 'Next', 'second']\n"
     ]
    }
   ],
   "source": [
    "s1=\"Firstly this is the first string\"\n",
    "s2=\"Next is the second string\"\n",
    "\n",
    "combn_list = s1.split() + s2.split()\n",
    "\n",
    "word_dict = {}\n",
    "\n",
    "for word in combn_list:\n",
    "    if word not in word_dict:\n",
    "        word_dict[word] = 1\n",
    "    else:\n",
    "        word_dict[word] += 1\n",
    "\n",
    "result = []\n",
    "\n",
    "for key, value in word_dict.items():\n",
    "    if value ==1:\n",
    "        result.append(key)\n",
    "        \n",
    "print(result)"
   ]
  },
  {
   "cell_type": "code",
   "execution_count": 49,
   "metadata": {},
   "outputs": [],
   "source": [
    "# The above one fails when there are duplicates in a single string\n",
    "\n"
   ]
  },
  {
   "cell_type": "markdown",
   "metadata": {},
   "source": [
    "### [3] character occurance\n",
    "\n",
    "Complete a function that returns the number of times a given character occurs in the given string.\n",
    "```\n",
    "For example:\n",
    "- input string = \"mississippi\"\n",
    "- char = \"s\"\n",
    "- output : 4\n",
    "```"
   ]
  },
  {
   "cell_type": "code",
   "execution_count": 3,
   "metadata": {},
   "outputs": [],
   "source": [
    "from collections import Counter"
   ]
  },
  {
   "cell_type": "code",
   "execution_count": 16,
   "metadata": {},
   "outputs": [],
   "source": [
    "#using counter\n",
    "def occurance_checker(word, char):\n",
    "    '''\n",
    "    word: given word\n",
    "    char: letter to find\n",
    "    '''\n",
    "    c = Counter(word)\n",
    "    \n",
    "    return c[char]"
   ]
  },
  {
   "cell_type": "code",
   "execution_count": 15,
   "metadata": {},
   "outputs": [
    {
     "name": "stdout",
     "output_type": "stream",
     "text": [
      "2\n"
     ]
    }
   ],
   "source": [
    "print(occurance_checker(\"mississippi\",'p'))"
   ]
  },
  {
   "cell_type": "code",
   "execution_count": 17,
   "metadata": {},
   "outputs": [],
   "source": [
    "# using dictionary\n",
    "def occurance_checker(word, char):\n",
    "    '''\n",
    "    word: given word\n",
    "    char: letter to find\n",
    "    '''\n",
    "    c = {}\n",
    "    \n",
    "    for i in word:\n",
    "        if i in c:\n",
    "            c[i] +=1\n",
    "        else:\n",
    "            c[i] =1\n",
    "            \n",
    "    return c[char]"
   ]
  },
  {
   "cell_type": "code",
   "execution_count": 18,
   "metadata": {},
   "outputs": [
    {
     "name": "stdout",
     "output_type": "stream",
     "text": [
      "2\n"
     ]
    }
   ],
   "source": [
    "print(occurance_checker(\"mississippi\",'p'))"
   ]
  },
  {
   "cell_type": "code",
   "execution_count": 19,
   "metadata": {},
   "outputs": [],
   "source": [
    "from collections import defaultdict"
   ]
  },
  {
   "cell_type": "code",
   "execution_count": 22,
   "metadata": {},
   "outputs": [],
   "source": [
    "# using default dictionary\n",
    "def occurance_checker(word, char):\n",
    "    '''\n",
    "    word: given word\n",
    "    char: letter to find\n",
    "    '''\n",
    "    c = defaultdict(int)\n",
    "    \n",
    "    for i in word:\n",
    "            c[i] +=1\n",
    "\n",
    "    return c[char]"
   ]
  },
  {
   "cell_type": "code",
   "execution_count": 24,
   "metadata": {},
   "outputs": [
    {
     "name": "stdout",
     "output_type": "stream",
     "text": [
      "4\n"
     ]
    }
   ],
   "source": [
    "print(occurance_checker(\"mississippi\",'i'))"
   ]
  },
  {
   "cell_type": "markdown",
   "metadata": {},
   "source": [
    "### [4] Given an array containing None values fill in the None values with most recent non None value in the array. \n",
    "```\n",
    "For example:\n",
    "\n",
    "- input array: [1,None,2,3,None,None,5,None] \n",
    "- output array: [1,1,2,3,3,3,5,5]\n",
    "```"
   ]
  },
  {
   "cell_type": "code",
   "execution_count": 25,
   "metadata": {},
   "outputs": [
    {
     "name": "stdout",
     "output_type": "stream",
     "text": [
      "[1, 1, 2, 3, 3, 3, 5, 5]\n"
     ]
    }
   ],
   "source": [
    "inp = [1,None,2,3,None,None,5,None] \n",
    "\n",
    "start = None\n",
    "\n",
    "for i in range(len(inp)):\n",
    "    if inp[i]:\n",
    "        start = inp[i]\n",
    "    else:\n",
    "        inp[i] = start\n",
    "        \n",
    "print(inp)\n",
    "    "
   ]
  },
  {
   "cell_type": "markdown",
   "metadata": {},
   "source": [
    "### [4] Given an array of integers, we would like to determine whether the array is monotonic (non-decreasing/non-increasing) or not. \n",
    "\n",
    "```\n",
    "Examples:\n",
    "- 1 2 5 5 8 true \n",
    "- 9 4 4 2 2 true \n",
    "- 1 4 6 3 false  \n",
    "- 1 1 1 1 1 1 true\n",
    "```"
   ]
  },
  {
   "cell_type": "code",
   "execution_count": 1,
   "metadata": {},
   "outputs": [],
   "source": [
    "def monotonic(l):\n",
    "    if l == sorted(l) or l== sorted(l, reverse=True):\n",
    "        return True\n",
    "    else:\n",
    "        return False"
   ]
  },
  {
   "cell_type": "code",
   "execution_count": 2,
   "metadata": {},
   "outputs": [
    {
     "name": "stdout",
     "output_type": "stream",
     "text": [
      "True\n"
     ]
    }
   ],
   "source": [
    "print(monotonic([1,2,5,5,8]))"
   ]
  },
  {
   "cell_type": "code",
   "execution_count": 3,
   "metadata": {},
   "outputs": [
    {
     "name": "stdout",
     "output_type": "stream",
     "text": [
      "False\n"
     ]
    }
   ],
   "source": [
    "print(monotonic([1,2,5,5,2]))"
   ]
  },
  {
   "cell_type": "markdown",
   "metadata": {},
   "source": [
    "**sorted runtime complexity is nlog(n)**. Python sorted uses a special type of sort called as the Timsort"
   ]
  },
  {
   "cell_type": "code",
   "execution_count": 4,
   "metadata": {},
   "outputs": [],
   "source": [
    "#Now look into O(n)\n",
    "\n",
    "def monotonic(A):\n",
    "        \n",
    "    increase = True\n",
    "    decrease = True\n",
    "\n",
    "    for i in range(len(A)-1):\n",
    "\n",
    "        if A[i] > A[i+1]:\n",
    "            increase = False\n",
    "\n",
    "        if A[i] < A[i+1]:\n",
    "            decrease = False\n",
    "\n",
    "    return increase or decrease"
   ]
  },
  {
   "cell_type": "code",
   "execution_count": 5,
   "metadata": {},
   "outputs": [
    {
     "name": "stdout",
     "output_type": "stream",
     "text": [
      "True\n"
     ]
    }
   ],
   "source": [
    "print(monotonic([1,2,5,5,8]))"
   ]
  },
  {
   "cell_type": "code",
   "execution_count": 6,
   "metadata": {},
   "outputs": [
    {
     "name": "stdout",
     "output_type": "stream",
     "text": [
      "False\n"
     ]
    }
   ],
   "source": [
    "print(monotonic([1,2,5,5,2]))"
   ]
  },
  {
   "cell_type": "markdown",
   "metadata": {},
   "source": [
    "### [5] Given a dictionary, print the key for nth highest value present in the dict. If there are more than 1 record present for nth highest value then sort the key and print the first one"
   ]
  },
  {
   "cell_type": "code",
   "execution_count": 34,
   "metadata": {},
   "outputs": [],
   "source": [
    "def dict_n_value(n, num_dict):\n",
    "    \n",
    "    sort_values = sorted(num_dict.values())\n",
    "    result=[]\n",
    "    for num, value in num_dict.items():\n",
    "        if value ==  sort_values[n]:\n",
    "            result.append(num)\n",
    "            \n",
    "    return min(result)"
   ]
  },
  {
   "cell_type": "code",
   "execution_count": 35,
   "metadata": {},
   "outputs": [],
   "source": [
    "num_dict = {\n",
    "    1 : 4,\n",
    "    2 : 4,\n",
    "    3 : 6,\n",
    "    4 : 8,\n",
    "    5 : 8,\n",
    "    6 : 9\n",
    "}"
   ]
  },
  {
   "cell_type": "code",
   "execution_count": 38,
   "metadata": {},
   "outputs": [
    {
     "name": "stdout",
     "output_type": "stream",
     "text": [
      "1\n"
     ]
    }
   ],
   "source": [
    "print(dict_n_value(1, num_dict))"
   ]
  },
  {
   "cell_type": "markdown",
   "metadata": {},
   "source": [
    "### [6] Flatten a nested dictionary"
   ]
  },
  {
   "cell_type": "markdown",
   "metadata": {},
   "source": [
    "https://www.geeksforgeeks.org/python-convert-nested-dictionary-into-flattened-dictionary/\n",
    "\n",
    "https://www.tutorialspoint.com/validate-ip-address-in-python"
   ]
  },
  {
   "cell_type": "markdown",
   "metadata": {},
   "source": [
    "What is a loop that goes on forever?\n",
    "\n",
    "Recursively parse a string for a pattern that can be either 1 or 2 characters long\n",
    "\n",
    "Write a simple spell-checking engine\n",
    "\n",
    "Given two sentences, you have to print the words those are not present in either of the sentences.(If one word is present twice in 1st sentence but not present in 2nd sentence then you have to print that word too)\n",
    "\n",
    "Count the neighbors of each node in a graph. Input graph is a multi dimensional list"
   ]
  },
  {
   "cell_type": "code",
   "execution_count": null,
   "metadata": {},
   "outputs": [],
   "source": []
  }
 ],
 "metadata": {
  "kernelspec": {
   "display_name": "Python 3",
   "language": "python",
   "name": "python3"
  },
  "language_info": {
   "codemirror_mode": {
    "name": "ipython",
    "version": 3
   },
   "file_extension": ".py",
   "mimetype": "text/x-python",
   "name": "python",
   "nbconvert_exporter": "python",
   "pygments_lexer": "ipython3",
   "version": "3.7.6"
  }
 },
 "nbformat": 4,
 "nbformat_minor": 4
}
