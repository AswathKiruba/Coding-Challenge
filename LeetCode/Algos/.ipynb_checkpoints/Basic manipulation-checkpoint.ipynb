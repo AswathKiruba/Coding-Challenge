{
 "cells": [
  {
   "cell_type": "markdown",
   "metadata": {},
   "source": [
    "### [1] Number of friends\n",
    "\n",
    "Given a two dimensional list, for example [ [2,3],[3,4],[5]] person 2 is friends with 3 etc, find how many friends each person has. Note, one person has no friends"
   ]
  },
  {
   "cell_type": "code",
   "execution_count": 41,
   "metadata": {},
   "outputs": [
    {
     "name": "stdout",
     "output_type": "stream",
     "text": [
      "{2: 1, 3: 1, 5: 0}\n"
     ]
    }
   ],
   "source": [
    "frnd_list =  [[2,3],[3,4],[5]]\n",
    "frnd_dict = {}\n",
    "\n",
    "for i in range(len(frnd_list)):\n",
    "\n",
    "    if frnd_list[i][0] not in frnd_dict:\n",
    "        if len(frnd_list[i])>1:\n",
    "            frnd_dict[frnd_list[i][0]] = 1\n",
    "        else:\n",
    "            frnd_dict[frnd_list[i][0]] = 0\n",
    "            \n",
    "    else:\n",
    "        frnd_dict[frnd_list[i][0]] +=1\n",
    "        \n",
    "print(frnd_dict)\n",
    "            \n",
    "    "
   ]
  },
  {
   "cell_type": "markdown",
   "metadata": {},
   "source": [
    "The above approach is wrong. \n",
    "\n",
    "The defaultdict is a subdivision of the dict class. Its importance lies in the fact that it allows each new key to be given a default value based on the type of dictionary being created.\n",
    "\n",
    "A defaultdict can be created by giving its declaration an argument that can have three values; list, set or int."
   ]
  },
  {
   "cell_type": "code",
   "execution_count": 44,
   "metadata": {},
   "outputs": [
    {
     "data": {
      "text/plain": [
       "defaultdict(int, {2: 1, 3: 2, 4: 1, 5: 0})"
      ]
     },
     "execution_count": 44,
     "metadata": {},
     "output_type": "execute_result"
    }
   ],
   "source": [
    "from collections import defaultdict\n",
    "friend_dict = defaultdict(int)\n",
    "\n",
    "for i in range(len(frnd_list)):\n",
    "    \n",
    "    if len(frnd_list[i]) == 2:\n",
    "        friend_dict[frnd_list[i][0]] += 1\n",
    "        friend_dict[frnd_list[i][1]] += 1\n",
    "        \n",
    "    else:\n",
    "        friend_dict[frnd_list[i][0]] += 0\n",
    "\n",
    "friend_dict\n",
    "    "
   ]
  },
  {
   "cell_type": "markdown",
   "metadata": {},
   "source": [
    "### [2] String manipulation\n",
    "https://leetcode.com/problems/uncommon-words-from-two-sentences/\n",
    "\n",
    "Complete a function that returns a list containing all the mismatched words (case sensitive) between two given input strings \n",
    "For example: \n",
    "- string 1 : \"Firstly this is the first string\"  \n",
    "- string 2 : \"Next is the second string\" \n",
    "\n",
    "**output** : ['Firstly', 'this', 'first', 'Next', 'second']"
   ]
  },
  {
   "cell_type": "code",
   "execution_count": 46,
   "metadata": {},
   "outputs": [
    {
     "name": "stdout",
     "output_type": "stream",
     "text": [
      "['Firstly', 'this', 'first', 'Next', 'second']\n"
     ]
    }
   ],
   "source": [
    "s1=\"Firstly this is the first string\"\n",
    "s2=\"Next is the second string\"\n",
    "\n",
    "combn_list = s1.split() + s2.split()\n",
    "\n",
    "word_dict = {}\n",
    "\n",
    "for word in combn_list:\n",
    "    if word not in word_dict:\n",
    "        word_dict[word] = 1\n",
    "    else:\n",
    "        word_dict[word] += 1\n",
    "\n",
    "result = []\n",
    "\n",
    "for key, value in word_dict.items():\n",
    "    if value ==1:\n",
    "        result.append(key)\n",
    "        \n",
    "print(result)"
   ]
  },
  {
   "cell_type": "code",
   "execution_count": 49,
   "metadata": {},
   "outputs": [],
   "source": [
    "# The above one fails when there are duplicates in a single string\n",
    "\n"
   ]
  },
  {
   "cell_type": "code",
   "execution_count": 29,
   "metadata": {},
   "outputs": [
    {
     "name": "stdout",
     "output_type": "stream",
     "text": [
      "{'first', 'string', 'is', 'the', 'this'}\n"
     ]
    },
    {
     "data": {
      "text/plain": [
       "{'first', 'next', 'second', 'this'}"
      ]
     },
     "execution_count": 29,
     "metadata": {},
     "output_type": "execute_result"
    }
   ],
   "source": [
    "#Given two sentences, you have to print the words those are not present in either of the sentences.\n",
    "#(If one word is present twice in 1st sentence but not present in 2nd sentence then you have to print that word too)\n",
    "\n",
    "s1= \"First this is the first string first\"\n",
    "s2= \"Next is the second string\"\n",
    "\n",
    "str1_set = set(s1.lower().split())\n",
    "\n",
    "print(str1_set)\n",
    "\n",
    "str2_set = set(s2.lower().split())\n",
    "\n",
    "\n",
    "set.union( str2_set ,  str1_set ) -  str1_set.intersection(str2_set)\n"
   ]
  },
  {
   "cell_type": "markdown",
   "metadata": {},
   "source": [
    "### Find common words in 2 sentences"
   ]
  },
  {
   "cell_type": "code",
   "execution_count": 40,
   "metadata": {},
   "outputs": [
    {
     "data": {
      "text/plain": [
       "{'is', 'string', 'the'}"
      ]
     },
     "execution_count": 40,
     "metadata": {},
     "output_type": "execute_result"
    }
   ],
   "source": [
    "string_1 = \"Firstly this is the first string\"\n",
    "string_2 = \"Next is the second string\"\n",
    "\n",
    "unique_str1 = set(string_1.split())\n",
    "unique_str2 = set(string_2.split())\n",
    "\n",
    "unique_str1.intersection(unique_str2)"
   ]
  },
  {
   "cell_type": "markdown",
   "metadata": {},
   "source": [
    "### [3] character occurance\n",
    "\n",
    "Complete a function that returns the number of times a given character occurs in the given string.\n",
    "```\n",
    "For example:\n",
    "- input string = \"mississippi\"\n",
    "- char = \"s\"\n",
    "- output : 4\n",
    "```"
   ]
  },
  {
   "cell_type": "code",
   "execution_count": 3,
   "metadata": {},
   "outputs": [],
   "source": [
    "from collections import Counter"
   ]
  },
  {
   "cell_type": "code",
   "execution_count": 16,
   "metadata": {},
   "outputs": [],
   "source": [
    "#using counter\n",
    "def occurance_checker(word, char):\n",
    "    '''\n",
    "    word: given word\n",
    "    char: letter to find\n",
    "    '''\n",
    "    c = Counter(word)\n",
    "    \n",
    "    return c[char]"
   ]
  },
  {
   "cell_type": "code",
   "execution_count": 15,
   "metadata": {},
   "outputs": [
    {
     "name": "stdout",
     "output_type": "stream",
     "text": [
      "2\n"
     ]
    }
   ],
   "source": [
    "print(occurance_checker(\"mississippi\",'p'))"
   ]
  },
  {
   "cell_type": "code",
   "execution_count": 17,
   "metadata": {},
   "outputs": [],
   "source": [
    "# using dictionary\n",
    "def occurance_checker(word, char):\n",
    "    '''\n",
    "    word: given word\n",
    "    char: letter to find\n",
    "    '''\n",
    "    c = {}\n",
    "    \n",
    "    for i in word:\n",
    "        if i in c:\n",
    "            c[i] +=1\n",
    "        else:\n",
    "            c[i] =1\n",
    "            \n",
    "    return c[char]"
   ]
  },
  {
   "cell_type": "code",
   "execution_count": 18,
   "metadata": {},
   "outputs": [
    {
     "name": "stdout",
     "output_type": "stream",
     "text": [
      "2\n"
     ]
    }
   ],
   "source": [
    "print(occurance_checker(\"mississippi\",'p'))"
   ]
  },
  {
   "cell_type": "code",
   "execution_count": 19,
   "metadata": {},
   "outputs": [],
   "source": [
    "from collections import defaultdict"
   ]
  },
  {
   "cell_type": "code",
   "execution_count": 22,
   "metadata": {},
   "outputs": [],
   "source": [
    "# using default dictionary\n",
    "def occurance_checker(word, char):\n",
    "    '''\n",
    "    word: given word\n",
    "    char: letter to find\n",
    "    '''\n",
    "    c = defaultdict(int)\n",
    "    \n",
    "    for i in word:\n",
    "            c[i] +=1\n",
    "\n",
    "    return c[char]"
   ]
  },
  {
   "cell_type": "code",
   "execution_count": 24,
   "metadata": {},
   "outputs": [
    {
     "name": "stdout",
     "output_type": "stream",
     "text": [
      "4\n"
     ]
    }
   ],
   "source": [
    "print(occurance_checker(\"mississippi\",'i'))"
   ]
  },
  {
   "cell_type": "markdown",
   "metadata": {},
   "source": [
    "### [4] Given an array containing None values fill in the None values with most recent non None value in the array. \n",
    "```\n",
    "For example:\n",
    "\n",
    "- input array: [1,None,2,3,None,None,5,None] \n",
    "- output array: [1,1,2,3,3,3,5,5]\n",
    "```"
   ]
  },
  {
   "cell_type": "code",
   "execution_count": 25,
   "metadata": {},
   "outputs": [
    {
     "name": "stdout",
     "output_type": "stream",
     "text": [
      "[1, 1, 2, 3, 3, 3, 5, 5]\n"
     ]
    }
   ],
   "source": [
    "inp = [1,None,2,3,None,None,5,None] \n",
    "\n",
    "start = None\n",
    "\n",
    "for i in range(len(inp)):\n",
    "    if inp[i]:\n",
    "        start = inp[i]\n",
    "    else:\n",
    "        inp[i] = start\n",
    "        \n",
    "print(inp)\n",
    "    "
   ]
  },
  {
   "cell_type": "markdown",
   "metadata": {},
   "source": [
    "The test case will have string instead of list. the first value of list will be null, there will be empty list. So your code has to handle all of these test cases."
   ]
  },
  {
   "cell_type": "markdown",
   "metadata": {},
   "source": [
    "### [4] Given an array of integers, we would like to determine whether the array is monotonic (non-decreasing/non-increasing) or not. \n",
    "\n",
    "```\n",
    "Examples:\n",
    "- 1 2 5 5 8 true \n",
    "- 9 4 4 2 2 true \n",
    "- 1 4 6 3 false  \n",
    "- 1 1 1 1 1 1 true\n",
    "```"
   ]
  },
  {
   "cell_type": "code",
   "execution_count": 1,
   "metadata": {},
   "outputs": [],
   "source": [
    "def monotonic(l):\n",
    "    if l == sorted(l) or l== sorted(l, reverse=True):\n",
    "        return True\n",
    "    else:\n",
    "        return False"
   ]
  },
  {
   "cell_type": "code",
   "execution_count": 2,
   "metadata": {},
   "outputs": [
    {
     "name": "stdout",
     "output_type": "stream",
     "text": [
      "True\n"
     ]
    }
   ],
   "source": [
    "print(monotonic([1,2,5,5,8]))"
   ]
  },
  {
   "cell_type": "code",
   "execution_count": 3,
   "metadata": {},
   "outputs": [
    {
     "name": "stdout",
     "output_type": "stream",
     "text": [
      "False\n"
     ]
    }
   ],
   "source": [
    "print(monotonic([1,2,5,5,2]))"
   ]
  },
  {
   "cell_type": "markdown",
   "metadata": {},
   "source": [
    "**sorted runtime complexity is nlog(n)**. Python sorted uses a special type of sort called as the Timsort"
   ]
  },
  {
   "cell_type": "code",
   "execution_count": 4,
   "metadata": {},
   "outputs": [],
   "source": [
    "#Now look into O(n)\n",
    "\n",
    "def monotonic(A):\n",
    "        \n",
    "    increase = True\n",
    "    decrease = True\n",
    "\n",
    "    for i in range(len(A)-1):\n",
    "\n",
    "        if A[i] > A[i+1]:\n",
    "            increase = False\n",
    "\n",
    "        if A[i] < A[i+1]:\n",
    "            decrease = False\n",
    "\n",
    "    return increase or decrease"
   ]
  },
  {
   "cell_type": "code",
   "execution_count": 5,
   "metadata": {},
   "outputs": [
    {
     "name": "stdout",
     "output_type": "stream",
     "text": [
      "True\n"
     ]
    }
   ],
   "source": [
    "print(monotonic([1,2,5,5,8]))"
   ]
  },
  {
   "cell_type": "code",
   "execution_count": 6,
   "metadata": {},
   "outputs": [
    {
     "name": "stdout",
     "output_type": "stream",
     "text": [
      "False\n"
     ]
    }
   ],
   "source": [
    "print(monotonic([1,2,5,5,2]))"
   ]
  },
  {
   "cell_type": "markdown",
   "metadata": {},
   "source": [
    "### [5] Given a dictionary, print the key for nth highest value present in the dict. If there are more than 1 record present for nth highest value then sort the key and print the first one"
   ]
  },
  {
   "cell_type": "code",
   "execution_count": 34,
   "metadata": {},
   "outputs": [],
   "source": [
    "def dict_n_value(n, num_dict):\n",
    "    \n",
    "    sort_values = sorted(num_dict.values())\n",
    "    result=[]\n",
    "    for num, value in num_dict.items():\n",
    "        if value ==  sort_values[n]:\n",
    "            result.append(num)\n",
    "            \n",
    "    return min(result)"
   ]
  },
  {
   "cell_type": "code",
   "execution_count": 35,
   "metadata": {},
   "outputs": [],
   "source": [
    "num_dict = {\n",
    "    1 : 4,\n",
    "    2 : 4,\n",
    "    3 : 6,\n",
    "    4 : 8,\n",
    "    5 : 8,\n",
    "    6 : 9\n",
    "}"
   ]
  },
  {
   "cell_type": "code",
   "execution_count": 38,
   "metadata": {},
   "outputs": [
    {
     "name": "stdout",
     "output_type": "stream",
     "text": [
      "1\n"
     ]
    }
   ],
   "source": [
    "print(dict_n_value(1, num_dict))"
   ]
  },
  {
   "cell_type": "markdown",
   "metadata": {},
   "source": [
    "### [6] Find numbers that will make an array balanced\n",
    "\n",
    "https://www.geeksforgeeks.org/find-the-minimum-value-to-be-added-so-that-array-becomes-balanced/\n",
    "\n",
    "\n",
    "```\n",
    "Example 1\n",
    "Input : 1 2 1 2 1 3\n",
    "Output : 2\n",
    "Sum of first 3 elements is 1 + 2 + 1 = 4, \n",
    "sum of last three elements is 2 + 1 + 3 = 6\n",
    "To make the array balanced you can add 2.\n",
    "\n",
    "Example 2\n",
    "Input : 20 10\n",
    "Output : 10\n",
    "```"
   ]
  },
  {
   "cell_type": "code",
   "execution_count": 8,
   "metadata": {},
   "outputs": [],
   "source": [
    "def balance_array(arr):\n",
    "    \n",
    "    n =  len(arr)//2\n",
    "    \n",
    "    left = sum(arr[:n])\n",
    "    right = sum(arr[n:])\n",
    "    \n",
    "    return abs(left - right)"
   ]
  },
  {
   "cell_type": "code",
   "execution_count": 9,
   "metadata": {},
   "outputs": [
    {
     "data": {
      "text/plain": [
       "2"
      ]
     },
     "execution_count": 9,
     "metadata": {},
     "output_type": "execute_result"
    }
   ],
   "source": [
    "balance_array([1, 2, 1, 2, 1, 3])"
   ]
  },
  {
   "cell_type": "markdown",
   "metadata": {},
   "source": [
    "### [7] Find Pivot Index\n",
    "\n",
    "https://leetcode.com/problems/find-pivot-index/\n",
    "    \n",
    "```\n",
    "Example\n",
    "Input: nums = [1,7,3,6,5,6]\n",
    "Output: 3\n",
    "Explanation:\n",
    "The pivot index is 3.\n",
    "Left sum = nums[0] + nums[1] + nums[2] = 1 + 7 + 3 = 11\n",
    "Right sum = nums[4] + nums[5] = 5 + 6 = 11\n",
    "```"
   ]
  },
  {
   "cell_type": "code",
   "execution_count": 10,
   "metadata": {},
   "outputs": [],
   "source": [
    "def pivotIndex(nums) -> int:\n",
    "\n",
    "    left_sum = 0\n",
    "    right_sum = sum(nums)\n",
    "\n",
    "    for indx, ele in enumerate(nums):\n",
    "\n",
    "        right_sum -= ele\n",
    "\n",
    "        if right_sum == left_sum:\n",
    "            return indx\n",
    "\n",
    "        left_sum  += ele\n",
    "\n",
    "    return -1"
   ]
  },
  {
   "cell_type": "code",
   "execution_count": 11,
   "metadata": {},
   "outputs": [
    {
     "data": {
      "text/plain": [
       "-1"
      ]
     },
     "execution_count": 11,
     "metadata": {},
     "output_type": "execute_result"
    }
   ],
   "source": [
    "pivotIndex([1,2,3])"
   ]
  },
  {
   "cell_type": "code",
   "execution_count": 12,
   "metadata": {},
   "outputs": [
    {
     "data": {
      "text/plain": [
       "3"
      ]
     },
     "execution_count": 12,
     "metadata": {},
     "output_type": "execute_result"
    }
   ],
   "source": [
    "pivotIndex([1,7,3,6,5,6])"
   ]
  },
  {
   "cell_type": "markdown",
   "metadata": {},
   "source": [
    "### [8] Validate IP address\n",
    "\n",
    "https://leetcode.com/problems/validate-ip-address/\n",
    "\n",
    "Valid ip address, edge case to remember is if there are alphanumeric characters."
   ]
  },
  {
   "cell_type": "code",
   "execution_count": 13,
   "metadata": {},
   "outputs": [],
   "source": [
    "def validIPAddress(IP: str) -> str:\n",
    "\n",
    "    res = 0\n",
    "    ipv4 = IP.split('.')\n",
    "    if len(ipv4) == 4:\n",
    "        for x in ipv4:\n",
    "            if x == '' or (x[0] == '0' and len(x) != 1) or not x.isdigit() or int(x) > 255:\n",
    "                res = 1\n",
    "                break\n",
    "        if not res:\n",
    "            return 'IPv4'\n",
    "\n",
    "    ipv6 = IP.split(':')\n",
    "    if len(ipv6) == 8:\n",
    "        for x in ipv6:\n",
    "            if x == '' or len(x) > 4 or not all(c in hexdigits for c in x):\n",
    "                res = 1\n",
    "                break\n",
    "        if not res:\n",
    "            return 'IPv6'\n",
    "\n",
    "    return 'Neither'"
   ]
  },
  {
   "cell_type": "code",
   "execution_count": 14,
   "metadata": {},
   "outputs": [
    {
     "data": {
      "text/plain": [
       "'Neither'"
      ]
     },
     "execution_count": 14,
     "metadata": {},
     "output_type": "execute_result"
    }
   ],
   "source": [
    "validIPAddress('2001:0db8:85a3:0:0:8A2E:0370:7334:')"
   ]
  },
  {
   "cell_type": "code",
   "execution_count": 15,
   "metadata": {},
   "outputs": [
    {
     "ename": "NameError",
     "evalue": "name 'hexdigits' is not defined",
     "output_type": "error",
     "traceback": [
      "\u001b[1;31m---------------------------------------------------------------------------\u001b[0m",
      "\u001b[1;31mNameError\u001b[0m                                 Traceback (most recent call last)",
      "\u001b[1;32m<ipython-input-15-1c015383a62c>\u001b[0m in \u001b[0;36m<module>\u001b[1;34m\u001b[0m\n\u001b[1;32m----> 1\u001b[1;33m \u001b[0mvalidIPAddress\u001b[0m\u001b[1;33m(\u001b[0m\u001b[1;34m'2001:0db8:85a3:0:0:8A2E:0370:7334'\u001b[0m\u001b[1;33m)\u001b[0m\u001b[1;33m\u001b[0m\u001b[1;33m\u001b[0m\u001b[0m\n\u001b[0m",
      "\u001b[1;32m<ipython-input-13-f1e0e79cc23c>\u001b[0m in \u001b[0;36mvalidIPAddress\u001b[1;34m(IP)\u001b[0m\n\u001b[0;32m     14\u001b[0m     \u001b[1;32mif\u001b[0m \u001b[0mlen\u001b[0m\u001b[1;33m(\u001b[0m\u001b[0mipv6\u001b[0m\u001b[1;33m)\u001b[0m \u001b[1;33m==\u001b[0m \u001b[1;36m8\u001b[0m\u001b[1;33m:\u001b[0m\u001b[1;33m\u001b[0m\u001b[1;33m\u001b[0m\u001b[0m\n\u001b[0;32m     15\u001b[0m         \u001b[1;32mfor\u001b[0m \u001b[0mx\u001b[0m \u001b[1;32min\u001b[0m \u001b[0mipv6\u001b[0m\u001b[1;33m:\u001b[0m\u001b[1;33m\u001b[0m\u001b[1;33m\u001b[0m\u001b[0m\n\u001b[1;32m---> 16\u001b[1;33m             \u001b[1;32mif\u001b[0m \u001b[0mx\u001b[0m \u001b[1;33m==\u001b[0m \u001b[1;34m''\u001b[0m \u001b[1;32mor\u001b[0m \u001b[0mlen\u001b[0m\u001b[1;33m(\u001b[0m\u001b[0mx\u001b[0m\u001b[1;33m)\u001b[0m \u001b[1;33m>\u001b[0m \u001b[1;36m4\u001b[0m \u001b[1;32mor\u001b[0m \u001b[1;32mnot\u001b[0m \u001b[0mall\u001b[0m\u001b[1;33m(\u001b[0m\u001b[0mc\u001b[0m \u001b[1;32min\u001b[0m \u001b[0mhexdigits\u001b[0m \u001b[1;32mfor\u001b[0m \u001b[0mc\u001b[0m \u001b[1;32min\u001b[0m \u001b[0mx\u001b[0m\u001b[1;33m)\u001b[0m\u001b[1;33m:\u001b[0m\u001b[1;33m\u001b[0m\u001b[1;33m\u001b[0m\u001b[0m\n\u001b[0m\u001b[0;32m     17\u001b[0m                 \u001b[0mres\u001b[0m \u001b[1;33m=\u001b[0m \u001b[1;36m1\u001b[0m\u001b[1;33m\u001b[0m\u001b[1;33m\u001b[0m\u001b[0m\n\u001b[0;32m     18\u001b[0m                 \u001b[1;32mbreak\u001b[0m\u001b[1;33m\u001b[0m\u001b[1;33m\u001b[0m\u001b[0m\n",
      "\u001b[1;32m<ipython-input-13-f1e0e79cc23c>\u001b[0m in \u001b[0;36m<genexpr>\u001b[1;34m(.0)\u001b[0m\n\u001b[0;32m     14\u001b[0m     \u001b[1;32mif\u001b[0m \u001b[0mlen\u001b[0m\u001b[1;33m(\u001b[0m\u001b[0mipv6\u001b[0m\u001b[1;33m)\u001b[0m \u001b[1;33m==\u001b[0m \u001b[1;36m8\u001b[0m\u001b[1;33m:\u001b[0m\u001b[1;33m\u001b[0m\u001b[1;33m\u001b[0m\u001b[0m\n\u001b[0;32m     15\u001b[0m         \u001b[1;32mfor\u001b[0m \u001b[0mx\u001b[0m \u001b[1;32min\u001b[0m \u001b[0mipv6\u001b[0m\u001b[1;33m:\u001b[0m\u001b[1;33m\u001b[0m\u001b[1;33m\u001b[0m\u001b[0m\n\u001b[1;32m---> 16\u001b[1;33m             \u001b[1;32mif\u001b[0m \u001b[0mx\u001b[0m \u001b[1;33m==\u001b[0m \u001b[1;34m''\u001b[0m \u001b[1;32mor\u001b[0m \u001b[0mlen\u001b[0m\u001b[1;33m(\u001b[0m\u001b[0mx\u001b[0m\u001b[1;33m)\u001b[0m \u001b[1;33m>\u001b[0m \u001b[1;36m4\u001b[0m \u001b[1;32mor\u001b[0m \u001b[1;32mnot\u001b[0m \u001b[0mall\u001b[0m\u001b[1;33m(\u001b[0m\u001b[0mc\u001b[0m \u001b[1;32min\u001b[0m \u001b[0mhexdigits\u001b[0m \u001b[1;32mfor\u001b[0m \u001b[0mc\u001b[0m \u001b[1;32min\u001b[0m \u001b[0mx\u001b[0m\u001b[1;33m)\u001b[0m\u001b[1;33m:\u001b[0m\u001b[1;33m\u001b[0m\u001b[1;33m\u001b[0m\u001b[0m\n\u001b[0m\u001b[0;32m     17\u001b[0m                 \u001b[0mres\u001b[0m \u001b[1;33m=\u001b[0m \u001b[1;36m1\u001b[0m\u001b[1;33m\u001b[0m\u001b[1;33m\u001b[0m\u001b[0m\n\u001b[0;32m     18\u001b[0m                 \u001b[1;32mbreak\u001b[0m\u001b[1;33m\u001b[0m\u001b[1;33m\u001b[0m\u001b[0m\n",
      "\u001b[1;31mNameError\u001b[0m: name 'hexdigits' is not defined"
     ]
    }
   ],
   "source": [
    "validIPAddress('2001:0db8:85a3:0:0:8A2E:0370:7334')"
   ]
  },
  {
   "cell_type": "code",
   "execution_count": 16,
   "metadata": {},
   "outputs": [
    {
     "data": {
      "text/plain": [
       "'IPv4'"
      ]
     },
     "execution_count": 16,
     "metadata": {},
     "output_type": "execute_result"
    }
   ],
   "source": [
    "validIPAddress('172.16.254.1')"
   ]
  },
  {
   "cell_type": "markdown",
   "metadata": {},
   "source": [
    "### [9] Flatten a nested dictionary\n",
    "\n",
    "```\n",
    " {‘Geeks’: \n",
    "     {‘for’: \n",
    "         {‘for’: 1, ‘geeks’: 4}\n",
    "         }, \n",
    " ‘for’: \n",
    "     {‘geeks’: \n",
    "         {‘Geeks’: 3}\n",
    "         },\n",
    " ‘geeks’: \n",
    "     {‘Geeks’: \n",
    "         {‘for’: 7}\n",
    "         }\n",
    "}\n",
    "```"
   ]
  },
  {
   "cell_type": "code",
   "execution_count": null,
   "metadata": {},
   "outputs": [],
   "source": []
  },
  {
   "cell_type": "markdown",
   "metadata": {},
   "source": [
    "### [10] What is a loop that goes on forever?\n",
    "\n",
    "An infinite loop (sometimes called an endless loop ) is a piece of coding that lacks a functional exit so that it repeats indefinitely\n",
    "\n",
    "```\n",
    "while True:\n",
    "    print(\"hello world\")\n",
    "```"
   ]
  },
  {
   "cell_type": "markdown",
   "metadata": {},
   "source": [
    "### [11] create a histogram from a given list\n",
    "\n",
    "l = [111,1,1,1,3,4,5,6,77,88,9,0,6]"
   ]
  },
  {
   "cell_type": "code",
   "execution_count": 1,
   "metadata": {},
   "outputs": [],
   "source": [
    "from collections import defaultdict\n",
    "def hist(l):\n",
    "    \n",
    "    seen = defaultdict(int)\n",
    "    \n",
    "    for num in l:\n",
    "        seen[num] +=1\n",
    "    \n",
    "    return seen"
   ]
  },
  {
   "cell_type": "code",
   "execution_count": 2,
   "metadata": {},
   "outputs": [
    {
     "data": {
      "text/plain": [
       "defaultdict(int,\n",
       "            {111: 1, 1: 3, 3: 1, 4: 1, 5: 1, 6: 2, 77: 1, 88: 1, 9: 1, 0: 1})"
      ]
     },
     "execution_count": 2,
     "metadata": {},
     "output_type": "execute_result"
    }
   ],
   "source": [
    "hist([111,1,1,1,3,4,5,6,77,88,9,0,6])"
   ]
  },
  {
   "cell_type": "markdown",
   "metadata": {},
   "source": [
    "### [12] Flatten a list\n",
    "\n",
    "l= [1,2,[3,4, [5],[6,7,[8,[9]]]]]\n",
    "\n",
    "We use recursion because the levels of nesting cannot be predetermined"
   ]
  },
  {
   "cell_type": "code",
   "execution_count": 9,
   "metadata": {},
   "outputs": [],
   "source": [
    "my_list =  [1,2,[3,4, [5],[6,7,[8,[9]]]]]\n",
    "\n",
    "output = []\n",
    "  \n",
    "# function used for removing nested \n",
    "# lists in python. \n",
    "def removNestings(l):\n",
    "    for i in l:\n",
    "        if type(i) == list:\n",
    "            removNestings(i)\n",
    "        else:\n",
    "            output.append(i)\n",
    "            \n",
    "    return output"
   ]
  },
  {
   "cell_type": "code",
   "execution_count": 10,
   "metadata": {},
   "outputs": [
    {
     "data": {
      "text/plain": [
       "[1, 2, 3, 4, 5, 6, 7, 8, 9]"
      ]
     },
     "execution_count": 10,
     "metadata": {},
     "output_type": "execute_result"
    }
   ],
   "source": [
    "removNestings(my_list)"
   ]
  },
  {
   "cell_type": "markdown",
   "metadata": {},
   "source": [
    "### [13] Remove duplicates from a list"
   ]
  },
  {
   "cell_type": "code",
   "execution_count": 11,
   "metadata": {},
   "outputs": [
    {
     "name": "stdout",
     "output_type": "stream",
     "text": [
      "{0, 1, 3, 4, 5, 6, 9, 77, 111, 88}\n"
     ]
    }
   ],
   "source": [
    "l = [111,1,1,1,3,4,5,6,77,88,9,0,6]\n",
    "\n",
    "unique = set(l)\n",
    "\n",
    "print(unique)"
   ]
  },
  {
   "cell_type": "markdown",
   "metadata": {},
   "source": [
    "### [14] Count words in a sentence"
   ]
  },
  {
   "cell_type": "code",
   "execution_count": 21,
   "metadata": {},
   "outputs": [
    {
     "name": "stdout",
     "output_type": "stream",
     "text": [
      "aswath try, try, try dont leave this. \n"
     ]
    }
   ],
   "source": [
    "s = 'aswath try, try, try don''t leave this. '\n",
    "\n",
    "print(s)"
   ]
  },
  {
   "cell_type": "code",
   "execution_count": 20,
   "metadata": {},
   "outputs": [
    {
     "name": "stdout",
     "output_type": "stream",
     "text": [
      "sets      : 3.7211186999998063\n",
      "regex     : 1.3120195000005879\n",
      "translate : 3.373602500000743\n",
      "replace   : 5.836147900000469\n"
     ]
    }
   ],
   "source": [
    "import re, string, timeit\n",
    "\n",
    "s = \"string. With. Punctuation\"\n",
    "exclude = set(string.punctuation)\n",
    "\n",
    "regex = re.compile('[%s]' % re.escape(string.punctuation))\n",
    "\n",
    "def test_set(s):\n",
    "    return ''.join(ch for ch in s if ch not in exclude)\n",
    "\n",
    "def test_re(s):  # From Vinko's solution, with fix.\n",
    "    return regex.sub('', s)\n",
    "\n",
    "def test_trans(s):\n",
    "    return s.translate(str.maketrans('', '', string.punctuation))\n",
    "\n",
    "def test_repl(s):  # From S.Lott's solution\n",
    "    for c in string.punctuation:\n",
    "        s=s.replace(c,\"\")\n",
    "    return s\n",
    "\n",
    "print(\"sets      :\",timeit.Timer('f(s)', 'from __main__ import s,test_set as f').timeit(1000000))\n",
    "print(\"regex     :\",timeit.Timer('f(s)', 'from __main__ import s,test_re as f').timeit(1000000))\n",
    "print(\"translate :\",timeit.Timer('f(s)', 'from __main__ import s,test_trans as f').timeit(1000000))\n",
    "print(\"replace   :\",timeit.Timer('f(s)', 'from __main__ import s,test_repl as f').timeit(1000000))"
   ]
  },
  {
   "cell_type": "code",
   "execution_count": 33,
   "metadata": {},
   "outputs": [
    {
     "name": "stdout",
     "output_type": "stream",
     "text": [
      "aswath try try try dont leave this\n",
      "7\n"
     ]
    }
   ],
   "source": [
    "removed_punctuation =regex.sub('', s)\n",
    "clean_str = removed_punctuation.strip().lower()\n",
    "print(clean_str)\n",
    "\n",
    "print(len(clean_str.split()))"
   ]
  },
  {
   "cell_type": "code",
   "execution_count": 34,
   "metadata": {},
   "outputs": [
    {
     "name": "stdout",
     "output_type": "stream",
     "text": [
      "7\n"
     ]
    }
   ],
   "source": [
    "print(len(s.split()))"
   ]
  },
  {
   "cell_type": "markdown",
   "metadata": {},
   "source": [
    "### [15] Calculate the average word length.\n",
    "\n",
    "some of the edge cases are having spaces in the beginning and end of the words, returning a float instead of int, returning None for blank input."
   ]
  },
  {
   "cell_type": "code",
   "execution_count": 35,
   "metadata": {},
   "outputs": [],
   "source": [
    "sentence = '***The ?! quick brown cat:  leaps over the sad boy.'"
   ]
  },
  {
   "cell_type": "code",
   "execution_count": 38,
   "metadata": {},
   "outputs": [],
   "source": [
    "def avg_length(sentence):\n",
    "    regex = re.compile('[%s]' % re.escape(string.punctuation))\n",
    "\n",
    "    valid_sentence = regex.sub('', sentence)\n",
    "\n",
    "    print(valid_sentence)\n",
    "    \n",
    "    total = length = 0\n",
    "    \n",
    "    for word in valid_sentence.strip().split():\n",
    "        \n",
    "        total += len(word)\n",
    "        length +=1\n",
    "        \n",
    "    return total/length\n",
    "        "
   ]
  },
  {
   "cell_type": "code",
   "execution_count": 39,
   "metadata": {},
   "outputs": [
    {
     "name": "stdout",
     "output_type": "stream",
     "text": [
      "The  quick brown cat  leaps over the sad boy\n"
     ]
    },
    {
     "data": {
      "text/plain": [
       "3.7777777777777777"
      ]
     },
     "execution_count": 39,
     "metadata": {},
     "output_type": "execute_result"
    }
   ],
   "source": [
    "avg_length(sentence)"
   ]
  },
  {
   "cell_type": "markdown",
   "metadata": {},
   "source": [
    "### [16] Count the number of unique words in a sequence?\n"
   ]
  },
  {
   "cell_type": "code",
   "execution_count": 42,
   "metadata": {},
   "outputs": [
    {
     "data": {
      "text/plain": [
       "8"
      ]
     },
     "execution_count": 42,
     "metadata": {},
     "output_type": "execute_result"
    }
   ],
   "source": [
    "sentence = '***The ?! quick brown cat:  leaps over the sad boy.'\n",
    "regex = re.compile('[%s]' % re.escape(string.punctuation))\n",
    "\n",
    "valid_sentence = regex.sub('', sentence)\n",
    "\n",
    "len(set(valid_sentence.lower().split()))"
   ]
  },
  {
   "cell_type": "markdown",
   "metadata": {},
   "source": [
    "### [17] find the max no from the given set of elements in an array"
   ]
  },
  {
   "cell_type": "code",
   "execution_count": 43,
   "metadata": {},
   "outputs": [
    {
     "data": {
      "text/plain": [
       "9"
      ]
     },
     "execution_count": 43,
     "metadata": {},
     "output_type": "execute_result"
    }
   ],
   "source": [
    "max([1,3,5,7,8,9])"
   ]
  },
  {
   "cell_type": "code",
   "execution_count": null,
   "metadata": {},
   "outputs": [],
   "source": []
  },
  {
   "cell_type": "code",
   "execution_count": null,
   "metadata": {},
   "outputs": [],
   "source": []
  },
  {
   "cell_type": "code",
   "execution_count": null,
   "metadata": {},
   "outputs": [],
   "source": []
  },
  {
   "cell_type": "code",
   "execution_count": null,
   "metadata": {},
   "outputs": [],
   "source": []
  },
  {
   "cell_type": "markdown",
   "metadata": {},
   "source": [
    "\n",
    "\n",
    "Recursively parse a string for a pattern that can be either 1 or 2 characters long\n",
    "\n",
    "Write a simple spell-checking engine\n",
    "https://leetcode.com/problems/design-add-and-search-words-data-structure/\n",
    "\n",
    "Given two sentences, you have to print the words those are not present in either of the sentences.(If one word is present twice in 1st sentence but not present in 2nd sentence then you have to print that word too)\n",
    "\n",
    "Count the neighbors of each node in a graph. Input graph is a multi dimensional list"
   ]
  },
  {
   "cell_type": "code",
   "execution_count": null,
   "metadata": {},
   "outputs": [],
   "source": []
  },
  {
   "cell_type": "code",
   "execution_count": null,
   "metadata": {},
   "outputs": [],
   "source": []
  }
 ],
 "metadata": {
  "kernelspec": {
   "display_name": "Python 3",
   "language": "python",
   "name": "python3"
  },
  "language_info": {
   "codemirror_mode": {
    "name": "ipython",
    "version": 3
   },
   "file_extension": ".py",
   "mimetype": "text/x-python",
   "name": "python",
   "nbconvert_exporter": "python",
   "pygments_lexer": "ipython3",
   "version": "3.7.6"
  }
 },
 "nbformat": 4,
 "nbformat_minor": 4
}
