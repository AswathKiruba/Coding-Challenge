{
 "cells": [
  {
   "cell_type": "markdown",
   "metadata": {},
   "source": [
    "## Easy Problem"
   ]
  },
  {
   "cell_type": "code",
   "execution_count": 3,
   "metadata": {},
   "outputs": [],
   "source": [
    "#imports\n",
    "\n",
    "from typing import List"
   ]
  },
  {
   "cell_type": "markdown",
   "metadata": {},
   "source": [
    "### Two Sum\n",
    "\n",
    "[1] https://leetcode.com/problems/two-sum/\n",
    "\n",
    "Given an array of integers nums and an integer target, return indices of the two numbers such that they add up to target.\n",
    "\n",
    "```\n",
    "Example 1:\n",
    "\n",
    "Input: nums = [2,7,11,15], target = 9\n",
    "Output: [0,1]\n",
    "Output: Because nums[0] + nums[1] == 9, we return [0, 1].\n",
    "```"
   ]
  },
  {
   "cell_type": "code",
   "execution_count": 8,
   "metadata": {},
   "outputs": [],
   "source": [
    "'''\n",
    "Technique is  subtract the target and store difference. \n",
    "While looping if we find it, then return the indices\n",
    "'''\n",
    "def twoSum(nums: List[int], target: int) -> List[int]:\n",
    "    '''\n",
    "    nums: list of numbers\n",
    "    target: target number\n",
    "    '''\n",
    "    seen = {}\n",
    "\n",
    "    for indx, num in enumerate(nums):\n",
    "        if num not in seen:\n",
    "            seen[target-num] = indx\n",
    "        else:\n",
    "            return [seen[num], indx]"
   ]
  },
  {
   "cell_type": "code",
   "execution_count": 9,
   "metadata": {},
   "outputs": [
    {
     "data": {
      "text/plain": [
       "[0, 1]"
      ]
     },
     "execution_count": 9,
     "metadata": {},
     "output_type": "execute_result"
    }
   ],
   "source": [
    "twoSum(nums=[2,7,11,15],target=9)"
   ]
  },
  {
   "cell_type": "markdown",
   "metadata": {},
   "source": [
    "## Valid Parentheses\n",
    "[2] https://leetcode.com/problems/valid-parentheses/\n",
    "\n",
    "```\n",
    "Input: s = \"()\"\n",
    "Output: true\n",
    "    \n",
    "Input: s = \"(]\"\n",
    "Output: false\n",
    "```"
   ]
  },
  {
   "cell_type": "code",
   "execution_count": 13,
   "metadata": {},
   "outputs": [],
   "source": [
    "'''\n",
    "the trick is to use a stack. Make sure create a dictionary\n",
    "with the possible combinations.\n",
    "'''\n",
    "def isValid(s: str) -> bool:\n",
    "    '''\n",
    "    s: input string\n",
    "    '''\n",
    "\n",
    "    valid_dict = { \n",
    "                    '(' : ')',\n",
    "                    '{' : '}',\n",
    "                    '[' : ']'\n",
    "                 }\n",
    "\n",
    "    stack = []\n",
    "\n",
    "    for bracket in s:\n",
    "        if bracket in valid_dict:\n",
    "            stack.append(bracket)\n",
    "\n",
    "        elif len(stack)==0 or valid_dict[stack.pop()] != bracket:\n",
    "            return False\n",
    "\n",
    "    return True"
   ]
  },
  {
   "cell_type": "code",
   "execution_count": 14,
   "metadata": {},
   "outputs": [
    {
     "data": {
      "text/plain": [
       "False"
      ]
     },
     "execution_count": 14,
     "metadata": {},
     "output_type": "execute_result"
    }
   ],
   "source": [
    "isValid(\"(]\")"
   ]
  },
  {
   "cell_type": "markdown",
   "metadata": {},
   "source": [
    "## Merge Two Sorted Lists\n",
    "\n",
    "[3] https://leetcode.com/problems/merge-two-sorted-lists/\n",
    "\n",
    "Merge two sorted linked lists and return it as a sorted list. The list should be made by splicing together the nodes of the first two lists."
   ]
  },
  {
   "cell_type": "code",
   "execution_count": 15,
   "metadata": {},
   "outputs": [],
   "source": [
    "class ListNode:\n",
    "    def __init__(self, val=0, next=None):\n",
    "        self.val = val\n",
    "        self.next = next\n",
    "\n",
    "\n",
    "def mergeTwoLists(self, l1: ListNode, l2: ListNode) -> ListNode:\n",
    "    '''\n",
    "    l1: LinkedList node 1\n",
    "    l2: LinkedList node 2\n",
    "    '''\n",
    "\n",
    "    # creating a dummy and temp LinkedList node\n",
    "    # temp is used for traversal and dummy is used to maintain the start\n",
    "    dummy = temp = ListNode()\n",
    "\n",
    "    # check both l1 and l2 are not empty\n",
    "    while l1 and l2:\n",
    "        if l1.val < l2.val:\n",
    "            temp.next = l1\n",
    "            # print(l1)\n",
    "            l1 = l1.next\n",
    "        else:\n",
    "            temp.next = l2\n",
    "            # print(l2)\n",
    "            l2 = l2.next\n",
    "\n",
    "        #increment the temp by 1 for each step\n",
    "        temp = temp.next\n",
    "        # print(dummy.next)\n",
    "\n",
    "    # finally add the remaining nodes to temp\n",
    "    temp.next = l1 or l2\n",
    "\n",
    "    return dummy.next\n",
    "\n"
   ]
  },
  {
   "cell_type": "markdown",
   "metadata": {},
   "source": [
    "## Maximum Subarray\n",
    "\n",
    "[4] https://leetcode.com/problems/maximum-subarray/\n",
    "\n",
    "Given an integer array nums, find the contiguous subarray (containing at least one number) which has the largest sum and return its sum."
   ]
  },
  {
   "cell_type": "code",
   "execution_count": 17,
   "metadata": {},
   "outputs": [],
   "source": [
    "'''\n",
    "1. only add when the previous number when it is non negative\n",
    "2. insert the sum to the current index\n",
    "'''\n",
    "def maxSubArray(nums: List[int]) -> int:\n",
    "    '''\n",
    "    nums: list of numbers\n",
    "    '''\n",
    "\n",
    "    for i in range(1,len(nums)):\n",
    "        if nums[i-1]> 0:\n",
    "            nums[i] = nums[i]+ nums[i-1]\n",
    "\n",
    "    return max(nums)"
   ]
  },
  {
   "cell_type": "code",
   "execution_count": 18,
   "metadata": {},
   "outputs": [
    {
     "data": {
      "text/plain": [
       "6"
      ]
     },
     "execution_count": 18,
     "metadata": {},
     "output_type": "execute_result"
    }
   ],
   "source": [
    "maxSubArray([-2,1,-3,4,-1,2,1,-5,4])"
   ]
  },
  {
   "cell_type": "markdown",
   "metadata": {},
   "source": [
    "## Climbing Stairs\n",
    "\n",
    "[5]https://leetcode.com/problems/climbing-stairs/\n"
   ]
  },
  {
   "cell_type": "code",
   "execution_count": 26,
   "metadata": {},
   "outputs": [],
   "source": [
    "'''\n",
    "for each steps that one make we need to add the combination of\n",
    "n-1 and n-2\n",
    "NOTE: add one number and retain the old\n",
    "'''\n",
    "def climbStairs(n: int) -> int:\n",
    "    '''\n",
    "    n: represent total steps\n",
    "    '''\n",
    "\n",
    "    a, b = 1, 1\n",
    "    for _ in range(n):\n",
    "        temp = a\n",
    "        a +=  b\n",
    "        b = temp\n",
    "        #print(a)\n",
    "\n",
    "    return b"
   ]
  },
  {
   "cell_type": "code",
   "execution_count": 21,
   "metadata": {},
   "outputs": [
    {
     "data": {
      "text/plain": [
       "8"
      ]
     },
     "execution_count": 21,
     "metadata": {},
     "output_type": "execute_result"
    }
   ],
   "source": [
    "climbStairs(5)"
   ]
  },
  {
   "cell_type": "markdown",
   "metadata": {},
   "source": [
    "## Same Tree\n",
    "\n",
    "[6] https://leetcode.com/problems/same-tree/\n",
    "\n",
    "```\n",
    "Given the roots of two binary trees p and q, write a function to check if they are the same or not.\n",
    "\n",
    "Two binary trees are considered the same if they are structurally identical, and the nodes have the same value.\n",
    "```"
   ]
  },
  {
   "cell_type": "code",
   "execution_count": 1,
   "metadata": {},
   "outputs": [],
   "source": [
    "class TreeNode:\n",
    "    def __init__(self, val=0, left=None, right=None):\n",
    "        self.val = val\n",
    "        self.left = left\n",
    "        self.right = right"
   ]
  },
  {
   "cell_type": "code",
   "execution_count": 2,
   "metadata": {},
   "outputs": [],
   "source": [
    "#iterative BFS\n",
    "\n",
    "def isSameTree(p: TreeNode, q: TreeNode) -> bool:\n",
    "\n",
    "    queue = [(p, q)]\n",
    "    while queue:\n",
    "        p, q = queue.pop(0)\n",
    "\n",
    "        if not p and not q:\n",
    "            continue\n",
    "\n",
    "        elif (not p or not q) or (p.val != q.val):\n",
    "            return False\n",
    "\n",
    "        queue.extend([(p.left, q.left), (p.right, q.right)])\n",
    "\n",
    "    return True"
   ]
  },
  {
   "cell_type": "code",
   "execution_count": 3,
   "metadata": {},
   "outputs": [],
   "source": [
    "# iterative DFS\n",
    "\n",
    "def isSameTree(p: TreeNode, q: TreeNode) -> bool:\n",
    "    stack =[(p,q)]\n",
    "    while stack:\n",
    "        p,q = stack.pop()\n",
    "\n",
    "        if not p and not q:\n",
    "            continue\n",
    "        elif ( not p or not q) or (p.val !=q.val):\n",
    "            return False\n",
    "\n",
    "        stack.extend([(p.right, q.right),(p.left,q.left)])\n",
    "\n",
    "    return True"
   ]
  },
  {
   "cell_type": "markdown",
   "metadata": {},
   "source": [
    "## Maximum Depth of Binary Tree\n",
    "\n",
    "[7] https://leetcode.com/problems/maximum-depth-of-binary-tree/"
   ]
  },
  {
   "cell_type": "code",
   "execution_count": 4,
   "metadata": {},
   "outputs": [],
   "source": [
    "class TreeNode:\n",
    "    def __init__(self, val=0, left=None, right=None):\n",
    "        self.val = val\n",
    "        self.left = left\n",
    "        self.right = right\n",
    "        \n",
    "#using BFS\n",
    "def maxDepth(root: TreeNode) -> int:\n",
    "    \"\"\"\n",
    "    :type root: TreeNode\n",
    "    :rtype: int\n",
    "    \"\"\"\n",
    "    depth = 0\n",
    "    level = [root] if root else []\n",
    "    while level:\n",
    "        depth += 1\n",
    "        queue = []\n",
    "        for el in level:\n",
    "            if el.left:\n",
    "                queue.append(el.left)\n",
    "            if el.right:\n",
    "                queue.append(el.right)\n",
    "        level = queue\n",
    "\n",
    "    return depth"
   ]
  },
  {
   "cell_type": "markdown",
   "metadata": {},
   "source": [
    "## Best Time to Buy and Sell Stock\n",
    "\n",
    "[8]https://leetcode.com/problems/best-time-to-buy-and-sell-stock/\n",
    "\n",
    "You are given an array prices where prices[i] is the price of a given stock on the ith day.\n",
    "\n",
    "You want to maximize your profit by choosing a single day to buy one stock and choosing a different day in the future to sell that stock.\n",
    "\n",
    "Return the maximum profit you can achieve from this transaction. If you cannot achieve any profit, return 0."
   ]
  },
  {
   "cell_type": "code",
   "execution_count": 22,
   "metadata": {},
   "outputs": [],
   "source": [
    "'''\n",
    "This fails because profit could be made from 2 smallest number\n",
    "'''\n",
    "def maxProfit(prices: List[int]) -> int:\n",
    "\n",
    "    enabled = False\n",
    "    min_price = min(prices)\n",
    "    profit = 0\n",
    "\n",
    "    for i in range(len(prices)):\n",
    "\n",
    "\n",
    "        if enabled:\n",
    "\n",
    "            if prices[i]-min_price>profit:\n",
    "                profit = prices[i]-min_price\n",
    "\n",
    "\n",
    "        if min_price == prices[i]:\n",
    "            enabled = True\n",
    "\n",
    "    return profit\n"
   ]
  },
  {
   "cell_type": "code",
   "execution_count": 24,
   "metadata": {},
   "outputs": [
    {
     "data": {
      "text/plain": [
       "0"
      ]
     },
     "execution_count": 24,
     "metadata": {},
     "output_type": "execute_result"
    }
   ],
   "source": [
    "maxProfit([2,4,1])\n",
    "## It should return 2"
   ]
  },
  {
   "cell_type": "code",
   "execution_count": 25,
   "metadata": {},
   "outputs": [],
   "source": [
    "'''\n",
    "For each iteration we are moving forward and only need current price\n",
    "In this case, lets store two variables: `min_price` and `max_profit`\n",
    "'''\n",
    "def maxProfit(prices: List[int]) -> int:\n",
    "    '''\n",
    "    prices: list of prices\n",
    "    '''\n",
    "\n",
    "    max_profit, min_price = 0, float('inf')\n",
    "\n",
    "    for price in prices:\n",
    "        min_price = min(price, min_price)\n",
    "        profit = price-min_price\n",
    "        max_profit = max(profit, max_profit)\n",
    "\n",
    "    return max_profit"
   ]
  },
  {
   "cell_type": "markdown",
   "metadata": {},
   "source": [
    "## Valid Palindrome\n",
    "\n",
    "[9] https://leetcode.com/problems/valid-palindrome/\n",
    "\n",
    "Given a string s, determine if it is a palindrome, considering only alphanumeric characters and ignoring cases.\n"
   ]
  },
  {
   "cell_type": "code",
   "execution_count": 27,
   "metadata": {},
   "outputs": [],
   "source": [
    "def isPalindrome(s: str) -> bool:\n",
    "\n",
    "    normalize_str = ''.join(e for e in s.lower() if e.isalnum())\n",
    "\n",
    "    return normalize_str == normalize_str[::-1]\n"
   ]
  },
  {
   "cell_type": "code",
   "execution_count": 28,
   "metadata": {},
   "outputs": [
    {
     "data": {
      "text/plain": [
       "False"
      ]
     },
     "execution_count": 28,
     "metadata": {},
     "output_type": "execute_result"
    }
   ],
   "source": [
    "isPalindrome(\"race a car\")"
   ]
  },
  {
   "cell_type": "markdown",
   "metadata": {},
   "source": [
    "## Linked List Cycle\n",
    "\n",
    "[10] https://leetcode.com/problems/linked-list-cycle/"
   ]
  },
  {
   "cell_type": "code",
   "execution_count": 30,
   "metadata": {},
   "outputs": [],
   "source": [
    "class ListNode:\n",
    "    def __init__(self, x):\n",
    "        self.val = x\n",
    "        self.next = None\n",
    "\n",
    "'''\n",
    "use two pointer: slow and fast guy overlap at some point \n",
    "or dict\n",
    "'''\n",
    "def hasCycle(head: ListNode) -> bool:\n",
    "\n",
    "    # two pointers\n",
    "    marker1 = head\n",
    "    marker2 = head\n",
    "\n",
    "    while marker2 and marker2.next:\n",
    "\n",
    "        marker1 = marker1.next\n",
    "        marker2 = marker2.next.next \n",
    "\n",
    "        if marker1 == marker2:\n",
    "            return True\n",
    "\n",
    "    return False\n"
   ]
  },
  {
   "cell_type": "markdown",
   "metadata": {},
   "source": [
    "## Reverse Bits\n",
    "\n",
    "[11] https://leetcode.com/problems/reverse-bits/\n",
    "\n",
    "Reverse bits of a given 32 bits unsigned integer.\n"
   ]
  },
  {
   "cell_type": "code",
   "execution_count": 7,
   "metadata": {},
   "outputs": [],
   "source": [
    "'''\n",
    "the technique is to reverse the string and convert it to int base 2\n",
    "'''\n",
    "def reverseBits(n: int) -> int:\n",
    "\n",
    "    bit_str = '{0:032b}'.format(n)\n",
    "    print(bit_str)\n",
    "    \n",
    "    reverse_str = bit_str[::-1]\n",
    "\n",
    "    return int(reverse_str, 2)"
   ]
  },
  {
   "cell_type": "markdown",
   "metadata": {},
   "source": [
    "inp: 00000010100101000001111010011100\n",
    "\n",
    "out: 964176192"
   ]
  },
  {
   "cell_type": "markdown",
   "metadata": {},
   "source": [
    "## Number of 1 Bits\n",
    "[12] https://leetcode.com/problems/number-of-1-bits/\n",
    "    \n",
    "Write a function that takes an unsigned integer and returns the number of '1' bits it has (also known as the Hamming weight)."
   ]
  },
  {
   "cell_type": "code",
   "execution_count": 12,
   "metadata": {},
   "outputs": [],
   "source": [
    "def hammingWeight(n: int) -> int:\n",
    "    counter = 0\n",
    "\n",
    "    while n:\n",
    "\n",
    "        # this will take out the right-most 1 of n  \n",
    "        n = n & (n-1)\n",
    "\n",
    "\n",
    "        # update counter\n",
    "        counter += 1\n",
    "\n",
    "    return counter"
   ]
  },
  {
   "cell_type": "markdown",
   "metadata": {},
   "source": [
    "inp: 00000000000000000000000000001011\n",
    "\n",
    "output: 3"
   ]
  },
  {
   "cell_type": "markdown",
   "metadata": {},
   "source": [
    "## Reverse Linked List\n",
    "[13] https://leetcode.com/problems/reverse-linked-list/\n",
    "    \n",
    "Given the head of a singly linked list, reverse the list, and return the reversed list."
   ]
  },
  {
   "cell_type": "code",
   "execution_count": 6,
   "metadata": {},
   "outputs": [],
   "source": [
    "class ListNode:\n",
    "    def __init__(self, val=0, next=None):\n",
    "        self.val = val\n",
    "        self.next = next\n",
    "\n",
    "\n",
    "def reverseList(self, head: ListNode) -> ListNode:\n",
    "\n",
    "    previous = None\n",
    "    next = None\n",
    "\n",
    "    while head:\n",
    "        # store the head in a temp\n",
    "        next = head.next \n",
    "\n",
    "        # Now assign the next as previous\n",
    "        head.next = previous\n",
    "\n",
    "        # store the current result to the previous node\n",
    "        previous = head\n",
    "\n",
    "        # NOTE: remember to assign temp back to the head\n",
    "        head = next\n",
    "\n",
    "    return previous\n",
    "            \n"
   ]
  },
  {
   "cell_type": "markdown",
   "metadata": {},
   "source": [
    "## Contains Duplicate\n",
    "\n",
    "[14] https://leetcode.com/problems/contains-duplicate/ \n",
    "\n",
    "Given an integer array nums, return true if any value appears at least twice in the array, and return false if every element is distinct."
   ]
  },
  {
   "cell_type": "code",
   "execution_count": 4,
   "metadata": {},
   "outputs": [],
   "source": [
    "def containsDuplicate(nums: List[int]) -> bool:\n",
    "    distinct = set(nums)\n",
    "\n",
    "    return False if len(distinct) == len(nums) else True\n"
   ]
  },
  {
   "cell_type": "code",
   "execution_count": 5,
   "metadata": {},
   "outputs": [
    {
     "data": {
      "text/plain": [
       "True"
      ]
     },
     "execution_count": 5,
     "metadata": {},
     "output_type": "execute_result"
    }
   ],
   "source": [
    "containsDuplicate([11,11,33,4,5,6])"
   ]
  },
  {
   "cell_type": "markdown",
   "metadata": {},
   "source": [
    "## Invert Binary Tree\n",
    "\n",
    "[15]https://leetcode.com/problems/invert-binary-tree/\n",
    "    \n",
    "Given the root of a binary tree, invert the tree, and return its root."
   ]
  },
  {
   "cell_type": "code",
   "execution_count": 5,
   "metadata": {},
   "outputs": [],
   "source": [
    "class TreeNode:\n",
    "    def __init__(self, val=0, left=None, right=None):\n",
    "        self.val = val\n",
    "        self.left = left\n",
    "        self.right = right\n",
    "\n",
    "\n",
    "#BFS\n",
    "def invertTree(root: TreeNode) -> TreeNode:\n",
    "    queue = [root]\n",
    "    while queue:\n",
    "        node = queue.pop(0)\n",
    "        if node:\n",
    "            node.left, node.right = node.right, node.left\n",
    "            queue.extend([node.left,node.right])\n",
    "    return root\n",
    "\n",
    "def invertTree(root: TreeNode) -> TreeNode:\n",
    "    stack = [root]\n",
    "    while stack:\n",
    "        node = stack.pop()\n",
    "        if node:\n",
    "            node.left, node.right = node.right, node.left\n",
    "            stack.extend([node.right,node.left])\n",
    "    return root"
   ]
  },
  {
   "cell_type": "markdown",
   "metadata": {},
   "source": [
    "## Lowest Common Ancestor of a Binary Search Tree\n",
    "[16] https://leetcode.com/problems/lowest-common-ancestor-of-a-binary-search-tree/\n",
    "\n",
    "Given a binary search tree (BST), find the lowest common ancestor (LCA) of two given nodes in the BST.\n",
    "\n",
    "According to the definition of LCA on Wikipedia: “The lowest common ancestor is defined between two nodes p and q as the lowest node in T that has both p and q as descendants (where we allow a node to be a descendant of itself).”"
   ]
  },
  {
   "cell_type": "code",
   "execution_count": null,
   "metadata": {},
   "outputs": [],
   "source": []
  },
  {
   "cell_type": "markdown",
   "metadata": {},
   "source": [
    "## Valid Anagram\n",
    "\n",
    "[17] https://leetcode.com/problems/valid-anagram/\n",
    "    \n",
    "Given two strings s and t, return true if t is an anagram of s, and false otherwise.\n"
   ]
  },
  {
   "cell_type": "code",
   "execution_count": 7,
   "metadata": {},
   "outputs": [],
   "source": [
    "def isAnagram(s: str, t: str) -> bool:\n",
    "\n",
    "    counter_s = {}\n",
    "    counter_t = {}\n",
    "\n",
    "    for char in s:\n",
    "        if char not in counter_s:\n",
    "            counter_s[char] = 1\n",
    "        else:\n",
    "            counter_s[char] += 1 \n",
    "\n",
    "    for char in t:\n",
    "        if char not in counter_t:\n",
    "            counter_t[char] = 1\n",
    "        else:\n",
    "            counter_t[char] += 1 \n",
    "\n",
    "    if len(counter_s) != len(counter_t):\n",
    "        return False\n",
    "\n",
    "    for i in counter_s:\n",
    "        if counter_s[i] != counter_t[i]:\n",
    "            return False\n",
    "\n",
    "    return True"
   ]
  },
  {
   "cell_type": "markdown",
   "metadata": {},
   "source": [
    "## Meeting Rooms\n",
    "[18] https://leetcode.com/problems/meeting-rooms/\n",
    "Given an array of meeting time intervals where intervals[i] = [starti, endi], determine if a person could attend all meetings.\n",
    "\n",
    "```\n",
    "Input: intervals = [[0,30],[5,10],[15,20]]\n",
    "Output: false\n",
    "```"
   ]
  },
  {
   "cell_type": "code",
   "execution_count": 9,
   "metadata": {},
   "outputs": [],
   "source": [
    "'''\n",
    "Trick is that the end time is > start time of next then overlapping\n",
    "NOTE: first sort\n",
    "'''\n",
    "def canAttendMeetings(intervals: List[List[int]]) -> bool:\n",
    "\n",
    "    intervals_srt = sorted(intervals, key=lambda x: x[0])\n",
    "\n",
    "    for i in range(len(intervals)-1):\n",
    "        if intervals_srt[i][1] > intervals_srt[i+1][0]:\n",
    "            return False\n",
    "\n",
    "    return True\n"
   ]
  },
  {
   "cell_type": "code",
   "execution_count": 10,
   "metadata": {},
   "outputs": [
    {
     "data": {
      "text/plain": [
       "True"
      ]
     },
     "execution_count": 10,
     "metadata": {},
     "output_type": "execute_result"
    }
   ],
   "source": [
    "canAttendMeetings([[7,10],[2,4]])"
   ]
  },
  {
   "cell_type": "markdown",
   "metadata": {},
   "source": [
    "## Missing Number\n",
    "\n",
    "[19] https://leetcode.com/problems/missing-number/\n",
    "\n",
    "Given an array nums containing n distinct numbers in the range [0, n], return the only number in the range that is missing from the array."
   ]
  },
  {
   "cell_type": "code",
   "execution_count": 11,
   "metadata": {},
   "outputs": [],
   "source": [
    "def missingNumber(nums: List[int]) -> int:\n",
    "    \"\"\"\n",
    "    :type nums: List[int]\n",
    "    :rtype: int\n",
    "    \"\"\"\n",
    "    max_num =len(nums)\n",
    "\n",
    "    #calculate the expected sum\n",
    "    expected = (1+max_num)*max_num/2\n",
    "\n",
    "    #current sum\n",
    "    sum_current = sum(nums)\n",
    "\n",
    "    return int(expected-sum_current)"
   ]
  },
  {
   "cell_type": "code",
   "execution_count": 12,
   "metadata": {},
   "outputs": [
    {
     "data": {
      "text/plain": [
       "2"
      ]
     },
     "execution_count": 12,
     "metadata": {},
     "output_type": "execute_result"
    }
   ],
   "source": [
    "missingNumber([3,0,1])"
   ]
  },
  {
   "cell_type": "markdown",
   "metadata": {},
   "source": [
    "## Counting Bits\n",
    "\n",
    "[20] https://leetcode.com/problems/counting-bits/\n",
    "\n",
    "Given an integer n, return an array ans of length n + 1 such that for each i (0 <= i <= n), ans[i] is the number of 1's in the binary representation of i."
   ]
  },
  {
   "cell_type": "code",
   "execution_count": null,
   "metadata": {},
   "outputs": [],
   "source": []
  },
  {
   "cell_type": "markdown",
   "metadata": {},
   "source": [
    "## Subtree of Another Tree\n",
    "\n",
    "[21] https://leetcode.com/problems/subtree-of-another-tree/\n",
    "\n",
    "Given the roots of two binary trees root and subRoot, return true if there is a subtree of root with the same structure and node values of subRoot and false otherwise.\n",
    "\n",
    "A subtree of a binary tree tree is a tree that consists of a node in tree and all of this node's descendants. The tree tree could also be considered as a subtree of itself."
   ]
  },
  {
   "cell_type": "code",
   "execution_count": null,
   "metadata": {},
   "outputs": [],
   "source": []
  }
 ],
 "metadata": {
  "kernelspec": {
   "display_name": "Python 3",
   "language": "python",
   "name": "python3"
  },
  "language_info": {
   "codemirror_mode": {
    "name": "ipython",
    "version": 3
   },
   "file_extension": ".py",
   "mimetype": "text/x-python",
   "name": "python",
   "nbconvert_exporter": "python",
   "pygments_lexer": "ipython3",
   "version": "3.7.6"
  }
 },
 "nbformat": 4,
 "nbformat_minor": 2
}
