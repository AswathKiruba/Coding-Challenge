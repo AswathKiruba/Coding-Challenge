{
 "cells": [
  {
   "cell_type": "markdown",
   "metadata": {},
   "source": [
    "### [1] Number of friends\n",
    "\n",
    "Given a two dimensional list, for example [ [2,3],[3,4],[5]] person 2 is friends with 3 etc, find how many friends each person has. Note, one person has no friends"
   ]
  },
  {
   "cell_type": "code",
   "execution_count": 1,
   "metadata": {},
   "outputs": [
    {
     "name": "stdout",
     "output_type": "stream",
     "text": [
      "{2: 1, 3: 1, 5: 0}\n"
     ]
    }
   ],
   "source": [
    "frnd_list =  [[2,3],[3,4],[5]]\n",
    "frnd_dict = {}\n",
    "\n",
    "for i in range(len(frnd_list)):\n",
    "\n",
    "    if frnd_list[i][0] not in frnd_dict:\n",
    "        if len(frnd_list[i])>1:\n",
    "            frnd_dict[frnd_list[i][0]] = 1\n",
    "        else:\n",
    "            frnd_dict[frnd_list[i][0]] = 0\n",
    "            \n",
    "    else:\n",
    "        frnd_dict[frnd_list[i][0]] +=1\n",
    "        \n",
    "print(frnd_dict)\n",
    "            \n",
    "    "
   ]
  },
  {
   "cell_type": "markdown",
   "metadata": {},
   "source": [
    "The above approach is wrong. \n",
    "\n",
    "The defaultdict is a subdivision of the dict class. Its importance lies in the fact that it allows each new key to be given a default value based on the type of dictionary being created.\n",
    "\n",
    "A defaultdict can be created by giving its declaration an argument that can have three values; list, set or int.\n",
    "\n",
    "**Other ways to ask**\n",
    "\n",
    "1. [[A],[A,B],[A,C],[B,D],[C,A]] -- Find the alphabet with highest neighbors? -- (Wasnt able to solve because of time limit but the interviewer was like I get whatI want to convey.. I gave her an algo of what I would I have done)\n",
    "\n",
    "2. You have a 2-D array of friends like [[A,B],[A,C],[B,D],[B,C],[R,M], [S],[P], [A]]Write a function that creates a dictionary of how many friends each person has. People can have 0 to many friends. However, there won't be repeat relationships like [A,B] and [B,A] and neither will there be more than 2 people in a relationship\n"
   ]
  },
  {
   "cell_type": "code",
   "execution_count": 3,
   "metadata": {},
   "outputs": [
    {
     "data": {
      "text/plain": [
       "[(2, 1), (3, 1), (5, 0)]"
      ]
     },
     "execution_count": 3,
     "metadata": {},
     "output_type": "execute_result"
    }
   ],
   "source": [
    "from collections import defaultdict\n",
    "friend_dict = defaultdict(int)\n",
    "\n",
    "for i in range(len(frnd_list)):\n",
    "    \n",
    "    if len(frnd_list[i]) == 2:\n",
    "        friend_dict[frnd_list[i][0]] += 1\n",
    "        friend_dict[frnd_list[i][1]] += 1\n",
    "        \n",
    "    else:\n",
    "        friend_dict[frnd_list[i][0]] += 0\n",
    "        \n",
    "frnd_list = list(frnd_dict.items())\n",
    "\n",
    "frnd_list\n",
    "    "
   ]
  },
  {
   "cell_type": "markdown",
   "metadata": {},
   "source": [
    "**Edge cases**\n",
    "- if we have an empty list\n",
    "- return a list than a dict\n"
   ]
  },
  {
   "cell_type": "markdown",
   "metadata": {},
   "source": [
    "### [2] String manipulation\n",
    "https://leetcode.com/problems/uncommon-words-from-two-sentences/\n",
    "\n",
    "Complete a function that returns a list containing all the mismatched words (case sensitive) between two given input strings \n",
    "For example: \n",
    "- string 1 : \"Firstly this is the first string\"  \n",
    "- string 2 : \"Next is the second string\" \n",
    "\n",
    "**output** : ['Firstly', 'this', 'first', 'Next', 'second']"
   ]
  },
  {
   "cell_type": "code",
   "execution_count": 9,
   "metadata": {},
   "outputs": [
    {
     "data": {
      "text/plain": [
       "['Firstly', 'this', 'the', 'first', 'stringNext', 'th9e', 'second', 'string']"
      ]
     },
     "execution_count": 9,
     "metadata": {},
     "output_type": "execute_result"
    }
   ],
   "source": [
    "import re\n",
    "s1=\"Firstly this is the first, string?** \"\n",
    "s2=\"Next is th9e second string\"\n",
    "\n",
    "def uncommon_words(s1, s2):\n",
    "    \n",
    "    s1_clean =  re.sub('[^\\w\\s\\d]','',s1.strip())\n",
    "    s2_clean =  re.sub('[^\\w\\s\\d]','',s2.strip())\n",
    "    s= s1_clean+s2_clean\n",
    "\n",
    "    word_dict = {}\n",
    "\n",
    "    for word in s.split():\n",
    "        if word not in word_dict:\n",
    "            word_dict[word] = 1\n",
    "        else:\n",
    "            word_dict[word] += 1\n",
    "\n",
    "    result = []\n",
    "\n",
    "    for key, value in word_dict.items():\n",
    "        if value ==1:\n",
    "            result.append(key)\n",
    "    \n",
    "    return result\n",
    "        \n",
    "uncommon_words(s1, s2)"
   ]
  },
  {
   "cell_type": "code",
   "execution_count": 4,
   "metadata": {},
   "outputs": [],
   "source": [
    "# The above one fails when there are duplicates in a single string "
   ]
  },
  {
   "cell_type": "code",
   "execution_count": 5,
   "metadata": {},
   "outputs": [
    {
     "name": "stdout",
     "output_type": "stream",
     "text": [
      "{'string', 'the', 'first', 'is', 'this'}\n"
     ]
    },
    {
     "data": {
      "text/plain": [
       "{'first', 'next', 'second', 'this'}"
      ]
     },
     "execution_count": 5,
     "metadata": {},
     "output_type": "execute_result"
    }
   ],
   "source": [
    "#Given two sentences, you have to print the words those are not present in either of the sentences.\n",
    "#(If one word is present twice in 1st sentence but not present in 2nd sentence then you have to print that word too)\n",
    "\n",
    "s1= \"First this is the first string first\"\n",
    "s2= \"Next is the second string\"\n",
    "\n",
    "str1_set = set(s1.lower().split())\n",
    "\n",
    "print(str1_set)\n",
    "\n",
    "str2_set = set(s2.lower().split())\n",
    "\n",
    "\n",
    "set.union( str2_set ,  str1_set ) -  str1_set.intersection(str2_set)\n"
   ]
  },
  {
   "cell_type": "markdown",
   "metadata": {},
   "source": [
    "### Find common words in 2 sentences"
   ]
  },
  {
   "cell_type": "code",
   "execution_count": 40,
   "metadata": {},
   "outputs": [
    {
     "data": {
      "text/plain": [
       "{'is', 'string', 'the'}"
      ]
     },
     "execution_count": 40,
     "metadata": {},
     "output_type": "execute_result"
    }
   ],
   "source": [
    "string_1 = \"Firstly this is the first string\"\n",
    "string_2 = \"Next is the second string\"\n",
    "\n",
    "unique_str1 = set(string_1.split())\n",
    "unique_str2 = set(string_2.split())\n",
    "\n",
    "unique_str1.intersection(unique_str2)"
   ]
  },
  {
   "cell_type": "markdown",
   "metadata": {},
   "source": [
    "### [3] character occurance\n",
    "\n",
    "Complete a function that returns the number of times a given character occurs in the given string.\n",
    "```\n",
    "For example:\n",
    "- input string = \"mississippi\"\n",
    "- char = \"s\"\n",
    "- output : 4\n",
    "```"
   ]
  },
  {
   "cell_type": "code",
   "execution_count": 16,
   "metadata": {},
   "outputs": [],
   "source": [
    "from collections import Counter"
   ]
  },
  {
   "cell_type": "code",
   "execution_count": 25,
   "metadata": {},
   "outputs": [],
   "source": [
    "#using counter\n",
    "def occurance_checker(word, char):\n",
    "    '''\n",
    "    word: given word\n",
    "    char: letter to find\n",
    "    '''\n",
    "    if len(word) ==0 or len(char) == 0:\n",
    "        return -1\n",
    "    \n",
    "    c = Counter(word)\n",
    "    \n",
    "    return c[char]"
   ]
  },
  {
   "cell_type": "code",
   "execution_count": 26,
   "metadata": {},
   "outputs": [
    {
     "name": "stdout",
     "output_type": "stream",
     "text": [
      "-1\n",
      "4\n",
      "0\n"
     ]
    }
   ],
   "source": [
    "print(occurance_checker(\"mississippi\",''))\n",
    "print(occurance_checker(\"mississippi\",'i'))\n",
    "print(occurance_checker(\"mississippi\",'o')) # when you are trying to access element not present it returns 0"
   ]
  },
  {
   "cell_type": "code",
   "execution_count": 27,
   "metadata": {},
   "outputs": [],
   "source": [
    "# using dictionary\n",
    "def occurance_checker(word, char):\n",
    "    '''\n",
    "    word: given word\n",
    "    char: letter to find\n",
    "    '''\n",
    "    c = {}\n",
    "    \n",
    "    for i in word:\n",
    "        if i in c:\n",
    "            c[i] +=1\n",
    "        else:\n",
    "            c[i] =1\n",
    "            \n",
    "    return c[char]"
   ]
  },
  {
   "cell_type": "code",
   "execution_count": 28,
   "metadata": {},
   "outputs": [
    {
     "name": "stdout",
     "output_type": "stream",
     "text": [
      "2\n"
     ]
    },
    {
     "ename": "KeyError",
     "evalue": "'0'",
     "output_type": "error",
     "traceback": [
      "\u001b[1;31m---------------------------------------------------------------------------\u001b[0m",
      "\u001b[1;31mKeyError\u001b[0m                                  Traceback (most recent call last)",
      "\u001b[1;32m<ipython-input-28-8cbab6f5c702>\u001b[0m in \u001b[0;36m<module>\u001b[1;34m\u001b[0m\n\u001b[0;32m      1\u001b[0m \u001b[0mprint\u001b[0m\u001b[1;33m(\u001b[0m\u001b[0moccurance_checker\u001b[0m\u001b[1;33m(\u001b[0m\u001b[1;34m\"mississippi\"\u001b[0m\u001b[1;33m,\u001b[0m\u001b[1;34m'p'\u001b[0m\u001b[1;33m)\u001b[0m\u001b[1;33m)\u001b[0m\u001b[1;33m\u001b[0m\u001b[1;33m\u001b[0m\u001b[0m\n\u001b[1;32m----> 2\u001b[1;33m \u001b[0mprint\u001b[0m\u001b[1;33m(\u001b[0m\u001b[0moccurance_checker\u001b[0m\u001b[1;33m(\u001b[0m\u001b[1;34m\"mississippi\"\u001b[0m\u001b[1;33m,\u001b[0m\u001b[1;34m'0'\u001b[0m\u001b[1;33m)\u001b[0m\u001b[1;33m)\u001b[0m \u001b[1;31m# when you are trying access key which is not present you will get an error\u001b[0m\u001b[1;33m\u001b[0m\u001b[1;33m\u001b[0m\u001b[0m\n\u001b[0m",
      "\u001b[1;32m<ipython-input-27-36fe5bdf01b3>\u001b[0m in \u001b[0;36moccurance_checker\u001b[1;34m(word, char)\u001b[0m\n\u001b[0;32m     13\u001b[0m             \u001b[0mc\u001b[0m\u001b[1;33m[\u001b[0m\u001b[0mi\u001b[0m\u001b[1;33m]\u001b[0m \u001b[1;33m=\u001b[0m\u001b[1;36m1\u001b[0m\u001b[1;33m\u001b[0m\u001b[1;33m\u001b[0m\u001b[0m\n\u001b[0;32m     14\u001b[0m \u001b[1;33m\u001b[0m\u001b[0m\n\u001b[1;32m---> 15\u001b[1;33m     \u001b[1;32mreturn\u001b[0m \u001b[0mc\u001b[0m\u001b[1;33m[\u001b[0m\u001b[0mchar\u001b[0m\u001b[1;33m]\u001b[0m\u001b[1;33m\u001b[0m\u001b[1;33m\u001b[0m\u001b[0m\n\u001b[0m",
      "\u001b[1;31mKeyError\u001b[0m: '0'"
     ]
    }
   ],
   "source": [
    "print(occurance_checker(\"mississippi\",'p'))\n",
    "print(occurance_checker(\"mississippi\",'0')) # when you are trying access key which is not present you will get an error "
   ]
  },
  {
   "cell_type": "code",
   "execution_count": 29,
   "metadata": {},
   "outputs": [],
   "source": [
    "from collections import defaultdict"
   ]
  },
  {
   "cell_type": "code",
   "execution_count": 30,
   "metadata": {},
   "outputs": [],
   "source": [
    "# using default dictionary\n",
    "def occurance_checker(word, char):\n",
    "    '''\n",
    "    word: given word\n",
    "    char: letter to find\n",
    "    '''\n",
    "    c = defaultdict(int)\n",
    "    \n",
    "    for i in word:\n",
    "            c[i] +=1\n",
    "\n",
    "    return c[char]"
   ]
  },
  {
   "cell_type": "code",
   "execution_count": 32,
   "metadata": {},
   "outputs": [
    {
     "name": "stdout",
     "output_type": "stream",
     "text": [
      "4\n",
      "0\n"
     ]
    }
   ],
   "source": [
    "print(occurance_checker(\"mississippi\",'i'))\n",
    "print(occurance_checker(\"mississippi\",'0')) #same like counter"
   ]
  },
  {
   "cell_type": "markdown",
   "metadata": {},
   "source": [
    "### [4] Given an array containing None values fill in the None values with most recent non None value in the array. \n",
    "```\n",
    "For example:\n",
    "\n",
    "- input array: [1,None,2,3,None,None,5,None] \n",
    "- output array: [1,1,2,3,3,3,5,5]\n",
    "```"
   ]
  },
  {
   "cell_type": "code",
   "execution_count": 25,
   "metadata": {},
   "outputs": [
    {
     "name": "stdout",
     "output_type": "stream",
     "text": [
      "[1, 1, 2, 3, 3, 3, 5, 5]\n"
     ]
    }
   ],
   "source": [
    "inp = [1,None,2,3,None,None,5,None] \n",
    "\n",
    "start = None\n",
    "\n",
    "for i in range(len(inp)):\n",
    "    if inp[i]:\n",
    "        start = inp[i]\n",
    "    else:\n",
    "        inp[i] = start\n",
    "        \n",
    "print(inp)\n",
    "    "
   ]
  },
  {
   "cell_type": "markdown",
   "metadata": {},
   "source": [
    "The test case will have string instead of list. the first value of list will be null, there will be empty list. So your code has to handle all of these test cases."
   ]
  },
  {
   "cell_type": "markdown",
   "metadata": {},
   "source": [
    "### [5] Given an array of integers, we would like to determine whether the array is monotonic (non-decreasing/non-increasing) or not. \n",
    "\n",
    "```\n",
    "Examples:\n",
    "- 1 2 5 5 8 true \n",
    "- 9 4 4 2 2 true \n",
    "- 1 4 6 3 false  \n",
    "- 1 1 1 1 1 1 true\n",
    "```"
   ]
  },
  {
   "cell_type": "code",
   "execution_count": 1,
   "metadata": {},
   "outputs": [],
   "source": [
    "def monotonic(l):\n",
    "    if l == sorted(l) or l== sorted(l, reverse=True):\n",
    "        return True\n",
    "    else:\n",
    "        return False"
   ]
  },
  {
   "cell_type": "code",
   "execution_count": 2,
   "metadata": {},
   "outputs": [
    {
     "name": "stdout",
     "output_type": "stream",
     "text": [
      "True\n"
     ]
    }
   ],
   "source": [
    "print(monotonic([1,2,5,5,8]))"
   ]
  },
  {
   "cell_type": "code",
   "execution_count": 3,
   "metadata": {},
   "outputs": [
    {
     "name": "stdout",
     "output_type": "stream",
     "text": [
      "False\n"
     ]
    }
   ],
   "source": [
    "print(monotonic([1,2,5,5,2]))"
   ]
  },
  {
   "cell_type": "markdown",
   "metadata": {},
   "source": [
    "**sorted runtime complexity is nlog(n)**. Python sorted uses a special type of sort called as the Timsort"
   ]
  },
  {
   "cell_type": "code",
   "execution_count": 35,
   "metadata": {},
   "outputs": [],
   "source": [
    "#Now look into O(n)\n",
    "\n",
    "def monotonic(A):\n",
    "        \n",
    "    increase = True\n",
    "    decrease = True\n",
    "\n",
    "    for i in range(len(A)-1):\n",
    "\n",
    "        if A[i] > A[i+1]:\n",
    "            increase = False\n",
    "\n",
    "        if A[i] < A[i+1]:\n",
    "            decrease = False\n",
    "        \n",
    "    print(increase)\n",
    "    print(decrease)\n",
    "\n",
    "    return increase or decrease"
   ]
  },
  {
   "cell_type": "code",
   "execution_count": 36,
   "metadata": {},
   "outputs": [
    {
     "name": "stdout",
     "output_type": "stream",
     "text": [
      "True\n",
      "True\n",
      "True\n"
     ]
    }
   ],
   "source": [
    "print(monotonic([1,1,1,1,1]))"
   ]
  },
  {
   "cell_type": "code",
   "execution_count": 6,
   "metadata": {},
   "outputs": [
    {
     "name": "stdout",
     "output_type": "stream",
     "text": [
      "False\n"
     ]
    }
   ],
   "source": [
    "print(monotonic([1,2,5,5,2]))"
   ]
  },
  {
   "cell_type": "markdown",
   "metadata": {},
   "source": [
    "### [6] Given a dictionary, print the key for nth highest value present in the dict. If there are more than 1 record present for nth highest value then sort the key and print the first one"
   ]
  },
  {
   "cell_type": "code",
   "execution_count": 34,
   "metadata": {},
   "outputs": [],
   "source": [
    "def dict_n_value(n, num_dict):\n",
    "    \n",
    "    sort_values = sorted(num_dict.values())\n",
    "    result=[]\n",
    "    for num, value in num_dict.items():\n",
    "        if value ==  sort_values[n]:\n",
    "            result.append(num)\n",
    "            \n",
    "    return min(result)"
   ]
  },
  {
   "cell_type": "code",
   "execution_count": null,
   "metadata": {},
   "outputs": [],
   "source": [
    "# this method would have a problem, because we use sort_values[n] which aint unique"
   ]
  },
  {
   "cell_type": "code",
   "execution_count": 32,
   "metadata": {},
   "outputs": [],
   "source": [
    "def dict_n_value(n, num_dict):\n",
    "    \n",
    "    if len(set(num_dict.values())) <n:\n",
    "#         return min(num_dict.keys())\n",
    "        n_val = sorted(set(num_dict.values()))[-1]\n",
    "    else:\n",
    "        n_val = sorted(set(num_dict.values()))[-n]\n",
    "        \n",
    "    result = []\n",
    "    \n",
    "    for key, val in num_dict.items():\n",
    "        if val == n_val:\n",
    "            result.append(key)\n",
    "            \n",
    "    return min(result)"
   ]
  },
  {
   "cell_type": "code",
   "execution_count": 36,
   "metadata": {},
   "outputs": [
    {
     "name": "stdout",
     "output_type": "stream",
     "text": [
      "6\n"
     ]
    }
   ],
   "source": [
    "num_dict = {\n",
    "    1 : 4,\n",
    "    2 : 4,\n",
    "    3 : 6,\n",
    "    4 : 8,\n",
    "    5 : 8,\n",
    "    6 : 9\n",
    "}\n",
    "\n",
    "print(dict_n_value(5, num_dict))"
   ]
  },
  {
   "cell_type": "code",
   "execution_count": 38,
   "metadata": {},
   "outputs": [
    {
     "name": "stdout",
     "output_type": "stream",
     "text": [
      "1\n"
     ]
    }
   ],
   "source": [
    "print(dict_n_value(1, num_dict))"
   ]
  },
  {
   "cell_type": "markdown",
   "metadata": {},
   "source": [
    "### [7] Find numbers that will make an array balanced\n",
    "\n",
    "https://www.geeksforgeeks.org/find-the-minimum-value-to-be-added-so-that-array-becomes-balanced/\n",
    "\n",
    "\n",
    "```\n",
    "Example 1\n",
    "Input : 1 2 1 2 1 3\n",
    "Output : 2\n",
    "Sum of first 3 elements is 1 + 2 + 1 = 4, \n",
    "sum of last three elements is 2 + 1 + 3 = 6\n",
    "To make the array balanced you can add 2.\n",
    "\n",
    "Example 2\n",
    "Input : 20 10\n",
    "Output : 10\n",
    "```"
   ]
  },
  {
   "cell_type": "code",
   "execution_count": 38,
   "metadata": {},
   "outputs": [],
   "source": [
    "def balance_array(arr):\n",
    "    \n",
    "    n =  len(arr)//2\n",
    "    \n",
    "    left = sum(arr[:n])\n",
    "    right = sum(arr[n:])\n",
    "    \n",
    "    return abs(left - right)"
   ]
  },
  {
   "cell_type": "code",
   "execution_count": 40,
   "metadata": {},
   "outputs": [
    {
     "data": {
      "text/plain": [
       "2"
      ]
     },
     "execution_count": 40,
     "metadata": {},
     "output_type": "execute_result"
    }
   ],
   "source": [
    "balance_array([-1, -2, -1, -2, -1, -3])"
   ]
  },
  {
   "cell_type": "markdown",
   "metadata": {},
   "source": [
    "### [8] Find Pivot Index\n",
    "\n",
    "https://leetcode.com/problems/find-pivot-index/\n",
    "    \n",
    "```\n",
    "Example\n",
    "Input: nums = [1,7,3,6,5,6]\n",
    "Output: 3\n",
    "Explanation:\n",
    "The pivot index is 3.\n",
    "Left sum = nums[0] + nums[1] + nums[2] = 1 + 7 + 3 = 11\n",
    "Right sum = nums[4] + nums[5] = 5 + 6 = 11\n",
    "```"
   ]
  },
  {
   "cell_type": "code",
   "execution_count": 10,
   "metadata": {},
   "outputs": [],
   "source": [
    "def pivotIndex(nums) -> int:\n",
    "\n",
    "    left_sum = 0\n",
    "    right_sum = sum(nums)\n",
    "\n",
    "    for indx, ele in enumerate(nums):\n",
    "\n",
    "        right_sum -= ele\n",
    "\n",
    "        if right_sum == left_sum:\n",
    "            return indx\n",
    "\n",
    "        left_sum  += ele\n",
    "\n",
    "    return -1"
   ]
  },
  {
   "cell_type": "code",
   "execution_count": 11,
   "metadata": {},
   "outputs": [
    {
     "data": {
      "text/plain": [
       "-1"
      ]
     },
     "execution_count": 11,
     "metadata": {},
     "output_type": "execute_result"
    }
   ],
   "source": [
    "pivotIndex([1,2,3])"
   ]
  },
  {
   "cell_type": "code",
   "execution_count": 12,
   "metadata": {},
   "outputs": [
    {
     "data": {
      "text/plain": [
       "3"
      ]
     },
     "execution_count": 12,
     "metadata": {},
     "output_type": "execute_result"
    }
   ],
   "source": [
    "pivotIndex([1,7,3,6,5,6])"
   ]
  },
  {
   "cell_type": "code",
   "execution_count": 39,
   "metadata": {},
   "outputs": [],
   "source": [
    "def pivot_ind_1(nums):\n",
    "    \n",
    "    for i in range(len(nums)):\n",
    "        \n",
    "        if sum(nums[:i]) == sum(nums[i+1:]):\n",
    "            return i\n",
    "        \n",
    "    return -1"
   ]
  },
  {
   "cell_type": "code",
   "execution_count": 40,
   "metadata": {},
   "outputs": [
    {
     "name": "stdout",
     "output_type": "stream",
     "text": [
      "2\n",
      "-1\n",
      "0\n"
     ]
    }
   ],
   "source": [
    "print(pivot_ind_1([2,3,4,5]))\n",
    "print(pivot_ind_1([0,1,1]))\n",
    "print(pivot_ind_1([2,-1,1]))"
   ]
  },
  {
   "cell_type": "code",
   "execution_count": 8,
   "metadata": {},
   "outputs": [
    {
     "name": "stdout",
     "output_type": "stream",
     "text": [
      "[]\n",
      "0\n"
     ]
    },
    {
     "ename": "ValueError",
     "evalue": "min() arg is an empty sequence",
     "output_type": "error",
     "traceback": [
      "\u001b[1;31m---------------------------------------------------------------------------\u001b[0m",
      "\u001b[1;31mValueError\u001b[0m                                Traceback (most recent call last)",
      "\u001b[1;32m<ipython-input-8-890eec7fabd2>\u001b[0m in \u001b[0;36m<module>\u001b[1;34m\u001b[0m\n\u001b[0;32m      2\u001b[0m \u001b[0mprint\u001b[0m\u001b[1;33m(\u001b[0m\u001b[0mnums\u001b[0m\u001b[1;33m[\u001b[0m\u001b[1;33m:\u001b[0m\u001b[1;36m0\u001b[0m\u001b[1;33m]\u001b[0m\u001b[1;33m)\u001b[0m\u001b[1;33m\u001b[0m\u001b[1;33m\u001b[0m\u001b[0m\n\u001b[0;32m      3\u001b[0m \u001b[0mprint\u001b[0m\u001b[1;33m(\u001b[0m\u001b[0msum\u001b[0m\u001b[1;33m(\u001b[0m\u001b[0mnums\u001b[0m\u001b[1;33m[\u001b[0m\u001b[1;33m:\u001b[0m\u001b[1;36m0\u001b[0m\u001b[1;33m]\u001b[0m\u001b[1;33m)\u001b[0m\u001b[1;33m)\u001b[0m\u001b[1;33m\u001b[0m\u001b[1;33m\u001b[0m\u001b[0m\n\u001b[1;32m----> 4\u001b[1;33m \u001b[0mprint\u001b[0m\u001b[1;33m(\u001b[0m\u001b[0mmin\u001b[0m\u001b[1;33m(\u001b[0m\u001b[1;33m[\u001b[0m\u001b[1;33m]\u001b[0m\u001b[1;33m)\u001b[0m\u001b[1;33m)\u001b[0m \u001b[1;31m# max or min will result in an error\u001b[0m\u001b[1;33m\u001b[0m\u001b[1;33m\u001b[0m\u001b[0m\n\u001b[0m",
      "\u001b[1;31mValueError\u001b[0m: min() arg is an empty sequence"
     ]
    }
   ],
   "source": [
    "nums = [2,-1,1]\n",
    "print(nums[:0])\n",
    "print(sum(nums[:0]))\n",
    "print(min([])) # max or min will result in an error"
   ]
  },
  {
   "cell_type": "markdown",
   "metadata": {},
   "source": [
    "### [9] Validate IP address\n",
    "\n",
    "https://leetcode.com/problems/validate-ip-address/\n",
    "\n",
    "Valid ip address, edge case to remember is if there are alphanumeric characters."
   ]
  },
  {
   "cell_type": "code",
   "execution_count": 1,
   "metadata": {},
   "outputs": [],
   "source": [
    "import string\n",
    "def validIPAddress(IP: str) -> str:\n",
    "\n",
    "    res = 0\n",
    "    ipv4 = IP.split('.')\n",
    "    if len(ipv4) == 4:\n",
    "        for x in ipv4:\n",
    "            if x == '' or (x[0] == '0' and len(x) != 1) or not x.isdigit() or int(x) > 255:\n",
    "                res = 1\n",
    "                break\n",
    "        if not res:\n",
    "            return 'IPv4'\n",
    "\n",
    "    ipv6 = IP.split(':')\n",
    "    if len(ipv6) == 8:\n",
    "        for x in ipv6:\n",
    "            if x == '' or len(x) > 4 or not all(c in string.hexdigits for c in x):\n",
    "                res = 1\n",
    "                break\n",
    "        if not res:\n",
    "            return 'IPv6'\n",
    "\n",
    "    return 'Neither'"
   ]
  },
  {
   "cell_type": "code",
   "execution_count": 2,
   "metadata": {},
   "outputs": [
    {
     "data": {
      "text/plain": [
       "'Neither'"
      ]
     },
     "execution_count": 2,
     "metadata": {},
     "output_type": "execute_result"
    }
   ],
   "source": [
    "validIPAddress('2001:0db8:85a3:0:0:8A2E:0370:7334:')"
   ]
  },
  {
   "cell_type": "code",
   "execution_count": 3,
   "metadata": {},
   "outputs": [
    {
     "data": {
      "text/plain": [
       "'IPv6'"
      ]
     },
     "execution_count": 3,
     "metadata": {},
     "output_type": "execute_result"
    }
   ],
   "source": [
    "validIPAddress('2001:0db8:85a3:0:0:8A2E:0370:7334')"
   ]
  },
  {
   "cell_type": "code",
   "execution_count": 12,
   "metadata": {},
   "outputs": [
    {
     "data": {
      "text/plain": [
       "'IPv4'"
      ]
     },
     "execution_count": 12,
     "metadata": {},
     "output_type": "execute_result"
    }
   ],
   "source": [
    "validIPAddress('0.16.254.1')"
   ]
  },
  {
   "cell_type": "markdown",
   "metadata": {},
   "source": [
    "### [10] Flatten a nested dictionary\n",
    "\n",
    "```\n",
    " {‘Geeks’: \n",
    "     {‘for’: \n",
    "         {‘for’: 1, ‘geeks’: 4}\n",
    "         }, \n",
    " ‘for’: \n",
    "     {‘geeks’: \n",
    "         {‘Geeks’: 3}\n",
    "         },\n",
    " ‘geeks’: \n",
    "     {‘Geeks’: \n",
    "         {‘for’: 7}\n",
    "         }\n",
    "}\n",
    "```"
   ]
  },
  {
   "cell_type": "code",
   "execution_count": 41,
   "metadata": {},
   "outputs": [
    {
     "data": {
      "text/plain": [
       "dict_items([('username', 'myEmail@email.com'), ('name', {'first': 'John', 'last': 'Doe'}), ('occupation', 'Web Developer')])"
      ]
     },
     "execution_count": 41,
     "metadata": {},
     "output_type": "execute_result"
    }
   ],
   "source": [
    "my_dict = { \"username\": \"myEmail@email.com\",\n",
    "  \"name\": { \"first\": \"John\", \"last\": \"Doe\" },\n",
    "  \"occupation\": \"Web Developer\" }\n",
    "my_dict.items()"
   ]
  },
  {
   "cell_type": "code",
   "execution_count": 42,
   "metadata": {},
   "outputs": [],
   "source": [
    "def flatten_dict(d):\n",
    "    out = {}\n",
    "    for key, val in d.items():\n",
    "        if isinstance(val, dict):\n",
    "            val = [val]\n",
    "        if isinstance(val, list):\n",
    "            for subdict in val:\n",
    "                deeper = flatten_dict(subdict)\n",
    "                out.update({key + '_' + key2: val2 for key2, val2 in deeper.items()})\n",
    "        else:\n",
    "            out[key] = val\n",
    "    return out"
   ]
  },
  {
   "cell_type": "code",
   "execution_count": 43,
   "metadata": {},
   "outputs": [
    {
     "data": {
      "text/plain": [
       "{'username': 'myEmail@email.com',\n",
       " 'name_first': 'John',\n",
       " 'name_last': 'Doe',\n",
       " 'occupation': 'Web Developer'}"
      ]
     },
     "execution_count": 43,
     "metadata": {},
     "output_type": "execute_result"
    }
   ],
   "source": [
    "flatten_dict(my_dict)"
   ]
  },
  {
   "cell_type": "code",
   "execution_count": 116,
   "metadata": {},
   "outputs": [
    {
     "name": "stderr",
     "output_type": "stream",
     "text": [
      "C:\\Users\\aswat\\anaconda3\\lib\\site-packages\\ipykernel_launcher.py:7: DeprecationWarning: Using or importing the ABCs from 'collections' instead of from 'collections.abc' is deprecated since Python 3.3,and in 3.9 it will stop working\n",
      "  import sys\n"
     ]
    },
    {
     "data": {
      "text/plain": [
       "{'a': 1, 'c_a': 2, 'c_b_x': 5, 'd': [1, 2, 3], 'c_b_y': 10}"
      ]
     },
     "execution_count": 116,
     "metadata": {},
     "output_type": "execute_result"
    }
   ],
   "source": [
    "import collections\n",
    "\n",
    "def flatten(d, parent_key='', sep='_'):\n",
    "    items = []\n",
    "    for k, v in d.items():\n",
    "        new_key = parent_key + sep + k if parent_key else k\n",
    "        if isinstance(v, collections.MutableMapping):\n",
    "            items.extend(flatten(v, new_key, sep=sep).items())\n",
    "        else:\n",
    "            items.append((new_key, v))\n",
    "    return dict(items)\n",
    "\n",
    "flatten({'a': 1, 'c': {'a': 2, 'b': {'x': 5, 'y' : 10}}, 'd': [1, 2, 3]})\n",
    "{'a': 1, 'c_a': 2, 'c_b_x': 5, 'd': [1, 2, 3], 'c_b_y': 10}"
   ]
  },
  {
   "cell_type": "code",
   "execution_count": 13,
   "metadata": {},
   "outputs": [
    {
     "name": "stdout",
     "output_type": "stream",
     "text": [
      "[1, 3, 4, 5]\n",
      "None\n"
     ]
    }
   ],
   "source": [
    "#more about dictionary\n",
    "my_dict = {'key':[1,3,4,5], 1:2, '3':None}\n",
    "\n",
    "print(my_dict['key'])\n",
    "print(my_dict['3'])"
   ]
  },
  {
   "cell_type": "markdown",
   "metadata": {},
   "source": [
    "### What is a loop that goes on forever?\n",
    "\n",
    "An infinite loop (sometimes called an endless loop ) is a piece of coding that lacks a functional exit so that it repeats indefinitely\n",
    "\n",
    "```\n",
    "while True:\n",
    "    print(\"hello world\")\n",
    "```"
   ]
  },
  {
   "cell_type": "markdown",
   "metadata": {},
   "source": [
    "### [11] create a histogram from a given list\n",
    "\n",
    "l = [111,1,1,1,3,4,5,6,77,88,9,0,6]"
   ]
  },
  {
   "cell_type": "code",
   "execution_count": 1,
   "metadata": {},
   "outputs": [],
   "source": [
    "from collections import defaultdict\n",
    "def hist(l):\n",
    "    \n",
    "    seen = defaultdict(int)\n",
    "    \n",
    "    for num in l:\n",
    "        seen[num] +=1\n",
    "    \n",
    "    return seen"
   ]
  },
  {
   "cell_type": "code",
   "execution_count": 2,
   "metadata": {},
   "outputs": [
    {
     "data": {
      "text/plain": [
       "defaultdict(int,\n",
       "            {111: 1, 1: 3, 3: 1, 4: 1, 5: 1, 6: 2, 77: 1, 88: 1, 9: 1, 0: 1})"
      ]
     },
     "execution_count": 2,
     "metadata": {},
     "output_type": "execute_result"
    }
   ],
   "source": [
    "hist([111,1,1,1,3,4,5,6,77,88,9,0,6])"
   ]
  },
  {
   "cell_type": "markdown",
   "metadata": {},
   "source": [
    "### [12] Flatten a list\n",
    "\n",
    "l= [1,2,[3,4, [5],[6,7,[8,[9]]]]]\n",
    "\n",
    "We use recursion because the levels of nesting cannot be predetermined"
   ]
  },
  {
   "cell_type": "code",
   "execution_count": 1,
   "metadata": {},
   "outputs": [],
   "source": [
    "my_list =  [1,2,[3,4, [5],[6,7,[8,[9]]]]]\n",
    "\n",
    "output = []\n",
    "  \n",
    "# function used for removing nested \n",
    "# lists in python. \n",
    "def removNestings(l):\n",
    "    \n",
    "    for i in l:\n",
    "        if isinstance(i, list):\n",
    "            removNestings(i)\n",
    "#             print(i)\n",
    "        else:\n",
    "            output.append(i)\n",
    "#         print(output)\n",
    "            \n",
    "    return output"
   ]
  },
  {
   "cell_type": "code",
   "execution_count": 2,
   "metadata": {},
   "outputs": [
    {
     "data": {
      "text/plain": [
       "[1, 2, 3, 4, 5, 6, 7, 8, 9]"
      ]
     },
     "execution_count": 2,
     "metadata": {},
     "output_type": "execute_result"
    }
   ],
   "source": [
    "removNestings(my_list)"
   ]
  },
  {
   "cell_type": "markdown",
   "metadata": {},
   "source": [
    "### [13] Remove duplicates from a list"
   ]
  },
  {
   "cell_type": "code",
   "execution_count": 11,
   "metadata": {},
   "outputs": [
    {
     "name": "stdout",
     "output_type": "stream",
     "text": [
      "{0, 1, 3, 4, 5, 6, 9, 77, 111, 88}\n"
     ]
    }
   ],
   "source": [
    "l = [111,1,1,1,3,4,5,6,77,88,9,0,6]\n",
    "\n",
    "unique = set(l)\n",
    "\n",
    "print(unique) "
   ]
  },
  {
   "cell_type": "markdown",
   "metadata": {},
   "source": [
    "### [14] Count words in a sentence"
   ]
  },
  {
   "cell_type": "code",
   "execution_count": 21,
   "metadata": {},
   "outputs": [
    {
     "name": "stdout",
     "output_type": "stream",
     "text": [
      "aswath try, try, try dont leave this. \n"
     ]
    }
   ],
   "source": [
    "s = 'aswath try, try, try don''t leave this. '\n",
    "\n",
    "print(s)"
   ]
  },
  {
   "cell_type": "code",
   "execution_count": 20,
   "metadata": {},
   "outputs": [
    {
     "name": "stdout",
     "output_type": "stream",
     "text": [
      "sets      : 3.7211186999998063\n",
      "regex     : 1.3120195000005879\n",
      "translate : 3.373602500000743\n",
      "replace   : 5.836147900000469\n"
     ]
    }
   ],
   "source": [
    "import re, string, timeit\n",
    "\n",
    "s = \"string. With. Punctuation\"\n",
    "exclude = set(string.punctuation)\n",
    "\n",
    "regex = re.compile('[%s]' % re.escape(string.punctuation))\n",
    "\n",
    "def test_set(s):\n",
    "    return ''.join(ch for ch in s if ch not in exclude)\n",
    "\n",
    "def test_re(s):  # From Vinko's solution, with fix.\n",
    "    return regex.sub('', s)\n",
    "\n",
    "def test_trans(s):\n",
    "    return s.translate(str.maketrans('', '', string.punctuation))\n",
    "\n",
    "def test_repl(s):  # From S.Lott's solution\n",
    "    for c in string.punctuation:\n",
    "        s=s.replace(c,\"\")\n",
    "    return s\n",
    "\n",
    "print(\"sets      :\",timeit.Timer('f(s)', 'from __main__ import s,test_set as f').timeit(1000000))\n",
    "print(\"regex     :\",timeit.Timer('f(s)', 'from __main__ import s,test_re as f').timeit(1000000))\n",
    "print(\"translate :\",timeit.Timer('f(s)', 'from __main__ import s,test_trans as f').timeit(1000000))\n",
    "print(\"replace   :\",timeit.Timer('f(s)', 'from __main__ import s,test_repl as f').timeit(1000000))"
   ]
  },
  {
   "cell_type": "code",
   "execution_count": 33,
   "metadata": {},
   "outputs": [
    {
     "name": "stdout",
     "output_type": "stream",
     "text": [
      "aswath try try try dont leave this\n",
      "7\n"
     ]
    }
   ],
   "source": [
    "removed_punctuation =regex.sub('', s)\n",
    "clean_str = removed_punctuation.strip().lower()\n",
    "print(clean_str)\n",
    "\n",
    "print(len(clean_str.split()))"
   ]
  },
  {
   "cell_type": "code",
   "execution_count": 34,
   "metadata": {},
   "outputs": [
    {
     "name": "stdout",
     "output_type": "stream",
     "text": [
      "7\n"
     ]
    }
   ],
   "source": [
    "print(len(s.split()))"
   ]
  },
  {
   "cell_type": "markdown",
   "metadata": {},
   "source": [
    "### [15] Calculate the average word length.\n",
    "\n",
    "some of the edge cases are having spaces in the beginning and end of the words, returning a float instead of int, returning None for blank input."
   ]
  },
  {
   "cell_type": "code",
   "execution_count": 35,
   "metadata": {},
   "outputs": [],
   "source": [
    "sentence = '***The ?! quick brown cat:  leaps over the sad boy.'"
   ]
  },
  {
   "cell_type": "code",
   "execution_count": 38,
   "metadata": {},
   "outputs": [],
   "source": [
    "def avg_length(sentence):\n",
    "    regex = re.compile('[%s]' % re.escape(string.punctuation))\n",
    "\n",
    "    valid_sentence = regex.sub('', sentence)\n",
    "\n",
    "    print(valid_sentence)\n",
    "    \n",
    "    total = length = 0\n",
    "    \n",
    "    for word in valid_sentence.strip().split():\n",
    "        \n",
    "        total += len(word)\n",
    "        length +=1\n",
    "        \n",
    "    return total/length\n",
    "        "
   ]
  },
  {
   "cell_type": "code",
   "execution_count": 39,
   "metadata": {},
   "outputs": [
    {
     "name": "stdout",
     "output_type": "stream",
     "text": [
      "The  quick brown cat  leaps over the sad boy\n"
     ]
    },
    {
     "data": {
      "text/plain": [
       "3.7777777777777777"
      ]
     },
     "execution_count": 39,
     "metadata": {},
     "output_type": "execute_result"
    }
   ],
   "source": [
    "avg_length(sentence)"
   ]
  },
  {
   "cell_type": "markdown",
   "metadata": {},
   "source": [
    "### [16] Count the number of unique words in a sequence?\n"
   ]
  },
  {
   "cell_type": "code",
   "execution_count": 42,
   "metadata": {},
   "outputs": [
    {
     "data": {
      "text/plain": [
       "8"
      ]
     },
     "execution_count": 42,
     "metadata": {},
     "output_type": "execute_result"
    }
   ],
   "source": [
    "sentence = '***The ?! quick brown cat:  leaps over the sad boy.'\n",
    "regex = re.compile('[%s]' % re.escape(string.punctuation))\n",
    "\n",
    "valid_sentence = regex.sub('', sentence)\n",
    "\n",
    "len(set(valid_sentence.lower().split()))"
   ]
  },
  {
   "cell_type": "markdown",
   "metadata": {},
   "source": [
    "### [17] find the max no from the given set of elements in an array"
   ]
  },
  {
   "cell_type": "code",
   "execution_count": 43,
   "metadata": {},
   "outputs": [
    {
     "data": {
      "text/plain": [
       "9"
      ]
     },
     "execution_count": 43,
     "metadata": {},
     "output_type": "execute_result"
    }
   ],
   "source": [
    "max([1,3,5,7,8,9])"
   ]
  },
  {
   "cell_type": "markdown",
   "metadata": {},
   "source": [
    "### [18] Sort dict by values (descending order)\n"
   ]
  },
  {
   "cell_type": "code",
   "execution_count": 3,
   "metadata": {},
   "outputs": [],
   "source": [
    "dict_unsrt = {1:3, 2:3, 8:1, 6:5, 4:39}\n",
    "\n",
    "def srt_dict(key_value):\n",
    "    \n",
    "    return dict(sorted(key_value.items(), key= lambda item:item[0], reverse=True))"
   ]
  },
  {
   "cell_type": "code",
   "execution_count": 4,
   "metadata": {},
   "outputs": [
    {
     "data": {
      "text/plain": [
       "{8: 1, 6: 5, 4: 39, 2: 3, 1: 3}"
      ]
     },
     "execution_count": 4,
     "metadata": {},
     "output_type": "execute_result"
    }
   ],
   "source": [
    "srt_dict(dict_unsrt)"
   ]
  },
  {
   "cell_type": "markdown",
   "metadata": {},
   "source": [
    "### [19] Find the minimum absolute difference between the set of elements of an array\n",
    "\n",
    "https://www.geeksforgeeks.org/find-minimum-difference-pair/\n",
    "\n",
    "https://leetcode.com/problems/minimum-absolute-difference/\n",
    "\n",
    "```\n",
    "Input  : {1, 5, 3, 19, 18, 25};\n",
    "Output : 1\n",
    "Minimum difference is between 18 and 19\n",
    "\n",
    "Input  : {30, 5, 20, 9};\n",
    "Output : 4\n",
    "Minimum difference is between 5 and 9\n",
    "\n",
    "Input  : {1, 19, -4, 31, 38, 25, 100};\n",
    "Output : 5\n",
    "Minimum difference is between 1 and -4\n",
    "```"
   ]
  },
  {
   "cell_type": "code",
   "execution_count": 13,
   "metadata": {},
   "outputs": [
    {
     "name": "stdout",
     "output_type": "stream",
     "text": [
      "Set is amazing as it removes duplicates and orders it elements\n",
      "{1, 2, 3, 6, 9, 45}\n",
      "set object is not subscriptable i.e., does not have an index\n"
     ]
    },
    {
     "ename": "TypeError",
     "evalue": "'set' object is not subscriptable",
     "output_type": "error",
     "traceback": [
      "\u001b[1;31m---------------------------------------------------------------------------\u001b[0m",
      "\u001b[1;31mTypeError\u001b[0m                                 Traceback (most recent call last)",
      "\u001b[1;32m<ipython-input-13-658cb0563b02>\u001b[0m in \u001b[0;36m<module>\u001b[1;34m\u001b[0m\n\u001b[0;32m      4\u001b[0m \u001b[0mtype\u001b[0m\u001b[1;33m(\u001b[0m\u001b[0masd\u001b[0m\u001b[1;33m)\u001b[0m\u001b[1;33m\u001b[0m\u001b[1;33m\u001b[0m\u001b[0m\n\u001b[0;32m      5\u001b[0m \u001b[0mprint\u001b[0m\u001b[1;33m(\u001b[0m\u001b[1;34m'set object is not subscriptable i.e., does not have an index'\u001b[0m\u001b[1;33m)\u001b[0m\u001b[1;33m\u001b[0m\u001b[1;33m\u001b[0m\u001b[0m\n\u001b[1;32m----> 6\u001b[1;33m \u001b[0masd\u001b[0m\u001b[1;33m[\u001b[0m\u001b[1;36m1\u001b[0m\u001b[1;33m]\u001b[0m\u001b[1;33m\u001b[0m\u001b[1;33m\u001b[0m\u001b[0m\n\u001b[0m",
      "\u001b[1;31mTypeError\u001b[0m: 'set' object is not subscriptable"
     ]
    }
   ],
   "source": [
    "asd= {1,2,3,45,9,6,1}\n",
    "print('Set is amazing as it removes duplicates and orders it elements')\n",
    "print(asd)\n",
    "type(asd)\n",
    "print('set object is not subscriptable i.e., does not have an index')\n",
    "asd[1]"
   ]
  },
  {
   "cell_type": "code",
   "execution_count": 7,
   "metadata": {},
   "outputs": [
    {
     "name": "stdout",
     "output_type": "stream",
     "text": [
      "How to get infinite in python\n",
      "inf\n"
     ]
    }
   ],
   "source": [
    "print(\"How to get infinite in python\")\n",
    "test = float(\"inf\")\n",
    "print(test)"
   ]
  },
  {
   "cell_type": "code",
   "execution_count": 10,
   "metadata": {},
   "outputs": [],
   "source": [
    "#solving using O(n^2)\n",
    "\n",
    "\n",
    "def min_abs_diff(nums):\n",
    "    \n",
    "    initial_diff = float(\"inf\")\n",
    "    \n",
    "    for i in range(len(nums)):\n",
    "        for j in range(i+1,len(nums)):\n",
    "            current_diff =  abs(nums[i] - nums[j])\n",
    "            initial_diff = min(current_diff, initial_diff)\n",
    "            \n",
    "    return initial_diff\n",
    "            "
   ]
  },
  {
   "cell_type": "code",
   "execution_count": 18,
   "metadata": {},
   "outputs": [
    {
     "data": {
      "text/plain": [
       "3"
      ]
     },
     "execution_count": 18,
     "metadata": {},
     "output_type": "execute_result"
    }
   ],
   "source": [
    "min_abs_diff([ 2, 5, 9, 21, 45])"
   ]
  },
  {
   "cell_type": "markdown",
   "metadata": {},
   "source": [
    "**Method 2** (Efficient: O(n Log n) \n",
    "\n",
    "The idea is to use sorting. Below are steps.\n",
    "\n",
    "1. Sort array in ascending order. This step takes O(n Log n) time. \n",
    "2. Initialize difference as infinite. This step takes O(1) time. \n",
    "3. Compare all adjacent pairs in sorted array and keep track of minimum difference. This step takes O(n) time."
   ]
  },
  {
   "cell_type": "code",
   "execution_count": 19,
   "metadata": {},
   "outputs": [],
   "source": [
    "def min_abs_diff(nums):\n",
    "    \n",
    "    initial_diff = float(\"inf\")\n",
    "    nums = sorted(nums)\n",
    "    \n",
    "    for i in range(1, len(nums)):\n",
    "        current_diff =  abs(nums[i] - nums[i-1])\n",
    "        initial_diff = min(current_diff, initial_diff)\n",
    "            \n",
    "    return initial_diff"
   ]
  },
  {
   "cell_type": "code",
   "execution_count": 21,
   "metadata": {},
   "outputs": [
    {
     "data": {
      "text/plain": [
       "1"
      ]
     },
     "execution_count": 21,
     "metadata": {},
     "output_type": "execute_result"
    }
   ],
   "source": [
    "min_abs_diff([-1, -2, 2, 5, 9, 21, 45])"
   ]
  },
  {
   "cell_type": "markdown",
   "metadata": {},
   "source": [
    "## [20] Recursively parse a string for a pattern that can be either 1 or 2 characters long"
   ]
  },
  {
   "cell_type": "code",
   "execution_count": 96,
   "metadata": {},
   "outputs": [],
   "source": [
    "sentence = '*** The ?! quick brown cat:  leaps over the sad boy y ar u me na. '"
   ]
  },
  {
   "cell_type": "code",
   "execution_count": 104,
   "metadata": {},
   "outputs": [],
   "source": [
    "import string\n",
    "\n",
    "def check_char_length(sentence_list):\n",
    "    #base case\n",
    "    if sentence_list==[]:\n",
    "        return 0\n",
    "    \n",
    "    # length check\n",
    "    if len(sentence_list[0]) in (1,2):\n",
    "        return 1 + check_char_length(sentence_list[1:])\n",
    "    else:\n",
    "        return 0 + check_char_length(sentence_list[1:]) \n",
    "        \n",
    "\n",
    "def rec_parse_str(sentence):\n",
    "    #cleaning sentence\n",
    "    exclude = set(string.punctuation)\n",
    "    cleaned_sentence = ''.join(ch for ch in sentence.strip() if ch not in exclude)\n",
    "    sentence_list = cleaned_sentence.split()\n",
    "    \n",
    "    #calling the method to check char length\n",
    "    return check_char_length(sentence_list)\n",
    "    \n",
    "        "
   ]
  },
  {
   "cell_type": "code",
   "execution_count": 105,
   "metadata": {},
   "outputs": [
    {
     "name": "stdout",
     "output_type": "stream",
     "text": [
      "5\n"
     ]
    }
   ],
   "source": [
    "print(rec_parse_str(sentence))"
   ]
  },
  {
   "cell_type": "markdown",
   "metadata": {},
   "source": [
    "## [21] Count the number of time a number occurs in list recursively"
   ]
  },
  {
   "cell_type": "code",
   "execution_count": 77,
   "metadata": {},
   "outputs": [
    {
     "name": "stdout",
     "output_type": "stream",
     "text": [
      "['a', 'b', 'a']\n",
      "['b', 'a']\n",
      "['a']\n",
      "2\n"
     ]
    }
   ],
   "source": [
    "def recursiveCount(lst,key):\n",
    "    if lst == []: #base case\n",
    "        return 0\n",
    "    print(lst)\n",
    "    if lst[0] == key:\n",
    "        return 1 + recursiveCount(lst[1:],key)\n",
    "    else:\n",
    "        return 0 + recursiveCount(lst[1:],key)\n",
    "\n",
    "print(recursiveCount(['a','b','a'],'a')) #prints 2"
   ]
  },
  {
   "cell_type": "markdown",
   "metadata": {},
   "source": [
    "## [22] Count the length of a string recursively"
   ]
  },
  {
   "cell_type": "code",
   "execution_count": 107,
   "metadata": {},
   "outputs": [
    {
     "name": "stdout",
     "output_type": "stream",
     "text": [
      "13\n"
     ]
    }
   ],
   "source": [
    "str = \"GeeksforGeeks\"\n",
    " \n",
    "# Function to\n",
    "# calculate length\n",
    "def string_length(str) :\n",
    "     \n",
    "    # if we reach at the\n",
    "    # end of the string\n",
    "    if str == '':\n",
    "        return 0\n",
    "    else :\n",
    "        return 1 + string_length(str[1:])\n",
    "    \n",
    "     \n",
    "# Driver Code\n",
    "print (string_length(str))"
   ]
  },
  {
   "cell_type": "markdown",
   "metadata": {},
   "source": [
    "## 23 Spell check engine\n",
    "- https://leetcode.com/discuss/interview-question/700611/facebook-phone-simple-spell-checking-engine\n",
    "- https://leetcode.com/problems/design-add-and-search-words-data-structure/\n",
    "\n",
    "\n",
    "The query language is a very simple regular expression-like language, with one special character: . (the dot character), which means EXACTLY ONE character (it can be any character). So, for example, 'c.t' would match 'cat' as the dot matches any character. There may be any number of dot characters in the query (or none).\n",
    "\n",
    "Your spell checker will have to be optimized for speed, so you will have to write it in the required way. There would be a one-time setUp() function that does any pre-processing you require, and then there will be an isMatch() function that should run as fast as possible, utilizing that pre-processing.\n",
    "\n",
    "There are some examples below, feel free to ask for clarification.\n",
    "\n",
    "```\n",
    "Word List:\n",
    "[cat, bat, rat, drat, dart, drab]\n",
    "\n",
    "Queries:\n",
    "cat -> true\n",
    "c.t -> true\n",
    ".at -> true\n",
    "..t -> true\n",
    "d..t -> true\n",
    "dr.. -> true\n",
    "... -> true\n",
    ".... -> true\n",
    "..... -> false\n",
    "h.t -> false\n",
    "c. -> false\n",
    "```\n",
    "\n",
    "**write a function**\n",
    "```\n",
    "// **Struct setup**(List list_of_words)\n",
    "// Do whatever processing you want here\n",
    "// with reasonable efficiency.\n",
    "// Return whatever data structures you want.\n",
    "// This function will only run once\n",
    "```\n",
    "\n",
    "**write a function**\n",
    "```\n",
    "// bool isMatch(Struct struct, String query)\n",
    "// Returns whether the query is a match in the\n",
    "// dictionary (True/False)\n",
    "// Should be optimized for speed\n",
    "```"
   ]
  },
  {
   "cell_type": "code",
   "execution_count": 1,
   "metadata": {},
   "outputs": [],
   "source": [
    "class WordDictionary:\n",
    "\n",
    "    def __init__(self):\n",
    "        self.words = '#'\n",
    "    \n",
    "    def addWord(self, word):\n",
    "        self.words += word + '#'\n",
    "\n",
    "    def search(self, word):\n",
    "        return bool(re.search('#' + word + '#', self.words))"
   ]
  },
  {
   "cell_type": "code",
   "execution_count": 2,
   "metadata": {},
   "outputs": [],
   "source": [
    "class WordDictionary:\n",
    "\n",
    "    def __init__(self):\n",
    "        self.words = collections.defaultdict(set)\n",
    "    \n",
    "    def addWord(self, word):\n",
    "        self.words[len(word)].add(word)\n",
    "\n",
    "    def search(self, word):\n",
    "        return any(map(re.compile(word).match,\n",
    "                       self.words[len(word)]))"
   ]
  },
  {
   "cell_type": "code",
   "execution_count": null,
   "metadata": {},
   "outputs": [],
   "source": []
  },
  {
   "cell_type": "markdown",
   "metadata": {},
   "source": [
    "## [24] given a list of tuples of movie watched times, find how many unique minutes of the movie did the viewer watch \n",
    "\n",
    "e.g. [(0,15),(10,25)]. The viewer watched 25 minutes of the movie."
   ]
  },
  {
   "cell_type": "code",
   "execution_count": 119,
   "metadata": {},
   "outputs": [
    {
     "data": {
      "text/plain": [
       "27"
      ]
     },
     "execution_count": 119,
     "metadata": {},
     "output_type": "execute_result"
    }
   ],
   "source": [
    "lst = sorted([(0,15),(10,25),(28,30),(40,35)], key=lambda x: x[0])\n",
    "\n",
    "result= 0\n",
    "for start, end in lst:\n",
    "    result = result + (end - start)\n",
    "    \n",
    "result"
   ]
  },
  {
   "cell_type": "markdown",
   "metadata": {},
   "source": [
    "## [25] Write a function that returns the elements on odd positions (0 based) in a list"
   ]
  },
  {
   "cell_type": "code",
   "execution_count": 1,
   "metadata": {},
   "outputs": [],
   "source": [
    "l = [0,1,2,3,4,5,6,7,8,9]"
   ]
  },
  {
   "cell_type": "code",
   "execution_count": 2,
   "metadata": {},
   "outputs": [],
   "source": [
    "def odd_elements(l):\n",
    "    \n",
    "    result = []\n",
    "    \n",
    "    for ind, ele in enumerate(l):\n",
    "        if ind%2 !=0:\n",
    "            result.append(ele)\n",
    "        \n",
    "    return result"
   ]
  },
  {
   "cell_type": "code",
   "execution_count": 11,
   "metadata": {},
   "outputs": [
    {
     "name": "stdout",
     "output_type": "stream",
     "text": [
      "[1, 3, 5, 7, 9]\n"
     ]
    }
   ],
   "source": [
    "print(odd_elements(l))\n",
    "assert odd_elements([0,1,2,3,4,5]) == [1,3,5]"
   ]
  },
  {
   "cell_type": "markdown",
   "metadata": {},
   "source": [
    "## [26] Write a function that returns the cumulative sum of elements in a list"
   ]
  },
  {
   "cell_type": "code",
   "execution_count": 12,
   "metadata": {},
   "outputs": [],
   "source": [
    "def cusum(l):\n",
    "    inc = 0\n",
    "    \n",
    "    for ind, ele in enumerate(l):\n",
    "        inc+=ele\n",
    "        l[ind] = inc\n",
    "        \n",
    "    return l"
   ]
  },
  {
   "cell_type": "code",
   "execution_count": 14,
   "metadata": {},
   "outputs": [
    {
     "name": "stdout",
     "output_type": "stream",
     "text": [
      "[0, 1, 4, 10, 20, 35, 56, 84, 120, 165]\n"
     ]
    }
   ],
   "source": [
    "print(cusum(l))\n",
    "assert cusum([1,1,1]) == [1,2,3]\n",
    "assert cusum([1,-1,3]) == [1,0,3]"
   ]
  },
  {
   "cell_type": "markdown",
   "metadata": {},
   "source": [
    "## [27] Write a function that takes a number and returns a list of its digits"
   ]
  },
  {
   "cell_type": "code",
   "execution_count": 15,
   "metadata": {},
   "outputs": [],
   "source": [
    "num = 14578"
   ]
  },
  {
   "cell_type": "code",
   "execution_count": 16,
   "metadata": {},
   "outputs": [],
   "source": [
    "def num_to_list(num):\n",
    "    result = []\n",
    "    while num!=0:\n",
    "        rem = num%10\n",
    "        result.insert(0, rem)\n",
    "        num = num//10\n",
    "        \n",
    "    return result"
   ]
  },
  {
   "cell_type": "code",
   "execution_count": 18,
   "metadata": {},
   "outputs": [
    {
     "name": "stdout",
     "output_type": "stream",
     "text": [
      "[1, 4, 5, 7, 8]\n"
     ]
    }
   ],
   "source": [
    "print(num_to_list(num))\n",
    "assert num_to_list(123) == [1,2,3]\n",
    "assert num_to_list(400) == [4,0,0]"
   ]
  },
  {
   "cell_type": "markdown",
   "metadata": {},
   "source": [
    "## [28] Centered average\n",
    "\n",
    "From: http://codingbat.com/prob/p126968\n",
    "Return the \"centered\" average of an array of ints, which we'll say is the mean average of the values, except ignoring the largest and smallest values in the array. If there are multiple copies of the smallest value, ignore just one copy, and likewise for the largest value. Use int division to produce the final average. You may assume that the array is length 3 or more."
   ]
  },
  {
   "cell_type": "code",
   "execution_count": 21,
   "metadata": {},
   "outputs": [],
   "source": [
    "l=[1, 3, 5, 7, 9]"
   ]
  },
  {
   "cell_type": "code",
   "execution_count": 28,
   "metadata": {},
   "outputs": [],
   "source": [
    "def centered_average(l):\n",
    "    sort_l = sorted(l)\n",
    "    l_sum = sum(sort_l[1:-1])\n",
    "    l_cnt = len(sort_l[1:-1])\n",
    "    \n",
    "    return l_sum//l_cnt"
   ]
  },
  {
   "cell_type": "code",
   "execution_count": 24,
   "metadata": {},
   "outputs": [],
   "source": [
    "def centered_average(nums):\n",
    "    return (sum(nums) - max(nums) - min(nums))// (len(nums)-2)"
   ]
  },
  {
   "cell_type": "code",
   "execution_count": 26,
   "metadata": {},
   "outputs": [
    {
     "name": "stdout",
     "output_type": "stream",
     "text": [
      "3\n"
     ]
    }
   ],
   "source": [
    "print(centered_average([1, 2, 3, 4, 100]))\n",
    "assert centered_average([1, 2, 3, 4, 100]) == 3\n",
    "assert centered_average([1, 1, 5, 5, 10, 8, 7]) == 5\n",
    "assert centered_average([-10, -4, -2, -4, -2, 0]) == -3"
   ]
  },
  {
   "cell_type": "markdown",
   "metadata": {},
   "source": [
    "## [29] Balance array and return dict\n",
    "\n",
    "\n",
    "Given a list of ints, balance the list so that each int appears equally in the list. Return a dictionary where the key is the int and the value is the count needed to balance the list.\n",
    "\n",
    "```\n",
    "[1, 1, 2] => {2: 1}\n",
    "\n",
    "[1, 1, 1, 5, 3, 2, 2] => {5: 2, 3: 2, 2: 1}\n",
    "```"
   ]
  },
  {
   "cell_type": "code",
   "execution_count": 2,
   "metadata": {},
   "outputs": [],
   "source": [
    "from collections import Counter\n",
    "def balance_list(l):\n",
    "    if len(l) == 0:\n",
    "        return {}\n",
    "    \n",
    "    l_counter =  Counter(l)\n",
    "    max_val = max(l_counter.values())\n",
    "    \n",
    "    \n",
    "    return  {key:max_val-val for key,val in l_counter.items() if max_val - val > 0}\n",
    "    "
   ]
  },
  {
   "cell_type": "code",
   "execution_count": 4,
   "metadata": {},
   "outputs": [
    {
     "name": "stdout",
     "output_type": "stream",
     "text": [
      "{5: 2, 3: 2, 2: 1}\n",
      "{}\n"
     ]
    }
   ],
   "source": [
    "print(balance_list([1, 1, 1, 5, 3, 2, 2]))\n",
    "print(balance_list([]))"
   ]
  },
  {
   "cell_type": "code",
   "execution_count": null,
   "metadata": {},
   "outputs": [],
   "source": []
  },
  {
   "cell_type": "markdown",
   "metadata": {},
   "source": [
    "Count the neighbors of each node in a graph. Input graph is a multi dimensional list\n",
    "\n",
    "Question on exceptions\n"
   ]
  },
  {
   "cell_type": "code",
   "execution_count": null,
   "metadata": {},
   "outputs": [],
   "source": []
  },
  {
   "cell_type": "code",
   "execution_count": null,
   "metadata": {},
   "outputs": [],
   "source": []
  },
  {
   "cell_type": "code",
   "execution_count": null,
   "metadata": {},
   "outputs": [],
   "source": []
  }
 ],
 "metadata": {
  "kernelspec": {
   "display_name": "Python 3",
   "language": "python",
   "name": "python3"
  },
  "language_info": {
   "codemirror_mode": {
    "name": "ipython",
    "version": 3
   },
   "file_extension": ".py",
   "mimetype": "text/x-python",
   "name": "python",
   "nbconvert_exporter": "python",
   "pygments_lexer": "ipython3",
   "version": "3.7.6"
  }
 },
 "nbformat": 4,
 "nbformat_minor": 4
}
