{
 "cells": [
  {
   "cell_type": "markdown",
   "metadata": {},
   "source": [
    "This notebooks contains solutions to STRING/TEXT related problems in Python"
   ]
  },
  {
   "cell_type": "markdown",
   "metadata": {},
   "source": [
    "## Palindrome\n",
    "[1] https://leetcode.com/problems/valid-palindrome/\n",
    "\n",
    "Given a string s, determine if it is a palindrome, considering only alphanumeric characters and ignoring cases. \n",
    "\n",
    "Example 1:\n",
    "\n",
    "Input: s = \"A man, a plan, a canal: Panama\"\n",
    "Output: true\n",
    "Explanation: \"amanaplanacanalpanama\" is a palindrome.\n",
    "Example 2:\n",
    "\n",
    "Input: s = \"race a car\"\n",
    "Output: false\n",
    "Explanation: \"raceacar\" is not a palindrome.\n",
    " \n",
    "\n",
    "Constraints:\n",
    "\n",
    "1 <= s.length <= 2 * 105\n",
    "s consists only of printable ASCII characters."
   ]
  },
  {
   "cell_type": "code",
   "execution_count": 1,
   "metadata": {},
   "outputs": [],
   "source": [
    "#Solution: reverse string\n",
    "def isPalindrome(self, s: str) -> bool:\n",
    "\n",
    "    normalised_string = ''.join(e for e in s if e.isalnum()).lower()\n",
    "\n",
    "    reversed_string = normalised_string[::-1]\n",
    "\n",
    "    return reversed_string == normalised_string"
   ]
  },
  {
   "cell_type": "code",
   "execution_count": 2,
   "metadata": {},
   "outputs": [],
   "source": [
    "# Approach 2 compare both halves\n",
    "def isPalindrome(self, s: str) -> bool:\n",
    "\n",
    "    for i in range(int(len(normalised_string)/2)):\n",
    "        if normalised_string[i] != normalised_string[len(normalised_string)-1-i]:\n",
    "            return False\n",
    "    \n",
    "    return True"
   ]
  },
  {
   "cell_type": "markdown",
   "metadata": {},
   "source": [
    "## Anagram\n",
    "\n",
    "[2] https://leetcode.com/problems/valid-anagram/\n",
    "Given two strings s and t, return true if t is an anagram of s, and false otherwise."
   ]
  },
  {
   "cell_type": "code",
   "execution_count": 1,
   "metadata": {},
   "outputs": [],
   "source": [
    "def isAnagram(self, s: str, t: str) -> bool:\n",
    "\n",
    "    d = {}\n",
    "\n",
    "    if len(s) == len(t):\n",
    "        for i in s:\n",
    "            if i not in d:\n",
    "                d[i] = 1\n",
    "            else:\n",
    "                d[i] +=1\n",
    "        print(d)\n",
    "\n",
    "        for j in t:\n",
    "\n",
    "            if j in d:\n",
    "                d[j] -=1\n",
    "\n",
    "            else:\n",
    "                return False\n",
    "\n",
    "        print(d)\n",
    "        for k in d:\n",
    "            if d[k] !=0:\n",
    "                return False\n",
    "\n",
    "        return True\n",
    "\n",
    "    else:\n",
    "        return False"
   ]
  },
  {
   "cell_type": "code",
   "execution_count": 2,
   "metadata": {},
   "outputs": [],
   "source": [
    "def isAnagram1(self, s, t):\n",
    "    dic1, dic2 = {}, {}\n",
    "    for item in s:\n",
    "        dic1[item] = dic1.get(item, 0) + 1\n",
    "    for item in t:\n",
    "        dic2[item] = dic2.get(item, 0) + 1\n",
    "    return dic1 == dic2\n",
    "    \n",
    "def isAnagram2(self, s, t):\n",
    "    dic1, dic2 = [0]*26, [0]*26\n",
    "    for item in s:\n",
    "        dic1[ord(item)-ord('a')] += 1\n",
    "    for item in t:\n",
    "        dic2[ord(item)-ord('a')] += 1\n",
    "    return dic1 == dic2\n",
    "    \n",
    "def isAnagram3(self, s, t):\n",
    "    return sorted(s) == sorted(t)"
   ]
  },
  {
   "cell_type": "markdown",
   "metadata": {},
   "source": [
    "## Add binary\n",
    "\n",
    "[3] https://leetcode.com/problems/add-binary/\n",
    "\n",
    "Given two binary strings a and b, return their sum as a binary string.\n",
    "\n",
    "Example 1:\n",
    "\n",
    "Input: a = \"11\", b = \"1\"\n",
    "Output: \"100\""
   ]
  },
  {
   "cell_type": "code",
   "execution_count": 1,
   "metadata": {},
   "outputs": [],
   "source": [
    "def addBinary(self, a: str, b: str) -> str:\n",
    "\n",
    "    max_length = max(len(a),len(b))\n",
    "    print(max_length)\n",
    "\n",
    "    a= a.zfill(max_length)\n",
    "    b= b.zfill(max_length)\n",
    "    print(f\"a is {a} and b is {b}\")\n",
    "\n",
    "    carry = 0\n",
    "    result = ''\n",
    "\n",
    "\n",
    "    for i in range(max_length):\n",
    "        carry +=1 if a[max_length-i-1] =='1' else 0\n",
    "        carry +=1 if b[max_length-i-1] =='1' else 0\n",
    "\n",
    "        result += str(carry%2)\n",
    "        carry = carry//2\n",
    "        print(carry)\n",
    "\n",
    "    if carry!=0:\n",
    "        result += str(carry%2)\n",
    "\n",
    "    return result[::-1]\n",
    "\n",
    "            "
   ]
  },
  {
   "cell_type": "code",
   "execution_count": 2,
   "metadata": {},
   "outputs": [
    {
     "name": "stdout",
     "output_type": "stream",
     "text": [
      "10001\n"
     ]
    }
   ],
   "source": [
    "a = \"1101\"\n",
    "b = \"100\"\n",
    "  \n",
    "# Calculating binary value using function \n",
    "sum = bin(int(a, 2) + int(b, 2)) \n",
    "  \n",
    "# Printing result \n",
    "print(sum[2:]) "
   ]
  },
  {
   "cell_type": "markdown",
   "metadata": {},
   "source": [
    "## Reverse Integer\n",
    "\n",
    "[4] https://leetcode.com/problems/reverse-integer/\n",
    "\n",
    "Given a signed 32-bit integer x, return x with its digits reversed. If reversing x causes the value to go outside the signed 32-bit integer range [-231, 231 - 1], then return 0."
   ]
  },
  {
   "cell_type": "code",
   "execution_count": 1,
   "metadata": {},
   "outputs": [],
   "source": [
    "#using string manipulation\n",
    "def reverse(self, x: int) -> int:\n",
    "    sign = 1\n",
    "\n",
    "    if x < 0:\n",
    "        sign = -1\n",
    "        x = -x\n",
    "\n",
    "    x_str = str(x)\n",
    "\n",
    "    return 0 if int(x_str[::-1]) > pow(2,31) else int(x_str[::-1]) * sign"
   ]
  },
  {
   "cell_type": "code",
   "execution_count": 2,
   "metadata": {},
   "outputs": [],
   "source": [
    "def reverse(self, x: int) -> int:\n",
    "    result = 0\n",
    "    symbol = 1\n",
    "\n",
    "    if x < 0:\n",
    "        symbol = -1\n",
    "        x = -x\n",
    "\n",
    "\n",
    "    while x:\n",
    "        result = result * 10 + x % 10\n",
    "        print(result)\n",
    "        x //= 10\n",
    "\n",
    "\n",
    "    return 0 if result > pow(2, 31) else result * symbol"
   ]
  },
  {
   "cell_type": "markdown",
   "metadata": {},
   "source": [
    "## Reverse Words in a String III\n",
    "\n",
    "[5] https://leetcode.com/problems/reverse-words-in-a-string-iii/\n",
    "    \n",
    "Given a string s, reverse the order of characters in each word within a sentence while still preserving whitespace and initial word order.\n",
    "\n",
    "Example 1:\n",
    "```\n",
    "Input: s = \"Let's take LeetCode contest\"\n",
    "Output: \"s'teL ekat edoCteeL tsetnoc\"\n",
    "Example 2:\n",
    "\n",
    "Input: s = \"God Ding\"\n",
    "Output: \"doG gniD\"\n",
    " \n",
    "\n",
    "Constraints:\n",
    "\n",
    "1 <= s.length <= 5 * 104\n",
    "s contains printable ASCII characters.\n",
    "s does not contain any leading or trailing spaces.\n",
    "There is at least one word in s.\n",
    "All the words in s are separated by a single space.\n",
    "````"
   ]
  },
  {
   "cell_type": "code",
   "execution_count": 1,
   "metadata": {},
   "outputs": [],
   "source": [
    "def reverseWords(s):\n",
    "    \"\"\"\n",
    "    :type s: str\n",
    "    :rtype: str\n",
    "    \"\"\"\n",
    "    split_words = s.split()\n",
    "\n",
    "    rev_words = [i[::-1] for i in split_words]\n",
    "\n",
    "    return \" \".join(rev_words)\n",
    "        "
   ]
  },
  {
   "cell_type": "code",
   "execution_count": null,
   "metadata": {},
   "outputs": [],
   "source": []
  }
 ],
 "metadata": {
  "kernelspec": {
   "display_name": "Python 3",
   "language": "python",
   "name": "python3"
  },
  "language_info": {
   "codemirror_mode": {
    "name": "ipython",
    "version": 3
   },
   "file_extension": ".py",
   "mimetype": "text/x-python",
   "name": "python",
   "nbconvert_exporter": "python",
   "pygments_lexer": "ipython3",
   "version": "3.7.1"
  }
 },
 "nbformat": 4,
 "nbformat_minor": 2
}
