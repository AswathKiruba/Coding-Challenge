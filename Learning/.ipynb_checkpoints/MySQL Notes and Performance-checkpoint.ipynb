{
 "cells": [
  {
   "cell_type": "markdown",
   "metadata": {},
   "source": [
    "### INSERT INTO\n",
    "\n",
    "```\n",
    "INSERT INTO Customers (CustomerName, ContactName, Address, City, PostalCode, Country)\n",
    "VALUES ('Cardinal', 'Tom B. Erichsen', 'Skagen 21', 'Stavanger', '4006', 'Norway');\n",
    "```\n",
    "\n",
    "### UPDATE \n",
    "\n",
    "```\n",
    "UPDATE table_name\n",
    "SET column1 = value1, column2 = value2, ...\n",
    "WHERE condition;\n",
    "```\n",
    "\n",
    "```\n",
    "UPDATE Customers\n",
    "SET ContactName = 'Alfred Schmidt', City = 'Frankfurt'\n",
    "WHERE CustomerID = 1;\n",
    "```\n",
    "\n",
    "### DELETE\n",
    "\n",
    "```\n",
    "DELETE FROM table_name WHERE condition;\n",
    "```\n",
    "\n",
    "### Drop vs Truncate\n",
    "https://www.geeksforgeeks.org/difference-between-drop-and-truncate-in-sql/\n",
    "\n",
    "\n",
    "### LIKE\n",
    "\n",
    "The LIKE operator is used in a WHERE clause to search for a specified pattern in a column.\n",
    "\n",
    "There are two wildcards often used in conjunction with the LIKE operator:\n",
    "\n",
    "The percent sign (%) represents zero, one, or multiple characters\n",
    "The underscore sign (_) represents one, single character\n"
   ]
  },
  {
   "cell_type": "code",
   "execution_count": null,
   "metadata": {},
   "outputs": [],
   "source": []
  }
 ],
 "metadata": {
  "kernelspec": {
   "display_name": "Python 3",
   "language": "python",
   "name": "python3"
  },
  "language_info": {
   "codemirror_mode": {
    "name": "ipython",
    "version": 3
   },
   "file_extension": ".py",
   "mimetype": "text/x-python",
   "name": "python",
   "nbconvert_exporter": "python",
   "pygments_lexer": "ipython3",
   "version": "3.7.1"
  }
 },
 "nbformat": 4,
 "nbformat_minor": 2
}
