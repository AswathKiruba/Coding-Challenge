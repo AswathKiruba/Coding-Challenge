{
 "cells": [
  {
   "cell_type": "markdown",
   "metadata": {},
   "source": [
    "##  Bubble sort\n",
    "\n",
    "It makes multiple passes through a list. Compares adjacent items and exchanges those that are out of order. **Each pass through the list places the next larget value in its proper place.** \n",
    "\n",
    "Each item \"bubbles\" up to the location where it belongs.\n",
    "\n"
   ]
  },
  {
   "cell_type": "code",
   "execution_count": 3,
   "metadata": {},
   "outputs": [],
   "source": [
    "def bubble_sort(arr):\n",
    "    for n in range(len(arr)-1,0,-1):\n",
    "        for k in range(n):\n",
    "\n",
    "            if arr[k] > arr[k+1]:\n",
    "                temp = arr[k]\n",
    "                arr[k] = arr[k+1]\n",
    "                arr[k+1] = temp\n",
    "                \n",
    "    return arr\n"
   ]
  },
  {
   "cell_type": "code",
   "execution_count": 4,
   "metadata": {},
   "outputs": [
    {
     "data": {
      "text/plain": [
       "[0, 1, 1, 3, 4, 6]"
      ]
     },
     "execution_count": 4,
     "metadata": {},
     "output_type": "execute_result"
    }
   ],
   "source": [
    "bubble_sort([0,1,4,3,1,6])"
   ]
  },
  {
   "cell_type": "markdown",
   "metadata": {},
   "source": [
    "## Selection sort\n",
    "\n",
    "Improves on bubble sort by making only one exchange for every pass through the list. It looks for the largest value as it makes a pass and, after completing the pass, places it in the proper location.\n",
    "\n",
    "\n",
    "Each pass through the list places the next largest value in its proper place. This process continues and requires n-1 passes to sort n items, since the final item must be in place after the (n-1)st pass."
   ]
  },
  {
   "cell_type": "code",
   "execution_count": 6,
   "metadata": {},
   "outputs": [],
   "source": [
    "def selection_sort(arr):\n",
    "    \n",
    "    for fillslot in range(len(arr)-1,0,-1):\n",
    "        \n",
    "        max_pos = 0\n",
    "        \n",
    "        for location in range(1, fillslot+1):\n",
    "            \n",
    "            if arr[location]> arr[max_pos]:\n",
    "                max_pos = location\n",
    "                \n",
    "        temp = arr[fillslot]\n",
    "        arr[fillslot]=arr[max_pos]\n",
    "        arr[max_pos] = temp\n",
    "        \n",
    "    return arr"
   ]
  },
  {
   "cell_type": "code",
   "execution_count": 7,
   "metadata": {},
   "outputs": [
    {
     "data": {
      "text/plain": [
       "[-1, 1, 2, 3, 5, 7, 9]"
      ]
     },
     "execution_count": 7,
     "metadata": {},
     "output_type": "execute_result"
    }
   ],
   "source": [
    "selection_sort([1,2,5,3,9,7,-1])"
   ]
  },
  {
   "cell_type": "markdown",
   "metadata": {},
   "source": [
    "## Insertion Sort\n",
    "\n",
    "This maintains a sorted sublist in the lower postion of the list. Each new item is then inserted back into the previous sublist that the sorted sublist is one item larger.\n",
    "\n",
    "\n",
    "* Assume that a list with one item (0 position) is already sorted\n",
    "* On each pass, one for each item 1 through n-1, the current item is checked against those in the already sorted sublist\n",
    "* As we look back into the already sorted sublist, we shift those items that are greated to the right.\n",
    "* When we reach a smaller item or the end of the sublist, the current item can be inserted."
   ]
  },
  {
   "cell_type": "code",
   "execution_count": 11,
   "metadata": {},
   "outputs": [],
   "source": [
    "def insertion_sort(arr):\n",
    "    \n",
    "    for i in range(1,len(arr)):\n",
    "        \n",
    "            currentvalue = arr[i]\n",
    "            position =i\n",
    "            \n",
    "            while position>0 and arr[position-1]>currentvalue:\n",
    "                \n",
    "                arr[position]=arr[position-1]\n",
    "                position = position-1\n",
    "                \n",
    "            arr[position] = currentvalue\n",
    "            \n",
    "    return arr  "
   ]
  },
  {
   "cell_type": "code",
   "execution_count": 12,
   "metadata": {},
   "outputs": [
    {
     "data": {
      "text/plain": [
       "[-3, -1, 1, 2, 3, 4, 7, 9]"
      ]
     },
     "execution_count": 12,
     "metadata": {},
     "output_type": "execute_result"
    }
   ],
   "source": [
    "insertion_sort([1,2,4,7,3,9,-1,-3])"
   ]
  },
  {
   "cell_type": "markdown",
   "metadata": {},
   "source": [
    "## Shell sort\n",
    "\n",
    "Improves on the insertion sort by breaking the orginal list into a number of smaller sublists. The uniques way that these sublists are chosen is the key to the shell sort.\n",
    "\n",
    "Instead of breaking the list into sublist of contiguous items, the shell sort uses an increment \"i\" to create a sublist by choosing all items that are \"i\" items apart.\n",
    "\n"
   ]
  },
  {
   "cell_type": "code",
   "execution_count": 22,
   "metadata": {},
   "outputs": [],
   "source": [
    "def shell_sort(arr):\n",
    "    \n",
    "    sublistcount = len(arr)//2\n",
    "    \n",
    "    while sublistcount>0:\n",
    "        \n",
    "        for start in range(sublistcount):\n",
    "            \n",
    "            gap_insertion_sort(arr, start, sublistcount)\n",
    "            \n",
    "        sublistcount = sublistcount//2\n",
    "    \n",
    "    return arr"
   ]
  },
  {
   "cell_type": "code",
   "execution_count": 23,
   "metadata": {},
   "outputs": [],
   "source": [
    "def gap_insertion_sort(arr, start, gap):\n",
    "    \n",
    "    for i in range(start+gap, len(arr), gap):\n",
    "        \n",
    "        currentvalue = arr[i]\n",
    "        position=i\n",
    "        \n",
    "        while position >=gap and arr[position-gap]> currentvalue:\n",
    "            \n",
    "            arr[position] = arr[position-gap]\n",
    "            position = position-gap\n",
    "            \n",
    "        arr[position] = currentvalue\n",
    "        "
   ]
  },
  {
   "cell_type": "code",
   "execution_count": 24,
   "metadata": {},
   "outputs": [],
   "source": [
    "arr=[0,-1,3,2,9,6,12,54,4,9,90,-5]"
   ]
  },
  {
   "cell_type": "code",
   "execution_count": 25,
   "metadata": {},
   "outputs": [
    {
     "data": {
      "text/plain": [
       "[-5, -1, 0, 2, 3, 4, 6, 9, 9, 12, 54, 90]"
      ]
     },
     "execution_count": 25,
     "metadata": {},
     "output_type": "execute_result"
    }
   ],
   "source": [
    "shell_sort(arr)"
   ]
  },
  {
   "cell_type": "code",
   "execution_count": null,
   "metadata": {},
   "outputs": [],
   "source": []
  }
 ],
 "metadata": {
  "kernelspec": {
   "display_name": "Python 3",
   "language": "python",
   "name": "python3"
  },
  "language_info": {
   "codemirror_mode": {
    "name": "ipython",
    "version": 3
   },
   "file_extension": ".py",
   "mimetype": "text/x-python",
   "name": "python",
   "nbconvert_exporter": "python",
   "pygments_lexer": "ipython3",
   "version": "3.7.1"
  }
 },
 "nbformat": 4,
 "nbformat_minor": 2
}
