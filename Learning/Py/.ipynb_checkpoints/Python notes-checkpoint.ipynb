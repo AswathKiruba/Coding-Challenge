{
 "cells": [
  {
   "cell_type": "markdown",
   "metadata": {},
   "source": [
    "# Variables Statements and expressions\n",
<<<<<<< HEAD
    "\n",
=======
<<<<<<< HEAD
    "\n",
    "A **statement** is an instruction that the Python interpreter can execute.  Examples are while statements, for statements, if statements, and import statements. \n",
    "\n",
    "**Expression**\n",
    "- An **expression** is a combination of literals, variable names, operators, and calls to functions. Expressions need to be evaluated.\n",
    "- It can contain function call expression or operator expression.\n",
    "\n",
    "**NOTE**: \n",
    "- In python the division operator / produces a floating point result (even if the result is an integer; 4/2 is 2.0). If you want truncated division, which ignores the remainder, you can use the // operator (for example, 5//2 is 2)\n",
    "\n",
    "- The truncated division operator, //, also works on floating point numbers. It truncates to the nearest integer, but still produces a floating point result. Thus 7.0 // 3.0 is 2.0\n",
    "\n",
    "- If you are not sure what class (data type) a value falls into, Python has a function called type which can tell you. \n"
   ]
  },
  {
   "cell_type": "code",
   "execution_count": 1,
   "metadata": {},
   "outputs": [
    {
     "name": "stdout",
     "output_type": "stream",
     "text": [
      "<class 'str'>\n"
     ]
    }
   ],
   "source": [
    "print(type(\"Hello, World!\"))"
=======
    "\n",
>>>>>>> f1bf59d87812a03f5948aaf28463e9abb79b52a4
    "A **statement** is an instruction that the Python interpreter can execute.  Examples are while statements, for statements, if statements, and import statements. \n",
    "\n",
    "**Expression**\n",
    "- An **expression** is a combination of literals, variable names, operators, and calls to functions. Expressions need to be evaluated.\n",
    "- It can contain function call expression or operator expression.\n",
    "\n",
    "**NOTE**: \n",
    "- In python the division operator / produces a floating point result (even if the result is an integer; 4/2 is 2.0). If you want truncated division, which ignores the remainder, you can use the // operator (for example, 5//2 is 2)\n",
    "\n",
    "- The truncated division operator, //, also works on floating point numbers. It truncates to the nearest integer, but still produces a floating point result. Thus 7.0 // 3.0 is 2.0\n",
    "\n",
    "- If you are not sure what class (data type) a value falls into, Python has a function called type which can tell you. \n"
   ]
  },
  {
   "cell_type": "code",
   "execution_count": 1,
   "metadata": {},
   "outputs": [
    {
     "name": "stdout",
     "output_type": "stream",
     "text": [
      "<class 'str'>\n"
     ]
    }
   ],
   "source": [
    "print(type(\"Hello, World!\"))"
   ]
  },
  {
   "cell_type": "markdown",
   "metadata": {},
   "source": [
    "- Strings in Python can be enclosed in either single quotes (') or double quotes (\"), or three of each (''' or \"\"\")\n",
    "\n",
    "- x, y = 6, 7\n",
    "  comma, Python treats this as a pair of values.\n",
    "  \n",
    "**Note**\n",
    "Just a FYI but not a good practise. \n",
    "If you have programmed in another language such as Java or C++, you may be used to the idea that variables have types that are declared when the variable name is first introduced in a program. Python doesn’t do that. **Variables don’t have types in Python; values do.** That means that it is acceptable in Python to have a variable name refer to an integer and later have the same variable name refer to a string.\n",
    "\n",
    "**literal**\n",
    "e.g., “Hello” or 3.14\n",
    "\n",
    "**variable name**\n",
    "e.g., x or len\n",
    "\n",
    "**operator expression**\n",
    "<expression> operator-name <expression>\n",
    "\n",
    "**function call expressions**\n",
    "<expression>(<expressions separated by commas>)\n",
    "    \n",
    "Example: print(2 * len(\"hello\") + len(\"goodbye\"))"
   ]
  },
  {
   "cell_type": "markdown",
   "metadata": {},
   "source": [
    "### Order of Operations\n",
    "\n",
    "1. Parentheses have the highest precedence\n",
    "2. Exponentiation has the next highest precedence\n",
    "3. Multiplication and both division operators have the same precedence\n",
    "4. Operators with the same precedence are evaluated from left-to-right.\n",
    "\n",
    "**Note**\n",
    "Due to some historical quirk, an exception to the left-to-right left-associative rule is the exponentiation operator `**`"
   ]
  },
  {
   "cell_type": "code",
   "execution_count": 2,
   "metadata": {},
   "outputs": [
    {
     "name": "stdout",
     "output_type": "stream",
     "text": [
      "512\n",
      "64\n"
     ]
    }
   ],
   "source": [
    "print(2 ** 3 ** 2)     # the right-most ** operator gets done first!\n",
    "print((2 ** 3) ** 2)   # use parentheses to force the order you want!"
   ]
  },
  {
   "cell_type": "markdown",
   "metadata": {},
   "source": [
    "To get input from the user. The input function allows the programmer to provide a **prompt string**.\n",
<<<<<<< HEAD
    "\n",
    "It is very important to note that the **input function returns a string value**. Even if you asked the user to enter their age, you would get back a string like \"17\"\n",
    "\n",
    "```\n",
    "n = input(\"Please enter your name: \")\n",
    "print(\"Hello\", n)\n",
    "```\n",
    "**----------------------------------------------------------------------------------------------------------------------------------------------------------------------------------------------------**"
   ]
  },
  {
   "cell_type": "markdown",
   "metadata": {},
   "source": [
    "# Debugging\n",
    "\n",
    "Programming errors are called bugs and the process of finding and removing them from a program is called debugging.\n",
    "\n",
    "### Syntax errors\n",
    "The compiler and / or interpreter is a computer program that determines if your program is written in a way that can be translated into machine language for execution. It finds the syntax errors.\n",
    "\n",
=======
    "\n",
    "It is very important to note that the **input function returns a string value**. Even if you asked the user to enter their age, you would get back a string like \"17\"\n",
    "\n",
    "```\n",
    "n = input(\"Please enter your name: \")\n",
    "print(\"Hello\", n)\n",
    "```\n",
    "**----------------------------------------------------------------------------------------------------------------------------------------------------------------------------------------------------**"
   ]
  },
  {
   "cell_type": "markdown",
   "metadata": {},
   "source": [
    "# Debugging\n",
    "\n",
    "Programming errors are called bugs and the process of finding and removing them from a program is called debugging.\n",
    "\n",
    "### Syntax errors\n",
    "The compiler and / or interpreter is a computer program that determines if your program is written in a way that can be translated into machine language for execution. It finds the syntax errors.\n",
    "\n",
>>>>>>> f1bf59d87812a03f5948aaf28463e9abb79b52a4
    "### Runtime Errors\n",
    "This error does not appear until you run the program. These errors are also called exceptions because they usually indicate that something exceptional (and bad) has happened. If an instruction is illegal to perform at that point in the execution, the interpreter will stop with a message describing the exception.\n",
    "\n",
    "### Semantic errors\n",
    "It will run successfully in the sense that the computer will not generate any error messages. However, your program will not do the right thing. It will do something else.\n",
    "\n",
    "**----------------------------------------------------------------------------------------------------------------------------------------------------------------------------------------------------**"
   ]
  },
  {
   "cell_type": "markdown",
   "metadata": {},
   "source": [
    "# Modules\n",
    "\n",
    "A module is a file containing Python definitions and statements intended for use in other Python programs. There are many Python modules that come with Python as part of the standard library. \n",
    "- The most common is import morecode which imports everything in morecode.py\n",
    "- You can also give the imported module an alias using `as`\n",
    "- only want to import SOME of the functionality from a module. `from morecode import f1`\n"
   ]
  },
  {
   "cell_type": "code",
   "execution_count": 4,
   "metadata": {},
   "outputs": [
    {
     "name": "stdout",
     "output_type": "stream",
     "text": [
      "0.3289287595418915\n",
      "4\n"
     ]
    }
   ],
   "source": [
    "import random\n",
    "\n",
    "prob = random.random() # returns float 0.0 - 1.0\n",
    "print(prob)\n",
    "\n",
    "diceThrow = random.randrange(1,7)       # return an int, one of 1,2,3,4,5,6 (doesn't consider the last value)\n",
    "print(diceThrow)"
   ]
  },
  {
   "cell_type": "markdown",
   "metadata": {},
   "source": [
    "**----------------------------------------------------------------------------------------------------------------------------------------------------------------------------------------------------**\n",
    "## Sequential  collection\n",
    "**Strings** can be defined as sequential/ordered collections of characters.A string that contains no characters, often referred to as the empty string, is still considered to be a string. It is simply a sequence of zero characters and is represented by ‘’ or “”.\n",
    "\n",
    "A **list** is a sequential collection of Python data values, where each value is identified by an index. \n",
    "- values are called as elements\n",
    "Lists are similar to strings, which are ordered collections of characters, except that the elements of a list can have any type and for any one list, the items can be of different types.\n",
    "\n",
    "There are several ways to create a new list. The simplest is to enclose the elements in square brackets ( [ and ]).\n"
   ]
  },
  {
   "cell_type": "code",
<<<<<<< HEAD
   "execution_count": 3,
=======
   "execution_count": 7,
>>>>>>> f1bf59d87812a03f5948aaf28463e9abb79b52a4
   "metadata": {},
   "outputs": [
    {
     "name": "stdout",
     "output_type": "stream",
     "text": [
      "[10, 20, 30, 40]\n",
      "['spam', 'bungee', 'swallow']\n",
      "['hello', 2.0, 5, [10, 20]]\n",
      "[]\n"
     ]
    }
   ],
   "source": [
<<<<<<< HEAD
    "print([10, 20, 30, 40])\n",
    "print([\"spam\", \"bungee\", \"swallow\"])\n",
    "print([\"hello\", 2.0, 5, [10, 20]])\n",
    "print(list()) #only create empty list\n",
    "# print(list(1,2,3)) you cannot do this"
=======
    "\n",
    "print([10, 20, 30, 40])\n",
    "print([\"spam\", \"bungee\", \"swallow\"])\n",
    "print([\"hello\", 2.0, 5, [10, 20]])\n",
    "print(list()) #only create empty list"
>>>>>>> f1bf59d87812a03f5948aaf28463e9abb79b52a4
   ]
  },
  {
   "cell_type": "markdown",
   "metadata": {},
   "source": [
    "A **tuple**, like a list, is a sequence of items of any type. The printed representation of a tuple is a comma-separated sequence of values, enclosed in parentheses. In other words, the representation is just like lists, except with parentheses () instead of square brackets [].\n",
    "\n",
    "Comparison to list\n",
    "- list are mutable\n",
    "- Tuple are immutable\n",
    "\n",
    "\n",
    "To create a tuple with a single element (but you’re probably not likely to do that too often), we have to include the final comma, because without the final comma, Python treats the (5) below as an integer in parentheses:"
   ]
  },
  {
   "cell_type": "code",
   "execution_count": 8,
   "metadata": {},
   "outputs": [
    {
     "name": "stdout",
     "output_type": "stream",
     "text": [
      "(5,)\n",
      "5\n"
     ]
    }
   ],
   "source": [
    "t = (5,) # would be tuple\n",
    "print(t)\n",
    "t = (5) # would be int\n",
    "print(t)"
   ]
  },
  {
   "cell_type": "markdown",
   "metadata": {},
   "source": [
    "**NOTE** Function len returns the length of a list (the number of items in the list). However, since lists can have items which are themselves sequences (e.g., strings), it important to note that len only returns the top-most length."
   ]
  },
  {
   "cell_type": "code",
   "execution_count": 9,
   "metadata": {},
   "outputs": [
    {
     "name": "stdout",
     "output_type": "stream",
     "text": [
      "5\n"
     ]
    }
   ],
   "source": [
    "print(len([1,2,3,4,[1,2,3]]))"
   ]
  },
  {
   "cell_type": "markdown",
   "metadata": {},
   "source": [
    "The **slice operator** [n:m] returns the part of the string starting with the character at index n and go up to but **not including the character at index m**. \n",
    "\n",
<<<<<<< HEAD
    "Lst[ Initial : End : IndexJump ]\n",
    "\n",
=======
>>>>>>> f1bf59d87812a03f5948aaf28463e9abb79b52a4
    "- If you omit the first index (before the colon), the slice starts at the beginning of the string.\n",
    "- If you omit the second index, the slice goes to the end of the string."
   ]
  },
  {
   "cell_type": "code",
<<<<<<< HEAD
   "execution_count": 3,
=======
   "execution_count": 11,
>>>>>>> f1bf59d87812a03f5948aaf28463e9abb79b52a4
   "metadata": {},
   "outputs": [
    {
     "name": "stdout",
     "output_type": "stream",
     "text": [
      "ban\n",
<<<<<<< HEAD
      "ana\n",
      "aa\n"
=======
      "ana\n"
>>>>>>> f1bf59d87812a03f5948aaf28463e9abb79b52a4
     ]
    }
   ],
   "source": [
    "fruit = \"banana\"\n",
    "print(fruit[:3])\n",
<<<<<<< HEAD
    "print(fruit[3:])\n",
    "print(fruit[1:-1:2])"
=======
    "print(fruit[3:])\n"
>>>>>>> f1bf59d87812a03f5948aaf28463e9abb79b52a4
   ]
  },
  {
   "cell_type": "markdown",
   "metadata": {},
   "source": [
    "**NOTE:** We can’t modify the elements of a tuple, but we can make a variable reference a new tuple holding different information"
   ]
  },
  {
   "cell_type": "code",
   "execution_count": 13,
   "metadata": {},
   "outputs": [
    {
     "name": "stdout",
     "output_type": "stream",
     "text": [
      "1967\n",
      "(1967, 'Duplicity', 2009, 'Actress')\n",
      "7\n",
      "('Julia', 'Roberts', 1967, 'Eat Pray Love', 2010, 'Actress', 'Atlanta, Georgia')\n",
      "dsfddsdsfddsdsfdds\n"
     ]
    }
   ],
   "source": [
    "julia = (\"Julia\", \"Roberts\", 1967, \"Duplicity\", 2009, \"Actress\", \"Atlanta, Georgia\")\n",
    "print(julia[2])\n",
    "print(julia[2:6])\n",
    "\n",
    "print(len(julia))\n",
    "\n",
    "julia = julia[:3] + (\"Eat Pray Love\", 2010) + julia[5:]\n",
    "print(julia)\n"
   ]
  },
  {
   "cell_type": "markdown",
   "metadata": {},
   "source": [
    "- For strings and lists, the `+` operator concatenates them. \n",
    "- Similarly, the `*` operator repeats the items in a list/string a given number of times."
   ]
  },
  {
   "cell_type": "code",
   "execution_count": 16,
   "metadata": {},
   "outputs": [
    {
     "name": "stdout",
     "output_type": "stream",
     "text": [
      "[1, 2, 3, 4, 21.4, 5456, 0.7667]\n",
<<<<<<< HEAD
      "podapodapoda\n",
      "('a', 'b', 'a', 'b', 'a', 'b')\n",
      "('b', 'c', 'a', 's')\n"
=======
      "podapodapoda\n"
>>>>>>> f1bf59d87812a03f5948aaf28463e9abb79b52a4
     ]
    }
   ],
   "source": [
    "#concat\n",
    "print([1,2,3,4]+[21.4,5456,.7667])\n",
<<<<<<< HEAD
    "\n",
    "#repition\n",
    "print('poda' * 3)\n",
    "\n",
    "print(('a','b')* 3)\n",
    "print(('b','c') + ('a','s')) "
=======
    "\n",
    "#repition\n",
    "print('poda' * 3)"
>>>>>>> b8485d1b5b9cb239d1a72739538239338db18574
>>>>>>> f1bf59d87812a03f5948aaf28463e9abb79b52a4
   ]
  },
  {
   "cell_type": "markdown",
   "metadata": {},
   "source": [
<<<<<<< HEAD
=======
<<<<<<< HEAD
    "- Strings in Python can be enclosed in either single quotes (') or double quotes (\"), or three of each (''' or \"\"\")\n",
    "\n",
    "- x, y = 6, 7\n",
    "  comma, Python treats this as a pair of values.\n",
    "  \n",
    "**Note**\n",
    "Just a FYI but not a good practise. \n",
    "If you have programmed in another language such as Java or C++, you may be used to the idea that variables have types that are declared when the variable name is first introduced in a program. Python doesn’t do that. **Variables don’t have types in Python; values do.** That means that it is acceptable in Python to have a variable name refer to an integer and later have the same variable name refer to a string.\n",
    "\n",
    "**literal**\n",
    "e.g., “Hello” or 3.14\n",
=======
>>>>>>> f1bf59d87812a03f5948aaf28463e9abb79b52a4
    "**TWO USEFUL METHODS COUNT AND INDEX**\n",
    "\n",
    "* .count('ha') can be used on strings and list to count the number of times that occured in the string or list. (For strings the parameter should always be string) **It is case sensitive**\n",
    "* .index('ha) For both strings and lists, index returns the leftmost index where the argument is found.(For strings the parameter should always be string)\n"
   ]
  },
  {
   "cell_type": "code",
<<<<<<< HEAD
   "execution_count": 4,
=======
   "execution_count": 28,
>>>>>>> f1bf59d87812a03f5948aaf28463e9abb79b52a4
   "metadata": {},
   "outputs": [
    {
     "name": "stdout",
     "output_type": "stream",
     "text": [
      "2\n",
      "1\n",
      "0\n",
      "3\n",
      "0\n",
      "2\n",
<<<<<<< HEAD
      "1\n",
      "count has a problem\n",
      "2\n"
=======
      "1\n"
>>>>>>> f1bf59d87812a03f5948aaf28463e9abb79b52a4
     ]
    }
   ],
   "source": [
    "a = \"I have had an apple on applemy desk before!\"\n",
    "print(a.count(\"apple\")) # applemy will be counted\n",
    "print(a.count(\"I\")) # case sensitive\n",
    "\n",
    "\n",
    "z = ['atoms', 4, 'neutron', 6, 'proton', 4, 'electron', 4, 'electron', 'atoms', [15]]\n",
    "#list count takes any types\n",
    "print(z.count(\"4\"))\n",
    "print(z.count(4)) #type sensitive\n",
    "print(z.count(\"a\"))\n",
    "print(z.count(\"electron\"))\n",
    "print(z.count([15]))\n",
    "\n",
<<<<<<< HEAD
    "# idea is to spilt the word, remove punctuations and count using the list\n",
    "\n",
    "print('count has a problem')\n",
    "print('cthere the was'.count('the'))"
=======
    "# idea is to spilt the word, remove punctuations and count using the list"
>>>>>>> f1bf59d87812a03f5948aaf28463e9abb79b52a4
   ]
  },
  {
   "cell_type": "code",
   "execution_count": 29,
   "metadata": {},
   "outputs": [
    {
     "name": "stdout",
     "output_type": "stream",
     "text": [
      "14\n",
      "9\n",
      "0\n",
      "3\n",
      "6\n"
     ]
    }
   ],
   "source": [
    "music = \"Pull out your music and dancing can begin\"\n",
    "bio = [\"Metatarsal\", \"Metatarsal\", \"Fibula\", [], \"Tibia\", \"Tibia\", 43, \"Femur\", \"Occipital\", \"Metatarsal\"]\n",
    "\n",
    "print(music.index(\"m\"))\n",
    "print(music.index(\"your\"))\n",
    "\n",
    "# take the left most or the first\n",
    "print(bio.index(\"Metatarsal\"))\n",
    "print(bio.index([]))\n",
    "print(bio.index(43))\n"
   ]
  },
  {
   "cell_type": "markdown",
   "metadata": {},
   "source": [
    "**IMPORTANT STRING METHODS**\n",
    "* The split method breaks a string into a list of words. By default, any number of whitespace characters is considered a word boundary. Pass delimiter as an paramater\n",
    "* The inverse of the split method is join. You choose a desired separator string, (often called the glue) and join the list with the glue between each of the elements. Example: \" \".join(list)"
   ]
  },
  {
   "cell_type": "code",
   "execution_count": 30,
   "metadata": {},
   "outputs": [
    {
     "name": "stdout",
     "output_type": "stream",
     "text": [
      "['The r', 'n in Sp', 'n...']\n"
<<<<<<< HEAD
     ]
    }
   ],
   "source": [
    "song = \"The rain in Spain...\"\n",
    "wds = song.split('ai')\n",
    "print(wds)\n"
   ]
  },
  {
   "cell_type": "code",
   "execution_count": 32,
   "metadata": {},
   "outputs": [
    {
     "name": "stdout",
     "output_type": "stream",
     "text": [
      "red;blue;green\n",
      "['red', 'blue', 'green']\n",
      "red***blue***green\n",
      "red blue green\n"
=======
>>>>>>> f1bf59d87812a03f5948aaf28463e9abb79b52a4
     ]
    }
   ],
   "source": [
<<<<<<< HEAD
=======
    "song = \"The rain in Spain...\"\n",
    "wds = song.split('ai')\n",
    "print(wds)\n"
   ]
  },
  {
   "cell_type": "code",
   "execution_count": 32,
   "metadata": {},
   "outputs": [
    {
     "name": "stdout",
     "output_type": "stream",
     "text": [
      "red;blue;green\n",
      "['red', 'blue', 'green']\n",
      "red***blue***green\n",
      "red blue green\n"
     ]
    }
   ],
   "source": [
>>>>>>> f1bf59d87812a03f5948aaf28463e9abb79b52a4
    "wds = [\"red\", \"blue\", \"green\"]\n",
    "glue = ';'\n",
    "s = glue.join(wds)\n",
    "print(s)\n",
    "print(wds)\n",
    "\n",
    "print(\"***\".join(wds))\n",
    "print(\" \".join(wds))\n"
   ]
  },
  {
   "cell_type": "markdown",
   "metadata": {},
   "source": [
    "**----------------------------------------------------------------------------------------------------------------------------------------------------------------------------------------------------**\n",
    "# Iteration\n",
<<<<<<< HEAD
    "\n",
    "* for\n",
    "* while\n",
    "\n",
    "**Iteration by item**\n",
    "Since a `string` is simply a sequence of characters, the for loop iterates over each character automatically.\n",
    "\n",
    "A list is a sequence of items, so the for loop iterates over each item in the list automatically.\n",
    "\n",
=======
>>>>>>> b8485d1b5b9cb239d1a72739538239338db18574
    "\n",
    "**variable name**\n",
    "e.g., x or len\n",
    "\n",
    "**operator expression**\n",
    "<expression> operator-name <expression>\n",
    "\n",
    "**function call expressions**\n",
    "<expression>(<expressions separated by commas>)\n",
    "    \n",
    "Example: print(2 * len(\"hello\") + len(\"goodbye\"))"
   ]
  },
  {
   "cell_type": "markdown",
   "metadata": {},
   "source": [
    "### Order of Operations\n",
    "\n",
<<<<<<< HEAD
    "1. Parentheses have the highest precedence\n",
    "2. Exponentiation has the next highest precedence\n",
    "3. Multiplication and both division operators have the same precedence\n",
    "4. Operators with the same precedence are evaluated from left-to-right.\n",
    "\n",
    "**Note**\n",
    "Due to some historical quirk, an exception to the left-to-right left-associative rule is the exponentiation operator `**`"
=======
>>>>>>> f1bf59d87812a03f5948aaf28463e9abb79b52a4
    "The anatomy of the `accumulation pattern` includes:\n",
    "1. **initializing** an “accumulator” variable to an initial value (such as 0 if accumulating a sum)\n",
    "2. **iterating** (e.g., traversing the items in a sequence)\n",
    "3. **updating** the accumulator variable on each iteration (i.e., when processing each item in the sequence)\n"
<<<<<<< HEAD
=======
>>>>>>> b8485d1b5b9cb239d1a72739538239338db18574
>>>>>>> f1bf59d87812a03f5948aaf28463e9abb79b52a4
   ]
  },
  {
   "cell_type": "code",
<<<<<<< HEAD
   "execution_count": 1,
=======
   "execution_count": 2,
>>>>>>> f1bf59d87812a03f5948aaf28463e9abb79b52a4
   "metadata": {},
   "outputs": [
    {
     "name": "stdout",
     "output_type": "stream",
     "text": [
<<<<<<< HEAD
      "55\n"
=======
      "512\n",
      "64\n"
>>>>>>> f1bf59d87812a03f5948aaf28463e9abb79b52a4
     ]
    }
   ],
   "source": [
<<<<<<< HEAD
    "nums = [1, 2, 3, 4, 5, 6, 7, 8, 9, 10]\n",
    "accum = 0\n",
    "for w in nums:\n",
    "    accum = accum + w\n",
    "print(accum)\n"
=======
    "print(2 ** 3 ** 2)     # the right-most ** operator gets done first!\n",
    "print((2 ** 3) ** 2)   # use parentheses to force the order you want!"
>>>>>>> f1bf59d87812a03f5948aaf28463e9abb79b52a4
   ]
  },
  {
   "cell_type": "markdown",
   "metadata": {},
   "source": [
<<<<<<< HEAD
=======
<<<<<<< HEAD
    "To get input from the user. The input function allows the programmer to provide a **prompt string**.\n",
    "\n",
    "It is very important to note that the **input function returns a string value**. Even if you asked the user to enter their age, you would get back a string like \"17\"\n",
    "\n",
    "```\n",
    "n = input(\"Please enter your name: \")\n",
    "print(\"Hello\", n)\n",
    "```\n",
    "**----------------------------------------------------------------------------------------------------------------------------------------------------------------------------------------------------**"
=======
>>>>>>> f1bf59d87812a03f5948aaf28463e9abb79b52a4
    "**HACKS WITH RANGE**\n",
    "- The range function takes at least one input - which should be an integer - and returns a list as long as your input. "
   ]
  },
  {
   "cell_type": "code",
<<<<<<< HEAD
   "execution_count": 9,
=======
   "execution_count": 33,
>>>>>>> f1bf59d87812a03f5948aaf28463e9abb79b52a4
   "metadata": {},
   "outputs": [
    {
     "name": "stdout",
     "output_type": "stream",
     "text": [
      "range(5): \n",
      "0\n",
      "1\n",
      "2\n",
      "3\n",
      "4\n",
      "range(0,5): \n",
      "0\n",
      "1\n",
      "2\n",
      "3\n",
      "4\n",
      "[0, 1, 2, 3, 4]\n",
      "[0, 1, 2, 3, 4]\n",
<<<<<<< HEAD
      "range(0, 5)\n",
      "converting a string to list of character\n",
      "['s', 't', 'r', 'i', 'n', 'g', ' ', 'v', 'a', 'd', 'a']\n"
=======
      "range(0, 5)\n"
>>>>>>> f1bf59d87812a03f5948aaf28463e9abb79b52a4
     ]
    }
   ],
   "source": [
    "print(\"range(5): \")\n",
    "for i in range(5):\n",
    "    print(i)\n",
    "\n",
    "print(\"range(0,5): \")\n",
    "for i in range(0, 5):\n",
    "    print(i)\n",
    "\n",
    "# Notice the casting of `range` to the `list`\n",
    "print(list(range(5)))\n",
    "print(list(range(0,5)))\n",
    "\n",
    "# Note: `range` function is already casted as `list` in the textbook\n",
<<<<<<< HEAD
    "print(range(5))\n",
    "\n",
    "print('converting a string to list of character')\n",
    "print(list('string vada'))"
=======
    "print(range(5))"
>>>>>>> f1bf59d87812a03f5948aaf28463e9abb79b52a4
   ]
  },
  {
   "cell_type": "markdown",
   "metadata": {},
   "source": [
    "**Regular programming**"
   ]
  },
  {
   "cell_type": "code",
   "execution_count": 34,
   "metadata": {},
   "outputs": [
    {
     "name": "stdout",
     "output_type": "stream",
     "text": [
      "0 apple\n",
      "1 pear\n",
      "2 apricot\n",
      "3 cherry\n",
      "4 peach\n"
     ]
    }
   ],
   "source": [
    "fruits = ['apple', 'pear', 'apricot', 'cherry', 'peach']\n",
    "for n in range(len(fruits)):\n",
    "    print(n, fruits[n])\n"
   ]
  },
  {
   "cell_type": "markdown",
   "metadata": {},
   "source": [
    "**Pythonic way**"
   ]
  },
  {
   "cell_type": "code",
   "execution_count": 35,
   "metadata": {},
   "outputs": [
    {
     "name": "stdout",
     "output_type": "stream",
     "text": [
      "apple\n",
      "pear\n",
      "apricot\n",
      "cherry\n",
      "peach\n"
     ]
    }
   ],
   "source": [
    "fruits = ['apple', 'pear', 'apricot', 'cherry', 'peach']\n",
    "for fruit in fruits:\n",
    "    print(fruit)\n"
<<<<<<< HEAD
=======
>>>>>>> b8485d1b5b9cb239d1a72739538239338db18574
>>>>>>> f1bf59d87812a03f5948aaf28463e9abb79b52a4
   ]
  },
  {
   "cell_type": "markdown",
   "metadata": {},
   "source": [
<<<<<<< HEAD
=======
<<<<<<< HEAD
    "# Debugging\n",
    "\n",
    "Programming errors are called bugs and the process of finding and removing them from a program is called debugging.\n",
    "\n",
    "### Syntax errors\n",
    "The compiler and / or interpreter is a computer program that determines if your program is written in a way that can be translated into machine language for execution. It finds the syntax errors.\n",
=======
>>>>>>> f1bf59d87812a03f5948aaf28463e9abb79b52a4
    "Python also provides an `enumerate` function which provides a more “pythonic” way of enumerating the items in a list.\n",
    "\n",
    "**---------------------------------------------------------------------------------------------------------------------------------------------------------------------------------------------------**\n",
    "\n",
    "# Conditions\n",
    "\n",
    "There are only two boolean values. **They are True and False. Capitalization is important, since true and false are not boolean values (remember Python is case sensitive).**\n",
<<<<<<< HEAD
    "\n",
    "There are three logical operators: and, or, and not\n",
    "\n",
    "**Note that a string is a substring of itself, and the empty string is a substring of any other string.** (Also note that computer scientists like to think about these edge cases quite carefully!)"
=======
>>>>>>> b8485d1b5b9cb239d1a72739538239338db18574
    "\n",
    "### Runtime Errors\n",
    "This error does not appear until you run the program. These errors are also called exceptions because they usually indicate that something exceptional (and bad) has happened. If an instruction is illegal to perform at that point in the execution, the interpreter will stop with a message describing the exception.\n",
    "\n",
    "### Semantic errors\n",
    "It will run successfully in the sense that the computer will not generate any error messages. However, your program will not do the right thing. It will do something else.\n",
    "\n",
    "**----------------------------------------------------------------------------------------------------------------------------------------------------------------------------------------------------**"
   ]
  },
  {
   "cell_type": "markdown",
   "metadata": {},
   "source": [
    "# Modules\n",
    "\n",
<<<<<<< HEAD
    "A module is a file containing Python definitions and statements intended for use in other Python programs. There are many Python modules that come with Python as part of the standard library. \n",
    "- The most common is import morecode which imports everything in morecode.py\n",
    "- You can also give the imported module an alias using `as`\n",
    "- only want to import SOME of the functionality from a module. `from morecode import f1`\n"
=======
    "**Note that a string is a substring of itself, and the empty string is a substring of any other string.** (Also note that computer scientists like to think about these edge cases quite carefully!)"
>>>>>>> b8485d1b5b9cb239d1a72739538239338db18574
>>>>>>> f1bf59d87812a03f5948aaf28463e9abb79b52a4
   ]
  },
  {
   "cell_type": "code",
<<<<<<< HEAD
   "execution_count": 36,
=======
<<<<<<< HEAD
   "execution_count": 4,
=======
   "execution_count": 36,
>>>>>>> b8485d1b5b9cb239d1a72739538239338db18574
>>>>>>> f1bf59d87812a03f5948aaf28463e9abb79b52a4
   "metadata": {},
   "outputs": [
    {
     "name": "stdout",
     "output_type": "stream",
     "text": [
<<<<<<< HEAD
      "True\n",
      "True\n",
      "True\n",
      "True\n"
=======
      "0.3289287595418915\n",
      "4\n"
>>>>>>> f1bf59d87812a03f5948aaf28463e9abb79b52a4
     ]
    }
   ],
   "source": [
<<<<<<< HEAD
=======
<<<<<<< HEAD
    "import random\n",
    "\n",
    "prob = random.random() # returns float 0.0 - 1.0\n",
    "print(prob)\n",
    "\n",
    "diceThrow = random.randrange(1,7)       # return an int, one of 1,2,3,4,5,6 (doesn't consider the last value)\n",
    "print(diceThrow)"
=======
>>>>>>> f1bf59d87812a03f5948aaf28463e9abb79b52a4
    "# A string is substring of itself\n",
    "print('a' in 'a')\n",
    "print('apple' in 'apple')\n",
    "\n",
    "# An empty string is a substring of any other string\n",
    "print('' in 'a')\n",
    "print('' in 'apple')"
<<<<<<< HEAD
=======
>>>>>>> b8485d1b5b9cb239d1a72739538239338db18574
>>>>>>> f1bf59d87812a03f5948aaf28463e9abb79b52a4
   ]
  },
  {
   "cell_type": "markdown",
   "metadata": {},
   "source": [
<<<<<<< HEAD
=======
<<<<<<< HEAD
    "**----------------------------------------------------------------------------------------------------------------------------------------------------------------------------------------------------**\n",
    "## Sequential  collection\n",
    "**Strings** can be defined as sequential/ordered collections of characters.A string that contains no characters, often referred to as the empty string, is still considered to be a string. It is simply a sequence of zero characters and is represented by ‘’ or “”.\n",
    "\n",
    "A **list** is a sequential collection of Python data values, where each value is identified by an index. \n",
    "- values are called as elements\n",
    "Lists are similar to strings, which are ordered collections of characters, except that the elements of a list can have any type and for any one list, the items can be of different types.\n",
=======
>>>>>>> f1bf59d87812a03f5948aaf28463e9abb79b52a4
    "### Order of precedence\n",
    "\n",
    "|Level|Category|Operators|\n",
    "|--- | --------|---------|\n",
    "|7(high)|exponent|`**`|\n",
    "|6|multiplication|`*,/,//,%`|\n",
    "|5|addition|+,-|\n",
    "|4|relational|==,!=,<=,>=,>,<|\n",
    "|3|logical|not|\n",
    "|2|logical|and|\n",
    "|1(low)|logical|or|\n",
    "\n",
    "**---------------------------------------------------------------------------------------------------------------------------------------------------------------------------------------------------**"
   ]
  },
  {
   "cell_type": "markdown",
   "metadata": {},
   "source": [
    "# Transforming Sequences\n",
    "\n",
    "An assignment to an element of a list is called item assignment. Item assignment does not work for strings.\n",
    "\n",
    "**strings are immutable like tuple i.e., item assignment doesn't work.** \n",
<<<<<<< HEAD
    "\n",
    "We can also remove elements from a list by assigning the empty list."
=======
>>>>>>> b8485d1b5b9cb239d1a72739538239338db18574
    "\n",
    "There are several ways to create a new list. The simplest is to enclose the elements in square brackets ( [ and ]).\n"
>>>>>>> f1bf59d87812a03f5948aaf28463e9abb79b52a4
   ]
  },
  {
   "cell_type": "code",
<<<<<<< HEAD
   "execution_count": 1,
=======
   "execution_count": 3,
>>>>>>> f1bf59d87812a03f5948aaf28463e9abb79b52a4
   "metadata": {},
   "outputs": [
    {
     "name": "stdout",
     "output_type": "stream",
     "text": [
<<<<<<< HEAD
      "['a', 'd', 'e', 'f']\n"
=======
      "[10, 20, 30, 40]\n",
      "['spam', 'bungee', 'swallow']\n",
      "['hello', 2.0, 5, [10, 20]]\n",
      "[]\n"
>>>>>>> f1bf59d87812a03f5948aaf28463e9abb79b52a4
     ]
    }
   ],
   "source": [
<<<<<<< HEAD
    "alist = ['a', 'b', 'c', 'd', 'e', 'f']\n",
    "alist[1:3] = []\n",
    "print(alist)\n"
=======
    "print([10, 20, 30, 40])\n",
    "print([\"spam\", \"bungee\", \"swallow\"])\n",
    "print([\"hello\", 2.0, 5, [10, 20]])\n",
    "print(list()) #only create empty list\n",
    "# print(list(1,2,3)) you cannot do this"
   ]
  },
  {
   "cell_type": "markdown",
   "metadata": {},
   "source": [
    "A **tuple**, like a list, is a sequence of items of any type. The printed representation of a tuple is a comma-separated sequence of values, enclosed in parentheses. In other words, the representation is just like lists, except with parentheses () instead of square brackets [].\n",
    "\n",
    "Comparison to list\n",
    "- list are mutable\n",
    "- Tuple are immutable\n",
    "\n",
    "\n",
    "To create a tuple with a single element (but you’re probably not likely to do that too often), we have to include the final comma, because without the final comma, Python treats the (5) below as an integer in parentheses:"
>>>>>>> f1bf59d87812a03f5948aaf28463e9abb79b52a4
   ]
  },
  {
   "cell_type": "code",
<<<<<<< HEAD
   "execution_count": 1,
=======
<<<<<<< HEAD
   "execution_count": 8,
=======
   "execution_count": 1,
>>>>>>> b8485d1b5b9cb239d1a72739538239338db18574
>>>>>>> f1bf59d87812a03f5948aaf28463e9abb79b52a4
   "metadata": {},
   "outputs": [
    {
     "name": "stdout",
     "output_type": "stream",
     "text": [
<<<<<<< HEAD
      "['a', 'b', 'c', 'd', 'f']\n",
      "['a', 'b', 'c', 'd', 'e', 'f']\n"
=======
      "(5,)\n",
      "5\n"
>>>>>>> f1bf59d87812a03f5948aaf28463e9abb79b52a4
     ]
    }
   ],
   "source": [
<<<<<<< HEAD
=======
<<<<<<< HEAD
    "t = (5,) # would be tuple\n",
    "print(t)\n",
    "t = (5) # would be int\n",
    "print(t)"
   ]
  },
  {
   "cell_type": "markdown",
   "metadata": {},
   "source": [
    "**NOTE** Function len returns the length of a list (the number of items in the list). However, since lists can have items which are themselves sequences (e.g., strings), it important to note that len only returns the top-most length."
=======
>>>>>>> f1bf59d87812a03f5948aaf28463e9abb79b52a4
    "# We can even insert elements into a list by squeezing them into an empty slice at the desired location. **Squeezing**\n",
    "\n",
    "alist = ['a', 'd', 'f']\n",
    "alist[1:1] = ['b', 'c']\n",
    "print(alist)\n",
    "alist[4:4] = ['e']\n",
    "print(alist)\n"
<<<<<<< HEAD
=======
>>>>>>> b8485d1b5b9cb239d1a72739538239338db18574
>>>>>>> f1bf59d87812a03f5948aaf28463e9abb79b52a4
   ]
  },
  {
   "cell_type": "code",
<<<<<<< HEAD
   "execution_count": 4,
=======
   "execution_count": 9,
>>>>>>> f1bf59d87812a03f5948aaf28463e9abb79b52a4
   "metadata": {},
   "outputs": [
    {
     "name": "stdout",
     "output_type": "stream",
     "text": [
<<<<<<< HEAD
      "['one', 'three']\n",
      "['three']\n"
=======
      "5\n"
>>>>>>> f1bf59d87812a03f5948aaf28463e9abb79b52a4
     ]
    }
   ],
   "source": [
<<<<<<< HEAD
    "#list delete\n",
    "\n",
    "a = ['one', 'two', 'three']\n",
    "del a[1]\n",
    "print(a)\n",
    "\n",
    "a[0:1]=[]\n",
    "print(a)"
=======
    "print(len([1,2,3,4,[1,2,3]]))"
>>>>>>> f1bf59d87812a03f5948aaf28463e9abb79b52a4
   ]
  },
  {
   "cell_type": "markdown",
   "metadata": {},
   "source": [
<<<<<<< HEAD
    "### Objects and reference list and strings\n",
    "\n",
    "Strings\n",
    "- As strings are immutable, the Python interpreter often optimizes resources by making two names that refer to the same string value refer to the same object. \n",
=======
    "The **slice operator** [n:m] returns the part of the string starting with the character at index n and go up to but **not including the character at index m**. \n",
    "\n",
<<<<<<< HEAD
    "- If you omit the first index (before the colon), the slice starts at the beginning of the string.\n",
    "- If you omit the second index, the slice goes to the end of the string."
=======
    "Strings\n",
    "- AS strings are immutable, the Python interpreter often optimizes resources by making two names that refer to the same string value refer to the same object. \n",
>>>>>>> f1bf59d87812a03f5948aaf28463e9abb79b52a4
    "- You shouldn’t count on this (that is, use == to compare strings, not is), but don’t be surprised if you find that two variables,each bound to the string “banana”, have the same id..\n",
    "\n",
    "Lists\n",
    "- This is not the case with lists, which never share an id just because they have the same contents. Consider the following example. \n",
    "- Here, a and b refer to two different lists, each of which happens to have the same element values. **They need to have different ids so that mutations of list a do not affect list b.**"
<<<<<<< HEAD
=======
>>>>>>> b8485d1b5b9cb239d1a72739538239338db18574
>>>>>>> f1bf59d87812a03f5948aaf28463e9abb79b52a4
   ]
  },
  {
   "cell_type": "code",
<<<<<<< HEAD
   "execution_count": 2,
=======
<<<<<<< HEAD
   "execution_count": 11,
=======
   "execution_count": 2,
>>>>>>> b8485d1b5b9cb239d1a72739538239338db18574
>>>>>>> f1bf59d87812a03f5948aaf28463e9abb79b52a4
   "metadata": {},
   "outputs": [
    {
     "name": "stdout",
     "output_type": "stream",
     "text": [
<<<<<<< HEAD
=======
<<<<<<< HEAD
      "ban\n",
      "ana\n"
=======
>>>>>>> f1bf59d87812a03f5948aaf28463e9abb79b52a4
      "2554335250800\n",
      "2554335250800\n",
      "True\n",
      "True\n"
<<<<<<< HEAD
=======
>>>>>>> b8485d1b5b9cb239d1a72739538239338db18574
>>>>>>> f1bf59d87812a03f5948aaf28463e9abb79b52a4
     ]
    }
   ],
   "source": [
<<<<<<< HEAD
=======
<<<<<<< HEAD
    "fruit = \"banana\"\n",
    "print(fruit[:3])\n",
    "print(fruit[3:])\n"
   ]
  },
  {
   "cell_type": "markdown",
   "metadata": {},
   "source": [
    "**NOTE:** We can’t modify the elements of a tuple, but we can make a variable reference a new tuple holding different information"
=======
>>>>>>> f1bf59d87812a03f5948aaf28463e9abb79b52a4
    "a = \"banana\"\n",
    "b = \"banana\"\n",
    "\n",
    "print(id(a))\n",
    "print(id(b))\n",
    "\n",
    "print(a is b)\n",
    "print(a==b)"
<<<<<<< HEAD
=======
>>>>>>> b8485d1b5b9cb239d1a72739538239338db18574
>>>>>>> f1bf59d87812a03f5948aaf28463e9abb79b52a4
   ]
  },
  {
   "cell_type": "code",
<<<<<<< HEAD
   "execution_count": 6,
=======
   "execution_count": 13,
>>>>>>> f1bf59d87812a03f5948aaf28463e9abb79b52a4
   "metadata": {},
   "outputs": [
    {
     "name": "stdout",
     "output_type": "stream",
     "text": [
<<<<<<< HEAD
      "False\n",
      "True\n",
      "140224138587528\n",
      "140224138587784\n"
=======
      "1967\n",
      "(1967, 'Duplicity', 2009, 'Actress')\n",
      "7\n",
      "('Julia', 'Roberts', 1967, 'Eat Pray Love', 2010, 'Actress', 'Atlanta, Georgia')\n",
      "dsfddsdsfddsdsfdds\n"
>>>>>>> f1bf59d87812a03f5948aaf28463e9abb79b52a4
     ]
    }
   ],
   "source": [
<<<<<<< HEAD
    "a = [81,82,83]\n",
    "b = [81,82,83]\n",
    "\n",
    "print(a is b)\n",
    "\n",
    "print(a == b)\n",
    "\n",
    "print(id(a))\n",
    "print(id(b))\n"
=======
    "julia = (\"Julia\", \"Roberts\", 1967, \"Duplicity\", 2009, \"Actress\", \"Atlanta, Georgia\")\n",
    "print(julia[2])\n",
    "print(julia[2:6])\n",
    "\n",
    "print(len(julia))\n",
    "\n",
    "julia = julia[:3] + (\"Eat Pray Love\", 2010) + julia[5:]\n",
    "print(julia)\n"
>>>>>>> f1bf59d87812a03f5948aaf28463e9abb79b52a4
   ]
  },
  {
   "cell_type": "markdown",
   "metadata": {},
   "source": [
<<<<<<< HEAD
    "### Aliasing\n",
    "\n",
    "Since variables refer to objects, if we assign one variable to another, both variables refer to the same object."
=======
<<<<<<< HEAD
    "- For strings and lists, the `+` operator concatenates them. \n",
    "- Similarly, the `*` operator repeats the items in a list/string a given number of times."
=======
    "### Aliasing\n",
    "\n",
    "Since variables refer to objects, if we assign one variable to another, both variables refer to the same object."
>>>>>>> b8485d1b5b9cb239d1a72739538239338db18574
>>>>>>> f1bf59d87812a03f5948aaf28463e9abb79b52a4
   ]
  },
  {
   "cell_type": "code",
   "execution_count": 3,
   "metadata": {},
   "outputs": [
    {
     "name": "stdout",
     "output_type": "stream",
     "text": [
<<<<<<< HEAD
=======
<<<<<<< HEAD
      "[1, 2, 3, 4, 21.4, 5456, 0.7667]\n",
      "podapodapoda\n",
      "('a', 'b', 'a', 'b', 'a', 'b')\n",
      "('b', 'c', 'a', 's')\n"
=======
>>>>>>> f1bf59d87812a03f5948aaf28463e9abb79b52a4
      "True\n",
      "[9, 82, 83]\n",
      "[9, 82, 83]\n",
      "True\n",
      "True\n",
      "a: [81, 82, 83, 91]\n",
      "b: [81, 82, 83, 91]\n"
<<<<<<< HEAD
=======
>>>>>>> b8485d1b5b9cb239d1a72739538239338db18574
>>>>>>> f1bf59d87812a03f5948aaf28463e9abb79b52a4
     ]
    }
   ],
   "source": [
<<<<<<< HEAD
    "a = [81, 82, 83]\n",
    "b = a\n",
    "print(a is b)\n",
    "b[0]=9\n",
    "\n",
    "print(a)\n",
    "print(b)\n",
    "print(a is b)\n",
    "\n",
=======
    "#concat\n",
    "print([1,2,3,4]+[21.4,5456,.7667])\n",
    "\n",
    "#repition\n",
    "print('poda' * 3)\n",
    "\n",
<<<<<<< HEAD
    "print(('a','b')* 3)\n",
    "print(('b','c') + ('a','s')) "
=======
>>>>>>> f1bf59d87812a03f5948aaf28463e9abb79b52a4
    "#aliasing is not recommended for list manipulation\n",
    "a = [81, 82, 83]\n",
    "b = a\n",
    "print(a is b)\n",
    "a.append(91)\n",
    "print('Aliasing is not recommended')\n",
    "print('a:', a)\n",
    "print('b:', b)"
<<<<<<< HEAD
=======
>>>>>>> b8485d1b5b9cb239d1a72739538239338db18574
>>>>>>> f1bf59d87812a03f5948aaf28463e9abb79b52a4
   ]
  },
  {
   "cell_type": "markdown",
   "metadata": {},
   "source": [
<<<<<<< HEAD
    "### Cloning\n",
    "If we want to modify a list and also keep a copy of the original, we need to be able to make a copy of the list itself, not just the reference. This process is sometimes called cloning, to avoid the ambiguity of the word copy."
=======
    "**TWO USEFUL METHODS COUNT AND INDEX**\n",
    "\n",
    "* .count('ha') can be used on strings and list to count the number of times that occured in the string or list. (For strings the parameter should always be string) **It is case sensitive**\n",
    "* .index('ha) For both strings and lists, index returns the leftmost index where the argument is found.(For strings the parameter should always be string)\n"
>>>>>>> f1bf59d87812a03f5948aaf28463e9abb79b52a4
   ]
  },
  {
   "cell_type": "code",
<<<<<<< HEAD
   "execution_count": 8,
=======
   "execution_count": 28,
>>>>>>> f1bf59d87812a03f5948aaf28463e9abb79b52a4
   "metadata": {},
   "outputs": [
    {
     "name": "stdout",
     "output_type": "stream",
     "text": [
<<<<<<< HEAD
      "True\n",
      "False\n",
      "[81, 82, 83]\n",
      "[5, 82, 83]\n"
=======
      "2\n",
      "1\n",
      "0\n",
      "3\n",
      "0\n",
      "2\n",
      "1\n"
>>>>>>> f1bf59d87812a03f5948aaf28463e9abb79b52a4
     ]
    }
   ],
   "source": [
<<<<<<< HEAD
    "a = [81,82,83]\n",
    "\n",
    "b = a[:]       # make a clone using slice\n",
    "print(a == b)\n",
    "print(a is b)\n",
    "\n",
    "b[0] = 5\n",
    "\n",
    "print(a)\n",
    "print(b)\n"
=======
    "a = \"I have had an apple on applemy desk before!\"\n",
    "print(a.count(\"apple\")) # applemy will be counted\n",
    "print(a.count(\"I\")) # case sensitive\n",
    "\n",
    "\n",
    "z = ['atoms', 4, 'neutron', 6, 'proton', 4, 'electron', 4, 'electron', 'atoms', [15]]\n",
    "#list count takes any types\n",
    "print(z.count(\"4\"))\n",
    "print(z.count(4)) #type sensitive\n",
    "print(z.count(\"a\"))\n",
    "print(z.count(\"electron\"))\n",
    "print(z.count([15]))\n",
    "\n",
    "# idea is to spilt the word, remove punctuations and count using the list"
>>>>>>> f1bf59d87812a03f5948aaf28463e9abb79b52a4
   ]
  },
  {
   "cell_type": "code",
<<<<<<< HEAD
   "execution_count": 11,
=======
   "execution_count": 29,
>>>>>>> f1bf59d87812a03f5948aaf28463e9abb79b52a4
   "metadata": {},
   "outputs": [
    {
     "name": "stdout",
     "output_type": "stream",
     "text": [
<<<<<<< HEAD
      "[81, 82, 83]\n",
      "False\n",
      "[81, 82, 83, 81, 82, 83]\n"
=======
      "14\n",
      "9\n",
      "0\n",
      "3\n",
      "6\n"
>>>>>>> f1bf59d87812a03f5948aaf28463e9abb79b52a4
     ]
    }
   ],
   "source": [
<<<<<<< HEAD
    "a = [81, 82, 83]\n",
    "b = a*2\n",
    "\n",
    "print(a)\n",
    "print(a is b)\n",
    "print(b)"
=======
    "music = \"Pull out your music and dancing can begin\"\n",
    "bio = [\"Metatarsal\", \"Metatarsal\", \"Fibula\", [], \"Tibia\", \"Tibia\", 43, \"Femur\", \"Occipital\", \"Metatarsal\"]\n",
    "\n",
    "print(music.index(\"m\"))\n",
    "print(music.index(\"your\"))\n",
    "\n",
    "# take the left most or the first\n",
    "print(bio.index(\"Metatarsal\"))\n",
    "print(bio.index([]))\n",
    "print(bio.index(43))\n"
>>>>>>> f1bf59d87812a03f5948aaf28463e9abb79b52a4
   ]
  },
  {
   "cell_type": "markdown",
   "metadata": {},
   "source": [
<<<<<<< HEAD
    "### List methods (Mutating Methods)"
=======
<<<<<<< HEAD
    "**IMPORTANT STRING METHODS**\n",
    "* The split method breaks a string into a list of words. By default, any number of whitespace characters is considered a word boundary. Pass delimiter as an paramater\n",
    "* The inverse of the split method is join. You choose a desired separator string, (often called the glue) and join the list with the glue between each of the elements. Example: \" \".join(list)"
=======
    "### List methods (Mutating Methods)"
>>>>>>> b8485d1b5b9cb239d1a72739538239338db18574
>>>>>>> f1bf59d87812a03f5948aaf28463e9abb79b52a4
   ]
  },
  {
   "cell_type": "code",
<<<<<<< HEAD
   "execution_count": 43,
=======
<<<<<<< HEAD
   "execution_count": 30,
=======
   "execution_count": 4,
>>>>>>> b8485d1b5b9cb239d1a72739538239338db18574
>>>>>>> f1bf59d87812a03f5948aaf28463e9abb79b52a4
   "metadata": {},
   "outputs": [
    {
     "name": "stdout",
     "output_type": "stream",
     "text": [
<<<<<<< HEAD
      "append\n",
      "[5, 27, 3, 12]\n",
      "insert\n",
      "[5, 12, 27, 3, 12]\n",
      "2\n",
      "index\n",
      "3\n",
      "count\n",
      "1\n",
      "reverse\n",
      "[12, 3, 27, 12, 5]\n",
      "sort\n",
      "[3, 5, 12, 12, 27]\n",
      "remove\n",
      "[3, 12, 12, 27]\n",
      "pop\n",
      "27\n",
      "3\n",
      "[12, 12]\n",
      "Extend\n",
      "[12, 12, 's', 'a']\n"
=======
      "['The r', 'n in Sp', 'n...']\n"
     ]
    }
   ],
   "source": [
    "song = \"The rain in Spain...\"\n",
    "wds = song.split('ai')\n",
    "print(wds)\n"
   ]
  },
  {
   "cell_type": "code",
   "execution_count": 32,
   "metadata": {},
   "outputs": [
    {
     "name": "stdout",
     "output_type": "stream",
     "text": [
      "red;blue;green\n",
      "['red', 'blue', 'green']\n",
      "red***blue***green\n",
      "red blue green\n"
>>>>>>> f1bf59d87812a03f5948aaf28463e9abb79b52a4
     ]
    }
   ],
   "source": [
<<<<<<< HEAD
    "\n",
    "# Adds a new item to the end of a list\n",
    "print(\"append\")\n",
    "mylist = []\n",
    "mylist.append(5)\n",
    "mylist.append(27)\n",
    "mylist.append(3)\n",
    "mylist.append(12)\n",
    "print(mylist)\n",
    "\n",
    "# Inserts a new item at the position given\n",
    "print(\"insert\")\n",
    "mylist.insert(1, 12)\n",
=======
    "wds = [\"red\", \"blue\", \"green\"]\n",
    "glue = ';'\n",
    "s = glue.join(wds)\n",
    "print(s)\n",
    "print(wds)\n",
    "\n",
    "print(\"***\".join(wds))\n",
    "print(\" \".join(wds))\n"
   ]
  },
  {
   "cell_type": "markdown",
   "metadata": {},
   "source": [
    "**----------------------------------------------------------------------------------------------------------------------------------------------------------------------------------------------------**\n",
    "# Iteration\n",
    "\n",
    "* for\n",
    "* while\n",
    "\n",
    "**Iteration by item**\n",
    "Since a `string` is simply a sequence of characters, the for loop iterates over each character automatically.\n",
    "\n",
    "A list is a sequence of items, so the for loop iterates over each item in the list automatically.\n",
    "\n",
    "The anatomy of the `accumulation pattern` includes:\n",
    "1. **initializing** an “accumulator” variable to an initial value (such as 0 if accumulating a sum)\n",
    "2. **iterating** (e.g., traversing the items in a sequence)\n",
    "3. **updating** the accumulator variable on each iteration (i.e., when processing each item in the sequence)\n"
   ]
  },
  {
   "cell_type": "code",
   "execution_count": 1,
   "metadata": {},
   "outputs": [
    {
     "name": "stdout",
     "output_type": "stream",
     "text": [
      "55\n"
     ]
    }
   ],
   "source": [
    "nums = [1, 2, 3, 4, 5, 6, 7, 8, 9, 10]\n",
    "accum = 0\n",
    "for w in nums:\n",
    "    accum = accum + w\n",
    "print(accum)\n"
   ]
  },
  {
   "cell_type": "markdown",
   "metadata": {},
   "source": [
    "**HACKS WITH RANGE**\n",
    "- The range function takes at least one input - which should be an integer - and returns a list as long as your input. "
   ]
  },
  {
   "cell_type": "code",
   "execution_count": 33,
   "metadata": {},
   "outputs": [
    {
     "name": "stdout",
     "output_type": "stream",
     "text": [
      "range(5): \n",
      "0\n",
      "1\n",
      "2\n",
      "3\n",
      "4\n",
      "range(0,5): \n",
      "0\n",
      "1\n",
      "2\n",
      "3\n",
      "4\n",
      "[0, 1, 2, 3, 4]\n",
      "[0, 1, 2, 3, 4]\n",
      "range(0, 5)\n"
     ]
    }
   ],
   "source": [
    "print(\"range(5): \")\n",
    "for i in range(5):\n",
    "    print(i)\n",
    "\n",
    "print(\"range(0,5): \")\n",
    "for i in range(0, 5):\n",
    "    print(i)\n",
    "\n",
    "# Notice the casting of `range` to the `list`\n",
    "print(list(range(5)))\n",
    "print(list(range(0,5)))\n",
    "\n",
    "# Note: `range` function is already casted as `list` in the textbook\n",
    "print(range(5))"
   ]
  },
  {
   "cell_type": "markdown",
   "metadata": {},
   "source": [
    "**Regular programming**"
   ]
  },
  {
   "cell_type": "code",
   "execution_count": 34,
   "metadata": {},
   "outputs": [
    {
     "name": "stdout",
     "output_type": "stream",
     "text": [
      "0 apple\n",
      "1 pear\n",
      "2 apricot\n",
      "3 cherry\n",
      "4 peach\n"
     ]
    }
   ],
   "source": [
    "fruits = ['apple', 'pear', 'apricot', 'cherry', 'peach']\n",
    "for n in range(len(fruits)):\n",
    "    print(n, fruits[n])\n"
   ]
  },
  {
   "cell_type": "markdown",
   "metadata": {},
   "source": [
    "**Pythonic way**"
   ]
  },
  {
   "cell_type": "code",
   "execution_count": 35,
   "metadata": {},
   "outputs": [
    {
     "name": "stdout",
     "output_type": "stream",
     "text": [
      "apple\n",
      "pear\n",
      "apricot\n",
      "cherry\n",
      "peach\n"
     ]
    }
   ],
   "source": [
    "fruits = ['apple', 'pear', 'apricot', 'cherry', 'peach']\n",
    "for fruit in fruits:\n",
    "    print(fruit)\n"
   ]
  },
  {
   "cell_type": "markdown",
   "metadata": {},
   "source": [
    "Python also provides an `enumerate` function which provides a more “pythonic” way of enumerating the items in a list.\n",
    "\n",
    "**---------------------------------------------------------------------------------------------------------------------------------------------------------------------------------------------------**\n",
    "\n",
    "# Conditions\n",
    "\n",
    "There are only two boolean values. **They are True and False. Capitalization is important, since true and false are not boolean values (remember Python is case sensitive).**\n",
    "\n",
    "There are three logical operators: and, or, and not\n",
    "\n",
    "**Note that a string is a substring of itself, and the empty string is a substring of any other string.** (Also note that computer scientists like to think about these edge cases quite carefully!)"
   ]
  },
  {
   "cell_type": "code",
   "execution_count": 36,
   "metadata": {},
   "outputs": [
    {
     "name": "stdout",
     "output_type": "stream",
     "text": [
      "True\n",
      "True\n",
      "True\n",
      "True\n"
     ]
    }
   ],
   "source": [
    "# A string is substring of itself\n",
    "print('a' in 'a')\n",
    "print('apple' in 'apple')\n",
    "\n",
    "# An empty string is a substring of any other string\n",
    "print('' in 'a')\n",
    "print('' in 'apple')"
   ]
  },
  {
   "cell_type": "markdown",
   "metadata": {},
   "source": [
    "### Order of precedence\n",
    "\n",
    "|Level|Category|Operators|\n",
    "|--- | --------|---------|\n",
    "|7(high)|exponent|`**`|\n",
    "|6|multiplication|`*,/,//,%`|\n",
    "|5|addition|+,-|\n",
    "|4|relational|==,!=,<=,>=,>,<|\n",
    "|3|logical|not|\n",
    "|2|logical|and|\n",
    "|1(low)|logical|or|\n",
    "\n",
    "**---------------------------------------------------------------------------------------------------------------------------------------------------------------------------------------------------**"
   ]
  },
  {
   "cell_type": "markdown",
   "metadata": {},
   "source": [
    "# Transforming Sequences\n",
    "\n",
    "An assignment to an element of a list is called item assignment. Item assignment does not work for strings.\n",
    "\n",
    "**strings are immutable like tuple i.e., item assignment doesn't work.** \n",
    "\n",
    "We can also remove elements from a list by assigning the empty list."
   ]
  },
  {
   "cell_type": "code",
   "execution_count": 1,
   "metadata": {},
   "outputs": [
    {
     "name": "stdout",
     "output_type": "stream",
     "text": [
      "['a', 'd', 'e', 'f']\n"
     ]
    }
   ],
   "source": [
    "alist = ['a', 'b', 'c', 'd', 'e', 'f']\n",
    "alist[1:3] = []\n",
    "print(alist)\n"
   ]
  },
  {
   "cell_type": "code",
   "execution_count": 1,
   "metadata": {},
   "outputs": [
    {
     "name": "stdout",
     "output_type": "stream",
     "text": [
      "['a', 'b', 'c', 'd', 'f']\n",
      "['a', 'b', 'c', 'd', 'e', 'f']\n"
     ]
    }
   ],
   "source": [
    "# We can even insert elements into a list by squeezing them into an empty slice at the desired location. **Squeezing**\n",
    "\n",
    "alist = ['a', 'd', 'f']\n",
    "alist[1:1] = ['b', 'c']\n",
    "print(alist)\n",
    "alist[4:4] = ['e']\n",
    "print(alist)\n"
   ]
  },
  {
   "cell_type": "code",
   "execution_count": 4,
   "metadata": {},
   "outputs": [
    {
     "name": "stdout",
     "output_type": "stream",
     "text": [
      "['one', 'three']\n",
      "['three']\n"
     ]
    }
   ],
   "source": [
    "#list delete\n",
    "\n",
    "a = ['one', 'two', 'three']\n",
    "del a[1]\n",
    "print(a)\n",
    "\n",
    "a[0:1]=[]\n",
    "print(a)"
   ]
  },
  {
   "cell_type": "markdown",
   "metadata": {},
   "source": [
    "### Objects and reference list and strings\n",
    "\n",
    "Strings\n",
    "- AS strings are immutable, the Python interpreter often optimizes resources by making two names that refer to the same string value refer to the same object. \n",
    "- You shouldn’t count on this (that is, use == to compare strings, not is), but don’t be surprised if you find that two variables,each bound to the string “banana”, have the same id..\n",
    "\n",
    "Lists\n",
    "- This is not the case with lists, which never share an id just because they have the same contents. Consider the following example. \n",
    "- Here, a and b refer to two different lists, each of which happens to have the same element values. **They need to have different ids so that mutations of list a do not affect list b.**"
   ]
  },
  {
   "cell_type": "code",
   "execution_count": 2,
   "metadata": {},
   "outputs": [
    {
     "name": "stdout",
     "output_type": "stream",
     "text": [
      "2554335250800\n",
      "2554335250800\n",
      "True\n",
      "True\n"
     ]
    }
   ],
   "source": [
    "a = \"banana\"\n",
    "b = \"banana\"\n",
    "\n",
    "print(id(a))\n",
    "print(id(b))\n",
    "\n",
    "print(a is b)\n",
    "print(a==b)"
   ]
  },
  {
   "cell_type": "code",
   "execution_count": 6,
   "metadata": {},
   "outputs": [
    {
     "name": "stdout",
     "output_type": "stream",
     "text": [
      "False\n",
      "True\n",
      "140224138587528\n",
      "140224138587784\n"
     ]
    }
   ],
   "source": [
    "a = [81,82,83]\n",
    "b = [81,82,83]\n",
    "\n",
    "print(a is b)\n",
    "\n",
    "print(a == b)\n",
    "\n",
    "print(id(a))\n",
    "print(id(b))\n"
   ]
  },
  {
   "cell_type": "markdown",
   "metadata": {},
   "source": [
    "### Aliasing\n",
    "\n",
    "Since variables refer to objects, if we assign one variable to another, both variables refer to the same object."
   ]
  },
  {
   "cell_type": "code",
   "execution_count": 3,
   "metadata": {},
   "outputs": [
    {
     "name": "stdout",
     "output_type": "stream",
     "text": [
      "True\n",
      "[9, 82, 83]\n",
      "[9, 82, 83]\n",
      "True\n",
      "True\n",
      "a: [81, 82, 83, 91]\n",
      "b: [81, 82, 83, 91]\n"
     ]
    }
   ],
   "source": [
    "a = [81, 82, 83]\n",
    "b = a\n",
    "print(a is b)\n",
    "b[0]=9\n",
    "\n",
    "print(a)\n",
    "print(b)\n",
    "print(a is b)\n",
    "\n",
    "#aliasing is not recommended for list manipulation\n",
    "a = [81, 82, 83]\n",
    "b = a\n",
    "print(a is b)\n",
    "a.append(91)\n",
    "print('Aliasing is not recommended')\n",
    "print('a:', a)\n",
    "print('b:', b)"
   ]
  },
  {
   "cell_type": "markdown",
   "metadata": {},
   "source": [
    "### Cloning\n",
    "If we want to modify a list and also keep a copy of the original, we need to be able to make a copy of the list itself, not just the reference. This process is sometimes called cloning, to avoid the ambiguity of the word copy."
   ]
  },
  {
   "cell_type": "code",
   "execution_count": 8,
   "metadata": {},
   "outputs": [
    {
     "name": "stdout",
     "output_type": "stream",
     "text": [
      "True\n",
      "False\n",
      "[81, 82, 83]\n",
      "[5, 82, 83]\n"
     ]
    }
   ],
   "source": [
    "a = [81,82,83]\n",
    "\n",
    "b = a[:]       # make a clone using slice\n",
    "print(a == b)\n",
    "print(a is b)\n",
    "\n",
    "b[0] = 5\n",
    "\n",
    "print(a)\n",
    "print(b)\n"
   ]
  },
  {
   "cell_type": "code",
   "execution_count": 11,
   "metadata": {},
   "outputs": [
    {
     "name": "stdout",
     "output_type": "stream",
     "text": [
      "[81, 82, 83]\n",
      "False\n",
      "[81, 82, 83, 81, 82, 83]\n"
     ]
    }
   ],
   "source": [
    "a = [81, 82, 83]\n",
    "b = a*2\n",
    "\n",
    "print(a)\n",
    "print(a is b)\n",
    "print(b)"
   ]
  },
  {
   "cell_type": "markdown",
   "metadata": {},
   "source": [
    "### List methods (Mutating Methods)"
   ]
  },
  {
   "cell_type": "code",
   "execution_count": 4,
   "metadata": {},
   "outputs": [
    {
     "name": "stdout",
     "output_type": "stream",
     "text": [
      "append\n",
      "[5, 27, 3, 12]\n",
      "insert\n",
      "[5, 12, 27, 3, 12]\n",
      "2\n",
      "index\n",
      "3\n",
      "count\n",
      "1\n",
      "reverse\n",
      "[12, 3, 27, 12, 5]\n",
      "sort\n",
      "[3, 5, 12, 12, 27]\n",
      "remove\n",
      "[3, 12, 12, 27]\n",
      "pop\n",
      "27\n",
      "3\n",
      "[12, 12]\n"
     ]
    }
   ],
   "source": [
    "\n",
    "# Adds a new item to the end of a list\n",
    "print(\"append\")\n",
    "mylist = []\n",
    "mylist.append(5)\n",
    "mylist.append(27)\n",
    "mylist.append(3)\n",
    "mylist.append(12)\n",
    "print(mylist)\n",
    "\n",
    "# Inserts a new item at the position given\n",
    "print(\"insert\")\n",
    "mylist.insert(1, 12)\n",
    "print(mylist)\n",
    "print(mylist.count(12))\n",
    "\n",
    "# Returns the position of first occurrence of item\n",
    "print(\"index\")\n",
    "print(mylist.index(3))\n",
    "\n",
    "# Returns the number of occurrences of item\n",
    "print(\"count\")\n",
    "print(mylist.count(5))\n",
    "\n",
    "# Modifies a list to be in reverse order\n",
    "print(\"reverse\")\n",
    "mylist.reverse()\n",
    "print(mylist)\n",
    "\n",
    "# Modifies a list to be sorted\n",
    "print(\"sort\")\n",
    "mylist.sort()\n",
    "print(mylist)\n",
    "\n",
    "# Removes the first occurrence of item\n",
    "print(\"remove\")\n",
    "mylist.remove(5)\n",
    "print(mylist)\n",
    "\n",
    "# Removes and returns the last item\n",
    "print(\"pop\")\n",
    "lastitem = mylist.pop()\n",
    "print(lastitem)\n",
    "first = mylist.pop(0)\n",
    "print(first)\n",
    "print(mylist)"
   ]
  },
  {
   "cell_type": "markdown",
   "metadata": {},
   "source": [
    "**NOTE**:\n",
    "\n",
    "  It is important to remember that methods like append, sort, and reverse all return None. They change the list; they don’t produce a new list. So, while we did reassignment to increment a number, as in x = x + 1, doing the analogous thing with these operations will lose the entire list contents.\n",
    "  "
   ]
  },
  {
   "cell_type": "code",
   "execution_count": 11,
   "metadata": {},
   "outputs": [
    {
     "name": "stdout",
     "output_type": "stream",
     "text": [
      "[5, 27, 3, 12]\n",
      "None\n"
     ]
    }
   ],
   "source": [
    "mylist = []\n",
    "mylist.append(5)\n",
    "mylist.append(27)\n",
    "mylist.append(3)\n",
    "mylist.append(12)\n",
    "print(mylist)\n",
    "\n",
    "# it returns none\n",
    "mylist = mylist.sort()   #probably an error\n",
    "print(mylist)"
   ]
  },
  {
   "cell_type": "markdown",
   "metadata": {},
   "source": [
    "### Append vs Concatenate\n",
    "\n",
    "- `append` method adds a new item to the end of a list. The result list has the same ID\n",
    "- `concatenate` methods adds a new list, but the result list has difference ID.\n"
   ]
  },
  {
   "cell_type": "code",
   "execution_count": 6,
   "metadata": {},
   "outputs": [
    {
     "name": "stdout",
     "output_type": "stream",
     "text": [
      "origlist: [45, 32, 88]\n",
      "the identifier: 2554325223176\n",
      "newlist: [45, 32, 88, 'cat']\n",
      "the identifier: 2554335229000\n",
      "origlist: [45, 32, 88, 'cat']\n",
      "the identifier: 2554325223176\n"
     ]
    }
   ],
   "source": [
    "origlist = [45,32,88]\n",
    "print(\"origlist:\", origlist)\n",
    "print(\"the identifier:\", id(origlist))             #id of the list before changes\n",
    "newlist = origlist + ['cat']\n",
    "print(\"newlist:\", newlist)\n",
    "print(\"the identifier:\", id(newlist))              #id of the list after concatentation\n",
    "origlist.append('cat')\n",
    "print(\"origlist:\", origlist)\n",
    "print(\"the identifier:\", id(origlist))             #id of the list after append is used\n"
   ]
  },
  {
   "cell_type": "markdown",
   "metadata": {},
   "source": [
    "### String methods (non mutating methods)"
   ]
  },
  {
   "cell_type": "code",
   "execution_count": 8,
   "metadata": {},
   "outputs": [
    {
     "name": "stdout",
     "output_type": "stream",
     "text": [
      "upper\n",
      "ASDFGH\n",
      "lower\n",
      "asdfgh\n",
      "count\n",
      "1\n",
      "item\n",
      "1\n",
      "strip\n",
      "sadsfdgf\n",
      "replace\n",
      "tadtfdgf\n",
      "Hello Rodney Dangerfield. Your score is -1.\n",
      "Hello Marlon Brando. Your score is 1.\n",
      "Hello You. Your score is 100.\n"
     ]
    }
   ],
   "source": [
    "print(\"upper\")\n",
    "\n",
    "#parameter: none\n",
    "#Returns a string in all uppercase\n",
    "s = 'asdfgh'\n",
    "s =s.upper()\n",
    "print(s)\n",
    "\n",
    "# lower\n",
    "print(\"lower\")\n",
    "# parameter: none\n",
    "# Returns a string in all lowercase\n",
    "s = s.lower()\n",
    "print(s)\n",
    "\n",
    "# count\n",
    "# parameter: item\n",
    "# Returns the number of occurrences of item\n",
    "print(\"count\")\n",
    "print(s.count('s'))\n",
    "\n",
    "# index\n",
    "# parameter: item\n",
    "# Returns the leftmost index where the substring item is found and causes a runtime error if item is not found\n",
    "print(\"item\")\n",
    "print(s.index('s'))\n",
    "\n",
    "# strip\n",
    "# parameter:none\n",
    "# Returns a string with the leading and trailing whitespace removed\n",
    "print(\"strip\")\n",
    "s= ' sadsfdgf'\n",
    "s = s.strip()\n",
    "print(s)\n",
    "\n",
    "\n",
    "# replace\n",
    "# old, new\n",
    "# Replaces all occurrences of old substring with new\n",
    "print(\"replace\")\n",
    "s=s.replace('s','t')\n",
    "print(s)\n",
    "\n",
    "\n",
    "# format\n",
    "# substitutions\n",
    "# Involved! See String Format Method, below\n",
    "scores = [(\"Rodney Dangerfield\", -1), (\"Marlon Brando\", 1), (\"You\", 100)]\n",
    "for person in scores:\n",
    "    name = person[0]\n",
    "    score = person[1]\n",
    "    print(\"Hello {}. Your score is {}.\".format(name, score))"
   ]
  },
  {
   "cell_type": "code",
   "execution_count": 10,
   "metadata": {},
   "outputs": [
    {
     "name": "stdout",
     "output_type": "stream",
     "text": [
      "Enter the original price: $34\n",
      "Enter discount percentage: 5\n",
      "34.00 discounted by 5.0% is $32.3.\n"
     ]
    }
   ],
   "source": [
    "origPrice = float(input('Enter the original price: $'))\n",
    "discount = float(input('Enter discount percentage: '))\n",
    "newPrice = (1 - discount/100)*origPrice\n",
    "calculation = f'{origPrice:0.2f} discounted by {discount}% is ${newPrice}.'\n",
    "print(calculation)\n"
   ]
  },
  {
   "cell_type": "code",
   "execution_count": 13,
   "metadata": {},
   "outputs": [
    {
     "name": "stdout",
     "output_type": "stream",
     "text": [
      "Hello, Sally. 1.\n"
     ]
    }
   ],
   "source": [
    "name = \"Sally\"\n",
    "greeting = 1 # get casted to string\n",
    "s = f\"Hello, {name}. {greeting}.\"\n",
    "print(s)"
   ]
  },
  {
   "cell_type": "markdown",
   "metadata": {},
   "source": [
    "### Don't mutate a list that you are iterating"
   ]
  },
  {
   "cell_type": "code",
   "execution_count": 2,
   "metadata": {},
   "outputs": [
    {
     "name": "stdout",
     "output_type": "stream",
     "text": [
      "Red\n",
      "Orange\n",
      "Yellow\n",
      "Green\n",
      "Blue\n",
      "Violet\n",
      "Purple\n",
      "Brown\n",
      "Turquois\n",
      "Beige\n"
     ]
    },
    {
     "ename": "IndexError",
     "evalue": "list index out of range",
     "output_type": "error",
     "traceback": [
      "\u001b[1;31m---------------------------------------------------------------------------\u001b[0m",
      "\u001b[1;31mIndexError\u001b[0m                                Traceback (most recent call last)",
      "\u001b[1;32m<ipython-input-2-54875101d250>\u001b[0m in \u001b[0;36m<module>\u001b[1;34m\u001b[0m\n\u001b[0;32m      3\u001b[0m \u001b[1;33m\u001b[0m\u001b[0m\n\u001b[0;32m      4\u001b[0m \u001b[1;32mfor\u001b[0m \u001b[0mposition\u001b[0m \u001b[1;32min\u001b[0m \u001b[0mrange\u001b[0m\u001b[1;33m(\u001b[0m\u001b[0mlen\u001b[0m\u001b[1;33m(\u001b[0m\u001b[0mcolors\u001b[0m\u001b[1;33m)\u001b[0m\u001b[1;33m)\u001b[0m\u001b[1;33m:\u001b[0m\u001b[1;33m\u001b[0m\u001b[1;33m\u001b[0m\u001b[0m\n\u001b[1;32m----> 5\u001b[1;33m     \u001b[0mcolor\u001b[0m \u001b[1;33m=\u001b[0m \u001b[0mcolors\u001b[0m\u001b[1;33m[\u001b[0m\u001b[0mposition\u001b[0m\u001b[1;33m]\u001b[0m\u001b[1;33m\u001b[0m\u001b[1;33m\u001b[0m\u001b[0m\n\u001b[0m\u001b[0;32m      6\u001b[0m     \u001b[0mprint\u001b[0m\u001b[1;33m(\u001b[0m\u001b[0mcolor\u001b[0m\u001b[1;33m)\u001b[0m\u001b[1;33m\u001b[0m\u001b[1;33m\u001b[0m\u001b[0m\n\u001b[0;32m      7\u001b[0m     \u001b[1;32mif\u001b[0m \u001b[0mcolor\u001b[0m\u001b[1;33m[\u001b[0m\u001b[1;36m0\u001b[0m\u001b[1;33m]\u001b[0m \u001b[1;32min\u001b[0m \u001b[1;33m[\u001b[0m\u001b[1;34m\"P\"\u001b[0m\u001b[1;33m,\u001b[0m \u001b[1;34m\"B\"\u001b[0m\u001b[1;33m,\u001b[0m \u001b[1;34m\"T\"\u001b[0m\u001b[1;33m]\u001b[0m\u001b[1;33m:\u001b[0m\u001b[1;33m\u001b[0m\u001b[1;33m\u001b[0m\u001b[0m\n",
      "\u001b[1;31mIndexError\u001b[0m: list index out of range"
     ]
    }
   ],
   "source": [
    "# the error is expected since we delete elements from the list\n",
    "colors = [\"Red\", \"Orange\", \"Yellow\", \"Green\", \"Blue\", \"Indigo\", \"Violet\", \"Purple\", \"Pink\", \"Brown\", \"Teal\", \"Turquois\", \"Peach\", \"Beige\"]\n",
    "\n",
    "for position in range(len(colors)):\n",
    "    color = colors[position]\n",
    "    print(color)\n",
    "    if color[0] in [\"P\", \"B\", \"T\"]:\n",
    "        del colors[position]\n",
    "\n",
    "print(colors)"
   ]
  },
  {
   "cell_type": "markdown",
   "metadata": {},
   "source": [
    "**---------------------------------------------------------------------------------------------------------------------------------------------------------------------------------------------------**\n",
    "\n",
    "# Files\n",
    "\n",
    "|Method Name|Use|Explanation|\n",
    "|-----------|---|-----------|\n",
    "|write|filevar.write(astring)|Add a string to the end of the file. filevar must refer to a file that has been opened for writing.|\n",
    "|read(n)|filevar.read()|Read and return a string of n characters, or the entire file as a single string if n is not provided.|\n",
    "|readline(n)|filevar.readline()|Read and return the next line of the file with all text up to and including the newline character. If n is provided as a parameter, then only n characters will be returned if the line is longer than n. Note the parameter n is not supported in the browser version of Python, and in fact is rarely used in practice, you can safely ignore it.|\n",
    "|readlines(n)|filevar.readlines()|Returns a list of strings, each representing a single line of the file. If n is not provided then all lines of the file are returned. If n is provided then n characters are read but n is rounded up so that an entire line is returned. Note Like readline readlines ignores the parameter n in the browser.|\n",
    "\n"
   ]
  },
  {
   "cell_type": "markdown",
   "metadata": {},
   "source": [
    "### sample code\n",
    "```\n",
    "fileref = open(\"travel_plans2.txt\", \"r\")\n",
    "file = fileref.readlines()\n",
    "num_lines = len(file)\n",
    "fileref.close()\n",
    "```"
   ]
  },
  {
   "cell_type": "markdown",
   "metadata": {},
   "source": [
    "**efficient processing**: Python provides a built-in way to iterate through the contents of a file one line at a time, without first reading them all into a list.\n",
    "\n",
    "```\n",
    "olypmicsfile = open(\"olypmics.txt\", \"r\")\n",
    "\n",
    "for aline in olypmicsfile:\n",
    "    values = aline.split(\",\")\n",
    "    print(values)\n",
    "    print(values[0], \"is from\", values[3], \"and is on the roster for\", values[4])\n",
    "\n",
    "olypmicsfile.close()\n",
    "```\n",
    "\n",
    "But the we have to handle the `\\n` new line character at the end."
   ]
  },
  {
   "cell_type": "markdown",
   "metadata": {},
   "source": [
    "### Using with \n",
    "\n",
    "- The first line of the with statement opens the file and assigns it to the variable md. \n",
    "- Then we can iterate over the file in any of the usual ways. \n",
    "- When we are done we simply stop indenting and let Python take care of closing the file and cleaning up. \n",
    "\n",
    "```\n",
    "with open('mydata.txt', 'r') as md:\n",
    "    for line in md:\n",
    "        print(line)\n",
    "```"
   ]
  },
  {
   "cell_type": "markdown",
   "metadata": {},
   "source": [
    "### Reading csv\n",
    "\n",
    "We are using csv to strip the `\\n` characters\n",
    "\n",
    "```\n",
    " fileconnection = open(\"olympics.txt\", 'r')\n",
    " lines = fileconnection.readlines()\n",
    " header = lines[0]\n",
    " field_names = header.strip().split(',')\n",
    " print(field_names)\n",
    " for row in lines[1:]:\n",
    "     vals = row.strip().split(',')\n",
    "     if vals[5] != \"NA\":\n",
    "         print(\"{}: {}; {}\".format(\n",
    "                 vals[0],\n",
    "                 vals[4],\n",
    "                 vals[5]))\n",
    "```\n",
    "\n",
    "### Writing csv\n",
    "\n",
    "```\n",
    "olympians = [(\"John Aalberg\", 31, \"Cross Country Skiing, 15KM\"),\n",
    "             (\"Minna Maarit Aalto\", 30, \"Sailing\"),\n",
    "             (\"Win Valdemar Aaltonen\", 54, \"Art Competitions\"),\n",
    "             (\"Wakako Abe\", 18, \"Cycling\")]\n",
    "\n",
    "outfile = open(\"reduced_olympics2.csv\", \"w\")\n",
    "# output the header row\n",
    "outfile.write('\"Name\",\"Age\",\"Sport\"')\n",
    "outfile.write('\\n')\n",
    "# output each of the rows:\n",
    "for olympian in olympians:\n",
    "    row_string = '\"{}\", \"{}\", \"{}\"'.format(olympian[0], olympian[1], olympian[2])\n",
    "    outfile.write(row_string)\n",
    "    outfile.write('\\n')\n",
    "outfile.close()\n",
    "```\n",
    "**---------------------------------------------------------------------------------------------------------------------------------------------------------------------------------------------------**"
   ]
  },
  {
   "cell_type": "markdown",
   "metadata": {},
   "source": [
    "# Dictionary\n",
    "\n",
    "- unordered collection and mutable\n",
    "\n",
    "#### Operations\n",
    "- Use `del` to delete key, values in dict\n",
    "- `len` function is used to determine the number of key- value pairs"
   ]
  },
  {
   "cell_type": "code",
   "execution_count": 1,
   "metadata": {},
   "outputs": [
    {
     "data": {
      "text/plain": [
       "3"
      ]
     },
     "execution_count": 1,
     "metadata": {},
     "output_type": "execute_result"
    }
   ],
   "source": [
    "mydict = {\"cat\":12, \"dog\":6, \"elephant\":23, \"human\":34445}\n",
    "\n",
    "# delete\n",
    "del mydict['human']\n",
    "\n",
    "# length\n",
    "len(mydict)"
   ]
  },
  {
   "cell_type": "code",
   "execution_count": 19,
   "metadata": {},
   "outputs": [
    {
     "name": "stdout",
     "output_type": "stream",
     "text": [
      "dict_keys(['apples', 'bananas', 'oranges', 'pears'])\n",
      "['apples', 'bananas', 'oranges', 'pears']\n",
      "\n",
      "\n",
      "iterating over a dictionary implicitly iterates over its keys.\n",
      "Got key apples\n",
      "Got key bananas\n",
      "Got key oranges\n",
      "Got key pears\n",
      "\n",
      "\n",
      "values: Returns a view of the values in the dictionary\n",
      "[430, 312, 525, 217]\n",
      "\n",
      "\n",
      "items Returns a view of the key-value pairs in the dictionary\n",
      "dict_items([('apples', 430), ('bananas', 312), ('oranges', 525), ('pears', 217)])\n",
      "\n",
      "\n",
      "get returns the value associated with key; None otherwise\n",
      "430\n",
      "None\n",
      "\n",
      "\n",
      "get(item,alter) Returns the value associated with key; alternative- alt otherwise\n",
      "0\n",
      "\n",
      "\n"
     ]
    }
   ],
   "source": [
    "inventory = {'apples': 430, 'bananas': 312, 'oranges': 525, 'pears': 217}\n",
    "\n",
    "#*keys*\n",
    "#parameter: none\n",
    "#Returns a view of the keys in the dictionary\n",
    "print(inventory.keys())\n",
    "#convert to a list\n",
    "print(list(inventory.keys()))\n",
    "print('\\n')\n",
    "\n",
    "\n",
    "print('iterating over a dictionary implicitly iterates over its keys.')\n",
    "for k in inventory:\n",
    "    print(\"Got key\", k)\n",
    "print('\\n')\n",
    "\n",
    "\n",
    "# *values*\n",
    "# parameter: none\n",
    "print('values: Returns a view of the values in the dictionary')\n",
    "print(list(inventory.values()))\n",
    "print('\\n')\n",
    "\n",
    "# *items*\n",
    "# parameter: none\n",
    "print('items Returns a view of the key-value pairs in the dictionary')\n",
    "print(inventory.items())\n",
    "print('\\n')\n",
    "\n",
    "# *get*\n",
    "# parameter: key\n",
    "print('get returns the value associated with key; None otherwise')\n",
    "print(inventory.get('apples'))\n",
    "print(inventory.get('apple'))\n",
    "print('\\n')\n",
    "\n",
    "\n",
    "# *get*\n",
    "# parameter: key,alt\n",
    "print('get(item,alter) Returns the value associated with key; alternative- alt otherwise')\n",
    "print(inventory.get('apple',0))\n",
    "print('\\n')"
   ]
  },
  {
   "cell_type": "markdown",
   "metadata": {},
   "source": [
    "## Aliasing and copying"
   ]
  },
  {
   "cell_type": "markdown",
   "metadata": {},
   "source": [
    "- Because dictionaries are mutable, whenever two variables refer to the same dictionary object, changes to one affect the other. For example, opposites is a dictionary that contains pairs of opposites."
   ]
  },
  {
   "cell_type": "code",
   "execution_count": 21,
   "metadata": {},
   "outputs": [
    {
     "name": "stdout",
     "output_type": "stream",
     "text": [
      "True\n",
      "left\n"
     ]
    }
   ],
   "source": [
    "opposites = {'up': 'down', 'right': 'wrong', 'true': 'false'}\n",
    "alias = opposites\n",
    "\n",
    "print(alias is opposites)\n",
    "\n",
    "alias['right'] = 'left'\n",
    "print(opposites['right'])\n"
   ]
  },
  {
   "cell_type": "markdown",
   "metadata": {},
   "source": [
    "- To modify a dictionary and keep a copy of the original, use the dictionary `copy` method."
   ]
  },
  {
   "cell_type": "code",
   "execution_count": 23,
   "metadata": {},
   "outputs": [
    {
     "data": {
      "text/plain": [
       "'wrong'"
      ]
     },
     "execution_count": 23,
     "metadata": {},
     "output_type": "execute_result"
    }
   ],
   "source": [
    "opposites = {'up': 'down', 'right': 'wrong', 'true': 'false'}\n",
    "acopy = opposites.copy()\n",
    "acopy['right'] = 'left'\n",
    "opposites['right']"
   ]
  },
  {
   "cell_type": "code",
   "execution_count": 25,
   "metadata": {},
   "outputs": [
    {
     "data": {
      "text/plain": [
       "10"
      ]
     },
     "execution_count": 25,
     "metadata": {},
     "output_type": "execute_result"
    }
   ],
   "source": [
    "# using tuple as it is immutable\n",
    "dict_tuple ={('US','Chicago'): 10, ('US','Penn'): 34}\n",
    "dict_tuple[('US','Chicago')]"
   ]
  },
  {
   "cell_type": "markdown",
   "metadata": {},
   "source": [
    "**---------------------------------------------------------------------------------------------------------------------------------------------------------------------------------------------------**\n",
    "\n",
    "## Functions\n",
    "\n",
    "- Functions that return values are sometimes called **fruitful functions**.\n",
    "- In many other languages, a function that doesn’t return a value is called a **procedure**, but we will stick here with the Python way of also calling it a function, or if we want to stress it, a non-fruitful function.\n",
    "- All **Python functions return the special value `None`** unless there is an explicit return statement with a value other than None.\n",
    "- A return statement, once executed, immediately terminates execution of a function, even if it is not the last statement in the function.\n",
    "- process of breaking a problem into smaller subproblems is called **functional decomposition**.\n",
    "    "
   ]
  },
  {
   "cell_type": "markdown",
   "metadata": {},
   "source": [
    "#### Mutable object side effects\n",
    "\n",
    "The global variable which is a `list` could be changed if made changes within a function."
   ]
  },
  {
   "cell_type": "code",
   "execution_count": 15,
   "metadata": {},
   "outputs": [
    {
     "name": "stdout",
     "output_type": "stream",
     "text": [
      "5\n",
      "['Michigan', 'Wolverines', 'are', 'awesome']\n",
      "None\n"
     ]
    }
   ],
   "source": [
    "def double(y):\n",
    "    y = 2 * y\n",
    "\n",
    "def changeit(lst):\n",
    "    lst[0] = \"Michigan\"\n",
    "    lst[1] = \"Wolverines\"\n",
    "\n",
    "y = 5\n",
    "double(y)\n",
    "print(y)\n",
    "\n",
    "mylst = ['our', 'students', 'are', 'awesome']\n",
    "changeit(mylst)\n",
    "print(mylst)\n",
    "\n",
    "\n",
    "v = changeit(mylst) # This would return None as there is no return statement\n",
    "print(v)"
   ]
  },
  {
   "cell_type": "markdown",
   "metadata": {},
   "source": [
    "**---------------------------------------------------------------------------------------------------------------------------------------------------------------------------------------------------**\n",
    "## Tuple Packing\n",
    "\n",
    "- Wherever python expects a single value, if multiple expressions are provided, separated by commas, they are automatically packed into a tuple. \n",
    "- For example, we can omit the parentheses when assigning a tuple of values to a single variable."
   ]
  },
  {
   "cell_type": "code",
   "execution_count": 8,
   "metadata": {},
   "outputs": [
    {
     "name": "stdout",
     "output_type": "stream",
     "text": [
      "2009\n"
     ]
    }
   ],
   "source": [
    "julia = (\"Julia\", \"Roberts\", 1967, \"Duplicity\", 2009, \"Actress\", \"Atlanta, Georgia\")\n",
    "# or equivalently\n",
    "julia = \"Julia\", \"Roberts\", 1967, \"Duplicity\", 2009, \"Actress\", \"Atlanta, Georgia\"\n",
    "print(julia[4])"
   ]
  },
  {
   "cell_type": "markdown",
   "metadata": {},
   "source": [
    "- Python has a very powerful tuple assignment feature that allows a tuple of variable names on the left of an assignment statement to be assigned values from a tuple on the right of the assignment.\n",
    "- Another way to think of this is that the **tuple of values is unpacked into the variable names**."
   ]
  },
  {
   "cell_type": "code",
   "execution_count": 9,
   "metadata": {},
   "outputs": [
    {
     "name": "stdout",
     "output_type": "stream",
     "text": [
      "Julia\n"
     ]
    }
   ],
   "source": [
    "julia = \"Julia\", \"Roberts\", 1967, \"Duplicity\", 2009, \"Actress\", \"Atlanta, Georgia\"\n",
    "\n",
    "name, surname, birth_year, movie, movie_year, profession, birth_place = julia\n",
    "\n",
    "print(name)"
   ]
  },
  {
   "cell_type": "markdown",
   "metadata": {},
   "source": [
    "#### Pythonic way for swapping values\n",
    "\n",
    "- we dont need to use a temp variable"
   ]
  },
  {
   "cell_type": "code",
   "execution_count": 27,
   "metadata": {},
   "outputs": [
    {
     "name": "stdout",
     "output_type": "stream",
     "text": [
      "2 1\n"
     ]
    }
   ],
   "source": [
    "a = 1\n",
    "b = 2\n",
    "(a, b) = (b, a)\n",
    "print(a, b)"
   ]
  },
  {
   "cell_type": "markdown",
   "metadata": {},
   "source": [
    "#### Pythonic approach to enumerating items in a sequence."
   ]
  },
  {
   "cell_type": "code",
   "execution_count": 11,
   "metadata": {},
   "outputs": [
    {
     "name": "stdout",
     "output_type": "stream",
     "text": [
      "0 apple\n",
      "1 pear\n",
      "2 apricot\n",
      "3 cherry\n",
      "4 peach\n"
     ]
    }
   ],
   "source": [
    "fruits = ['apple', 'pear', 'apricot', 'cherry', 'peach']\n",
    "for idx, fruit in enumerate(fruits):\n",
    "    print(idx, fruit)"
   ]
  },
  {
   "cell_type": "markdown",
   "metadata": {},
   "source": [
    "####  Unpacking Tuples as Arguments to Function Calls"
   ]
  },
  {
   "cell_type": "code",
   "execution_count": 12,
   "metadata": {},
   "outputs": [
    {
     "name": "stdout",
     "output_type": "stream",
     "text": [
      "7\n",
      "9\n"
     ]
    }
   ],
   "source": [
    "#Passing tuple as a parameter\n",
    "def add(x, y):\n",
    "    return x + y\n",
    "\n",
    "print(add(3, 4))\n",
    "z = (5, 4)\n",
    "print(add(*z)) # this line will cause the values to be unpacked\n"
   ]
  },
  {
   "cell_type": "markdown",
   "metadata": {},
   "source": [
    "**---------------------------------------------------------------------------------------------------------------------------------------------------------------------------------------------------**\n",
    "\n",
    "# More Iteration: while\n",
    "\n",
    "- use a for loop whenever it will be known at the beginning of the iteration process how many times the block of code needs to be executed.\n",
    "- One very common pattern is called a **listener loop**. Inside the while loop there is a function call to get user input. "
   ]
  },
  {
   "cell_type": "code",
   "execution_count": 30,
   "metadata": {},
   "outputs": [
    {
     "name": "stdout",
     "output_type": "stream",
     "text": [
      "next number to add up (enter 0 if no more numbers): 5\n",
      "next number to add up (enter 0 if no more numbers): 6\n",
      "next number to add up (enter 0 if no more numbers): 7\n",
      "next number to add up (enter 0 if no more numbers): 23\n",
      "next number to add up (enter 0 if no more numbers): -1\n",
      "next number to add up (enter 0 if no more numbers): -1\n",
      "next number to add up (enter 0 if no more numbers): -1\n",
      "next number to add up (enter 0 if no more numbers): -1\n",
      "next number to add up (enter 0 if no more numbers): 0\n",
      "37\n"
     ]
    }
   ],
   "source": [
    "theSum = 0\n",
    "x = -1\n",
    "\n",
    "while (x != 0):\n",
    "    x = int(input(\"next number to add up (enter 0 if no more numbers): \"))\n",
    "    theSum = theSum + x\n",
    "\n",
    "print(theSum)"
   ]
  },
  {
   "cell_type": "markdown",
   "metadata": {},
   "source": [
    "- total - this will start at zero\n",
    "- count - the number of items, which also starts at zero\n",
    "- moreItems - a boolean that tells us whether more items are waiting; this starts as True\n",
    "\n",
    "```\n",
    "while moreItems\n",
    "    ask for price\n",
    "    add price to total\n",
    "    add one to count\n",
    "```"
   ]
  },
  {
   "cell_type": "markdown",
   "metadata": {},
   "source": [
    "### Break and Continue\n",
    "\n",
    "- break allows the program to immediately ‘break out’ of the loop, regardless of the loop’s conditional structure.\n",
    "- continue allows the program to immediately “continue” with the next iteration. The program will skip the rest of the iteration, recheck the condition, and maybe does another iteration depending on the condition set for the while loop."
   ]
  },
  {
   "cell_type": "code",
   "execution_count": 18,
   "metadata": {},
   "outputs": [
    {
     "name": "stdout",
     "output_type": "stream",
     "text": [
      "0\n",
      "we are incrementing x by 3\n",
      "3\n",
      "3\n",
      "we are incrementing by 5\n",
      "8\n",
      "9\n",
      "we are incrementing by 5\n",
      "14\n",
      "Done with our loop! X has the value: 15\n"
     ]
    }
   ],
   "source": [
    "x = 0\n",
    "while x < 10:\n",
    "    print(x)\n",
    "    \n",
    "    if x % 2 == 0:\n",
    "        print(\"we are incrementing x by 3\")\n",
    "        x += 3\n",
    "        print(x)\n",
    "        continue\n",
    "    if x % 3 == 0:\n",
    "        print(\"we are incrementing by 5\")    \n",
    "        x += 5\n",
    "        print(x)\n",
    "    x += 1\n",
    "print(\"Done with our loop! X has the value: \" + str(x))"
   ]
  },
  {
   "cell_type": "markdown",
   "metadata": {},
   "source": [
    "**---------------------------------------------------------------------------------------------------------------------------------------------------------------------------------------------------**\n",
    "\n",
    "# Advanced Function\n",
    "\n",
    "#### optional parameters\n",
    "- it is convenient to have optional parameters that can be specified or omitted. \n",
    "- When an optional parameter is omitted from a function invocation, the formal parameter is bound to a default value. "
   ]
  },
  {
   "cell_type": "code",
   "execution_count": 37,
   "metadata": {},
   "outputs": [
    {
     "name": "stdout",
     "output_type": "stream",
     "text": [
      "100\n",
      "100\n",
      "64\n"
     ]
    }
   ],
   "source": [
    "print(int(\"100\"))\n",
    "print(int(\"100\", 10))   # same thing, 10 is the default value for the base\n",
    "print(int(\"100\", 8))     # now the base is 8, so the result is 1*64 = 64"
   ]
  },
  {
   "cell_type": "markdown",
   "metadata": {},
   "source": [
    "### Keyword parameters\n",
    "\n",
    "- A formal parameter of the form `**name` is present, it **receives a dictionary** containing all keyword arguments except for those corresponding to a formal parameter.\n",
    "- A formal parameter of the form `*name` receives a tuple containing the positional arguments beyond the formal parameter list.\n"
   ]
  },
  {
   "cell_type": "code",
   "execution_count": 19,
   "metadata": {},
   "outputs": [],
   "source": [
    "def cheeseshop(kind, *arguments, **keywords):\n",
    "    print(\"-- Do you have any\", kind, \"?\")\n",
    "    print(\"-- I'm sorry, we're all out of\", kind)\n",
    "    for arg in arguments:\n",
    "        print(arg)\n",
    "    print(\"-\" * 40)\n",
    "    print(\"Keyword\")\n",
    "    print(keywords)\n",
    "    for kw in keywords:\n",
    "        print(kw, \":\", keywords[kw])"
   ]
  },
  {
   "cell_type": "code",
   "execution_count": 20,
   "metadata": {},
   "outputs": [
    {
     "name": "stdout",
     "output_type": "stream",
     "text": [
      "-- Do you have any Limburger ?\n",
      "-- I'm sorry, we're all out of Limburger\n",
      "It's very runny, sir.\n",
      "It's really very, VERY runny, sir.\n",
      "----------------------------------------\n",
      "Keyword\n",
      "{'shopkeeper': 'Michael Palin', 'client': 'John Cleese', 'sketch': 'Cheese Shop Sketch'}\n",
      "shopkeeper : Michael Palin\n",
      "client : John Cleese\n",
      "sketch : Cheese Shop Sketch\n"
     ]
    }
   ],
   "source": [
    "cheeseshop(\"Limburger\", \"It's very runny, sir.\",\n",
    "           \"It's really very, VERY runny, sir.\",\n",
    "           shopkeeper=\"Michael Palin\",\n",
    "           client=\"John Cleese\",\n",
    "           sketch=\"Cheese Shop Sketch\")"
   ]
  },
  {
   "cell_type": "code",
   "execution_count": 21,
   "metadata": {},
   "outputs": [],
   "source": [
    "# passing a dict would be incorrect\n",
    "dcit = {\n",
    "    'shopkeeper':\"Michael Palin\",\n",
    "    'client':\"John Cleese\",\n",
    "    'sketch':\"Cheese Shop Sketch\"\n",
    "}"
   ]
  },
  {
   "cell_type": "code",
   "execution_count": 22,
   "metadata": {},
   "outputs": [
    {
     "name": "stdout",
     "output_type": "stream",
     "text": [
      "-- Do you have any Limburger ?\n",
      "-- I'm sorry, we're all out of Limburger\n",
      "It's very runny, sir.\n",
      "It's really very, VERY runny, sir.\n",
      "{'shopkeeper': 'Michael Palin', 'client': 'John Cleese', 'sketch': 'Cheese Shop Sketch'}\n",
      "----------------------------------------\n",
      "Keyword\n",
      "{}\n"
     ]
    }
   ],
   "source": [
    "cheeseshop(\"Limburger\", \"It's very runny, sir.\",\n",
    "           \"It's really very, VERY runny, sir.\",\n",
    "           dcit\n",
    "           )"
   ]
  },
  {
   "cell_type": "markdown",
   "metadata": {},
   "source": [
    "Refer special parameters\n",
    "https://docs.python.org/3/tutorial/controlflow.html#special-parameters"
   ]
  },
  {
   "cell_type": "markdown",
   "metadata": {},
   "source": [
    "### Anonymous function\n",
    "\n",
    "#### lambda expression\n",
    "\n",
    "`lambda arguments: expression` yields a function object\n",
    "\n",
    "```\n",
    "def fname(arguments):\n",
    "    return expression\n",
    "    ```\n",
    "- A function, whether named or anonymous, can be called by placing parentheses () after it"
   ]
  },
  {
   "cell_type": "code",
   "execution_count": 50,
   "metadata": {},
   "outputs": [
    {
     "name": "stdout",
     "output_type": "stream",
     "text": [
      "4\n"
     ]
    }
   ],
   "source": [
    "print((lambda x: x-2)(6))"
   ]
  },
  {
   "cell_type": "code",
   "execution_count": 51,
   "metadata": {},
   "outputs": [
    {
     "name": "stdout",
     "output_type": "stream",
     "text": [
      "g\n"
     ]
    }
   ],
   "source": [
    "s= 'dsfagfdg'\n",
    "last_char = lambda s: s[-1]\n",
    "print(last_char(s))"
   ]
  },
  {
   "cell_type": "code",
   "execution_count": 30,
   "metadata": {},
   "outputs": [
    {
     "name": "stdout",
     "output_type": "stream",
     "text": [
      "1\n",
      "<function <lambda> at 0x000002B55095D708>\n"
     ]
    }
   ],
   "source": [
    "d = {'a':1, 'b':2, 'c': 4}\n",
    "\n",
    "print((lambda d: d['a'])({'a':1, 'b':2, 'c': 4}))\n",
    "\n",
    "ch = lambda d: d['a']\n",
    "print(ch)"
   ]
  },
  {
   "cell_type": "markdown",
   "metadata": {},
   "source": [
    "**---------------------------------------------------------------------------------------------------------------------------------------------------------------------------------------------------**\n",
    "\n",
<<<<<<< HEAD
    "# Sorting\n",
    "\n",
    "- list/string sort does not return anything.\n",
    "- sorted does not change the original list. Instead, it returns a new list.\n"
   ]
  },
  {
   "cell_type": "code",
   "execution_count": 58,
   "metadata": {},
   "outputs": [
    {
     "name": "stdout",
     "output_type": "stream",
     "text": [
      "[-2, 1, 3, 4, 7]\n",
      "None\n",
      "\n",
      "\n",
      "['Apple', 'Blueberry', 'Cherry']\n",
      "None\n"
     ]
    }
   ],
   "source": [
    "L1 = [1, 7, 4, -2, 3]\n",
    "l1 = L1.sort()\n",
    "print(L1)\n",
    "print(l1)\n",
    "\n",
    "print('\\n')\n",
    "L1 = [\"Cherry\", \"Apple\", \"Blueberry\"]\n",
    "l1 = L1.sort()\n",
    "print(L1)\n",
    "print(l1)"
   ]
  },
  {
   "cell_type": "code",
   "execution_count": 56,
   "metadata": {},
   "outputs": [
    {
     "name": "stdout",
     "output_type": "stream",
     "text": [
      "['Apple', 'Blueberry', 'Cherry']\n",
      "['Apple', 'Blueberry', 'Cherry']\n",
      "['Cherry', 'Apple', 'Blueberry']\n",
      "----\n",
      "['Apple', 'Blueberry', 'Cherry']\n",
      "None\n"
     ]
    }
   ],
   "source": [
    "L2 = [\"Cherry\", \"Apple\", \"Blueberry\"]\n",
    "\n",
    "L3 = sorted(L2)\n",
    "print(L3)\n",
    "print(sorted(L2))\n",
    "print(L2) # unchanged\n",
    "\n",
    "print(\"----\")\n",
    "\n",
    "L2.sort()\n",
    "print(L2)\n",
    "print(L2.sort())  #return value is None"
   ]
  },
  {
   "cell_type": "code",
   "execution_count": 57,
   "metadata": {},
   "outputs": [
    {
     "name": "stdout",
     "output_type": "stream",
     "text": [
      "['Cherry', 'Blueberry', 'Apple']\n"
     ]
    }
   ],
   "source": [
    "# reverse\n",
    "L2 = [\"Cherry\", \"Apple\", \"Blueberry\"]\n",
    "print(sorted(L2, reverse=True))"
   ]
  },
  {
   "cell_type": "code",
   "execution_count": 64,
   "metadata": {},
   "outputs": [
    {
     "name": "stdout",
     "output_type": "stream",
     "text": [
      "[1, -2, 3, 4, 7]\n",
      "[7, 4, 3, -2, 1]\n",
      "[7, 4, 3, 1, -2]\n"
     ]
    }
   ],
   "source": [
    "# key parameter\n",
    "\n",
    "L1 = [1, 7, 4, -2, 3]\n",
    "\n",
    "def absolute(x):\n",
    "    if x >= 0:\n",
    "        return x\n",
    "    else:\n",
    "        return -x\n",
    "\n",
    "L2 = sorted(L1, key=absolute)\n",
    "print(L2)\n",
    "\n",
    "#or in reverse order\n",
    "print(sorted(L1, reverse=True, key=absolute))\n",
    "\n",
    "print(sorted(L1, key= lambda num: -num)) #(start from - 7, -4)"
=======
    "# Removes and returns the last item\n",
    "print(\"pop\")\n",
    "lastitem = mylist.pop()\n",
    "print(lastitem)\n",
    "first = mylist.pop(0)\n",
    "print(first)\n",
    "print(mylist)"
>>>>>>> b8485d1b5b9cb239d1a72739538239338db18574
   ]
  },
  {
   "cell_type": "markdown",
   "metadata": {},
   "source": [
<<<<<<< HEAD
    "### Sorting a dictionary\n",
    "\n",
    "- the `key` function always takes as input one item from the sequence and returns a property of the item.\n",
    "- The property of key k that is supposed to be returned is its associated value in the dictionary."
=======
    "**NOTE**:\n",
    "\n",
    "  It is important to remember that methods like append, sort, and reverse all return None. They change the list; they don’t produce a new list. So, while we did reassignment to increment a number, as in x = x + 1, doing the analogous thing with these operations will lose the entire list contents.\n",
    "  "
>>>>>>> b8485d1b5b9cb239d1a72739538239338db18574
   ]
  },
  {
   "cell_type": "code",
<<<<<<< HEAD
   "execution_count": 31,
=======
   "execution_count": 5,
>>>>>>> b8485d1b5b9cb239d1a72739538239338db18574
   "metadata": {},
   "outputs": [
    {
     "name": "stdout",
     "output_type": "stream",
     "text": [
<<<<<<< HEAD
      "D appears 4 times\n",
      "E appears 2 times\n",
      "B appears 2 times\n",
      "A appears 2 times\n",
      "I appears 2 times\n",
      "F appears 1 times\n",
      "C appears 1 times\n",
      "['D', 'E', 'B', 'A', 'I', 'F', 'C']\n"
     ]
    }
   ],
   "source": [
    "L = ['E', 'F', 'B', 'A', 'D', 'I', 'I', 'C', 'B', 'A', 'D', 'D', 'E', 'D']\n",
    "\n",
    "d = {}\n",
    "for x in L:\n",
    "    if x in d:\n",
    "        d[x] = d[x] + 1\n",
    "    else:\n",
    "        d[x] = 1\n",
    "\n",
    "# now loop through the sorted keys\n",
    "for k in sorted(d, key=lambda k: d[k], reverse=True):\n",
    "      print(\"{} appears {} times\".format(k, d[k]))\n",
    "    \n",
    "print(sorted(d, key=lambda k: d[k], reverse=True))"
   ]
  },
  {
   "cell_type": "markdown",
   "metadata": {},
   "source": [
    "#### breaking ties\n",
    "\n",
    "- the default sort order is based on the default sort order for the first elements of the tuples, with ties being broken by the second elements, and then third elements if necessary, etc"
   ]
  },
  {
   "cell_type": "code",
   "execution_count": 70,
   "metadata": {},
   "outputs": [
    {
     "name": "stdout",
     "output_type": "stream",
     "text": [
      "('A', 2, 4)\n",
      "('A', 3, 2)\n",
      "('B', 3, 1)\n",
      "('C', 1, 2)\n",
      "('C', 1, 4)\n"
     ]
    }
   ],
   "source": [
    "tups = [('A', 3, 2),\n",
    "        ('C', 1, 4),\n",
    "        ('B', 3, 1),\n",
    "        ('A', 2, 4),\n",
    "        ('C', 1, 2)]\n",
    "for tup in sorted(tups):\n",
    "    print(tup)"
   ]
  },
  {
   "cell_type": "markdown",
   "metadata": {},
   "source": [
    "**PROBLEM**\n",
    "\n",
    "In order to sort a list of fruit words first by their length, smallest to largest, and then alphabetically to break ties among words of the same length.\n",
    "\n",
    "**SOLUTION**\n",
    "- we have the key function return a tuple whose first element is the length of the fruit’s name, and second element is the fruit name itself"
   ]
  },
  {
   "cell_type": "code",
   "execution_count": 72,
   "metadata": {},
   "outputs": [
    {
     "name": "stdout",
     "output_type": "stream",
     "text": [
      "kiwi\n",
      "pear\n",
      "apple\n",
      "mango\n",
      "peach\n",
      "papaya\n",
      "blueberry\n"
     ]
    }
   ],
   "source": [
    "fruits = ['peach', 'kiwi', 'apple', 'blueberry', 'papaya', 'mango', 'pear']\n",
    "new_order = sorted(fruits, key=lambda fruit_name: (len(fruit_name), fruit_name))\n",
    "for fruit in new_order:\n",
    "    print(fruit)\n"
   ]
  },
  {
   "cell_type": "code",
   "execution_count": 74,
   "metadata": {},
   "outputs": [
    {
     "name": "stdout",
     "output_type": "stream",
     "text": [
      "['Berlin', 'Buenos Aires', 'Cairo', 'Caloocan', 'Reykjavik']\n"
=======
      "[5, 27, 3, 12]\n",
      "None\n"
>>>>>>> b8485d1b5b9cb239d1a72739538239338db18574
     ]
    }
   ],
   "source": [
<<<<<<< HEAD
    "weather = {'Reykjavik': {'temp':60, 'condition': 'rainy'},\n",
    "           'Buenos Aires': {'temp': 55, 'condition': 'cloudy'},\n",
    "           'Cairo': {'temp': 96, 'condition': 'sunny'},\n",
    "           'Berlin': {'temp': 89, 'condition': 'sunny'},\n",
    "           'Caloocan': {'temp': 78, 'condition': 'sunny'}}\n",
    "\n",
    "sorted_weather = sorted(weather, key=lambda w: (w, weather[w]['temp']))\n",
    "print(sorted_weather)"
   ]
  },
  {
   "cell_type": "markdown",
   "metadata": {},
   "source": [
    "**---------------------------------------------------------------------------------------------------------------------------------------------------------------------------------------------------**\n",
    "\n",
    "# Nested Data and Nested Iteration\n",
    "\n"
   ]
  },
  {
   "cell_type": "markdown",
   "metadata": {},
   "source": [
    "- JSON stands for JavaScript Object Notation\n",
    "- json.loads() takes a string as input and produces a python object (a dictionary or a list) as output\n"
   ]
  },
  {
   "cell_type": "code",
   "execution_count": 1,
   "metadata": {},
   "outputs": [
    {
     "name": "stdout",
     "output_type": "stream",
     "text": [
      "\n",
      "\n",
      "\n",
      "{\n",
      " \"resultCount\":25,\n",
      " \"results\": [\n",
      "{\"wrapperType\":\"track\", \"kind\":\"podcast\", \"collectionId\":10892}]}\n",
      "------\n",
      "<class 'dict'>\n",
      "dict_keys(['resultCount', 'results'])\n",
      "25\n"
     ]
    }
   ],
   "source": [
    "import json\n",
    "a_string = '\\n\\n\\n{\\n \"resultCount\":25,\\n \"results\": [\\n{\"wrapperType\":\"track\", \"kind\":\"podcast\", \"collectionId\":10892}]}'\n",
    "print(a_string)\n",
    "d = json.loads(a_string)\n",
    "print(\"------\")\n",
    "print(type(d))\n",
    "print(d.keys())\n",
    "print(d['resultCount'])\n",
    "# print(a_string['resultCount'])"
=======
    "mylist = []\n",
    "mylist.append(5)\n",
    "mylist.append(27)\n",
    "mylist.append(3)\n",
    "mylist.append(12)\n",
>>>>>>> f1bf59d87812a03f5948aaf28463e9abb79b52a4
    "print(mylist)\n",
    "\n",
<<<<<<< HEAD
    "# Returns the position of first occurrence of item\n",
    "print(\"index\")\n",
    "print(mylist.index(3))\n",
    "\n",
    "# Returns the number of occurrences of item\n",
    "print(\"count\")\n",
    "print(mylist.count(5))\n",
    "\n",
    "# Modifies a list to be in reverse order\n",
    "print(\"reverse\")\n",
    "mylist.reverse()\n",
    "print(mylist)\n",
    "\n",
    "# Modifies a list to be sorted\n",
    "print(\"sort\")\n",
    "mylist.sort()\n",
    "print(mylist)\n",
    "\n",
    "# Removes the first occurrence of item\n",
    "print(\"remove\")\n",
    "mylist.remove(5)\n",
    "print(mylist)\n",
    "\n",
    "# Removes and returns the last item\n",
    "print(\"pop\")\n",
    "lastitem = mylist.pop()\n",
    "print(lastitem)\n",
    "first = mylist.pop(0)\n",
    "print(first)\n",
    "print(mylist)\n",
    "\n",
    "# Extend Add the elements of a list (or any iterable), to the end of the current list\n",
    "print(\"Extend\")\n",
    "mylist.extend(['s','a'])\n",
    "print(mylist)"
   ]
  },
  {
   "cell_type": "markdown",
   "metadata": {},
   "source": [
    "**NOTE**:\n",
    "\n",
    "  It is important to remember that methods like append, sort, and reverse all return None. They change the list; they don’t produce a new list. So, while we did reassignment to increment a number, as in x = x + 1, doing the analogous thing with these operations will lose the entire list contents.\n",
    "  "
   ]
  },
  {
   "cell_type": "code",
   "execution_count": 12,
   "metadata": {},
   "outputs": [
    {
     "name": "stdout",
     "output_type": "stream",
     "text": [
      "[5, 27, 3, 12]\n",
      "None\n"
     ]
    }
   ],
   "source": [
    "mylist = []\n",
    "mylist.append(5)\n",
    "mylist.append(27)\n",
    "mylist.append(3)\n",
    "mylist.append(12)\n",
    "print(mylist)\n",
    "\n",
    "# it returns none\n",
    "mylist = mylist.sort()   #probably an error\n",
    "print(mylist)"
=======
    "# it returns none\n",
    "mylist = mylist.sort()   #probably an error\n",
    "print(mylist)"
>>>>>>> b8485d1b5b9cb239d1a72739538239338db18574
>>>>>>> f1bf59d87812a03f5948aaf28463e9abb79b52a4
   ]
  },
  {
   "cell_type": "markdown",
   "metadata": {},
   "source": [
<<<<<<< HEAD
=======
<<<<<<< HEAD
    "- json.dumps() is the inverse of loads. It takes a python object, typically a dictionary or a list, and returns a string, in JSON format.\n",
    "- Two useful parameters are sort_keys and indent. \n",
    "    - sort_keys = True (the keys of dictionaries are output in alphabetic order with their values)\n",
    "    - indent = (an integer) dumps generates a string suitable for displaying to people, with newlines and indentation for nested lists or dictionaries"
=======
>>>>>>> f1bf59d87812a03f5948aaf28463e9abb79b52a4
    "### Append vs Concatenate\n",
    "\n",
    "- `append` method adds a new item to the end of a list. The result list has the same ID\n",
    "- `concatenate` methods adds a new list, but the result list has difference ID.\n"
<<<<<<< HEAD
=======
>>>>>>> b8485d1b5b9cb239d1a72739538239338db18574
>>>>>>> f1bf59d87812a03f5948aaf28463e9abb79b52a4
   ]
  },
  {
   "cell_type": "code",
<<<<<<< HEAD
=======
<<<<<<< HEAD
   "execution_count": 7,
=======
>>>>>>> f1bf59d87812a03f5948aaf28463e9abb79b52a4
   "execution_count": 6,
   "metadata": {},
   "outputs": [
    {
     "name": "stdout",
     "output_type": "stream",
     "text": [
      "origlist: [45, 32, 88]\n",
      "the identifier: 2554325223176\n",
      "newlist: [45, 32, 88, 'cat']\n",
      "the identifier: 2554335229000\n",
      "origlist: [45, 32, 88, 'cat']\n",
      "the identifier: 2554325223176\n"
     ]
    }
   ],
   "source": [
    "origlist = [45,32,88]\n",
    "print(\"origlist:\", origlist)\n",
    "print(\"the identifier:\", id(origlist))             #id of the list before changes\n",
    "newlist = origlist + ['cat']\n",
    "print(\"newlist:\", newlist)\n",
    "print(\"the identifier:\", id(newlist))              #id of the list after concatentation\n",
    "origlist.append('cat')\n",
    "print(\"origlist:\", origlist)\n",
    "print(\"the identifier:\", id(origlist))             #id of the list after append is used\n"
   ]
  },
  {
   "cell_type": "markdown",
   "metadata": {},
   "source": [
    "### String methods (non mutating methods)"
   ]
  },
  {
   "cell_type": "code",
<<<<<<< HEAD
   "execution_count": 48,
=======
   "execution_count": 8,
>>>>>>> b8485d1b5b9cb239d1a72739538239338db18574
>>>>>>> f1bf59d87812a03f5948aaf28463e9abb79b52a4
   "metadata": {},
   "outputs": [
    {
     "name": "stdout",
     "output_type": "stream",
     "text": [
<<<<<<< HEAD
      "upper\n",
      "ASDFGH\n",
      "\n",
      "\n",
      "lower\n",
      "asdfgh\n",
      "\n",
      "\n",
      "count\n",
      "1\n",
      "\n",
      "\n",
      "item\n",
      "1\n",
      "\n",
      "\n",
      "strip\n",
      "sadsfdgf\n",
      "\n",
      "\n",
      "replace\n",
      "tadtfdgf\n",
      "\n",
      "\n",
      "Hello Rodney Dangerfield. Your score is -1.\n",
      "Hello Marlon Brando. Your score is 1.\n",
      "Hello You. Your score is 100.\n",
      "\n",
      "\n",
      "alnum\n",
      "True\n",
      "\n",
      "\n",
      "isspace\n",
      "True\n"
=======
<<<<<<< HEAD
      "{'key1': {'c': True, 'a': 90, '5': 50}, 'key2': {'b': 3, 'c': 'yes'}}\n",
      "--------\n",
      "{\n",
      " \"key1\": {\n",
      "  \"5\": 50,\n",
      "  \"a\": 90,\n",
      "  \"c\": true\n",
      " },\n",
      " \"key2\": {\n",
      "  \"b\": 3,\n",
      "  \"c\": \"yes\"\n",
      " }\n",
      "}\n",
      "<class 'str'>\n"
=======
      "upper\n",
      "ASDFGH\n",
      "lower\n",
      "asdfgh\n",
      "count\n",
      "1\n",
      "item\n",
      "1\n",
      "strip\n",
      "sadsfdgf\n",
      "replace\n",
      "tadtfdgf\n",
      "Hello Rodney Dangerfield. Your score is -1.\n",
      "Hello Marlon Brando. Your score is 1.\n",
      "Hello You. Your score is 100.\n"
>>>>>>> b8485d1b5b9cb239d1a72739538239338db18574
>>>>>>> f1bf59d87812a03f5948aaf28463e9abb79b52a4
     ]
    }
   ],
   "source": [
<<<<<<< HEAD
=======
<<<<<<< HEAD
    "import json\n",
    "def pretty(obj):\n",
    "    return json.dumps(obj, sort_keys=True, indent=1)\n",
=======
>>>>>>> f1bf59d87812a03f5948aaf28463e9abb79b52a4
    "print(\"upper\")\n",
    "\n",
    "#parameter: none\n",
    "#Returns a string in all uppercase\n",
    "s = 'asdfgh'\n",
    "s =s.upper()\n",
    "print(s)\n",
<<<<<<< HEAD
    "print('\\n') \n",
=======
>>>>>>> f1bf59d87812a03f5948aaf28463e9abb79b52a4
    "\n",
    "# lower\n",
    "print(\"lower\")\n",
    "# parameter: none\n",
    "# Returns a string in all lowercase\n",
    "s = s.lower()\n",
    "print(s)\n",
<<<<<<< HEAD
    "print('\\n') \n",
    "\n",
    "# count\n",
    "# parameter: item\n",
    "# Returns the number of occurrences of item\n",
    "print(\"count\")\n",
    "print(s.count('s'))\n",
    "print('\\n') \n",
    "\n",
    "# index\n",
    "# parameter: item\n",
    "# Returns the leftmost index where the substring item is found and causes a runtime error if item is not found\n",
    "print(\"item\")\n",
    "print(s.index('s'))\n",
    "print('\\n') \n",
    "\n",
    "# strip\n",
    "# parameter:none\n",
    "# Returns a string with the leading and trailing whitespace removed\n",
    "print(\"strip\")\n",
    "s= ' sadsfdgf'\n",
    "s = s.strip()\n",
    "print(s)\n",
    "print('\\n') \n",
    "\n",
    "\n",
    "# replace\n",
    "# old, new\n",
    "# Replaces all occurrences of old substring with new\n",
    "print(\"replace\")\n",
    "s=s.replace('s','t')\n",
    "print(s)\n",
    "print('\\n') \n",
    "\n",
    "# format\n",
    "# substitutions\n",
    "# Involved! See String Format Method, below\n",
    "scores = [(\"Rodney Dangerfield\", -1), (\"Marlon Brando\", 1), (\"You\", 100)]\n",
    "for person in scores:\n",
    "    name = person[0]\n",
    "    score = person[1]\n",
    "    print(\"Hello {}. Your score is {}.\".format(name, score))\n",
    "print('\\n')    \n",
    "\n",
    "# alnum\n",
    "print('alnum')\n",
    "print('al12'.isalnum())\n",
    "print('\\n')\n",
    "\n",
    "# isspace\n",
    "print('isspace')\n",
    "print(' '.isspace())"
   ]
  },
  {
   "cell_type": "code",
   "execution_count": 10,
   "metadata": {},
   "outputs": [
    {
     "name": "stdout",
     "output_type": "stream",
     "text": [
      "Enter the original price: $34\n",
      "Enter discount percentage: 5\n",
      "34.00 discounted by 5.0% is $32.3.\n"
     ]
    }
   ],
   "source": [
    "origPrice = float(input('Enter the original price: $'))\n",
    "discount = float(input('Enter discount percentage: '))\n",
    "newPrice = (1 - discount/100)*origPrice\n",
    "calculation = f'{origPrice:0.2f} discounted by {discount}% is ${newPrice}.'\n",
    "print(calculation)\n"
   ]
  },
  {
   "cell_type": "code",
   "execution_count": 13,
   "metadata": {},
   "outputs": [
    {
     "name": "stdout",
     "output_type": "stream",
     "text": [
      "Hello, Sally. 1.\n"
     ]
    }
   ],
   "source": [
    "name = \"Sally\"\n",
    "greeting = 1 # get casted to string\n",
    "s = f\"Hello, {name}. {greeting}.\"\n",
    "print(s)"
   ]
  },
  {
   "cell_type": "markdown",
   "metadata": {},
   "source": [
    "### Don't mutate a list that you are iterating"
   ]
  },
  {
   "cell_type": "code",
   "execution_count": 2,
   "metadata": {},
   "outputs": [
    {
     "name": "stdout",
     "output_type": "stream",
     "text": [
      "Red\n",
      "Orange\n",
      "Yellow\n",
      "Green\n",
      "Blue\n",
      "Violet\n",
      "Purple\n",
      "Brown\n",
      "Turquois\n",
      "Beige\n"
     ]
    },
    {
     "ename": "IndexError",
     "evalue": "list index out of range",
     "output_type": "error",
     "traceback": [
      "\u001b[1;31m---------------------------------------------------------------------------\u001b[0m",
      "\u001b[1;31mIndexError\u001b[0m                                Traceback (most recent call last)",
      "\u001b[1;32m<ipython-input-2-54875101d250>\u001b[0m in \u001b[0;36m<module>\u001b[1;34m\u001b[0m\n\u001b[0;32m      3\u001b[0m \u001b[1;33m\u001b[0m\u001b[0m\n\u001b[0;32m      4\u001b[0m \u001b[1;32mfor\u001b[0m \u001b[0mposition\u001b[0m \u001b[1;32min\u001b[0m \u001b[0mrange\u001b[0m\u001b[1;33m(\u001b[0m\u001b[0mlen\u001b[0m\u001b[1;33m(\u001b[0m\u001b[0mcolors\u001b[0m\u001b[1;33m)\u001b[0m\u001b[1;33m)\u001b[0m\u001b[1;33m:\u001b[0m\u001b[1;33m\u001b[0m\u001b[1;33m\u001b[0m\u001b[0m\n\u001b[1;32m----> 5\u001b[1;33m     \u001b[0mcolor\u001b[0m \u001b[1;33m=\u001b[0m \u001b[0mcolors\u001b[0m\u001b[1;33m[\u001b[0m\u001b[0mposition\u001b[0m\u001b[1;33m]\u001b[0m\u001b[1;33m\u001b[0m\u001b[1;33m\u001b[0m\u001b[0m\n\u001b[0m\u001b[0;32m      6\u001b[0m     \u001b[0mprint\u001b[0m\u001b[1;33m(\u001b[0m\u001b[0mcolor\u001b[0m\u001b[1;33m)\u001b[0m\u001b[1;33m\u001b[0m\u001b[1;33m\u001b[0m\u001b[0m\n\u001b[0;32m      7\u001b[0m     \u001b[1;32mif\u001b[0m \u001b[0mcolor\u001b[0m\u001b[1;33m[\u001b[0m\u001b[1;36m0\u001b[0m\u001b[1;33m]\u001b[0m \u001b[1;32min\u001b[0m \u001b[1;33m[\u001b[0m\u001b[1;34m\"P\"\u001b[0m\u001b[1;33m,\u001b[0m \u001b[1;34m\"B\"\u001b[0m\u001b[1;33m,\u001b[0m \u001b[1;34m\"T\"\u001b[0m\u001b[1;33m]\u001b[0m\u001b[1;33m:\u001b[0m\u001b[1;33m\u001b[0m\u001b[1;33m\u001b[0m\u001b[0m\n",
      "\u001b[1;31mIndexError\u001b[0m: list index out of range"
     ]
    }
   ],
   "source": [
    "# the error is expected since we delete elements from the list\n",
    "colors = [\"Red\", \"Orange\", \"Yellow\", \"Green\", \"Blue\", \"Indigo\", \"Violet\", \"Purple\", \"Pink\", \"Brown\", \"Teal\", \"Turquois\", \"Peach\", \"Beige\"]\n",
    "\n",
    "for position in range(len(colors)):\n",
    "    color = colors[position]\n",
    "    print(color)\n",
    "    if color[0] in [\"P\", \"B\", \"T\"]:\n",
    "        del colors[position]\n",
    "\n",
    "print(colors)"
   ]
  },
  {
   "cell_type": "markdown",
   "metadata": {},
   "source": [
    "**---------------------------------------------------------------------------------------------------------------------------------------------------------------------------------------------------**\n",
    "\n",
    "# Files\n",
    "\n",
    "|Method Name|Use|Explanation|\n",
    "|-----------|---|-----------|\n",
    "|write|filevar.write(astring)|Add a string to the end of the file. filevar must refer to a file that has been opened for writing.|\n",
    "|read(n)|filevar.read()|Read and return a string of n characters, or the entire file as a single string if n is not provided.|\n",
    "|readline(n)|filevar.readline()|Read and return the next line of the file with all text up to and including the newline character. If n is provided as a parameter, then only n characters will be returned if the line is longer than n. Note the parameter n is not supported in the browser version of Python, and in fact is rarely used in practice, you can safely ignore it.|\n",
    "|readlines(n)|filevar.readlines()|Returns a list of strings, each representing a single line of the file. If n is not provided then all lines of the file are returned. If n is provided then n characters are read but n is rounded up so that an entire line is returned. Note Like readline readlines ignores the parameter n in the browser.|\n",
    "\n"
   ]
  },
  {
   "cell_type": "markdown",
   "metadata": {},
   "source": [
    "### sample code\n",
    "```\n",
    "fileref = open(\"travel_plans2.txt\", \"r\")\n",
    "file = fileref.readlines()\n",
    "num_lines = len(file)\n",
    "fileref.close()\n",
    "```"
   ]
  },
  {
   "cell_type": "markdown",
   "metadata": {},
   "source": [
    "**efficient processing**: Python provides a built-in way to iterate through the contents of a file one line at a time, without first reading them all into a list.\n",
    "\n",
    "```\n",
    "olypmicsfile = open(\"olypmics.txt\", \"r\")\n",
    "\n",
    "for aline in olypmicsfile:\n",
    "    values = aline.split(\",\")\n",
    "    print(values)\n",
    "    print(values[0], \"is from\", values[3], \"and is on the roster for\", values[4])\n",
    "\n",
    "olypmicsfile.close()\n",
    "```\n",
    "\n",
    "But the we have to handle the `\\n` new line character at the end."
   ]
  },
  {
   "cell_type": "markdown",
   "metadata": {},
   "source": [
    "### Using with \n",
    "\n",
    "- The first line of the with statement opens the file and assigns it to the variable md. \n",
    "- Then we can iterate over the file in any of the usual ways. \n",
    "- When we are done we simply stop indenting and let Python take care of closing the file and cleaning up. \n",
    "\n",
    "```\n",
    "with open('mydata.txt', 'r') as md:\n",
    "    for line in md:\n",
    "        print(line)\n",
    "```"
   ]
  },
  {
   "cell_type": "markdown",
   "metadata": {},
   "source": [
    "### Reading csv\n",
    "\n",
    "We are using csv to strip the `\\n` characters\n",
    "\n",
    "```\n",
    " fileconnection = open(\"olympics.txt\", 'r')\n",
    " lines = fileconnection.readlines()\n",
    " header = lines[0]\n",
    " field_names = header.strip().split(',')\n",
    " print(field_names)\n",
    " for row in lines[1:]:\n",
    "     vals = row.strip().split(',')\n",
    "     if vals[5] != \"NA\":\n",
    "         print(\"{}: {}; {}\".format(\n",
    "                 vals[0],\n",
    "                 vals[4],\n",
    "                 vals[5]))\n",
    "```\n",
    "\n",
    "### Writing csv\n",
    "\n",
    "```\n",
    "olympians = [(\"John Aalberg\", 31, \"Cross Country Skiing, 15KM\"),\n",
    "             (\"Minna Maarit Aalto\", 30, \"Sailing\"),\n",
    "             (\"Win Valdemar Aaltonen\", 54, \"Art Competitions\"),\n",
    "             (\"Wakako Abe\", 18, \"Cycling\")]\n",
    "\n",
    "outfile = open(\"reduced_olympics2.csv\", \"w\")\n",
    "# output the header row\n",
    "outfile.write('\"Name\",\"Age\",\"Sport\"')\n",
    "outfile.write('\\n')\n",
    "# output each of the rows:\n",
    "for olympian in olympians:\n",
    "    row_string = '\"{}\", \"{}\", \"{}\"'.format(olympian[0], olympian[1], olympian[2])\n",
    "    outfile.write(row_string)\n",
    "    outfile.write('\\n')\n",
    "outfile.close()\n",
    "```\n",
    "**---------------------------------------------------------------------------------------------------------------------------------------------------------------------------------------------------**"
   ]
  },
  {
   "cell_type": "markdown",
   "metadata": {},
   "source": [
    "# Dictionary\n",
    "\n",
    "- unordered collection and mutable (from 3.7 they are ordered)\n",
    "\n",
    "#### Operations\n",
    "- Use `del` to delete key, values in dict\n",
    "- `len` function is used to determine the number of key- value pairs"
   ]
  },
  {
   "cell_type": "code",
   "execution_count": 13,
   "metadata": {},
   "outputs": [
    {
     "name": "stdout",
     "output_type": "stream",
     "text": [
      "3\n",
      "{'cat': 12, 'dog': 6, 'elephant': 23}\n"
     ]
    }
   ],
   "source": [
    "mydict = {\"cat\":12, \"dog\":6, \"elephant\":23, \"human\":34445}\n",
    "\n",
    "# delete\n",
    "del mydict['human']\n",
    "\n",
    "# length\n",
    "print(len(mydict))\n",
    "print(mydict)"
   ]
  },
  {
   "cell_type": "code",
   "execution_count": 45,
   "metadata": {},
   "outputs": [
    {
     "name": "stdout",
     "output_type": "stream",
     "text": [
      "dict_keys(['apples', 'bananas', 'oranges', 'pears'])\n",
      "['apples', 'bananas', 'oranges', 'pears']\n",
      "\n",
      "\n",
      "iterating over a dictionary implicitly iterates over its keys.\n",
      "Got key apples\n",
      "Got key bananas\n",
      "Got key oranges\n",
      "Got key pears\n",
      "\n",
      "\n",
      "values: Returns a view of the values in the dictionary\n",
      "[430, 312, 525, 217]\n",
      "\n",
      "\n",
      "items Returns a view of the key-value pairs in the dictionary\n",
      "dict_items([('apples', 430), ('bananas', 312), ('oranges', 525), ('pears', 217)])\n",
      "\n",
      "\n",
      "get returns the value associated with key; None otherwise\n",
      "430\n",
      "None\n",
      "\n",
      "\n",
      "get(item,alter) Returns the value associated with key; alternative- alt otherwise\n",
      "0\n",
      "\n",
      "\n",
      "fromkeys\n",
      "{'key1': (0, 1, 2), 'key2': (0, 1, 2), 'key3': (0, 1, 2)}\n",
      "\n",
      "\n",
      "update\n",
      "{'brand': 'Ford', 'model': 'Mustang', 'year': 1964, 'color': 'White'}\n"
     ]
    }
   ],
   "source": [
    "inventory = {'apples': 430, 'bananas': 312, 'oranges': 525, 'pears': 217}\n",
    "\n",
    "#*keys*\n",
    "#parameter: none\n",
    "#Returns a view of the keys in the dictionary\n",
    "print(inventory.keys())\n",
    "#convert to a list\n",
    "print(list(inventory.keys()))\n",
    "print('\\n')\n",
    "\n",
    "\n",
    "print('iterating over a dictionary implicitly iterates over its keys.')\n",
    "for k in inventory:\n",
    "    print(\"Got key\", k)\n",
    "print('\\n')\n",
    "\n",
    "\n",
    "# *values*\n",
    "# parameter: none\n",
    "print('values: Returns a view of the values in the dictionary')\n",
    "print(list(inventory.values()))\n",
    "print('\\n')\n",
    "\n",
    "# *items*\n",
    "# parameter: none\n",
    "print('items Returns a view of the key-value pairs in the dictionary')\n",
    "print(inventory.items())\n",
    "print('\\n')\n",
    "\n",
    "# *get*\n",
    "# parameter: key\n",
    "print('get returns the value associated with key; None otherwise')\n",
    "print(inventory.get('apples'))\n",
    "print(inventory.get('apple'))\n",
    "print('\\n')\n",
    "\n",
    "\n",
    "# *get*\n",
    "# parameter: key,alt\n",
    "print('get(item,alter) Returns the value associated with key; alternative- alt otherwise')\n",
    "print(inventory.get('apple',0))\n",
    "print('\\n')\n",
    "\n",
    "\n",
    "print('fromkeys')\n",
    "x = ('key1', 'key2', 'key3')\n",
    "y = (0 ,1 ,2)\n",
    "thisdict = dict.fromkeys(x, y)\n",
    "print(thisdict)   \n",
    "print('\\n')\n",
    "\n",
    "print('update')\n",
    "car = {\n",
    "  \"brand\": \"Ford\",\n",
    "  \"model\": \"Mustang\",\n",
    "  \"year\": 1964\n",
    "}\n",
    "car.update({\"color\": \"White\"})\n",
    "print(car)"
   ]
  },
  {
   "cell_type": "markdown",
   "metadata": {},
   "source": [
    "## Aliasing and copying"
   ]
  },
  {
   "cell_type": "markdown",
   "metadata": {},
   "source": [
    "- Because dictionaries are mutable, whenever two variables refer to the same dictionary object, changes to one affect the other. For example, opposites is a dictionary that contains pairs of opposites."
   ]
  },
  {
   "cell_type": "code",
   "execution_count": 21,
   "metadata": {},
   "outputs": [
    {
     "name": "stdout",
     "output_type": "stream",
     "text": [
      "True\n",
      "left\n"
     ]
    }
   ],
   "source": [
    "opposites = {'up': 'down', 'right': 'wrong', 'true': 'false'}\n",
    "alias = opposites\n",
    "\n",
    "print(alias is opposites)\n",
    "\n",
    "alias['right'] = 'left'\n",
    "print(opposites['right'])\n"
   ]
  },
  {
   "cell_type": "markdown",
   "metadata": {},
   "source": [
    "- To modify a dictionary and keep a copy of the original, use the dictionary `copy` method."
   ]
  },
  {
   "cell_type": "code",
   "execution_count": 23,
   "metadata": {},
   "outputs": [
    {
     "data": {
      "text/plain": [
       "'wrong'"
      ]
     },
     "execution_count": 23,
     "metadata": {},
     "output_type": "execute_result"
    }
   ],
   "source": [
    "opposites = {'up': 'down', 'right': 'wrong', 'true': 'false'}\n",
    "acopy = opposites.copy()\n",
    "acopy['right'] = 'left'\n",
    "opposites['right']"
   ]
  },
  {
   "cell_type": "code",
   "execution_count": 25,
   "metadata": {},
   "outputs": [
    {
     "data": {
      "text/plain": [
       "10"
      ]
     },
     "execution_count": 25,
     "metadata": {},
     "output_type": "execute_result"
    }
   ],
   "source": [
    "# using tuple as it is immutable\n",
    "dict_tuple ={('US','Chicago'): 10, ('US','Penn'): 34}\n",
    "dict_tuple[('US','Chicago')]"
   ]
  },
  {
   "cell_type": "markdown",
   "metadata": {},
   "source": [
    "**---------------------------------------------------------------------------------------------------------------------------------------------------------------------------------------------------**\n",
    "\n",
    "## Functions\n",
    "\n",
    "- Functions that return values are sometimes called **fruitful functions**.\n",
    "- In many other languages, a function that doesn’t return a value is called a **procedure**, but we will stick here with the Python way of also calling it a function, or if we want to stress it, a non-fruitful function.\n",
    "- All **Python functions return the special value `None`** unless there is an explicit return statement with a value other than None.\n",
    "- A return statement, once executed, immediately terminates execution of a function, even if it is not the last statement in the function.\n",
    "- process of breaking a problem into smaller subproblems is called **functional decomposition**.\n",
    "    "
   ]
  },
  {
   "cell_type": "markdown",
   "metadata": {},
   "source": [
    "#### Mutable object side effects\n",
    "\n",
    "The global variable which is a `list` could be changed if made changes within a function."
   ]
  },
  {
   "cell_type": "code",
   "execution_count": 15,
   "metadata": {},
   "outputs": [
    {
     "name": "stdout",
     "output_type": "stream",
     "text": [
      "5\n",
      "['Michigan', 'Wolverines', 'are', 'awesome']\n",
      "None\n"
     ]
    }
   ],
   "source": [
    "def double(y):\n",
    "    y = 2 * y\n",
    "\n",
    "def changeit(lst):\n",
    "    lst[0] = \"Michigan\"\n",
    "    lst[1] = \"Wolverines\"\n",
    "\n",
    "y = 5\n",
    "double(y)\n",
    "print(y)\n",
    "\n",
    "mylst = ['our', 'students', 'are', 'awesome']\n",
    "changeit(mylst)\n",
    "print(mylst)\n",
    "\n",
    "\n",
    "v = changeit(mylst) # This would return None as there is no return statement\n",
    "print(v)"
   ]
  },
  {
   "cell_type": "markdown",
   "metadata": {},
   "source": [
    "**---------------------------------------------------------------------------------------------------------------------------------------------------------------------------------------------------**\n",
    "## Tuple Packing\n",
    "\n",
    "- Wherever python expects a single value, if multiple expressions are provided, separated by commas, they are automatically packed into a tuple. \n",
    "- For example, we can omit the parentheses when assigning a tuple of values to a single variable."
   ]
  },
  {
   "cell_type": "code",
   "execution_count": 8,
   "metadata": {},
   "outputs": [
    {
     "name": "stdout",
     "output_type": "stream",
     "text": [
      "2009\n"
     ]
    }
   ],
   "source": [
    "julia = (\"Julia\", \"Roberts\", 1967, \"Duplicity\", 2009, \"Actress\", \"Atlanta, Georgia\")\n",
    "# or equivalently\n",
    "julia = \"Julia\", \"Roberts\", 1967, \"Duplicity\", 2009, \"Actress\", \"Atlanta, Georgia\"\n",
    "print(julia[4])"
   ]
  },
  {
   "cell_type": "markdown",
   "metadata": {},
   "source": [
    "- Python has a very powerful tuple assignment feature that allows a tuple of variable names on the left of an assignment statement to be assigned values from a tuple on the right of the assignment.\n",
    "- Another way to think of this is that the **tuple of values is unpacked into the variable names**."
   ]
  },
  {
   "cell_type": "code",
   "execution_count": 9,
   "metadata": {},
   "outputs": [
    {
     "name": "stdout",
     "output_type": "stream",
     "text": [
      "Julia\n"
     ]
    }
   ],
   "source": [
    "julia = \"Julia\", \"Roberts\", 1967, \"Duplicity\", 2009, \"Actress\", \"Atlanta, Georgia\"\n",
    "\n",
    "name, surname, birth_year, movie, movie_year, profession, birth_place = julia\n",
    "\n",
    "print(name)"
   ]
  },
  {
   "cell_type": "markdown",
   "metadata": {},
   "source": [
    "#### Pythonic way for swapping values\n",
    "\n",
    "- we dont need to use a temp variable"
   ]
  },
  {
   "cell_type": "code",
   "execution_count": 27,
   "metadata": {},
   "outputs": [
    {
     "name": "stdout",
     "output_type": "stream",
     "text": [
      "2 1\n"
     ]
    }
   ],
   "source": [
    "a = 1\n",
    "b = 2\n",
    "(a, b) = (b, a)\n",
    "print(a, b)"
   ]
  },
  {
   "cell_type": "markdown",
   "metadata": {},
   "source": [
    "#### Pythonic approach to enumerating items in a sequence."
   ]
  },
  {
   "cell_type": "code",
   "execution_count": 11,
   "metadata": {},
   "outputs": [
    {
     "name": "stdout",
     "output_type": "stream",
     "text": [
      "0 apple\n",
      "1 pear\n",
      "2 apricot\n",
      "3 cherry\n",
      "4 peach\n"
     ]
    }
   ],
   "source": [
    "fruits = ['apple', 'pear', 'apricot', 'cherry', 'peach']\n",
    "for idx, fruit in enumerate(fruits):\n",
    "    print(idx, fruit)"
   ]
  },
  {
   "cell_type": "markdown",
   "metadata": {},
   "source": [
    "####  Unpacking Tuples as Arguments to Function Calls"
   ]
  },
  {
   "cell_type": "code",
   "execution_count": 12,
   "metadata": {},
   "outputs": [
    {
     "name": "stdout",
     "output_type": "stream",
     "text": [
      "7\n",
      "9\n"
     ]
    }
   ],
   "source": [
    "#Passing tuple as a parameter\n",
    "def add(x, y):\n",
    "    return x + y\n",
    "\n",
    "print(add(3, 4))\n",
    "z = (5, 4)\n",
    "print(add(*z)) # this line will cause the values to be unpacked\n"
   ]
  },
  {
   "cell_type": "markdown",
   "metadata": {},
   "source": [
    "**---------------------------------------------------------------------------------------------------------------------------------------------------------------------------------------------------**\n",
    "\n",
    "# More Iteration: while\n",
    "\n",
    "- use a for loop whenever it will be known at the beginning of the iteration process how many times the block of code needs to be executed.\n",
    "- One very common pattern is called a **listener loop**. Inside the while loop there is a function call to get user input. "
   ]
  },
  {
   "cell_type": "code",
   "execution_count": 30,
   "metadata": {},
   "outputs": [
    {
     "name": "stdout",
     "output_type": "stream",
     "text": [
      "next number to add up (enter 0 if no more numbers): 5\n",
      "next number to add up (enter 0 if no more numbers): 6\n",
      "next number to add up (enter 0 if no more numbers): 7\n",
      "next number to add up (enter 0 if no more numbers): 23\n",
      "next number to add up (enter 0 if no more numbers): -1\n",
      "next number to add up (enter 0 if no more numbers): -1\n",
      "next number to add up (enter 0 if no more numbers): -1\n",
      "next number to add up (enter 0 if no more numbers): -1\n",
      "next number to add up (enter 0 if no more numbers): 0\n",
      "37\n"
     ]
    }
   ],
   "source": [
    "theSum = 0\n",
    "x = -1\n",
    "\n",
    "while (x != 0):\n",
    "    x = int(input(\"next number to add up (enter 0 if no more numbers): \"))\n",
    "    theSum = theSum + x\n",
    "\n",
    "print(theSum)"
   ]
  },
  {
   "cell_type": "markdown",
   "metadata": {},
   "source": [
    "- total - this will start at zero\n",
    "- count - the number of items, which also starts at zero\n",
    "- moreItems - a boolean that tells us whether more items are waiting; this starts as True\n",
    "\n",
    "```\n",
    "while moreItems\n",
    "    ask for price\n",
    "    add price to total\n",
    "    add one to count\n",
    "```"
   ]
  },
  {
   "cell_type": "markdown",
   "metadata": {},
   "source": [
    "### Break and Continue\n",
    "\n",
    "- break allows the program to immediately ‘break out’ of the loop, regardless of the loop’s conditional structure.\n",
    "- continue allows the program to immediately “continue” with the next iteration. The program will skip the rest of the iteration, recheck the condition, and maybe does another iteration depending on the condition set for the while loop."
   ]
  },
  {
   "cell_type": "code",
   "execution_count": 18,
   "metadata": {},
   "outputs": [
    {
     "name": "stdout",
     "output_type": "stream",
     "text": [
      "0\n",
      "we are incrementing x by 3\n",
      "3\n",
      "3\n",
      "we are incrementing by 5\n",
      "8\n",
      "9\n",
      "we are incrementing by 5\n",
      "14\n",
      "Done with our loop! X has the value: 15\n"
     ]
    }
   ],
   "source": [
    "x = 0\n",
    "while x < 10:\n",
    "    print(x)\n",
    "    \n",
    "    if x % 2 == 0:\n",
    "        print(\"we are incrementing x by 3\")\n",
    "        x += 3\n",
    "        print(x)\n",
    "        continue\n",
    "    if x % 3 == 0:\n",
    "        print(\"we are incrementing by 5\")    \n",
    "        x += 5\n",
    "        print(x)\n",
    "    x += 1\n",
    "print(\"Done with our loop! X has the value: \" + str(x))"
   ]
  },
  {
   "cell_type": "markdown",
   "metadata": {},
   "source": [
    "**---------------------------------------------------------------------------------------------------------------------------------------------------------------------------------------------------**\n",
    "\n",
    "# Advanced Function\n",
    "\n",
    "#### optional parameters\n",
    "- it is convenient to have optional parameters that can be specified or omitted. \n",
    "- When an optional parameter is omitted from a function invocation, the formal parameter is bound to a default value. "
   ]
  },
  {
   "cell_type": "code",
   "execution_count": 37,
   "metadata": {},
   "outputs": [
    {
     "name": "stdout",
     "output_type": "stream",
     "text": [
      "100\n",
      "100\n",
      "64\n"
     ]
    }
   ],
   "source": [
    "print(int(\"100\"))\n",
    "print(int(\"100\", 10))   # same thing, 10 is the default value for the base\n",
    "print(int(\"100\", 8))     # now the base is 8, so the result is 1*64 = 64"
   ]
  },
  {
   "cell_type": "markdown",
   "metadata": {},
   "source": [
    "### Keyword parameters\n",
    "\n",
    "- A formal parameter of the form `**name` is present, it **receives a dictionary** containing all keyword arguments except for those corresponding to a formal parameter.\n",
    "- A formal parameter of the form `*name` receives a tuple containing the positional arguments beyond the formal parameter list.\n"
   ]
  },
  {
   "cell_type": "code",
   "execution_count": 15,
   "metadata": {},
   "outputs": [],
   "source": [
    "def cheeseshop(kind, *arguments, **keywords):\n",
    "    print(\"-- Do you have any\", kind, \"?\")\n",
    "    print(\"-- I'm sorry, we're all out of\", kind)\n",
    "    for arg in arguments:\n",
    "        print(arg)\n",
    "    print(\"-\" * 40)\n",
    "    print(\"Keyword\")\n",
    "    print(keywords)\n",
    "    for kw in keywords:\n",
    "        print(kw, \":\", keywords[kw])"
   ]
  },
  {
   "cell_type": "code",
   "execution_count": 18,
   "metadata": {},
   "outputs": [
    {
     "name": "stdout",
     "output_type": "stream",
     "text": [
      "-- Do you have any Limburger ?\n",
      "-- I'm sorry, we're all out of Limburger\n",
      "It's very runny, sir.\n",
      "It's really very, VERY runny, sir.\n",
      "----------------------------------------\n",
      "Keyword\n",
      "{'shopkeeper': 'Michael Palin', 'client': 'John Cleese', 'sketch': 'Cheese Shop Sketch'}\n",
      "shopkeeper : Michael Palin\n",
      "client : John Cleese\n",
      "sketch : Cheese Shop Sketch\n"
     ]
    }
   ],
   "source": [
    "#you have tp send it has seperate \n",
    "cheeseshop(\"Limburger\", \"It's very runny, sir.\",\n",
    "           \"It's really very, VERY runny, sir.\",\n",
    "           shopkeeper=\"Michael Palin\",\n",
    "           client=\"John Cleese\",\n",
    "           sketch=\"Cheese Shop Sketch\")"
   ]
  },
  {
   "cell_type": "markdown",
   "metadata": {},
   "source": [
    "### Incorrect ways"
   ]
  },
  {
   "cell_type": "code",
   "execution_count": 21,
   "metadata": {},
   "outputs": [
    {
     "name": "stdout",
     "output_type": "stream",
     "text": [
      "-- Do you have any ('Limburger', \"It's very runny, sir.\", \"It's really very, VERY runny, sir.\") ?\n",
      "-- I'm sorry, we're all out of ('Limburger', \"It's very runny, sir.\", \"It's really very, VERY runny, sir.\")\n",
      "----------------------------------------\n",
      "Keyword\n",
      "{'shopkeeper': 'Michael Palin', 'client': 'John Cleese', 'sketch': 'Cheese Shop Sketch'}\n",
      "shopkeeper : Michael Palin\n",
      "client : John Cleese\n",
      "sketch : Cheese Shop Sketch\n"
     ]
    }
   ],
   "source": [
    "t= (\"Limburger\", \"It's very runny, sir.\", \"It's really very, VERY runny, sir.\")\n",
    "cheeseshop( t,\n",
    "    shopkeeper=\"Michael Palin\",\n",
    "    client=\"John Cleese\",\n",
    "    sketch=\"Cheese Shop Sketch\")"
   ]
  },
  {
   "cell_type": "code",
   "execution_count": 22,
   "metadata": {},
   "outputs": [
    {
     "name": "stdout",
     "output_type": "stream",
     "text": [
      "-- Do you have any ('Limburger', \"It's very runny, sir.\", \"It's really very, VERY runny, sir.\") ?\n",
      "-- I'm sorry, we're all out of ('Limburger', \"It's very runny, sir.\", \"It's really very, VERY runny, sir.\")\n",
      "----------------------------------------\n",
      "Keyword\n",
      "{'shopkeeper': 'Michael Palin', 'client': 'John Cleese', 'sketch': 'Cheese Shop Sketch'}\n",
      "shopkeeper : Michael Palin\n",
      "client : John Cleese\n",
      "sketch : Cheese Shop Sketch\n"
     ]
    }
   ],
   "source": [
    "\n",
    "cheeseshop( (\"Limburger\", \"It's very runny, sir.\", \"It's really very, VERY runny, sir.\"),\n",
    "    shopkeeper=\"Michael Palin\",\n",
    "    client=\"John Cleese\",\n",
    "    sketch=\"Cheese Shop Sketch\")"
   ]
  },
  {
   "cell_type": "code",
   "execution_count": 21,
   "metadata": {},
   "outputs": [],
   "source": [
    "# passing a dict would be incorrect\n",
    "dcit = {\n",
    "    'shopkeeper':\"Michael Palin\",\n",
    "    'client':\"John Cleese\",\n",
    "    'sketch':\"Cheese Shop Sketch\"\n",
    "}"
   ]
  },
  {
   "cell_type": "code",
   "execution_count": 22,
   "metadata": {},
   "outputs": [
    {
     "name": "stdout",
     "output_type": "stream",
     "text": [
      "-- Do you have any Limburger ?\n",
      "-- I'm sorry, we're all out of Limburger\n",
      "It's very runny, sir.\n",
      "It's really very, VERY runny, sir.\n",
      "{'shopkeeper': 'Michael Palin', 'client': 'John Cleese', 'sketch': 'Cheese Shop Sketch'}\n",
      "----------------------------------------\n",
      "Keyword\n",
      "{}\n"
     ]
    }
   ],
   "source": [
    "cheeseshop(\"Limburger\", \"It's very runny, sir.\",\n",
    "           \"It's really very, VERY runny, sir.\",\n",
    "           dcit\n",
    "           )"
   ]
  },
  {
   "cell_type": "markdown",
   "metadata": {},
   "source": [
    "Refer special parameters\n",
    "https://docs.python.org/3/tutorial/controlflow.html#special-parameters"
   ]
  },
  {
   "cell_type": "markdown",
   "metadata": {},
   "source": [
    "### Anonymous function\n",
    "\n",
    "#### lambda expression\n",
    "\n",
    "`lambda arguments: expression` yields a function object\n",
    "\n",
    "```\n",
    "def fname(arguments):\n",
    "    return expression\n",
    "    ```\n",
    "- A function, whether named or anonymous, can be called by placing parentheses () after it"
   ]
  },
  {
   "cell_type": "code",
   "execution_count": 50,
   "metadata": {},
   "outputs": [
    {
     "name": "stdout",
     "output_type": "stream",
     "text": [
      "4\n"
     ]
    }
   ],
   "source": [
    "print((lambda x: x-2)(6))"
   ]
  },
  {
   "cell_type": "code",
   "execution_count": 51,
   "metadata": {},
   "outputs": [
    {
     "name": "stdout",
     "output_type": "stream",
     "text": [
      "g\n"
     ]
    }
   ],
   "source": [
    "s= 'dsfagfdg'\n",
    "last_char = lambda s: s[-1]\n",
    "print(last_char(s))"
   ]
  },
  {
   "cell_type": "code",
   "execution_count": 25,
   "metadata": {},
   "outputs": [
    {
     "name": "stdout",
     "output_type": "stream",
     "text": [
      "1\n",
      "<function <lambda> at 0x000002528B88C288>\n"
     ]
    }
   ],
   "source": [
    "d = {'a':1, 'b':2, 'c': 4}\n",
    "\n",
    "print((lambda d: d['a'])({'a':1, 'b':2, 'c': 4}))\n",
    "\n",
    "ch = lambda d: d['a']\n",
    "print(ch)"
   ]
  },
  {
   "cell_type": "markdown",
   "metadata": {},
   "source": [
    "**---------------------------------------------------------------------------------------------------------------------------------------------------------------------------------------------------**\n",
    "\n",
    "# Sorting\n",
    "\n",
    "- list/string sort does not return anything.\n",
    "- sorted does not change the original list. Instead, it returns a new list.\n"
   ]
  },
  {
   "cell_type": "code",
   "execution_count": 58,
   "metadata": {},
   "outputs": [
    {
     "name": "stdout",
     "output_type": "stream",
     "text": [
      "[-2, 1, 3, 4, 7]\n",
      "None\n",
      "\n",
      "\n",
      "['Apple', 'Blueberry', 'Cherry']\n",
      "None\n"
     ]
    }
   ],
   "source": [
    "L1 = [1, 7, 4, -2, 3]\n",
    "l1 = L1.sort()\n",
    "print(L1)\n",
    "print(l1)\n",
    "\n",
    "print('\\n')\n",
    "L1 = [\"Cherry\", \"Apple\", \"Blueberry\"]\n",
    "l1 = L1.sort()\n",
    "print(L1)\n",
    "print(l1)"
   ]
  },
  {
   "cell_type": "code",
   "execution_count": 56,
   "metadata": {},
   "outputs": [
    {
     "name": "stdout",
     "output_type": "stream",
     "text": [
      "['Apple', 'Blueberry', 'Cherry']\n",
      "['Apple', 'Blueberry', 'Cherry']\n",
      "['Cherry', 'Apple', 'Blueberry']\n",
      "----\n",
      "['Apple', 'Blueberry', 'Cherry']\n",
      "None\n"
     ]
    }
   ],
   "source": [
    "L2 = [\"Cherry\", \"Apple\", \"Blueberry\"]\n",
    "\n",
    "L3 = sorted(L2)\n",
    "print(L3)\n",
    "print(sorted(L2))\n",
    "print(L2) # unchanged\n",
    "\n",
    "print(\"----\")\n",
    "\n",
    "L2.sort()\n",
    "print(L2)\n",
    "print(L2.sort())  #return value is None"
   ]
  },
  {
   "cell_type": "code",
   "execution_count": 57,
   "metadata": {},
   "outputs": [
    {
     "name": "stdout",
     "output_type": "stream",
     "text": [
      "['Cherry', 'Blueberry', 'Apple']\n"
     ]
    }
   ],
   "source": [
    "# reverse\n",
    "L2 = [\"Cherry\", \"Apple\", \"Blueberry\"]\n",
    "print(sorted(L2, reverse=True))"
   ]
  },
  {
   "cell_type": "code",
   "execution_count": 64,
   "metadata": {},
   "outputs": [
    {
     "name": "stdout",
     "output_type": "stream",
     "text": [
      "[1, -2, 3, 4, 7]\n",
      "[7, 4, 3, -2, 1]\n",
      "[7, 4, 3, 1, -2]\n"
     ]
    }
   ],
   "source": [
    "# key parameter\n",
    "\n",
    "L1 = [1, 7, 4, -2, 3]\n",
    "\n",
    "def absolute(x):\n",
    "    if x >= 0:\n",
    "        return x\n",
    "    else:\n",
    "        return -x\n",
    "\n",
    "L2 = sorted(L1, key=absolute)\n",
    "print(L2)\n",
    "\n",
    "#or in reverse order\n",
    "print(sorted(L1, reverse=True, key=absolute))\n",
    "\n",
    "print(sorted(L1, key= lambda num: -num)) #(start from - 7, -4)"
   ]
  },
  {
   "cell_type": "markdown",
   "metadata": {},
   "source": [
    "### Sorting a dictionary\n",
    "\n",
    "- the `key` function always takes as input one item from the sequence and returns a property of the item.\n",
    "- The property of key k that is supposed to be returned is its associated value in the dictionary."
=======
    "\n",
    "# count\n",
    "# parameter: item\n",
    "# Returns the number of occurrences of item\n",
    "print(\"count\")\n",
    "print(s.count('s'))\n",
    "\n",
    "# index\n",
    "# parameter: item\n",
    "# Returns the leftmost index where the substring item is found and causes a runtime error if item is not found\n",
    "print(\"item\")\n",
    "print(s.index('s'))\n",
    "\n",
    "# strip\n",
    "# parameter:none\n",
    "# Returns a string with the leading and trailing whitespace removed\n",
    "print(\"strip\")\n",
    "s= ' sadsfdgf'\n",
    "s = s.strip()\n",
    "print(s)\n",
    "\n",
    "\n",
    "# replace\n",
    "# old, new\n",
    "# Replaces all occurrences of old substring with new\n",
    "print(\"replace\")\n",
    "s=s.replace('s','t')\n",
    "print(s)\n",
>>>>>>> b8485d1b5b9cb239d1a72739538239338db18574
    "\n",
    "d = {'key1': {'c': True, 'a': 90, '5': 50}, 'key2':{'b': 3, 'c': \"yes\"}}\n",
    "\n",
    "print(d)\n",
    "print('--------')\n",
    "print(pretty(d))\n",
    "print(type(pretty(d)))\n"
>>>>>>> f1bf59d87812a03f5948aaf28463e9abb79b52a4
   ]
  },
  {
   "cell_type": "code",
<<<<<<< HEAD
   "execution_count": 31,
=======
<<<<<<< HEAD
   "execution_count": 8,
=======
   "execution_count": 10,
>>>>>>> f1bf59d87812a03f5948aaf28463e9abb79b52a4
   "metadata": {},
   "outputs": [
    {
     "name": "stdout",
     "output_type": "stream",
     "text": [
<<<<<<< HEAD
      "D appears 4 times\n",
      "E appears 2 times\n",
      "B appears 2 times\n",
      "A appears 2 times\n",
      "I appears 2 times\n",
      "F appears 1 times\n",
      "C appears 1 times\n",
      "['D', 'E', 'B', 'A', 'I', 'F', 'C']\n"
=======
      "Enter the original price: $34\n",
      "Enter discount percentage: 5\n",
      "34.00 discounted by 5.0% is $32.3.\n"
>>>>>>> f1bf59d87812a03f5948aaf28463e9abb79b52a4
     ]
    }
   ],
   "source": [
<<<<<<< HEAD
    "L = ['E', 'F', 'B', 'A', 'D', 'I', 'I', 'C', 'B', 'A', 'D', 'D', 'E', 'D']\n",
    "\n",
    "d = {}\n",
    "for x in L:\n",
    "    if x in d:\n",
    "        d[x] = d[x] + 1\n",
    "    else:\n",
    "        d[x] = 1\n",
    "\n",
    "# now loop through the sorted keys\n",
    "for k in sorted(d, key=lambda k: d[k], reverse=True):\n",
    "      print(\"{} appears {} times\".format(k, d[k]))\n",
    "    \n",
    "print(sorted(d, key=lambda k: d[k], reverse=True))"
=======
    "origPrice = float(input('Enter the original price: $'))\n",
    "discount = float(input('Enter discount percentage: '))\n",
    "newPrice = (1 - discount/100)*origPrice\n",
    "calculation = f'{origPrice:0.2f} discounted by {discount}% is ${newPrice}.'\n",
    "print(calculation)\n"
   ]
  },
  {
   "cell_type": "code",
   "execution_count": 11,
   "metadata": {},
   "outputs": [
    {
     "name": "stdout",
     "output_type": "stream",
     "text": [
      "Hello, Sally. Nice to meet you.\n"
     ]
    }
   ],
   "source": [
    "name = \"Sally\"\n",
    "greeting = \"Nice to meet you\"\n",
    "s = f\"Hello, {name}. {greeting}.\"\n",
    "print(s)"
   ]
  },
  {
   "cell_type": "markdown",
   "metadata": {},
   "source": [
    "### Don't mutate a list that you are iterating"
   ]
  },
  {
   "cell_type": "code",
   "execution_count": 2,
>>>>>>> b8485d1b5b9cb239d1a72739538239338db18574
   "metadata": {},
   "outputs": [
    {
     "name": "stdout",
     "output_type": "stream",
     "text": [
<<<<<<< HEAD
      "level1: \n",
      "1\n",
      "level1: \n",
      "2\n",
      "level1: \n",
      "     level2: a\n",
      "     level2: b\n",
      "     level2: c\n",
      "level1: \n",
      "     level2: d\n",
      "     level2: e\n",
      "level1: \n",
      "     level2: f\n",
      "     level2: g\n",
      "     level2: h\n"
=======
      "Red\n",
      "Orange\n",
      "Yellow\n",
      "Green\n",
      "Blue\n",
      "Violet\n",
      "Purple\n",
      "Brown\n",
      "Turquois\n",
      "Beige\n"
     ]
    },
    {
     "ename": "IndexError",
     "evalue": "list index out of range",
     "output_type": "error",
     "traceback": [
      "\u001b[1;31m---------------------------------------------------------------------------\u001b[0m",
      "\u001b[1;31mIndexError\u001b[0m                                Traceback (most recent call last)",
      "\u001b[1;32m<ipython-input-2-54875101d250>\u001b[0m in \u001b[0;36m<module>\u001b[1;34m\u001b[0m\n\u001b[0;32m      3\u001b[0m \u001b[1;33m\u001b[0m\u001b[0m\n\u001b[0;32m      4\u001b[0m \u001b[1;32mfor\u001b[0m \u001b[0mposition\u001b[0m \u001b[1;32min\u001b[0m \u001b[0mrange\u001b[0m\u001b[1;33m(\u001b[0m\u001b[0mlen\u001b[0m\u001b[1;33m(\u001b[0m\u001b[0mcolors\u001b[0m\u001b[1;33m)\u001b[0m\u001b[1;33m)\u001b[0m\u001b[1;33m:\u001b[0m\u001b[1;33m\u001b[0m\u001b[1;33m\u001b[0m\u001b[0m\n\u001b[1;32m----> 5\u001b[1;33m     \u001b[0mcolor\u001b[0m \u001b[1;33m=\u001b[0m \u001b[0mcolors\u001b[0m\u001b[1;33m[\u001b[0m\u001b[0mposition\u001b[0m\u001b[1;33m]\u001b[0m\u001b[1;33m\u001b[0m\u001b[1;33m\u001b[0m\u001b[0m\n\u001b[0m\u001b[0;32m      6\u001b[0m     \u001b[0mprint\u001b[0m\u001b[1;33m(\u001b[0m\u001b[0mcolor\u001b[0m\u001b[1;33m)\u001b[0m\u001b[1;33m\u001b[0m\u001b[1;33m\u001b[0m\u001b[0m\n\u001b[0;32m      7\u001b[0m     \u001b[1;32mif\u001b[0m \u001b[0mcolor\u001b[0m\u001b[1;33m[\u001b[0m\u001b[1;36m0\u001b[0m\u001b[1;33m]\u001b[0m \u001b[1;32min\u001b[0m \u001b[1;33m[\u001b[0m\u001b[1;34m\"P\"\u001b[0m\u001b[1;33m,\u001b[0m \u001b[1;34m\"B\"\u001b[0m\u001b[1;33m,\u001b[0m \u001b[1;34m\"T\"\u001b[0m\u001b[1;33m]\u001b[0m\u001b[1;33m:\u001b[0m\u001b[1;33m\u001b[0m\u001b[1;33m\u001b[0m\u001b[0m\n",
      "\u001b[1;31mIndexError\u001b[0m: list index out of range"
>>>>>>> b8485d1b5b9cb239d1a72739538239338db18574
     ]
    }
   ],
   "source": [
<<<<<<< HEAD
    "#nested iteration\n",
    "\n",
    "nested1 = [1, 2, ['a', 'b', 'c'],['d', 'e'],['f', 'g', 'h']]\n",
    "for x in nested1:\n",
    "    print(\"level1: \")\n",
    "    if type(x) is list:\n",
    "        for y in x:\n",
    "            print(\"     level2: {}\".format(y))\n",
    "    else:\n",
    "        print(x)"
=======
    "# the error is expected since we delete elements from the list\n",
    "colors = [\"Red\", \"Orange\", \"Yellow\", \"Green\", \"Blue\", \"Indigo\", \"Violet\", \"Purple\", \"Pink\", \"Brown\", \"Teal\", \"Turquois\", \"Peach\", \"Beige\"]\n",
    "\n",
    "for position in range(len(colors)):\n",
    "    color = colors[position]\n",
    "    print(color)\n",
    "    if color[0] in [\"P\", \"B\", \"T\"]:\n",
    "        del colors[position]\n",
    "\n",
    "print(colors)"
   ]
  },
  {
   "cell_type": "markdown",
   "metadata": {},
   "source": [
    "**---------------------------------------------------------------------------------------------------------------------------------------------------------------------------------------------------**\n",
    "\n",
    "# Files\n",
    "\n",
    "|Method Name|Use|Explanation|\n",
    "|-----------|---|-----------|\n",
    "|write|filevar.write(astring)|Add a string to the end of the file. filevar must refer to a file that has been opened for writing.|\n",
    "|read(n)|filevar.read()|Read and return a string of n characters, or the entire file as a single string if n is not provided.|\n",
    "|readline(n)|filevar.readline()|Read and return the next line of the file with all text up to and including the newline character. If n is provided as a parameter, then only n characters will be returned if the line is longer than n. Note the parameter n is not supported in the browser version of Python, and in fact is rarely used in practice, you can safely ignore it.|\n",
    "|readlines(n)|filevar.readlines()|Returns a list of strings, each representing a single line of the file. If n is not provided then all lines of the file are returned. If n is provided then n characters are read but n is rounded up so that an entire line is returned. Note Like readline readlines ignores the parameter n in the browser.|\n",
    "\n"
   ]
  },
  {
   "cell_type": "markdown",
   "metadata": {},
   "source": [
    "### sample code\n",
    "```\n",
    "fileref = open(\"travel_plans2.txt\", \"r\")\n",
    "file = fileref.readlines()\n",
    "num_lines = len(file)\n",
    "fileref.close()\n",
    "```"
>>>>>>> b8485d1b5b9cb239d1a72739538239338db18574
   ]
  },
  {
   "cell_type": "markdown",
   "metadata": {},
   "source": [
<<<<<<< HEAD
    "### Deep and Shallow Copies\n",
    "\n",
    "- When you copy a nested list, you do not also get copies of the internal lists.\n",
    "- This means that if you perform a mutation operation on one of the original sublists, the copied version will also change."
=======
    "**efficient processing**: Python provides a built-in way to iterate through the contents of a file one line at a time, without first reading them all into a list.\n",
    "\n",
    "```\n",
    "olypmicsfile = open(\"olypmics.txt\", \"r\")\n",
    "\n",
    "for aline in olypmicsfile:\n",
    "    values = aline.split(\",\")\n",
    "    print(values)\n",
    "    print(values[0], \"is from\", values[3], \"and is on the roster for\", values[4])\n",
    "\n",
    "olypmicsfile.close()\n",
    "```\n",
    "\n",
    "But the we have to handle the `\\n` new line character at the end."
   ]
  },
  {
   "cell_type": "markdown",
   "metadata": {},
   "source": [
    "### Using with \n",
    "\n",
    "- The first line of the with statement opens the file and assigns it to the variable md. \n",
    "- Then we can iterate over the file in any of the usual ways. \n",
    "- When we are done we simply stop indenting and let Python take care of closing the file and cleaning up. \n",
    "\n",
    "```\n",
    "with open('mydata.txt', 'r') as md:\n",
    "    for line in md:\n",
    "        print(line)\n",
    "```"
>>>>>>> f1bf59d87812a03f5948aaf28463e9abb79b52a4
   ]
  },
  {
   "cell_type": "markdown",
   "metadata": {},
   "source": [
<<<<<<< HEAD
    "#### breaking ties\n",
    "\n",
    "- the default sort order is based on the default sort order for the first elements of the tuples, with ties being broken by the second elements, and then third elements if necessary, etc"
=======
    "### Reading csv\n",
    "\n",
    "We are using csv to strip the `\\n` characters\n",
    "\n",
    "```\n",
    " fileconnection = open(\"olympics.txt\", 'r')\n",
    " lines = fileconnection.readlines()\n",
    " header = lines[0]\n",
    " field_names = header.strip().split(',')\n",
    " print(field_names)\n",
    " for row in lines[1:]:\n",
    "     vals = row.strip().split(',')\n",
    "     if vals[5] != \"NA\":\n",
    "         print(\"{}: {}; {}\".format(\n",
    "                 vals[0],\n",
    "                 vals[4],\n",
    "                 vals[5]))\n",
    "```\n",
    "\n",
    "### Writing csv\n",
    "\n",
    "```\n",
    "olympians = [(\"John Aalberg\", 31, \"Cross Country Skiing, 15KM\"),\n",
    "             (\"Minna Maarit Aalto\", 30, \"Sailing\"),\n",
    "             (\"Win Valdemar Aaltonen\", 54, \"Art Competitions\"),\n",
    "             (\"Wakako Abe\", 18, \"Cycling\")]\n",
    "\n",
    "outfile = open(\"reduced_olympics2.csv\", \"w\")\n",
    "# output the header row\n",
    "outfile.write('\"Name\",\"Age\",\"Sport\"')\n",
    "outfile.write('\\n')\n",
    "# output each of the rows:\n",
    "for olympian in olympians:\n",
    "    row_string = '\"{}\", \"{}\", \"{}\"'.format(olympian[0], olympian[1], olympian[2])\n",
    "    outfile.write(row_string)\n",
    "    outfile.write('\\n')\n",
    "outfile.close()\n",
    "```\n",
    "**---------------------------------------------------------------------------------------------------------------------------------------------------------------------------------------------------**"
   ]
  },
  {
   "cell_type": "markdown",
   "metadata": {},
   "source": [
    "# Dictionary\n",
    "\n",
    "- unordered collection and mutable\n",
    "\n",
    "#### Operations\n",
    "- Use `del` to delete key, values in dict\n",
    "- `len` function is used to determine the number of key- value pairs"
   ]
  },
  {
   "cell_type": "code",
   "execution_count": 1,
   "metadata": {},
   "outputs": [
    {
     "data": {
      "text/plain": [
       "3"
      ]
     },
     "execution_count": 1,
     "metadata": {},
     "output_type": "execute_result"
    }
   ],
   "source": [
    "mydict = {\"cat\":12, \"dog\":6, \"elephant\":23, \"human\":34445}\n",
    "\n",
    "# delete\n",
    "del mydict['human']\n",
    "\n",
    "# length\n",
    "len(mydict)"
>>>>>>> b8485d1b5b9cb239d1a72739538239338db18574
   ]
  },
  {
   "cell_type": "code",
<<<<<<< HEAD
   "execution_count": 9,
=======
   "execution_count": 19,
>>>>>>> b8485d1b5b9cb239d1a72739538239338db18574
   "metadata": {},
   "outputs": [
    {
     "name": "stdout",
     "output_type": "stream",
     "text": [
<<<<<<< HEAD
      "[['dogs', 'puppies'], ['cats', 'kittens']]\n",
      "False\n",
      "True\n",
      "[['dogs', 'puppies', ['canines']], ['cats', 'kittens']]\n",
      "-------- Now look at the copied version -----------\n",
      "[['dogs', 'puppies', ['canines']], ['cats', 'kittens']]\n"
=======
      "dict_keys(['apples', 'bananas', 'oranges', 'pears'])\n",
      "['apples', 'bananas', 'oranges', 'pears']\n",
      "\n",
      "\n",
      "iterating over a dictionary implicitly iterates over its keys.\n",
      "Got key apples\n",
      "Got key bananas\n",
      "Got key oranges\n",
      "Got key pears\n",
      "\n",
      "\n",
      "values: Returns a view of the values in the dictionary\n",
      "[430, 312, 525, 217]\n",
      "\n",
      "\n",
      "items Returns a view of the key-value pairs in the dictionary\n",
      "dict_items([('apples', 430), ('bananas', 312), ('oranges', 525), ('pears', 217)])\n",
      "\n",
      "\n",
      "get returns the value associated with key; None otherwise\n",
      "430\n",
      "None\n",
      "\n",
      "\n",
      "get(item,alter) Returns the value associated with key; alternative- alt otherwise\n",
      "0\n",
      "\n",
      "\n"
>>>>>>> b8485d1b5b9cb239d1a72739538239338db18574
     ]
    }
   ],
   "source": [
<<<<<<< HEAD
    "original = [['dogs', 'puppies'], ['cats', \"kittens\"]]\n",
    "copied_version = original[:]\n",
    "print(copied_version)\n",
    "print(copied_version is original)\n",
    "print(copied_version == original)\n",
    "original[0].append([\"canines\"])\n",
    "print(original)\n",
    "print(\"-------- Now look at the copied version -----------\")\n",
    "print(copied_version)"
=======
    "inventory = {'apples': 430, 'bananas': 312, 'oranges': 525, 'pears': 217}\n",
    "\n",
    "#*keys*\n",
    "#parameter: none\n",
    "#Returns a view of the keys in the dictionary\n",
    "print(inventory.keys())\n",
    "#convert to a list\n",
    "print(list(inventory.keys()))\n",
    "print('\\n')\n",
    "\n",
    "\n",
    "print('iterating over a dictionary implicitly iterates over its keys.')\n",
    "for k in inventory:\n",
    "    print(\"Got key\", k)\n",
    "print('\\n')\n",
    "\n",
    "\n",
    "# *values*\n",
    "# parameter: none\n",
    "print('values: Returns a view of the values in the dictionary')\n",
    "print(list(inventory.values()))\n",
    "print('\\n')\n",
    "\n",
    "# *items*\n",
    "# parameter: none\n",
    "print('items Returns a view of the key-value pairs in the dictionary')\n",
    "print(inventory.items())\n",
    "print('\\n')\n",
    "\n",
    "# *get*\n",
    "# parameter: key\n",
    "print('get returns the value associated with key; None otherwise')\n",
    "print(inventory.get('apples'))\n",
    "print(inventory.get('apple'))\n",
    "print('\\n')\n",
    "\n",
    "\n",
    "# *get*\n",
    "# parameter: key,alt\n",
    "print('get(item,alter) Returns the value associated with key; alternative- alt otherwise')\n",
    "print(inventory.get('apple',0))\n",
    "print('\\n')"
>>>>>>> b8485d1b5b9cb239d1a72739538239338db18574
   ]
  },
  {
   "cell_type": "markdown",
   "metadata": {},
   "source": [
<<<<<<< HEAD
    "- you can copy using iteration\n",
    "- you can use deep copy"
=======
    "## Aliasing and copying"
   ]
  },
  {
   "cell_type": "markdown",
   "metadata": {},
   "source": [
    "- Because dictionaries are mutable, whenever two variables refer to the same dictionary object, changes to one affect the other. For example, opposites is a dictionary that contains pairs of opposites."
>>>>>>> b8485d1b5b9cb239d1a72739538239338db18574
   ]
  },
  {
   "cell_type": "code",
<<<<<<< HEAD
   "execution_count": 10,
=======
   "execution_count": 21,
>>>>>>> b8485d1b5b9cb239d1a72739538239338db18574
   "metadata": {},
   "outputs": [
    {
     "name": "stdout",
     "output_type": "stream",
     "text": [
      "[['dogs', 'puppies'], ['cats', 'kittens']]\n",
      "[['dogs', 'puppies', ['canines']], ['cats', 'kittens']]\n",
      "-------- Now look at the copied version -----------\n",
      "[['dogs', 'puppies'], ['cats', 'kittens']]\n"
     ]
    }
   ],
   "source": [
    "original = [['dogs', 'puppies'], ['cats', \"kittens\"]]\n",
    "copied_outer_list = []\n",
    "for inner_list in original:\n",
    "    copied_inner_list = inner_list[:]\n",
    "    copied_outer_list.append(copied_inner_list)\n",
    "print(copied_outer_list)\n",
    "original[0].append([\"canines\"])\n",
    "print(original)\n",
    "print(\"-------- Now look at the copied version -----------\")\n",
    "print(copied_outer_list)\n"
>>>>>>> f1bf59d87812a03f5948aaf28463e9abb79b52a4
   ]
  },
  {
   "cell_type": "code",
<<<<<<< HEAD
   "execution_count": 70,
=======
   "execution_count": 11,
>>>>>>> f1bf59d87812a03f5948aaf28463e9abb79b52a4
   "metadata": {},
   "outputs": [
    {
     "name": "stdout",
     "output_type": "stream",
     "text": [
<<<<<<< HEAD
      "('A', 2, 4)\n",
      "('A', 3, 2)\n",
      "('B', 3, 1)\n",
      "('C', 1, 2)\n",
      "('C', 1, 4)\n"
=======
      "-------- Original -----------\n",
      "[['canines', ['dogs', 'puppies'], ['marsupials']], ['felines', ['cats', 'kittens']], 'Hi there']\n",
      "-------- deep copy -----------\n",
      "[['canines', ['dogs', 'puppies']], ['felines', ['cats', 'kittens']]]\n",
      "-------- shallow copy -----------\n",
      "[['canines', ['dogs', 'puppies'], ['marsupials']], ['felines', ['cats', 'kittens']]]\n"
>>>>>>> f1bf59d87812a03f5948aaf28463e9abb79b52a4
     ]
    }
   ],
   "source": [
<<<<<<< HEAD
    "tups = [('A', 3, 2),\n",
    "        ('C', 1, 4),\n",
    "        ('B', 3, 1),\n",
    "        ('A', 2, 4),\n",
    "        ('C', 1, 2)]\n",
    "for tup in sorted(tups):\n",
    "    print(tup)"
=======
    "import copy\n",
    "original = [['canines', ['dogs', 'puppies']], ['felines', ['cats', 'kittens']]]\n",
    "shallow_copy_version = original[:]\n",
    "deeply_copied_version = copy.deepcopy(original)\n",
    "original.append(\"Hi there\")\n",
    "original[0].append([\"marsupials\"])\n",
    "print(\"-------- Original -----------\")\n",
    "print(original)\n",
    "print(\"-------- deep copy -----------\")\n",
    "print(deeply_copied_version)\n",
    "print(\"-------- shallow copy -----------\")\n",
    "print(shallow_copy_version)"
>>>>>>> f1bf59d87812a03f5948aaf28463e9abb79b52a4
   ]
  },
  {
   "cell_type": "markdown",
   "metadata": {},
   "source": [
<<<<<<< HEAD
    "**PROBLEM**\n",
    "\n",
    "In order to sort a list of fruit words first by their length, smallest to largest, and then alphabetically to break ties among words of the same length.\n",
    "\n",
    "**SOLUTION**\n",
    "- we have the key function return a tuple whose first element is the length of the fruit’s name, and second element is the fruit name itself"
=======
    "**---------------------------------------------------------------------------------------------------------------------------------------------------------------------------------------------------**\n",
    "\n",
    "# More on accumalation\n",
    "\n",
    "#### Map\n",
    "- map takes two arguments, a function and a sequence. \n",
    "    - The function is the mapper that transforms items. It is automatically applied to each item in the sequence.\n"
>>>>>>> f1bf59d87812a03f5948aaf28463e9abb79b52a4
   ]
  },
  {
   "cell_type": "code",
<<<<<<< HEAD
   "execution_count": 72,
=======
   "execution_count": 17,
>>>>>>> f1bf59d87812a03f5948aaf28463e9abb79b52a4
   "metadata": {},
   "outputs": [
    {
     "name": "stdout",
     "output_type": "stream",
     "text": [
<<<<<<< HEAD
      "kiwi\n",
      "pear\n",
      "apple\n",
      "mango\n",
      "peach\n",
      "papaya\n",
      "blueberry\n"
     ]
    }
   ],
   "source": [
    "fruits = ['peach', 'kiwi', 'apple', 'blueberry', 'papaya', 'mango', 'pear']\n",
    "new_order = sorted(fruits, key=lambda fruit_name: (len(fruit_name), fruit_name))\n",
    "for fruit in new_order:\n",
    "    print(fruit)\n"
   ]
  },
  {
   "cell_type": "code",
   "execution_count": 74,
   "metadata": {},
   "outputs": [
    {
     "name": "stdout",
     "output_type": "stream",
     "text": [
      "['Berlin', 'Buenos Aires', 'Cairo', 'Caloocan', 'Reykjavik']\n"
     ]
    }
   ],
   "source": [
    "weather = {'Reykjavik': {'temp':60, 'condition': 'rainy'},\n",
    "           'Buenos Aires': {'temp': 55, 'condition': 'cloudy'},\n",
    "           'Cairo': {'temp': 96, 'condition': 'sunny'},\n",
    "           'Berlin': {'temp': 89, 'condition': 'sunny'},\n",
    "           'Caloocan': {'temp': 78, 'condition': 'sunny'}}\n",
    "\n",
    "sorted_weather = sorted(weather, key=lambda w: (w, weather[w]['temp']))\n",
    "print(sorted_weather)"
   ]
  },
  {
   "cell_type": "markdown",
   "metadata": {},
   "source": [
    "**---------------------------------------------------------------------------------------------------------------------------------------------------------------------------------------------------**\n",
    "\n",
    "# Nested Data and Nested Iteration\n",
    "\n"
   ]
  },
  {
   "cell_type": "markdown",
   "metadata": {},
   "source": [
    "- JSON stands for JavaScript Object Notation\n",
    "- json.loads() takes a string as input and produces a python object (a dictionary or a list) as output\n"
   ]
  },
  {
   "cell_type": "code",
   "execution_count": 1,
   "metadata": {},
   "outputs": [
    {
     "name": "stdout",
     "output_type": "stream",
     "text": [
      "\n",
      "\n",
      "\n",
      "{\n",
      " \"resultCount\":25,\n",
      " \"results\": [\n",
      "{\"wrapperType\":\"track\", \"kind\":\"podcast\", \"collectionId\":10892}]}\n",
      "------\n",
      "<class 'dict'>\n",
      "dict_keys(['resultCount', 'results'])\n",
      "25\n"
     ]
    }
   ],
   "source": [
    "import json\n",
    "a_string = '\\n\\n\\n{\\n \"resultCount\":25,\\n \"results\": [\\n{\"wrapperType\":\"track\", \"kind\":\"podcast\", \"collectionId\":10892}]}'\n",
    "print(a_string)\n",
    "d = json.loads(a_string)\n",
    "print(\"------\")\n",
    "print(type(d))\n",
    "print(d.keys())\n",
    "print(d['resultCount'])\n",
    "# print(a_string['resultCount'])"
   ]
  },
  {
   "cell_type": "markdown",
   "metadata": {},
   "source": [
    "- json.dumps() is the inverse of loads. It takes a python object, typically a dictionary or a list, and returns a string, in JSON format.\n",
    "- Two useful parameters are sort_keys and indent. \n",
    "    - sort_keys = True (the keys of dictionaries are output in alphabetic order with their values)\n",
    "    - indent = (an integer) dumps generates a string suitable for displaying to people, with newlines and indentation for nested lists or dictionaries"
   ]
  },
  {
   "cell_type": "code",
   "execution_count": 7,
   "metadata": {},
   "outputs": [
    {
     "name": "stdout",
     "output_type": "stream",
     "text": [
      "{'key1': {'c': True, 'a': 90, '5': 50}, 'key2': {'b': 3, 'c': 'yes'}}\n",
      "--------\n",
      "{\n",
      " \"key1\": {\n",
      "  \"5\": 50,\n",
      "  \"a\": 90,\n",
      "  \"c\": true\n",
      " },\n",
      " \"key2\": {\n",
      "  \"b\": 3,\n",
      "  \"c\": \"yes\"\n",
      " }\n",
      "}\n",
      "<class 'str'>\n"
     ]
    }
   ],
   "source": [
    "import json\n",
    "def pretty(obj):\n",
    "    return json.dumps(obj, sort_keys=True, indent=1)\n",
    "\n",
    "d = {'key1': {'c': True, 'a': 90, '5': 50}, 'key2':{'b': 3, 'c': \"yes\"}}\n",
    "\n",
    "print(d)\n",
    "print('--------')\n",
    "print(pretty(d))\n",
    "print(type(pretty(d)))\n"
   ]
  },
  {
   "cell_type": "code",
   "execution_count": 8,
   "metadata": {},
   "outputs": [
    {
     "name": "stdout",
     "output_type": "stream",
     "text": [
      "level1: \n",
      "1\n",
      "level1: \n",
      "2\n",
      "level1: \n",
      "     level2: a\n",
      "     level2: b\n",
      "     level2: c\n",
      "level1: \n",
      "     level2: d\n",
      "     level2: e\n",
      "level1: \n",
      "     level2: f\n",
      "     level2: g\n",
      "     level2: h\n"
=======
      "[6, 15, 27]\n",
      "[8, 20, 36]\n"
>>>>>>> f1bf59d87812a03f5948aaf28463e9abb79b52a4
     ]
    }
   ],
   "source": [
<<<<<<< HEAD
    "#nested iteration\n",
    "\n",
    "nested1 = [1, 2, ['a', 'b', 'c'],['d', 'e'],['f', 'g', 'h']]\n",
    "for x in nested1:\n",
    "    print(\"level1: \")\n",
    "    if type(x) is list:\n",
    "        for y in x:\n",
    "            print(\"     level2: {}\".format(y))\n",
    "    else:\n",
    "        print(x)"
   ]
  },
  {
   "cell_type": "markdown",
   "metadata": {},
   "source": [
    "### Deep and Shallow Copies\n",
    "\n",
    "- When you copy a nested list, you do not also get copies of the internal lists.\n",
    "- This means that if you perform a mutation operation on one of the original sublists, the copied version will also change."
   ]
  },
  {
   "cell_type": "code",
   "execution_count": 9,
   "metadata": {},
   "outputs": [
    {
     "name": "stdout",
     "output_type": "stream",
     "text": [
      "[['dogs', 'puppies'], ['cats', 'kittens']]\n",
      "False\n",
      "True\n",
      "[['dogs', 'puppies', ['canines']], ['cats', 'kittens']]\n",
      "-------- Now look at the copied version -----------\n",
      "[['dogs', 'puppies', ['canines']], ['cats', 'kittens']]\n"
     ]
    }
   ],
   "source": [
    "original = [['dogs', 'puppies'], ['cats', \"kittens\"]]\n",
    "copied_version = original[:]\n",
    "print(copied_version)\n",
    "print(copied_version is original)\n",
    "print(copied_version == original)\n",
    "original[0].append([\"canines\"])\n",
    "print(original)\n",
    "print(\"-------- Now look at the copied version -----------\")\n",
    "print(copied_version)"
   ]
  },
  {
   "cell_type": "markdown",
   "metadata": {},
   "source": [
    "- you can copy using iteration\n",
    "- you can use deep copy"
   ]
  },
  {
   "cell_type": "code",
   "execution_count": 10,
   "metadata": {},
   "outputs": [
    {
     "name": "stdout",
     "output_type": "stream",
     "text": [
      "[['dogs', 'puppies'], ['cats', 'kittens']]\n",
      "[['dogs', 'puppies', ['canines']], ['cats', 'kittens']]\n",
      "-------- Now look at the copied version -----------\n",
      "[['dogs', 'puppies'], ['cats', 'kittens']]\n"
     ]
    }
   ],
   "source": [
    "original = [['dogs', 'puppies'], ['cats', \"kittens\"]]\n",
    "copied_outer_list = []\n",
    "for inner_list in original:\n",
    "    copied_inner_list = inner_list[:]\n",
    "    copied_outer_list.append(copied_inner_list)\n",
    "print(copied_outer_list)\n",
    "original[0].append([\"canines\"])\n",
    "print(original)\n",
    "print(\"-------- Now look at the copied version -----------\")\n",
    "print(copied_outer_list)\n"
   ]
  },
  {
   "cell_type": "code",
   "execution_count": 11,
   "metadata": {},
   "outputs": [
    {
     "name": "stdout",
     "output_type": "stream",
     "text": [
      "-------- Original -----------\n",
      "[['canines', ['dogs', 'puppies'], ['marsupials']], ['felines', ['cats', 'kittens']], 'Hi there']\n",
      "-------- deep copy -----------\n",
      "[['canines', ['dogs', 'puppies']], ['felines', ['cats', 'kittens']]]\n",
      "-------- shallow copy -----------\n",
      "[['canines', ['dogs', 'puppies'], ['marsupials']], ['felines', ['cats', 'kittens']]]\n"
     ]
    }
   ],
   "source": [
    "import copy\n",
    "original = [['canines', ['dogs', 'puppies']], ['felines', ['cats', 'kittens']]]\n",
    "shallow_copy_version = original[:]\n",
    "deeply_copied_version = copy.deepcopy(original)\n",
    "original.append(\"Hi there\")\n",
    "original[0].append([\"marsupials\"])\n",
    "print(\"-------- Original -----------\")\n",
    "print(original)\n",
    "print(\"-------- deep copy -----------\")\n",
    "print(deeply_copied_version)\n",
    "print(\"-------- shallow copy -----------\")\n",
    "print(shallow_copy_version)"
   ]
  },
  {
   "cell_type": "markdown",
   "metadata": {},
   "source": [
    "**---------------------------------------------------------------------------------------------------------------------------------------------------------------------------------------------------**\n",
    "\n",
    "# More on accumalation\n",
    "\n",
    "#### Map\n",
    "- map takes two arguments, a function and a sequence. \n",
    "    - The function is the mapper that transforms items. It is automatically applied to each item in the sequence.\n"
   ]
  },
  {
   "cell_type": "code",
   "execution_count": 17,
   "metadata": {},
   "outputs": [
    {
     "name": "stdout",
     "output_type": "stream",
     "text": [
      "[6, 15, 27]\n",
      "[8, 20, 36]\n"
     ]
    }
   ],
   "source": [
    "def triple(value):\n",
    "    return 3*value\n",
    "\n",
=======
<<<<<<< HEAD
    "def triple(value):\n",
    "    return 3*value\n",
    "\n",
>>>>>>> f1bf59d87812a03f5948aaf28463e9abb79b52a4
    "def tripleStuff(a_list):\n",
    "    new_seq = map(triple, a_list)\n",
    "    return list(new_seq)\n",
    "\n",
    "\n",
    "   \n",
    "\n",
    "things = [2, 5, 9]\n",
    "things3 = tripleStuff(things)\n",
    "print(things3)\n",
    "\n",
    "new_seq = map(lambda value: 4*value, [2, 5, 9])\n",
    "print(list(new_seq))"
   ]
  },
  {
   "cell_type": "markdown",
   "metadata": {},
   "source": [
    "### filter\n",
    "\n",
    "#### note da Aswa lambda doesn't work on list directly"
<<<<<<< HEAD
=======
=======
    "- To modify a dictionary and keep a copy of the original, use the dictionary `copy` method."
>>>>>>> f1bf59d87812a03f5948aaf28463e9abb79b52a4
   ]
  },
  {
   "cell_type": "code",
<<<<<<< HEAD
=======
   "execution_count": 23,
   "metadata": {},
   "outputs": [
    {
     "data": {
      "text/plain": [
       "'wrong'"
      ]
     },
     "execution_count": 23,
     "metadata": {},
     "output_type": "execute_result"
    }
   ],
   "source": [
    "opposites = {'up': 'down', 'right': 'wrong', 'true': 'false'}\n",
    "acopy = opposites.copy()\n",
    "acopy['right'] = 'left'\n",
    "opposites['right']"
>>>>>>> b8485d1b5b9cb239d1a72739538239338db18574
   ]
  },
  {
   "cell_type": "code",
<<<<<<< HEAD
>>>>>>> f1bf59d87812a03f5948aaf28463e9abb79b52a4
   "execution_count": 30,
   "metadata": {},
   "outputs": [
    {
     "name": "stdout",
     "output_type": "stream",
     "text": [
      "[2, 4, 8]\n",
      "True\n"
     ]
    },
    {
     "ename": "TypeError",
     "evalue": "'function' object is not subscriptable",
     "output_type": "error",
     "traceback": [
      "\u001b[1;31m---------------------------------------------------------------------------\u001b[0m",
      "\u001b[1;31mTypeError\u001b[0m                                 Traceback (most recent call last)",
      "\u001b[1;32m<ipython-input-30-37e33bbab7aa>\u001b[0m in \u001b[0;36m<module>\u001b[1;34m\u001b[0m\n\u001b[0;32m      5\u001b[0m \u001b[0mx\u001b[0m \u001b[1;33m=\u001b[0m \u001b[1;32mlambda\u001b[0m \u001b[0mnum\u001b[0m\u001b[1;33m:\u001b[0m \u001b[0mnum\u001b[0m \u001b[1;33m%\u001b[0m \u001b[1;36m2\u001b[0m \u001b[1;33m==\u001b[0m \u001b[1;36m0\u001b[0m\u001b[1;33m\u001b[0m\u001b[1;33m\u001b[0m\u001b[0m\n\u001b[0;32m      6\u001b[0m \u001b[0mprint\u001b[0m\u001b[1;33m(\u001b[0m\u001b[0mx\u001b[0m\u001b[1;33m(\u001b[0m\u001b[1;36m2\u001b[0m\u001b[1;33m)\u001b[0m\u001b[1;33m)\u001b[0m\u001b[1;33m\u001b[0m\u001b[1;33m\u001b[0m\u001b[0m\n\u001b[1;32m----> 7\u001b[1;33m \u001b[0mprint\u001b[0m\u001b[1;33m(\u001b[0m\u001b[0mx\u001b[0m\u001b[1;33m[\u001b[0m\u001b[1;36m1\u001b[0m\u001b[1;33m,\u001b[0m\u001b[1;36m2\u001b[0m\u001b[1;33m,\u001b[0m\u001b[1;36m3\u001b[0m\u001b[1;33m,\u001b[0m\u001b[1;36m4\u001b[0m\u001b[1;33m,\u001b[0m\u001b[1;36m5\u001b[0m\u001b[1;33m,\u001b[0m\u001b[1;36m8\u001b[0m\u001b[1;33m]\u001b[0m\u001b[1;33m)\u001b[0m\u001b[1;33m\u001b[0m\u001b[1;33m\u001b[0m\u001b[0m\n\u001b[0m",
      "\u001b[1;31mTypeError\u001b[0m: 'function' object is not subscriptable"
     ]
    }
   ],
   "source": [
    "new_seq = filter(lambda num: num % 2 == 0, [1,2,3,4,5,8])\n",
    "print( list(new_seq))\n",
    "\n",
    "#note da Aswa lambda doesn't work on list directly\n",
    "x = lambda num: num % 2 == 0\n",
    "print(x(2))\n",
    "print(x[1,2,3,4,5,8])"
<<<<<<< HEAD
=======
=======
   "execution_count": 25,
   "metadata": {},
   "outputs": [
    {
     "data": {
      "text/plain": [
       "10"
      ]
     },
     "execution_count": 25,
     "metadata": {},
     "output_type": "execute_result"
    }
   ],
   "source": [
    "# using tuple as it is immutable\n",
    "dict_tuple ={('US','Chicago'): 10, ('US','Penn'): 34}\n",
    "dict_tuple[('US','Chicago')]"
>>>>>>> f1bf59d87812a03f5948aaf28463e9abb79b52a4
   ]
  },
  {
   "cell_type": "markdown",
   "metadata": {},
   "source": [
<<<<<<< HEAD
    "### List comprehension\n",
    "\n",
    "- alternative way to do map and filter operations, called a list comprehension"
=======
    "**---------------------------------------------------------------------------------------------------------------------------------------------------------------------------------------------------**\n",
    "\n",
    "## Functions\n",
    "\n",
    "- Functions that return values are sometimes called **fruitful functions**.\n",
    "- In many other languages, a function that doesn’t return a value is called a **procedure**, but we will stick here with the Python way of also calling it a function, or if we want to stress it, a non-fruitful function.\n",
    "- All **Python functions return the special value `None`** unless there is an explicit return statement with a value other than None.\n",
    "- A return statement, once executed, immediately terminates execution of a function, even if it is not the last statement in the function.\n",
    "- process of breaking a problem into smaller subproblems is called **functional decomposition**.\n",
    "    "
>>>>>>> b8485d1b5b9cb239d1a72739538239338db18574
   ]
  },
  {
   "cell_type": "markdown",
   "metadata": {},
   "source": [
<<<<<<< HEAD
    "### List comprehension\n",
    "\n",
    "- alternative way to do map and filter operations, called a list comprehension"
=======
    "#### Mutable object side effects\n",
    "\n",
    "The global variable which is a `list` could be changed if made changes within a function."
>>>>>>> b8485d1b5b9cb239d1a72739538239338db18574
>>>>>>> f1bf59d87812a03f5948aaf28463e9abb79b52a4
   ]
  },
  {
   "cell_type": "code",
<<<<<<< HEAD
   "execution_count": 27,
=======
<<<<<<< HEAD
   "execution_count": 27,
=======
   "execution_count": 26,
>>>>>>> b8485d1b5b9cb239d1a72739538239338db18574
>>>>>>> f1bf59d87812a03f5948aaf28463e9abb79b52a4
   "metadata": {},
   "outputs": [
    {
     "name": "stdout",
     "output_type": "stream",
     "text": [
<<<<<<< HEAD
      "[4, 10, 18]\n"
=======
<<<<<<< HEAD
      "[4, 10, 18]\n"
=======
      "5\n",
      "['Michigan', 'Wolverines', 'are', 'awesome']\n"
>>>>>>> b8485d1b5b9cb239d1a72739538239338db18574
>>>>>>> f1bf59d87812a03f5948aaf28463e9abb79b52a4
     ]
    }
   ],
   "source": [
<<<<<<< HEAD
    "things = [2, 5, 9]\n",
=======
<<<<<<< HEAD
    "things = [2, 5, 9]\n",
=======
    "def double(y):\n",
    "    y = 2 * y\n",
    "\n",
    "def changeit(lst):\n",
    "    lst[0] = \"Michigan\"\n",
    "    lst[1] = \"Wolverines\"\n",
>>>>>>> b8485d1b5b9cb239d1a72739538239338db18574
>>>>>>> f1bf59d87812a03f5948aaf28463e9abb79b52a4
    "\n",
    "yourlist = [value * 2 for value in things]\n",
    "\n",
    "print(yourlist)"
<<<<<<< HEAD
   ]
  },
  {
   "cell_type": "code",
   "execution_count": 28,
   "metadata": {},
   "outputs": [
    {
     "name": "stdout",
     "output_type": "stream",
     "text": [
      "[4, 6, 0]\n"
     ]
    }
   ],
   "source": [
    "def keep_evens(nums):\n",
    "    new_list = [num for num in nums if num % 2 == 0]\n",
    "    return new_list\n",
    "\n",
    "print(keep_evens([3, 4, 6, 7, 0, 1]))"
=======
>>>>>>> f1bf59d87812a03f5948aaf28463e9abb79b52a4
   ]
  },
  {
   "cell_type": "code",
   "execution_count": 28,
   "metadata": {},
   "outputs": [
    {
     "name": "stdout",
     "output_type": "stream",
     "text": [
<<<<<<< HEAD
      "<map object at 0x000002528B7F7348>\n",
      "[8, 12, 0]\n"
=======
      "[4, 6, 0]\n"
>>>>>>> f1bf59d87812a03f5948aaf28463e9abb79b52a4
     ]
    }
   ],
   "source": [
<<<<<<< HEAD
    "things = [3, 4, 6, 7, 0, 1, 3]\n",
    "#chaining together filter and map:\n",
    "# first, filter to keep only the even numbers\n",
    "# double each of them\n",
    "print(map(lambda x: x*2, filter(lambda y: y % 2 == 0, things)))\n",
    "\n",
    "# equivalent version using list comprehension\n",
    "print([x*2 for x in things if x % 2 == 0])"
   ]
  },
  {
   "cell_type": "code",
   "execution_count": 29,
   "metadata": {},
   "outputs": [
    {
     "data": {
      "text/plain": [
       "{3: 1, 4: 1, 6: 1, 7: 1, 0: 1, 1: 1}"
      ]
     },
     "execution_count": 29,
     "metadata": {},
     "output_type": "execute_result"
    }
   ],
   "source": [
    "{key : 1 for key in things}"
=======
<<<<<<< HEAD
    "def keep_evens(nums):\n",
    "    new_list = [num for num in nums if num % 2 == 0]\n",
    "    return new_list\n",
    "\n",
    "print(keep_evens([3, 4, 6, 7, 0, 1]))"
=======
    "**---------------------------------------------------------------------------------------------------------------------------------------------------------------------------------------------------**\n",
    "## Tuple Packing\n",
    "\n",
    "- Wherever python expects a single value, if multiple expressions are provided, separated by commas, they are automatically packed into a tuple. \n",
    "- For example, we can omit the parentheses when assigning a tuple of values to a single variable."
>>>>>>> b8485d1b5b9cb239d1a72739538239338db18574
>>>>>>> f1bf59d87812a03f5948aaf28463e9abb79b52a4
   ]
  },
  {
   "cell_type": "code",
   "execution_count": 29,
   "metadata": {},
   "outputs": [
    {
     "name": "stdout",
     "output_type": "stream",
     "text": [
      "<map object at 0x00000190074526C8>\n",
      "[8, 12, 0]\n"
     ]
    }
   ],
   "source": [
<<<<<<< HEAD
    "#### Zip\n",
    "\n",
    "- The zip function takes multiple lists and turns them into a list of tuples (actually, an iterator, but they work like lists for most practical purposes), pairing up all the first items as one tuple, all the second items as a tuple, and so on."
   ]
  },
  {
   "cell_type": "code",
   "execution_count": 31,
   "metadata": {},
   "outputs": [
    {
     "name": "stdout",
     "output_type": "stream",
     "text": [
      "[(3, 1), (4, 2), (5, 3)]\n"
     ]
    }
   ],
   "source": [
    "L1 = [3, 4, 5]\n",
    "L2 = [1, 2, 3]\n",
    "L4 = list(zip(L1, L2))\n",
    "print(L4)"
=======
    "things = [3, 4, 6, 7, 0, 1]\n",
    "#chaining together filter and map:\n",
    "# first, filter to keep only the even numbers\n",
    "# double each of them\n",
    "print(map(lambda x: x*2, filter(lambda y: y % 2 == 0, things)))\n",
    "\n",
    "# equivalent version using list comprehension\n",
    "print([x*2 for x in things if x % 2 == 0])"
   ]
  },
  {
   "cell_type": "markdown",
   "metadata": {},
   "source": [
<<<<<<< HEAD
    "#### Zip\n",
    "\n",
    "- The zip function takes multiple lists and turns them into a list of tuples (actually, an iterator, but they work like lists for most practical purposes), pairing up all the first items as one tuple, all the second items as a tuple, and so on."
=======
    "- Python has a very powerful tuple assignment feature that allows a tuple of variable names on the left of an assignment statement to be assigned values from a tuple on the right of the assignment.\n",
    "- Another way to think of this is that the **tuple of values is unpacked into the variable names**."
>>>>>>> b8485d1b5b9cb239d1a72739538239338db18574
>>>>>>> f1bf59d87812a03f5948aaf28463e9abb79b52a4
   ]
  },
  {
   "cell_type": "code",
   "execution_count": 31,
   "metadata": {},
   "outputs": [
    {
     "name": "stdout",
     "output_type": "stream",
     "text": [
<<<<<<< HEAD
      "[(3, 1), (4, 2)]\n"
=======
      "[(3, 1), (4, 2), (5, 3)]\n"
>>>>>>> f1bf59d87812a03f5948aaf28463e9abb79b52a4
     ]
    }
   ],
   "source": [
<<<<<<< HEAD
    "# the should be equal sized\n",
    "L1 = [3, 4]\n",
=======
    "L1 = [3, 4, 5]\n",
>>>>>>> f1bf59d87812a03f5948aaf28463e9abb79b52a4
    "L2 = [1, 2, 3]\n",
    "L4 = list(zip(L1, L2))\n",
    "print(L4)"
   ]
  },
  {
   "cell_type": "code",
   "execution_count": 32,
   "metadata": {},
   "outputs": [
    {
     "name": "stdout",
     "output_type": "stream",
     "text": [
      "[4, 6, 8]\n"
     ]
    }
   ],
   "source": [
<<<<<<< HEAD
    "L1 = [3, 4, 5]\n",
    "L2 = [1, 2, 3]\n",
    "L3 = [x1 + x2 for (x1, x2) in list(zip(L1, L2))]\n",
    "print(L3)"
=======
    "#### Pythonic way for swapping values\n",
    "\n",
    "- we dont need to use a temp variable"
>>>>>>> f1bf59d87812a03f5948aaf28463e9abb79b52a4
   ]
  },
  {
   "cell_type": "code",
<<<<<<< HEAD
   "execution_count": 33,
=======
   "execution_count": 27,
>>>>>>> f1bf59d87812a03f5948aaf28463e9abb79b52a4
   "metadata": {},
   "outputs": [
    {
     "name": "stdout",
     "output_type": "stream",
     "text": [
<<<<<<< HEAD
      "True\n",
      "False\n"
=======
      "2 1\n"
>>>>>>> f1bf59d87812a03f5948aaf28463e9abb79b52a4
     ]
    }
   ],
   "source": [
<<<<<<< HEAD
    "# check down / boring way\n",
    "\n",
    "def possible(word, blanked, guesses_made):\n",
    "    if len(word) != len(blanked):\n",
    "        return False\n",
    "    for i in range(len(word)):\n",
    "        bc = blanked[i]\n",
    "        wc = word[i]\n",
    "        if bc == '_' and wc in guesses_made:\n",
    "            return False\n",
    "        elif bc != '_' and bc != wc:\n",
    "            return False\n",
    "    return True\n",
    "\n",
    "print(possible(\"wonderwall\", \"_on__r__ll\", \"otnqurl\"))\n",
    "print(possible(\"wonderwall\", \"_on__r__ll\", \"wotnqurl\"))"
   ]
  },
  {
   "cell_type": "code",
   "execution_count": 34,
   "metadata": {},
   "outputs": [
    {
     "name": "stdout",
     "output_type": "stream",
     "text": [
      "True\n",
      "False\n"
     ]
    }
   ],
   "source": [
    "#pythonic implementation\n",
    "\n",
    "def possible(word, blanked, guesses_made):\n",
    "    if len(word) != len(blanked):\n",
    "        return False\n",
    "    for i in range(len(word)):\n",
    "        bc = blanked[i]\n",
    "        wc = word[i]\n",
    "        if bc == '_' and wc in guesses_made:\n",
    "            return False\n",
    "        elif bc != '_' and bc != wc:\n",
    "            return False\n",
    "    return True\n",
    "\n",
    "print(possible(\"wonderwall\", \"_on__r__ll\", \"otnqurl\"))\n",
    "print(possible(\"wonderwall\", \"_on__r__ll\", \"wotnqurl\"))"
   ]
  },
  {
   "cell_type": "code",
   "execution_count": 36,
   "metadata": {},
   "outputs": [
    {
     "data": {
      "text/plain": [
       "-1"
      ]
     },
     "execution_count": 36,
     "metadata": {},
     "output_type": "execute_result"
    }
   ],
   "source": [
    "from collections import Counter, defaultdict\n",
    "\n",
    "l = [1,23,4,5,6,7,7,8,8,1]\n",
    "\n",
    "dict_count =  defaultdict(int)\n",
    "for i in l:\n",
    "    dict_count[i] +=1\n",
    "    \n",
    "dict_count.get(0,-1)"
   ]
  },
  {
   "cell_type": "code",
   "execution_count": 41,
   "metadata": {},
   "outputs": [
    {
     "name": "stdout",
     "output_type": "stream",
     "text": [
      "87\n",
      "2\n"
     ]
    }
   ],
   "source": [
    "c = Counter(l)\n",
    "print(c.get(0,87))\n",
    "print(c.get(8,87))"
=======
    "a = 1\n",
    "b = 2\n",
    "(a, b) = (b, a)\n",
    "print(a, b)"
>>>>>>> f1bf59d87812a03f5948aaf28463e9abb79b52a4
   ]
  },
  {
   "cell_type": "markdown",
   "metadata": {},
   "source": [
<<<<<<< HEAD
    "**---------------------------------------------------------------------------------------------------------------------------------------------------------------------------------------------------**\n",
    "\n",
    "# Exception\n",
    "\n",
    "- An exception is a signal that a condition has occurred that can’t be easily handled using the normal flow-of-control of a Python program.\n",
    "- All errors in Python are dealt with using exceptions, but not all exceptions are errors\n",
    "\n",
    "## Raising and Catching Errors\n",
    "\n",
    "The try/except control structure provides a way to process a run-time error and continue on with program execution\n",
    "\n",
    "\n",
    "- **Try to execute a block of code, the “try” clause.**\n",
    "    - If the whole block of code executes without any run-time errors, just carry on with the rest of the program after the try/except statement.\n",
    "\n",
    "- **If a run-time error does occur during execution of the block of code:**\n",
    "    - skip the rest of that block of code (but don’t exit the whole program)\n",
    "    - execute a block of code in the “except” clause\n",
    "    - then carry on with the rest of the program after the try/except statement"
=======
    "#### Pythonic approach to enumerating items in a sequence."
>>>>>>> f1bf59d87812a03f5948aaf28463e9abb79b52a4
   ]
  },
  {
   "cell_type": "code",
<<<<<<< HEAD
   "execution_count": 49,
=======
   "execution_count": 32,
>>>>>>> f1bf59d87812a03f5948aaf28463e9abb79b52a4
   "metadata": {},
   "outputs": [
    {
     "name": "stdout",
     "output_type": "stream",
     "text": [
<<<<<<< HEAD
      "got an error\n",
      "list index out of range\n",
      "continuing\n"
=======
      "[4, 6, 8]\n"
>>>>>>> f1bf59d87812a03f5948aaf28463e9abb79b52a4
     ]
    }
   ],
   "source": [
<<<<<<< HEAD
    "try:\n",
    "    items = ['a', 'b']\n",
    "    third = items[2]\n",
    "    print(\"This won't print\")\n",
    "except Exception as e:\n",
    "    print(\"got an error\")\n",
    "    print(e)\n",
    "\n",
    "print(\"continuing\")"
   ]
  },
  {
   "cell_type": "markdown",
   "metadata": {},
   "source": [
    "**---------------------------------------------------------------------------------------------------------------------------------------------------------------------------------------------------**\n",
    "\n",
    "# Hash tables and Hash maps in python\n",
    "\n",
    "https://www.besanttechnologies.com/hash-tables-and-hashmaps-in-python\n",
    "\n",
    "HASH TABLE:\n",
    "- Fast, synchronized. Allow more than 1 Null values and 1 Null key\n",
    "\n",
    "HASH MAP:\n",
    "- Slow, unsynchronized. Do not allow Null values or Null keys\n",
    "\n",
    "In python, implemented with dictionaries.\n",
    "\n",
    "\n",
    "**---------------------------------------------------------------------------------------------------------------------------------------------------------------------------------------------------**"
=======
<<<<<<< HEAD
    "L1 = [3, 4, 5]\n",
    "L2 = [1, 2, 3]\n",
    "L3 = [x1 + x2 for (x1, x2) in list(zip(L1, L2))]\n",
    "print(L3)"
=======
    "fruits = ['apple', 'pear', 'apricot', 'cherry', 'peach']\n",
    "for idx, fruit in enumerate(fruits):\n",
    "    print(idx, fruit)"
>>>>>>> b8485d1b5b9cb239d1a72739538239338db18574
>>>>>>> f1bf59d87812a03f5948aaf28463e9abb79b52a4
   ]
  },
  {
   "cell_type": "markdown",
   "metadata": {},
   "source": [
<<<<<<< HEAD
    "# Set\n",
    "\n",
    "- A set is a collection which is both unordered and unindexed.\n",
    "- Sets are **unchangeable**, meaning that we cannot change the items after the set has been created.\n",
    "    - Once a set is created, you cannot change its items, but you can add new items.\n"
=======
    "####  Unpacking Tuples as Arguments to Function Calls"
>>>>>>> f1bf59d87812a03f5948aaf28463e9abb79b52a4
   ]
  },
  {
   "cell_type": "code",
<<<<<<< HEAD
   "execution_count": 2,
=======
   "execution_count": 33,
>>>>>>> f1bf59d87812a03f5948aaf28463e9abb79b52a4
   "metadata": {},
   "outputs": [
    {
     "name": "stdout",
     "output_type": "stream",
     "text": [
<<<<<<< HEAD
      "{'cherry', 'banana', 'apple', 1}\n"
=======
      "True\n",
      "False\n"
>>>>>>> f1bf59d87812a03f5948aaf28463e9abb79b52a4
     ]
    }
   ],
   "source": [
<<<<<<< HEAD
    "# Sets are written with curly brackets.\n",
    "thisset = {\"apple\", \"banana\", \"cherry\",1}\n",
    "print(thisset)"
=======
    "# check down / boring way\n",
    "\n",
    "def possible(word, blanked, guesses_made):\n",
    "    if len(word) != len(blanked):\n",
    "        return False\n",
    "    for i in range(len(word)):\n",
    "        bc = blanked[i]\n",
    "        wc = word[i]\n",
    "        if bc == '_' and wc in guesses_made:\n",
    "            return False\n",
    "        elif bc != '_' and bc != wc:\n",
    "            return False\n",
    "    return True\n",
    "\n",
    "print(possible(\"wonderwall\", \"_on__r__ll\", \"otnqurl\"))\n",
    "print(possible(\"wonderwall\", \"_on__r__ll\", \"wotnqurl\"))"
>>>>>>> f1bf59d87812a03f5948aaf28463e9abb79b52a4
   ]
  },
  {
   "cell_type": "code",
<<<<<<< HEAD
   "execution_count": 3,
=======
   "execution_count": 34,
>>>>>>> f1bf59d87812a03f5948aaf28463e9abb79b52a4
   "metadata": {},
   "outputs": [
    {
     "name": "stdout",
     "output_type": "stream",
     "text": [
<<<<<<< HEAD
      "{'cherry', 'banana', 'apple'}\n"
=======
      "True\n",
      "False\n"
>>>>>>> f1bf59d87812a03f5948aaf28463e9abb79b52a4
     ]
    }
   ],
   "source": [
<<<<<<< HEAD
    "#using the constructor\n",
    "thisset = set((\"apple\", \"banana\", \"cherry\")) # note the double round-brackets\n",
    "print(thisset)"
=======
    "#pythonic implementation\n",
    "\n",
    "def possible(word, blanked, guesses_made):\n",
    "    if len(word) != len(blanked):\n",
    "        return False\n",
    "    for i in range(len(word)):\n",
    "        bc = blanked[i]\n",
    "        wc = word[i]\n",
    "        if bc == '_' and wc in guesses_made:\n",
    "            return False\n",
    "        elif bc != '_' and bc != wc:\n",
    "            return False\n",
    "    return True\n",
    "\n",
    "print(possible(\"wonderwall\", \"_on__r__ll\", \"otnqurl\"))\n",
    "print(possible(\"wonderwall\", \"_on__r__ll\", \"wotnqurl\"))"
   ]
  },
  {
   "cell_type": "markdown",
   "metadata": {},
   "source": [
    "**---------------------------------------------------------------------------------------------------------------------------------------------------------------------------------------------------**\n",
    "\n",
    "# More Iteration: while\n",
    "\n",
    "- use a for loop whenever it will be known at the beginning of the iteration process how many times the block of code needs to be executed.\n",
    "- One very common pattern is called a **listener loop**. Inside the while loop there is a function call to get user input. "
>>>>>>> f1bf59d87812a03f5948aaf28463e9abb79b52a4
   ]
  },
  {
   "cell_type": "code",
<<<<<<< HEAD
   "execution_count": 20,
=======
   "execution_count": 30,
>>>>>>> f1bf59d87812a03f5948aaf28463e9abb79b52a4
   "metadata": {},
   "outputs": [
    {
     "name": "stdout",
     "output_type": "stream",
     "text": [
<<<<<<< HEAD
      "add\n",
      "None\n",
      "{'cherry', 'banana', 'orange', 'apple'}\n",
      "\n",
      "\n",
      "difference: Return a set that contains the items that only exist in set x, and not in set y\n",
      "{'cherry', 'banana'}\n",
      "\n",
      "\n",
      "discard: Remove item from the set \n",
      "This method is different from the remove() method, because the remove() \n",
      "method will raise an error if the specified item does not exist, and the discard() method will not.\n",
      "{'cherry', 'apple'}\n",
      "\n",
      "\n",
      "intersection: Return a set that contains the items that exist in both set x, and set y\n",
      "{'apple'}\n",
      "\n",
      "\n",
      "symmetric_difference: Return a set that contains all items from both sets, except items that are present in both sets\n",
      "{'cherry', 'microsoft', 'banana', 'google'}\n",
      "\n",
      "\n",
      "union Return a set that contains all items from both sets, duplicates are excluded\n",
      "{'microsoft', 'apple', 'cherry', 'banana', 'google'}\n",
      "\n",
      "\n"
=======
      "next number to add up (enter 0 if no more numbers): 5\n",
      "next number to add up (enter 0 if no more numbers): 6\n",
      "next number to add up (enter 0 if no more numbers): 7\n",
      "next number to add up (enter 0 if no more numbers): 23\n",
      "next number to add up (enter 0 if no more numbers): -1\n",
      "next number to add up (enter 0 if no more numbers): -1\n",
      "next number to add up (enter 0 if no more numbers): -1\n",
      "next number to add up (enter 0 if no more numbers): -1\n",
      "next number to add up (enter 0 if no more numbers): 0\n",
      "37\n"
>>>>>>> f1bf59d87812a03f5948aaf28463e9abb79b52a4
     ]
    }
   ],
   "source": [
<<<<<<< HEAD
    "#add\n",
    "thisset = {\"apple\", \"banana\", \"cherry\"}\n",
    "print(\"add\")\n",
    "print(thisset.add(\"orange\"))\n",
    "print(thisset)\n",
    "print('\\n')\n",
    "\n",
    "#difference\n",
    "print(\"difference: Return a set that contains the items that only exist in set x, and not in set y\")\n",
    "\n",
    "x = {\"apple\", \"banana\", \"cherry\"}\n",
    "y = {\"google\", \"microsoft\", \"apple\"}\n",
    "\n",
    "print(x.difference(y))\n",
    "print('\\n')\n",
    "\n",
    "\n",
    "print(\"discard: Remove item from the set \")\n",
    "print(\"This method is different from the remove() method, because the remove() \")\n",
    "print(\"method will raise an error if the specified item does not exist, and the discard() method will not.\")\n",
    "fruits = {\"apple\", \"banana\", \"cherry\"}\n",
    "\n",
    "fruits.discard(\"banana\")\n",
    "print(fruits)\n",
    "print('\\n')\n",
    "\n",
    "\n",
    "print(\"intersection: Return a set that contains the items that exist in both set x, and set y\")\n",
    "x = {\"apple\", \"banana\", \"cherry\"}\n",
    "y = {\"google\", \"microsoft\", \"apple\"}\n",
    "\n",
    "z = x.intersection(y)\n",
    "print(z)\n",
    "print('\\n')\n",
    "\n",
    "\n",
    "print(\"symmetric_difference: Return a set that contains all items from both sets, except items that are present in both sets\")\n",
    "x = {\"apple\", \"banana\", \"cherry\"}\n",
    "y = {\"google\", \"microsoft\", \"apple\"}\n",
    "\n",
    "z = x.symmetric_difference(y)\n",
    "\n",
    "print(z)\n",
    "print('\\n')\n",
    "\n",
    "print(\"union Return a set that contains all items from both sets, duplicates are excluded\")\n",
    "x = {\"apple\", \"banana\", \"cherry\"}\n",
    "y = {\"google\", \"microsoft\", \"apple\"}\n",
    "\n",
    "z = x.union(y)\n",
    "\n",
    "print(z)\n",
    "print('\\n')\n",
    "\n"
=======
    "theSum = 0\n",
    "x = -1\n",
    "\n",
    "while (x != 0):\n",
    "    x = int(input(\"next number to add up (enter 0 if no more numbers): \"))\n",
    "    theSum = theSum + x\n",
    "\n",
    "print(theSum)"
   ]
  },
  {
   "cell_type": "markdown",
   "metadata": {},
   "source": [
    "- total - this will start at zero\n",
    "- count - the number of items, which also starts at zero\n",
    "- moreItems - a boolean that tells us whether more items are waiting; this starts as True\n",
    "\n",
    "```\n",
    "while moreItems\n",
    "    ask for price\n",
    "    add price to total\n",
    "    add one to count\n",
    "```"
   ]
  },
  {
   "cell_type": "markdown",
   "metadata": {},
   "source": [
    "### Break and Continue\n",
    "\n",
    "- break allows the program to immediately ‘break out’ of the loop, regardless of the loop’s conditional structure.\n",
    "- continue allows the program to immediately “continue” with the next iteration. The program will skip the rest of the iteration, recheck the condition, and maybe does another iteration depending on the condition set for the while loop."
   ]
  },
  {
   "cell_type": "code",
   "execution_count": 36,
   "metadata": {},
   "outputs": [
    {
     "name": "stdout",
     "output_type": "stream",
     "text": [
      "we are incrementing x by 3\n",
      "3\n",
      "we are incrementing by 5\n",
      "8\n",
      "we are incrementing by 5\n",
      "14\n",
      "Done with our loop! X has the value: 15\n"
     ]
    }
   ],
   "source": [
    "x = 0\n",
    "while x < 10:\n",
    "    \n",
    "    if x % 2 == 0:\n",
    "        print(\"we are incrementing x by 3\")\n",
    "        x += 3\n",
    "        print(x)\n",
    "        continue\n",
    "    if x % 3 == 0:\n",
    "        print(\"we are incrementing by 5\")    \n",
    "        x += 5\n",
    "        print(x)\n",
    "    x += 1\n",
    "print(\"Done with our loop! X has the value: \" + str(x))"
>>>>>>> f1bf59d87812a03f5948aaf28463e9abb79b52a4
   ]
  },
  {
   "cell_type": "code",
   "execution_count": null,
   "metadata": {},
   "outputs": [],
   "source": []
  }
 ],
 "metadata": {
  "kernelspec": {
   "display_name": "Python 3",
   "language": "python",
   "name": "python3"
  },
  "language_info": {
   "codemirror_mode": {
    "name": "ipython",
    "version": 3
   },
   "file_extension": ".py",
   "mimetype": "text/x-python",
   "name": "python",
   "nbconvert_exporter": "python",
   "pygments_lexer": "ipython3",
   "version": "3.7.6"
  }
 },
 "nbformat": 4,
 "nbformat_minor": 2
}
