{
 "cells": [
  {
   "cell_type": "markdown",
   "metadata": {},
   "source": [
    "\n",
    "#### Objects\n",
    "\n",
    "To be more specific, we say that an object has a state and a collection of methods that it can perform. (More about methods below.) The state of an object represents those things that the object knows about itself. The state is stored in instance variables.\n",
    "\n",
    "- Every class should have a method with the special name` __init__`. This initializer method, often referred to as the constructor, is automatically called whenever a new instance of class is created.\n",
    "\n",
    "- The self parameter (you could choose any other name, but nobody ever does!) is automatically set to reference the newly created object that needs to be initialized.\n",
    "\n",
    "- A method behaves like a function but it is invoked on a specific instance\n",
    "\n",
    "- The `__str__` method is responsible for returning a string representation as defined by the class creator."
   ]
  },
  {
   "cell_type": "code",
   "execution_count": 1,
   "metadata": {},
   "outputs": [
    {
     "name": "stdout",
     "output_type": "stream",
     "text": [
      "Apple\n",
      "Cherry\n",
      "Blueberry\n"
     ]
    }
   ],
   "source": [
    "### sorting\n",
    "\n",
    "class Fruit():\n",
    "    def __init__(self, name, price):\n",
    "        self.name = name\n",
    "        self.price = price\n",
    "\n",
    "L = [Fruit(\"Cherry\", 10), Fruit(\"Apple\", 5), Fruit(\"Blueberry\", 20)]\n",
    "for f in sorted(L, key=lambda x: x.price):\n",
    "    print(f.name)\n"
   ]
  },
  {
   "cell_type": "code",
   "execution_count": 2,
   "metadata": {},
   "outputs": [
    {
     "name": "stdout",
     "output_type": "stream",
     "text": [
      "-----sorted by price, referencing a class method-----\n",
      "Apple\n",
      "Cherry\n",
      "Blueberry\n",
      "---- one more way to do the same thing-----\n",
      "Apple\n",
      "Cherry\n",
      "Blueberry\n"
     ]
    }
   ],
   "source": [
    "class Fruit():\n",
    "    def __init__(self, name, price):\n",
    "        self.name = name\n",
    "        self.price = price\n",
    "\n",
    "    def sort_priority(self):\n",
    "        return self.price\n",
    "\n",
    "L = [Fruit(\"Cherry\", 10), Fruit(\"Apple\", 5), Fruit(\"Blueberry\", 20)]\n",
    "print(\"-----sorted by price, referencing a class method-----\")\n",
    "for f in sorted(L, key=Fruit.sort_priority):\n",
    "    print(f.name)\n",
    "\n",
    "print(\"---- one more way to do the same thing-----\")\n",
    "for f in sorted(L, key=lambda x: x.sort_priority()):\n",
    "    print(f.name)"
   ]
  },
  {
   "cell_type": "markdown",
   "metadata": {},
   "source": [
    "### Creating a class\n",
    "\n",
    "- **What is the data that you want to deal with?** (Data about a bunch of songs from iTunes? Data about a bunch of tweets from Twitter? Data about a bunch of hashtag searches on Twitter? Two numbers that represent coordinates of a point on a 2-dimensional plane?)\n",
    "\n",
    "- **What will one instance of your class represent?** In other words, which sort of new thing in your program should have fancy functionality? One song? One hashtag? One tweet? One point? The answer to this question should help you decide what to call the class you define.\n",
    "\n",
    "- **What information should each instance have as instance variables?** This is related to what an instance represents. See if you can make it into a sentence. “Each instance represents one < song > and each < song > has an < artist > and a < title > as instance variables.” Or, “Each instance represents a < Tweet > and each < Tweet > has a < user (who posted it) > and < a message content string > as instance variables.”\n",
    "\n",
    "- **What instance methods should each instance have?** What should each instance be able to do? To continue using the same examples: Maybe each song has a method that uses a lyrics API to get a long string of its lyrics. Maybe each song has a method that returns a string of its artist’s name. Or for a tweet, maybe each tweet has a method that returns the length of the tweet’s message. (Go wild!)\n",
    "\n",
    "- **What should the printed version of an instance look like?** (This question will help you determine how to write the __str__ method.) Maybe, “Each song printed out will show the song title and the artist’s name.” or “Each Tweet printed out will show the username of the person who posted it and the message content of the tweet.”"
   ]
  },
  {
   "cell_type": "markdown",
   "metadata": {},
   "source": [
    "### Inheritance"
   ]
  },
  {
   "cell_type": "code",
   "execution_count": 1,
   "metadata": {},
   "outputs": [],
   "source": [
    "from random import randrange\n",
    "\n",
    "# Here's the original Pet class\n",
    "class Pet():\n",
    "    boredom_decrement = 4\n",
    "    hunger_decrement = 6\n",
    "    boredom_threshold = 5\n",
    "    hunger_threshold = 10\n",
    "    sounds = ['Mrrp']\n",
    "    def __init__(self, name = \"Kitty\"):\n",
    "        self.name = name\n",
    "        self.hunger = randrange(self.hunger_threshold)\n",
    "        self.boredom = randrange(self.boredom_threshold)\n",
    "        self.sounds = self.sounds[:]  # copy the class attribute, so that when we make changes to it, we won't affect the other Pets in the class\n",
    "\n",
    "    def clock_tick(self):\n",
    "        self.boredom += 1\n",
    "        self.hunger += 1\n",
    "\n",
    "    def mood(self):\n",
    "        if self.hunger <= self.hunger_threshold and self.boredom <= self.boredom_threshold:\n",
    "            return \"happy\"\n",
    "        elif self.hunger > self.hunger_threshold:\n",
    "            return \"hungry\"\n",
    "        else:\n",
    "            return \"bored\"\n",
    "\n",
    "    def __str__(self):\n",
    "        state = \"     I'm \" + self.name + \". \"\n",
    "        state += \" I feel \" + self.mood() + \". \"\n",
    "        # state += \"Hunger %d Boredom %d Words %s\" % (self.hunger, self.boredom, self.sounds)\n",
    "        return state\n",
    "\n",
    "    def hi(self):\n",
    "        print(self.sounds[randrange(len(self.sounds))])\n",
    "        self.reduce_boredom()\n",
    "\n",
    "    def teach(self, word):\n",
    "        self.sounds.append(word)\n",
    "        self.reduce_boredom()\n",
    "\n",
    "    def feed(self):\n",
    "        self.reduce_hunger()\n",
    "\n",
    "    def reduce_hunger(self):\n",
    "        self.hunger = max(0, self.hunger - self.hunger_decrement)\n",
    "\n",
    "    def reduce_boredom(self):\n",
    "        self.boredom = max(0, self.boredom - self.boredom_decrement)\n",
    "\n",
    "# Here's the new definition of class Cat, a subclass of Pet.\n",
    "class Cat(Pet): # the class name that the new class inherits from goes in the parentheses, like so.\n",
    "    sounds = ['Meow']\n",
    "\n",
    "    def chasing_rats(self):\n",
    "        return \"What are you doing, Pinky? Taking over the world?!\"\n"
   ]
  },
  {
   "cell_type": "code",
   "execution_count": 2,
   "metadata": {},
   "outputs": [
    {
     "name": "stdout",
     "output_type": "stream",
     "text": [
      "Meow\n",
      "     I'm Fluffy.  I feel happy. \n",
      "['Meow']\n",
      "What are you doing, Pinky? Taking over the world?!\n",
      "Meow\n",
      ":D :D :D\n",
      "Mrrp\n"
     ]
    }
   ],
   "source": [
    "class Cheshire(Cat): # this inherits from Cat, which inherits from Pet\n",
    "\n",
    "    def smile(self): # this method is specific to instances of Cheshire\n",
    "        print(\":D :D :D\")\n",
    "\n",
    "# Let's try it with instances.\n",
    "cat1 = Cat(\"Fluffy\")\n",
    "cat1.feed() # Totally fine, because the cat class inherits from the Pet class!\n",
    "cat1.hi() # Uses the special Cat hello.\n",
    "print(cat1)\n",
    "print(cat1.sounds)\n",
    "print(cat1.chasing_rats())\n",
    "\n",
    "new_cat = Cheshire(\"Pumpkin\") # create a Cheshire cat instance with name \"Pumpkin\"\n",
    "new_cat.hi() # same as Cat!\n",
    "new_cat.chasing_rats() # OK, because Cheshire inherits from Cat\n",
    "new_cat.smile() # Only for Cheshire instances (and any classes that you make inherit from Cheshire)\n",
    "\n",
    "# cat1.smile() # This line would give you an error, because the Cat class does not have this method!\n",
    "\n",
    "# None of the subclass methods can be used on the parent class, though.\n",
    "p1 = Pet(\"Teddy\")\n",
    "p1.hi() # just the regular Pet hello\n",
    "#p1.chasing_rats() # This will give you an error -- this method doesn't exist on instances of the Pet class.\n",
    "#p1.smile() # This will give you an error, too. This method does not exist on instances of the Pet class.\n"
   ]
  },
  {
   "cell_type": "markdown",
   "metadata": {},
   "source": [
    "### How the interpreter looks up attributes?"
   ]
  },
  {
   "cell_type": "markdown",
   "metadata": {},
   "source": [
    "**This is how the interpreter looks up attributes:**\n",
    "\n",
    "1. First, it checks for an instance variable or an instance method by the name it’s looking for.\n",
    "\n",
    "2. If an instance variable or method by that name is not found, it checks for a class variable.\n",
    "\n",
    "3. If no class variable is found, it looks for a class variable in the parent class.\n",
    "\n",
    "4. If no class variable is found, the interpreter looks for a class variable in THAT class’s parent (the “grandparent” class).\n",
    "\n",
    "5. This process goes on until the last ancestor is reached, at which point Python will signal an error."
   ]
  },
  {
   "cell_type": "code",
   "execution_count": 1,
   "metadata": {},
   "outputs": [],
   "source": [
    "from random import randrange\n",
    "\n",
    "# Here's the original Pet class\n",
    "class Pet():\n",
    "    boredom_decrement = 4\n",
    "    hunger_decrement = 6\n",
    "    boredom_threshold = 5\n",
    "    hunger_threshold = 10\n",
    "    sounds = ['Mrrp']\n",
    "    def __init__(self, name = \"Kitty\"):\n",
    "        self.name = name\n",
    "        self.hunger = randrange(self.hunger_threshold)\n",
    "        self.boredom = randrange(self.boredom_threshold)\n",
    "        self.sounds = self.sounds[:]  # copy the class attribute, so that when we make changes to it, we won't affect the other Pets in the class\n",
    "\n",
    "    def clock_tick(self):\n",
    "        self.boredom += 1\n",
    "        self.hunger += 1\n",
    "\n",
    "    def mood(self):\n",
    "        if self.hunger <= self.hunger_threshold and self.boredom <= self.boredom_threshold:\n",
    "            return \"happy\"\n",
    "        elif self.hunger > self.hunger_threshold:\n",
    "            return \"hungry\"\n",
    "        else:\n",
    "            return \"bored\"\n",
    "\n",
    "    def __str__(self):\n",
    "        state = \"     I'm \" + self.name + \". \"\n",
    "        state += \" I feel \" + self.mood() + \". \"\n",
    "        # state += \"Hunger %d Boredom %d Words %s\" % (self.hunger, self.boredom, self.sounds)\n",
    "        return state\n",
    "\n",
    "    def hi(self):\n",
    "        print(self.sounds[randrange(len(self.sounds))])\n",
    "        self.reduce_boredom()\n",
    "\n",
    "    def teach(self, word):\n",
    "        self.sounds.append(word)\n",
    "        self.reduce_boredom()\n",
    "\n",
    "    def feed(self):\n",
    "        self.reduce_hunger()\n",
    "        print('yo')\n",
    "\n",
    "    def reduce_hunger(self):\n",
    "        self.hunger = max(0, self.hunger - self.hunger_decrement)\n",
    "\n",
    "    def reduce_boredom(self):\n",
    "        self.boredom = max(0, self.boredom - self.boredom_decrement)\n"
   ]
  },
  {
   "cell_type": "code",
   "execution_count": 2,
   "metadata": {},
   "outputs": [
    {
     "name": "stdout",
     "output_type": "stream",
     "text": [
      "yo\n",
      "Arf! Thanks!\n"
     ]
    }
   ],
   "source": [
    "class Dog(Pet):\n",
    "    def __init__(self, name):\n",
    "        super().__init__(name)\n",
    "\n",
    "\n",
    "    def feed(self):\n",
    "        super().feed()\n",
    "        print(\"Arf! Thanks!\")\n",
    "\n",
    "        \n",
    "d1 = Dog(\"Astro\")\n",
    "d1.feed()"
   ]
  },
  {
   "cell_type": "code",
   "execution_count": 16,
   "metadata": {},
   "outputs": [],
   "source": [
    "class Bird(Pet):\n",
    "    sounds = [\"chirp\"]\n",
    "    def __init__(self, name=\"Kitty\", chirp_number=2):\n",
    "        super().__init__(name) # call the parent class's constructor\n",
    "        # basically, call the SUPER -- the parent version -- of the constructor, with all the parameters that it needs.\n",
    "        self.chirp_number = chirp_number # now, also assign the new instance variable\n",
    "\n",
    "    def hi(self):\n",
    "        for i in range(self.chirp_number):\n",
    "            print(self.sounds[randrange(len(self.sounds))])\n",
    "        self.reduce_boredom()"
   ]
  },
  {
   "cell_type": "code",
   "execution_count": 17,
   "metadata": {},
   "outputs": [
    {
     "name": "stdout",
     "output_type": "stream",
     "text": [
      "chirp\n",
      "chirp\n"
     ]
    }
   ],
   "source": [
    "b = Bird()\n",
    "b.hi()"
   ]
  },
  {
   "cell_type": "markdown",
   "metadata": {},
   "source": [
    "Read:\n",
    "https://www.geeksforgeeks.org/python-call-parent-class-method/#:~:text=Using%20Super()%3A%20Python%20super,parent%20class%20by%20'super'."
   ]
  },
  {
   "cell_type": "markdown",
   "metadata": {},
   "source": [
    "## Principles\n",
    "\n",
    "## Abstraction\n",
    "\n",
    "Abstraction is the concept of hiding all the implementation of your class away from anything outside of the class."
   ]
  },
  {
   "cell_type": "code",
   "execution_count": 3,
   "metadata": {},
   "outputs": [
    {
     "name": "stdout",
     "output_type": "stream",
     "text": [
      "spot was adopted.\n",
      "woof!\n"
     ]
    }
   ],
   "source": [
    "class Dog:\n",
    "\n",
    "    def __init__(self, name):\n",
    "        self.name = name \n",
    "        print(self.name + \" was adopted.\")\n",
    "\n",
    "    def bark(self):\n",
    "        print(\"woof!\")\n",
    "\n",
    "\n",
    "# we don't care how it works just bark\n",
    "spot = Dog(\"spot\") #=> spot was adopted. \n",
    "spot.bark() #=> woof! "
   ]
  },
  {
   "cell_type": "markdown",
   "metadata": {},
   "source": [
    "### Inheritance\n",
    "\n",
    "Inheritance is the mechanism for creating a child class that can inherit behavior and properties from a parent(derived) class"
   ]
  },
  {
   "cell_type": "code",
   "execution_count": 7,
   "metadata": {},
   "outputs": [
    {
     "name": "stdout",
     "output_type": "stream",
     "text": [
      "spot was adopted.\n",
      "running!\n"
     ]
    }
   ],
   "source": [
    "class Animal:\n",
    "\n",
    "    def __init__(self, name):\n",
    "        self.name = name \n",
    "        print(self.name + \" was adopted.\")\n",
    "\n",
    "    def run(self):\n",
    "        print(\"running!\")\n",
    "\n",
    "\n",
    "class Dog(Animal):\n",
    "\n",
    "    def __init__(self, name):\n",
    "        super().__init__(name) \n",
    "\n",
    "    def bark(self):\n",
    "        print(\"woof!\")\n",
    "\n",
    "\n",
    "# new dog behavior inherited from Animal parent class \n",
    "spot = Dog(\"spot\") #=> spot was adopted. \n",
    "spot.run() #=> running!"
   ]
  },
  {
   "cell_type": "markdown",
   "metadata": {},
   "source": [
    "### Encapsulation\n",
    "Encapsulation is the method of keeping all the state, variables, and methods private unless declared to be public."
   ]
  },
  {
   "cell_type": "code",
   "execution_count": 13,
   "metadata": {},
   "outputs": [],
   "source": [
    "# Python program to \n",
    "# demonstrate private methods\n",
    "  \n",
    "# Creating a Base class \n",
    "class Base: \n",
    "  \n",
    "    # Declaring public method\n",
    "    def fun(self):\n",
    "        print(\"Public method\")\n",
    "  \n",
    "    # Declaring private method\n",
    "    def __fun(self):\n",
    "        print(\"Private method\")\n",
    "        \n",
    "# Creating a derived class \n",
    "class Derived(Base): \n",
    "    def __init__(self): \n",
    "          \n",
    "        # Calling constructor of \n",
    "        # Base class \n",
    "        super().__init__() \n",
    "          \n",
    "    def call_public(self):\n",
    "          \n",
    "        # Calling public method of base class\n",
    "        print(\"\\nInside derived class\")\n",
    "        super().fun()\n",
    "          \n",
    "    def call_private(self):\n",
    "          \n",
    "        # Calling private method of base class\n",
    "        super().__fun()\n"
   ]
  },
  {
   "cell_type": "code",
   "execution_count": 14,
   "metadata": {},
   "outputs": [
    {
     "name": "stdout",
     "output_type": "stream",
     "text": [
      "Public method\n",
      "\n",
      "Inside derived class\n",
      "Public method\n"
     ]
    }
   ],
   "source": [
    "# Driver code \n",
    "obj1 = Base()\n",
    "  \n",
    "# Calling public method\n",
    "obj1.fun()\n",
    "  \n",
    "obj2 = Derived()\n",
    "obj2.call_public()"
   ]
  },
  {
   "cell_type": "code",
   "execution_count": 15,
   "metadata": {},
   "outputs": [
    {
     "ename": "AttributeError",
     "evalue": "'Base' object has no attribute '__fun'",
     "output_type": "error",
     "traceback": [
      "\u001b[1;31m---------------------------------------------------------------------------\u001b[0m",
      "\u001b[1;31mAttributeError\u001b[0m                            Traceback (most recent call last)",
      "\u001b[1;32m<ipython-input-15-0f44b68bb58f>\u001b[0m in \u001b[0;36m<module>\u001b[1;34m\u001b[0m\n\u001b[0;32m      1\u001b[0m \u001b[1;31m# Uncommenting\u001b[0m\u001b[1;33m\u001b[0m\u001b[1;33m\u001b[0m\u001b[1;33m\u001b[0m\u001b[0m\n\u001b[1;32m----> 2\u001b[1;33m \u001b[0mobj1\u001b[0m\u001b[1;33m.\u001b[0m\u001b[0m__fun\u001b[0m\u001b[1;33m(\u001b[0m\u001b[1;33m)\u001b[0m\u001b[1;33m\u001b[0m\u001b[1;33m\u001b[0m\u001b[0m\n\u001b[0m\u001b[0;32m      3\u001b[0m \u001b[1;31m# raise an AttributeError\u001b[0m\u001b[1;33m\u001b[0m\u001b[1;33m\u001b[0m\u001b[1;33m\u001b[0m\u001b[0m\n\u001b[0;32m      4\u001b[0m \u001b[1;33m\u001b[0m\u001b[0m\n\u001b[0;32m      5\u001b[0m \u001b[1;31m# Uncommenting obj2.call_private()\u001b[0m\u001b[1;33m\u001b[0m\u001b[1;33m\u001b[0m\u001b[1;33m\u001b[0m\u001b[0m\n",
      "\u001b[1;31mAttributeError\u001b[0m: 'Base' object has no attribute '__fun'"
     ]
    }
   ],
   "source": [
    "# Uncommenting \n",
    "obj1.__fun()  \n",
    "# raise an AttributeError \n",
    "  \n",
    "# Uncommenting obj2.call_private() \n",
    "# will also raise an AttributeError"
   ]
  },
  {
   "cell_type": "markdown",
   "metadata": {},
   "source": [
    "### Polymorphism\n",
    "Polymorphism is a way of interfacing with objects and receiving different forms or results."
   ]
  },
  {
   "cell_type": "code",
   "execution_count": 17,
   "metadata": {},
   "outputs": [
    {
     "name": "stdout",
     "output_type": "stream",
     "text": [
      "tim was adopted.\n",
      "running slowly!\n"
     ]
    }
   ],
   "source": [
    "class Animal:\n",
    "\n",
    "    def __init__(self, name):\n",
    "        self.name = name \n",
    "        print(self.name + \" was adopted.\")\n",
    "\n",
    "    def run(self):\n",
    "        print(\"running fast!\")\n",
    "\n",
    "\n",
    "class Turtle(Animal):\n",
    "\n",
    "    def __init__(self, name):\n",
    "        super().__init__(name) \n",
    "\n",
    "    def run(self):\n",
    "        print(\"running slowly!\")\n",
    "\n",
    "\n",
    "# we get back an interesting response \n",
    "tim = Turtle(\"tim\") #=> tim was adopted. \n",
    "\n",
    "tim.run() #=> running slowly!"
   ]
  },
  {
   "cell_type": "code",
   "execution_count": null,
   "metadata": {},
   "outputs": [],
   "source": []
  }
 ],
 "metadata": {
  "kernelspec": {
   "display_name": "Python 3",
   "language": "python",
   "name": "python3"
  },
  "language_info": {
   "codemirror_mode": {
    "name": "ipython",
    "version": 3
   },
   "file_extension": ".py",
   "mimetype": "text/x-python",
   "name": "python",
   "nbconvert_exporter": "python",
   "pygments_lexer": "ipython3",
   "version": "3.7.6"
  }
 },
 "nbformat": 4,
 "nbformat_minor": 4
}
