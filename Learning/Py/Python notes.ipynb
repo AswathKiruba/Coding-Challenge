{
 "cells": [
  {
   "cell_type": "markdown",
   "metadata": {},
   "source": [
    "# Variables Statements and expressions\n",
    "\n",
    "A **statement** is an instruction that the Python interpreter can execute.  Examples are while statements, for statements, if statements, and import statements. \n",
    "\n",
    "**Expression**\n",
    "- An **expression** is a combination of literals, variable names, operators, and calls to functions. Expressions need to be evaluated.\n",
    "- It can contain function call expression or operator expression.\n",
    "\n",
    "**NOTE**: \n",
    "- In python the division operator / produces a floating point result (even if the result is an integer; 4/2 is 2.0). If you want truncated division, which ignores the remainder, you can use the // operator (for example, 5//2 is 2)\n",
    "\n",
    "- The truncated division operator, //, also works on floating point numbers. It truncates to the nearest integer, but still produces a floating point result. Thus 7.0 // 3.0 is 2.0\n",
    "\n",
    "- If you are not sure what class (data type) a value falls into, Python has a function called type which can tell you. \n"
   ]
  },
  {
   "cell_type": "code",
   "execution_count": 1,
   "metadata": {},
   "outputs": [
    {
     "name": "stdout",
     "output_type": "stream",
     "text": [
      "<class 'str'>\n"
     ]
    }
   ],
   "source": [
    "print(type(\"Hello, World!\"))"
   ]
  },
  {
   "cell_type": "markdown",
   "metadata": {},
   "source": [
    "- Strings in Python can be enclosed in either single quotes (') or double quotes (\"), or three of each (''' or \"\"\")\n",
    "\n",
    "- x, y = 6, 7\n",
    "  comma, Python treats this as a pair of values.\n",
    "  \n",
    "**Note**\n",
    "Just a FYI but not a good practise. \n",
    "If you have programmed in another language such as Java or C++, you may be used to the idea that variables have types that are declared when the variable name is first introduced in a program. Python doesn’t do that. **Variables don’t have types in Python; values do.** That means that it is acceptable in Python to have a variable name refer to an integer and later have the same variable name refer to a string.\n",
    "\n",
    "**literal**\n",
    "e.g., “Hello” or 3.14\n",
    "\n",
    "**variable name**\n",
    "e.g., x or len\n",
    "\n",
    "**operator expression**\n",
    "<expression> operator-name <expression>\n",
    "\n",
    "**function call expressions**\n",
    "<expression>(<expressions separated by commas>)\n",
    "    \n",
    "Example: print(2 * len(\"hello\") + len(\"goodbye\"))"
   ]
  },
  {
   "cell_type": "markdown",
   "metadata": {},
   "source": [
    "### Order of Operations\n",
    "\n",
    "1. Parentheses have the highest precedence\n",
    "2. Exponentiation has the next highest precedence\n",
    "3. Multiplication and both division operators have the same precedence\n",
    "4. Operators with the same precedence are evaluated from left-to-right.\n",
    "\n",
    "**Note**\n",
    "Due to some historical quirk, an exception to the left-to-right left-associative rule is the exponentiation operator `**`"
   ]
  },
  {
   "cell_type": "code",
   "execution_count": 2,
   "metadata": {},
   "outputs": [
    {
     "name": "stdout",
     "output_type": "stream",
     "text": [
      "512\n",
      "64\n"
     ]
    }
   ],
   "source": [
    "print(2 ** 3 ** 2)     # the right-most ** operator gets done first!\n",
    "print((2 ** 3) ** 2)   # use parentheses to force the order you want!"
   ]
  },
  {
   "cell_type": "markdown",
   "metadata": {},
   "source": [
    "To get input from the user. The input function allows the programmer to provide a **prompt string**.\n",
    "\n",
    "It is very important to note that the **input function returns a string value**. Even if you asked the user to enter their age, you would get back a string like \"17\"\n",
    "\n",
    "```\n",
    "n = input(\"Please enter your name: \")\n",
    "print(\"Hello\", n)\n",
    "```\n",
    "**----------------------------------------------------------------------------------------------------------------------------------------------------------------------------------------------------**"
   ]
  },
  {
   "cell_type": "markdown",
   "metadata": {},
   "source": [
    "# Debugging\n",
    "\n",
    "Programming errors are called bugs and the process of finding and removing them from a program is called debugging.\n",
    "\n",
    "### Syntax errors\n",
    "The compiler and / or interpreter is a computer program that determines if your program is written in a way that can be translated into machine language for execution. It finds the syntax errors.\n",
    "\n",
    "### Runtime Errors\n",
    "This error does not appear until you run the program. These errors are also called exceptions because they usually indicate that something exceptional (and bad) has happened. If an instruction is illegal to perform at that point in the execution, the interpreter will stop with a message describing the exception.\n",
    "\n",
    "### Semantic errors\n",
    "It will run successfully in the sense that the computer will not generate any error messages. However, your program will not do the right thing. It will do something else.\n",
    "\n",
    "**----------------------------------------------------------------------------------------------------------------------------------------------------------------------------------------------------**"
   ]
  },
  {
   "cell_type": "markdown",
   "metadata": {},
   "source": [
    "# Modules\n",
    "\n",
    "A module is a file containing Python definitions and statements intended for use in other Python programs. There are many Python modules that come with Python as part of the standard library. \n",
    "- The most common is import morecode which imports everything in morecode.py\n",
    "- You can also give the imported module an alias using `as`\n",
    "- only want to import SOME of the functionality from a module. `from morecode import f1`\n"
   ]
  },
  {
   "cell_type": "code",
   "execution_count": 4,
   "metadata": {},
   "outputs": [
    {
     "name": "stdout",
     "output_type": "stream",
     "text": [
      "0.3289287595418915\n",
      "4\n"
     ]
    }
   ],
   "source": [
    "import random\n",
    "\n",
    "prob = random.random() # returns float 0.0 - 1.0\n",
    "print(prob)\n",
    "\n",
    "diceThrow = random.randrange(1,7)       # return an int, one of 1,2,3,4,5,6 (doesn't consider the last value)\n",
    "print(diceThrow)"
   ]
  },
  {
   "cell_type": "markdown",
   "metadata": {},
   "source": [
    "**----------------------------------------------------------------------------------------------------------------------------------------------------------------------------------------------------**\n",
    "## Sequential  collection\n",
    "**Strings** can be defined as sequential/ordered collections of characters.A string that contains no characters, often referred to as the empty string, is still considered to be a string. It is simply a sequence of zero characters and is represented by ‘’ or “”.\n",
    "\n",
    "A **list** is a sequential collection of Python data values, where each value is identified by an index. \n",
    "- values are called as elements\n",
    "Lists are similar to strings, which are ordered collections of characters, except that the elements of a list can have any type and for any one list, the items can be of different types.\n",
    "\n",
    "There are several ways to create a new list. The simplest is to enclose the elements in square brackets ( [ and ]).\n"
   ]
  },
  {
   "cell_type": "code",
   "execution_count": 7,
   "metadata": {},
   "outputs": [
    {
     "name": "stdout",
     "output_type": "stream",
     "text": [
      "[10, 20, 30, 40]\n",
      "['spam', 'bungee', 'swallow']\n",
      "['hello', 2.0, 5, [10, 20]]\n",
      "[]\n"
     ]
    }
   ],
   "source": [
    "\n",
    "print([10, 20, 30, 40])\n",
    "print([\"spam\", \"bungee\", \"swallow\"])\n",
    "print([\"hello\", 2.0, 5, [10, 20]])\n",
    "print(list()) #only create empty list"
   ]
  },
  {
   "cell_type": "markdown",
   "metadata": {},
   "source": [
    "A **tuple**, like a list, is a sequence of items of any type. The printed representation of a tuple is a comma-separated sequence of values, enclosed in parentheses. In other words, the representation is just like lists, except with parentheses () instead of square brackets [].\n",
    "\n",
    "Comparison to list\n",
    "- list are mutable\n",
    "- Tuple are immutable\n",
    "\n",
    "\n",
    "To create a tuple with a single element (but you’re probably not likely to do that too often), we have to include the final comma, because without the final comma, Python treats the (5) below as an integer in parentheses:"
   ]
  },
  {
   "cell_type": "code",
   "execution_count": 8,
   "metadata": {},
   "outputs": [
    {
     "name": "stdout",
     "output_type": "stream",
     "text": [
      "(5,)\n",
      "5\n"
     ]
    }
   ],
   "source": [
    "t = (5,) # would be tuple\n",
    "print(t)\n",
    "t = (5) # would be int\n",
    "print(t)"
   ]
  },
  {
   "cell_type": "markdown",
   "metadata": {},
   "source": [
    "**NOTE** Function len returns the length of a list (the number of items in the list). However, since lists can have items which are themselves sequences (e.g., strings), it important to note that len only returns the top-most length."
   ]
  },
  {
   "cell_type": "code",
   "execution_count": 9,
   "metadata": {},
   "outputs": [
    {
     "name": "stdout",
     "output_type": "stream",
     "text": [
      "5\n"
     ]
    }
   ],
   "source": [
    "print(len([1,2,3,4,[1,2,3]]))"
   ]
  },
  {
   "cell_type": "markdown",
   "metadata": {},
   "source": [
    "The **slice operator** [n:m] returns the part of the string starting with the character at index n and go up to but **not including the character at index m**. \n",
    "\n",
    "- If you omit the first index (before the colon), the slice starts at the beginning of the string.\n",
    "- If you omit the second index, the slice goes to the end of the string."
   ]
  },
  {
   "cell_type": "code",
   "execution_count": 11,
   "metadata": {},
   "outputs": [
    {
     "name": "stdout",
     "output_type": "stream",
     "text": [
      "ban\n",
      "ana\n"
     ]
    }
   ],
   "source": [
    "fruit = \"banana\"\n",
    "print(fruit[:3])\n",
    "print(fruit[3:])\n"
   ]
  },
  {
   "cell_type": "markdown",
   "metadata": {},
   "source": [
    "**NOTE:** We can’t modify the elements of a tuple, but we can make a variable reference a new tuple holding different information"
   ]
  },
  {
   "cell_type": "code",
   "execution_count": 13,
   "metadata": {},
   "outputs": [
    {
     "name": "stdout",
     "output_type": "stream",
     "text": [
      "1967\n",
      "(1967, 'Duplicity', 2009, 'Actress')\n",
      "7\n",
      "('Julia', 'Roberts', 1967, 'Eat Pray Love', 2010, 'Actress', 'Atlanta, Georgia')\n",
      "dsfddsdsfddsdsfdds\n"
     ]
    }
   ],
   "source": [
    "julia = (\"Julia\", \"Roberts\", 1967, \"Duplicity\", 2009, \"Actress\", \"Atlanta, Georgia\")\n",
    "print(julia[2])\n",
    "print(julia[2:6])\n",
    "\n",
    "print(len(julia))\n",
    "\n",
    "julia = julia[:3] + (\"Eat Pray Love\", 2010) + julia[5:]\n",
    "print(julia)\n"
   ]
  },
  {
   "cell_type": "markdown",
   "metadata": {},
   "source": [
    "- For strings and lists, the `+` operator concatenates them. \n",
    "- Similarly, the `*` operator repeats the items in a list/string a given number of times."
   ]
  },
  {
   "cell_type": "code",
   "execution_count": 16,
   "metadata": {},
   "outputs": [
    {
     "name": "stdout",
     "output_type": "stream",
     "text": [
      "[1, 2, 3, 4, 21.4, 5456, 0.7667]\n",
      "podapodapoda\n"
     ]
    }
   ],
   "source": [
    "#concat\n",
    "print([1,2,3,4]+[21.4,5456,.7667])\n",
    "\n",
    "#repition\n",
    "print('poda' * 3)"
   ]
  },
  {
   "cell_type": "markdown",
   "metadata": {},
   "source": [
    "**TWO USEFUL METHODS COUNT AND INDEX**\n",
    "\n",
    "* .count('ha') can be used on strings and list to count the number of times that occured in the string or list. (For strings the parameter should always be string) **It is case sensitive**\n",
    "* .index('ha) For both strings and lists, index returns the leftmost index where the argument is found.(For strings the parameter should always be string)\n"
   ]
  },
  {
   "cell_type": "code",
   "execution_count": 28,
   "metadata": {},
   "outputs": [
    {
     "name": "stdout",
     "output_type": "stream",
     "text": [
      "2\n",
      "1\n",
      "0\n",
      "3\n",
      "0\n",
      "2\n",
      "1\n"
     ]
    }
   ],
   "source": [
    "a = \"I have had an apple on applemy desk before!\"\n",
    "print(a.count(\"apple\")) # applemy will be counted\n",
    "print(a.count(\"I\")) # case sensitive\n",
    "\n",
    "\n",
    "z = ['atoms', 4, 'neutron', 6, 'proton', 4, 'electron', 4, 'electron', 'atoms', [15]]\n",
    "#list count takes any types\n",
    "print(z.count(\"4\"))\n",
    "print(z.count(4)) #type sensitive\n",
    "print(z.count(\"a\"))\n",
    "print(z.count(\"electron\"))\n",
    "print(z.count([15]))\n",
    "\n",
    "# idea is to spilt the word, remove punctuations and count using the list"
   ]
  },
  {
   "cell_type": "code",
   "execution_count": 29,
   "metadata": {},
   "outputs": [
    {
     "name": "stdout",
     "output_type": "stream",
     "text": [
      "14\n",
      "9\n",
      "0\n",
      "3\n",
      "6\n"
     ]
    }
   ],
   "source": [
    "music = \"Pull out your music and dancing can begin\"\n",
    "bio = [\"Metatarsal\", \"Metatarsal\", \"Fibula\", [], \"Tibia\", \"Tibia\", 43, \"Femur\", \"Occipital\", \"Metatarsal\"]\n",
    "\n",
    "print(music.index(\"m\"))\n",
    "print(music.index(\"your\"))\n",
    "\n",
    "# take the left most or the first\n",
    "print(bio.index(\"Metatarsal\"))\n",
    "print(bio.index([]))\n",
    "print(bio.index(43))\n"
   ]
  },
  {
   "cell_type": "markdown",
   "metadata": {},
   "source": [
    "**IMPORTANT STRING METHODS**\n",
    "* The split method breaks a string into a list of words. By default, any number of whitespace characters is considered a word boundary. Pass delimiter as an paramater\n",
    "* The inverse of the split method is join. You choose a desired separator string, (often called the glue) and join the list with the glue between each of the elements. Example: \" \".join(list)"
   ]
  },
  {
   "cell_type": "code",
   "execution_count": 30,
   "metadata": {},
   "outputs": [
    {
     "name": "stdout",
     "output_type": "stream",
     "text": [
      "['The r', 'n in Sp', 'n...']\n"
     ]
    }
   ],
   "source": [
    "song = \"The rain in Spain...\"\n",
    "wds = song.split('ai')\n",
    "print(wds)\n"
   ]
  },
  {
   "cell_type": "code",
   "execution_count": 32,
   "metadata": {},
   "outputs": [
    {
     "name": "stdout",
     "output_type": "stream",
     "text": [
      "red;blue;green\n",
      "['red', 'blue', 'green']\n",
      "red***blue***green\n",
      "red blue green\n"
     ]
    }
   ],
   "source": [
    "wds = [\"red\", \"blue\", \"green\"]\n",
    "glue = ';'\n",
    "s = glue.join(wds)\n",
    "print(s)\n",
    "print(wds)\n",
    "\n",
    "print(\"***\".join(wds))\n",
    "print(\" \".join(wds))\n"
   ]
  },
  {
   "cell_type": "markdown",
   "metadata": {},
   "source": [
    "**----------------------------------------------------------------------------------------------------------------------------------------------------------------------------------------------------**\n",
    "# Iteration\n",
    "\n",
    "* for\n",
    "* while\n",
    "\n",
    "**Iteration by item**\n",
    "Since a `string` is simply a sequence of characters, the for loop iterates over each character automatically.\n",
    "\n",
    "A list is a sequence of items, so the for loop iterates over each item in the list automatically.\n",
    "\n",
    "The anatomy of the `accumulation pattern` includes:\n",
    "1. **initializing** an “accumulator” variable to an initial value (such as 0 if accumulating a sum)\n",
    "2. **iterating** (e.g., traversing the items in a sequence)\n",
    "3. **updating** the accumulator variable on each iteration (i.e., when processing each item in the sequence)\n"
   ]
  },
  {
   "cell_type": "code",
   "execution_count": 1,
   "metadata": {},
   "outputs": [
    {
     "name": "stdout",
     "output_type": "stream",
     "text": [
      "55\n"
     ]
    }
   ],
   "source": [
    "nums = [1, 2, 3, 4, 5, 6, 7, 8, 9, 10]\n",
    "accum = 0\n",
    "for w in nums:\n",
    "    accum = accum + w\n",
    "print(accum)\n"
   ]
  },
  {
   "cell_type": "markdown",
   "metadata": {},
   "source": [
    "**HACKS WITH RANGE**\n",
    "- The range function takes at least one input - which should be an integer - and returns a list as long as your input. "
   ]
  },
  {
   "cell_type": "code",
   "execution_count": 33,
   "metadata": {},
   "outputs": [
    {
     "name": "stdout",
     "output_type": "stream",
     "text": [
      "range(5): \n",
      "0\n",
      "1\n",
      "2\n",
      "3\n",
      "4\n",
      "range(0,5): \n",
      "0\n",
      "1\n",
      "2\n",
      "3\n",
      "4\n",
      "[0, 1, 2, 3, 4]\n",
      "[0, 1, 2, 3, 4]\n",
      "range(0, 5)\n"
     ]
    }
   ],
   "source": [
    "print(\"range(5): \")\n",
    "for i in range(5):\n",
    "    print(i)\n",
    "\n",
    "print(\"range(0,5): \")\n",
    "for i in range(0, 5):\n",
    "    print(i)\n",
    "\n",
    "# Notice the casting of `range` to the `list`\n",
    "print(list(range(5)))\n",
    "print(list(range(0,5)))\n",
    "\n",
    "# Note: `range` function is already casted as `list` in the textbook\n",
    "print(range(5))"
   ]
  },
  {
   "cell_type": "markdown",
   "metadata": {},
   "source": [
    "**Regular programming**"
   ]
  },
  {
   "cell_type": "code",
   "execution_count": 34,
   "metadata": {},
   "outputs": [
    {
     "name": "stdout",
     "output_type": "stream",
     "text": [
      "0 apple\n",
      "1 pear\n",
      "2 apricot\n",
      "3 cherry\n",
      "4 peach\n"
     ]
    }
   ],
   "source": [
    "fruits = ['apple', 'pear', 'apricot', 'cherry', 'peach']\n",
    "for n in range(len(fruits)):\n",
    "    print(n, fruits[n])\n"
   ]
  },
  {
   "cell_type": "markdown",
   "metadata": {},
   "source": [
    "**Pythonic way**"
   ]
  },
  {
   "cell_type": "code",
   "execution_count": 35,
   "metadata": {},
   "outputs": [
    {
     "name": "stdout",
     "output_type": "stream",
     "text": [
      "apple\n",
      "pear\n",
      "apricot\n",
      "cherry\n",
      "peach\n"
     ]
    }
   ],
   "source": [
    "fruits = ['apple', 'pear', 'apricot', 'cherry', 'peach']\n",
    "for fruit in fruits:\n",
    "    print(fruit)\n"
   ]
  },
  {
   "cell_type": "markdown",
   "metadata": {},
   "source": [
    "Python also provides an `enumerate` function which provides a more “pythonic” way of enumerating the items in a list.\n",
    "\n",
    "**---------------------------------------------------------------------------------------------------------------------------------------------------------------------------------------------------**\n",
    "\n",
    "# Conditions\n",
    "\n",
    "There are only two boolean values. **They are True and False. Capitalization is important, since true and false are not boolean values (remember Python is case sensitive).**\n",
    "\n",
    "There are three logical operators: and, or, and not\n",
    "\n",
    "**Note that a string is a substring of itself, and the empty string is a substring of any other string.** (Also note that computer scientists like to think about these edge cases quite carefully!)"
   ]
  },
  {
   "cell_type": "code",
   "execution_count": 36,
   "metadata": {},
   "outputs": [
    {
     "name": "stdout",
     "output_type": "stream",
     "text": [
      "True\n",
      "True\n",
      "True\n",
      "True\n"
     ]
    }
   ],
   "source": [
    "# A string is substring of itself\n",
    "print('a' in 'a')\n",
    "print('apple' in 'apple')\n",
    "\n",
    "# An empty string is a substring of any other string\n",
    "print('' in 'a')\n",
    "print('' in 'apple')"
   ]
  },
  {
   "cell_type": "markdown",
   "metadata": {},
   "source": [
    "### Order of precedence\n",
    "\n",
    "|Level|Category|Operators|\n",
    "|--- | --------|---------|\n",
    "|7(high)|exponent|`**`|\n",
    "|6|multiplication|`*,/,//,%`|\n",
    "|5|addition|+,-|\n",
    "|4|relational|==,!=,<=,>=,>,<|\n",
    "|3|logical|not|\n",
    "|2|logical|and|\n",
    "|1(low)|logical|or|\n",
    "\n",
    "**---------------------------------------------------------------------------------------------------------------------------------------------------------------------------------------------------**"
   ]
  },
  {
   "cell_type": "markdown",
   "metadata": {},
   "source": [
    "# Transforming Sequences\n",
    "\n",
    "An assignment to an element of a list is called item assignment. Item assignment does not work for strings.\n",
    "\n",
    "**strings are immutable like tuple i.e., item assignment doesn't work.** \n",
    "\n",
    "We can also remove elements from a list by assigning the empty list."
   ]
  },
  {
   "cell_type": "code",
   "execution_count": 1,
   "metadata": {},
   "outputs": [
    {
     "name": "stdout",
     "output_type": "stream",
     "text": [
      "['a', 'd', 'e', 'f']\n"
     ]
    }
   ],
   "source": [
    "alist = ['a', 'b', 'c', 'd', 'e', 'f']\n",
    "alist[1:3] = []\n",
    "print(alist)\n"
   ]
  },
  {
   "cell_type": "code",
   "execution_count": 1,
   "metadata": {},
   "outputs": [
    {
     "name": "stdout",
     "output_type": "stream",
     "text": [
      "['a', 'b', 'c', 'd', 'f']\n",
      "['a', 'b', 'c', 'd', 'e', 'f']\n"
     ]
    }
   ],
   "source": [
    "# We can even insert elements into a list by squeezing them into an empty slice at the desired location. **Squeezing**\n",
    "\n",
    "alist = ['a', 'd', 'f']\n",
    "alist[1:1] = ['b', 'c']\n",
    "print(alist)\n",
    "alist[4:4] = ['e']\n",
    "print(alist)\n"
   ]
  },
  {
   "cell_type": "code",
   "execution_count": 4,
   "metadata": {},
   "outputs": [
    {
     "name": "stdout",
     "output_type": "stream",
     "text": [
      "['one', 'three']\n",
      "['three']\n"
     ]
    }
   ],
   "source": [
    "#list delete\n",
    "\n",
    "a = ['one', 'two', 'three']\n",
    "del a[1]\n",
    "print(a)\n",
    "\n",
    "a[0:1]=[]\n",
    "print(a)"
   ]
  },
  {
   "cell_type": "markdown",
   "metadata": {},
   "source": [
    "### Objects and reference list and strings\n",
    "\n",
    "Strings\n",
    "- AS strings are immutable, the Python interpreter often optimizes resources by making two names that refer to the same string value refer to the same object. \n",
    "- You shouldn’t count on this (that is, use == to compare strings, not is), but don’t be surprised if you find that two variables,each bound to the string “banana”, have the same id..\n",
    "\n",
    "Lists\n",
    "- This is not the case with lists, which never share an id just because they have the same contents. Consider the following example. \n",
    "- Here, a and b refer to two different lists, each of which happens to have the same element values. **They need to have different ids so that mutations of list a do not affect list b.**"
   ]
  },
  {
   "cell_type": "code",
   "execution_count": 2,
   "metadata": {},
   "outputs": [
    {
     "name": "stdout",
     "output_type": "stream",
     "text": [
      "2554335250800\n",
      "2554335250800\n",
      "True\n",
      "True\n"
     ]
    }
   ],
   "source": [
    "a = \"banana\"\n",
    "b = \"banana\"\n",
    "\n",
    "print(id(a))\n",
    "print(id(b))\n",
    "\n",
    "print(a is b)\n",
    "print(a==b)"
   ]
  },
  {
   "cell_type": "code",
   "execution_count": 6,
   "metadata": {},
   "outputs": [
    {
     "name": "stdout",
     "output_type": "stream",
     "text": [
      "False\n",
      "True\n",
      "140224138587528\n",
      "140224138587784\n"
     ]
    }
   ],
   "source": [
    "a = [81,82,83]\n",
    "b = [81,82,83]\n",
    "\n",
    "print(a is b)\n",
    "\n",
    "print(a == b)\n",
    "\n",
    "print(id(a))\n",
    "print(id(b))\n"
   ]
  },
  {
   "cell_type": "markdown",
   "metadata": {},
   "source": [
    "### Aliasing\n",
    "\n",
    "Since variables refer to objects, if we assign one variable to another, both variables refer to the same object."
   ]
  },
  {
   "cell_type": "code",
   "execution_count": 3,
   "metadata": {},
   "outputs": [
    {
     "name": "stdout",
     "output_type": "stream",
     "text": [
      "True\n",
      "[9, 82, 83]\n",
      "[9, 82, 83]\n",
      "True\n",
      "True\n",
      "a: [81, 82, 83, 91]\n",
      "b: [81, 82, 83, 91]\n"
     ]
    }
   ],
   "source": [
    "a = [81, 82, 83]\n",
    "b = a\n",
    "print(a is b)\n",
    "b[0]=9\n",
    "\n",
    "print(a)\n",
    "print(b)\n",
    "print(a is b)\n",
    "\n",
    "#aliasing is not recommended for list manipulation\n",
    "a = [81, 82, 83]\n",
    "b = a\n",
    "print(a is b)\n",
    "a.append(91)\n",
    "print('Aliasing is not recommended')\n",
    "print('a:', a)\n",
    "print('b:', b)"
   ]
  },
  {
   "cell_type": "markdown",
   "metadata": {},
   "source": [
    "### Cloning\n",
    "If we want to modify a list and also keep a copy of the original, we need to be able to make a copy of the list itself, not just the reference. This process is sometimes called cloning, to avoid the ambiguity of the word copy."
   ]
  },
  {
   "cell_type": "code",
   "execution_count": 8,
   "metadata": {},
   "outputs": [
    {
     "name": "stdout",
     "output_type": "stream",
     "text": [
      "True\n",
      "False\n",
      "[81, 82, 83]\n",
      "[5, 82, 83]\n"
     ]
    }
   ],
   "source": [
    "a = [81,82,83]\n",
    "\n",
    "b = a[:]       # make a clone using slice\n",
    "print(a == b)\n",
    "print(a is b)\n",
    "\n",
    "b[0] = 5\n",
    "\n",
    "print(a)\n",
    "print(b)\n"
   ]
  },
  {
   "cell_type": "code",
   "execution_count": 11,
   "metadata": {},
   "outputs": [
    {
     "name": "stdout",
     "output_type": "stream",
     "text": [
      "[81, 82, 83]\n",
      "False\n",
      "[81, 82, 83, 81, 82, 83]\n"
     ]
    }
   ],
   "source": [
    "a = [81, 82, 83]\n",
    "b = a*2\n",
    "\n",
    "print(a)\n",
    "print(a is b)\n",
    "print(b)"
   ]
  },
  {
   "cell_type": "markdown",
   "metadata": {},
   "source": [
    "### List methods (Mutating Methods)"
   ]
  },
  {
   "cell_type": "code",
   "execution_count": 4,
   "metadata": {},
   "outputs": [
    {
     "name": "stdout",
     "output_type": "stream",
     "text": [
      "append\n",
      "[5, 27, 3, 12]\n",
      "insert\n",
      "[5, 12, 27, 3, 12]\n",
      "2\n",
      "index\n",
      "3\n",
      "count\n",
      "1\n",
      "reverse\n",
      "[12, 3, 27, 12, 5]\n",
      "sort\n",
      "[3, 5, 12, 12, 27]\n",
      "remove\n",
      "[3, 12, 12, 27]\n",
      "pop\n",
      "27\n",
      "3\n",
      "[12, 12]\n"
     ]
    }
   ],
   "source": [
    "\n",
    "# Adds a new item to the end of a list\n",
    "print(\"append\")\n",
    "mylist = []\n",
    "mylist.append(5)\n",
    "mylist.append(27)\n",
    "mylist.append(3)\n",
    "mylist.append(12)\n",
    "print(mylist)\n",
    "\n",
    "# Inserts a new item at the position given\n",
    "print(\"insert\")\n",
    "mylist.insert(1, 12)\n",
    "print(mylist)\n",
    "print(mylist.count(12))\n",
    "\n",
    "# Returns the position of first occurrence of item\n",
    "print(\"index\")\n",
    "print(mylist.index(3))\n",
    "\n",
    "# Returns the number of occurrences of item\n",
    "print(\"count\")\n",
    "print(mylist.count(5))\n",
    "\n",
    "# Modifies a list to be in reverse order\n",
    "print(\"reverse\")\n",
    "mylist.reverse()\n",
    "print(mylist)\n",
    "\n",
    "# Modifies a list to be sorted\n",
    "print(\"sort\")\n",
    "mylist.sort()\n",
    "print(mylist)\n",
    "\n",
    "# Removes the first occurrence of item\n",
    "print(\"remove\")\n",
    "mylist.remove(5)\n",
    "print(mylist)\n",
    "\n",
    "# Removes and returns the last item\n",
    "print(\"pop\")\n",
    "lastitem = mylist.pop()\n",
    "print(lastitem)\n",
    "first = mylist.pop(0)\n",
    "print(first)\n",
    "print(mylist)"
   ]
  },
  {
   "cell_type": "markdown",
   "metadata": {},
   "source": [
    "**NOTE**:\n",
    "\n",
    "  It is important to remember that methods like append, sort, and reverse all return None. They change the list; they don’t produce a new list. So, while we did reassignment to increment a number, as in x = x + 1, doing the analogous thing with these operations will lose the entire list contents.\n",
    "  "
   ]
  },
  {
   "cell_type": "code",
   "execution_count": 5,
   "metadata": {},
   "outputs": [
    {
     "name": "stdout",
     "output_type": "stream",
     "text": [
      "[5, 27, 3, 12]\n",
      "None\n"
     ]
    }
   ],
   "source": [
    "mylist = []\n",
    "mylist.append(5)\n",
    "mylist.append(27)\n",
    "mylist.append(3)\n",
    "mylist.append(12)\n",
    "print(mylist)\n",
    "\n",
    "# it returns none\n",
    "mylist = mylist.sort()   #probably an error\n",
    "print(mylist)"
   ]
  },
  {
   "cell_type": "markdown",
   "metadata": {},
   "source": [
    "### Append vs Concatenate\n",
    "\n",
    "- `append` method adds a new item to the end of a list. The result list has the same ID\n",
    "- `concatenate` methods adds a new list, but the result list has difference ID.\n"
   ]
  },
  {
   "cell_type": "code",
   "execution_count": 6,
   "metadata": {},
   "outputs": [
    {
     "name": "stdout",
     "output_type": "stream",
     "text": [
      "origlist: [45, 32, 88]\n",
      "the identifier: 2554325223176\n",
      "newlist: [45, 32, 88, 'cat']\n",
      "the identifier: 2554335229000\n",
      "origlist: [45, 32, 88, 'cat']\n",
      "the identifier: 2554325223176\n"
     ]
    }
   ],
   "source": [
    "origlist = [45,32,88]\n",
    "print(\"origlist:\", origlist)\n",
    "print(\"the identifier:\", id(origlist))             #id of the list before changes\n",
    "newlist = origlist + ['cat']\n",
    "print(\"newlist:\", newlist)\n",
    "print(\"the identifier:\", id(newlist))              #id of the list after concatentation\n",
    "origlist.append('cat')\n",
    "print(\"origlist:\", origlist)\n",
    "print(\"the identifier:\", id(origlist))             #id of the list after append is used\n"
   ]
  },
  {
   "cell_type": "markdown",
   "metadata": {},
   "source": [
    "### String methods (non mutating methods)"
   ]
  },
  {
   "cell_type": "code",
   "execution_count": 8,
   "metadata": {},
   "outputs": [
    {
     "name": "stdout",
     "output_type": "stream",
     "text": [
      "upper\n",
      "ASDFGH\n",
      "lower\n",
      "asdfgh\n",
      "count\n",
      "1\n",
      "item\n",
      "1\n",
      "strip\n",
      "sadsfdgf\n",
      "replace\n",
      "tadtfdgf\n",
      "Hello Rodney Dangerfield. Your score is -1.\n",
      "Hello Marlon Brando. Your score is 1.\n",
      "Hello You. Your score is 100.\n"
     ]
    }
   ],
   "source": [
    "print(\"upper\")\n",
    "\n",
    "#parameter: none\n",
    "#Returns a string in all uppercase\n",
    "s = 'asdfgh'\n",
    "s =s.upper()\n",
    "print(s)\n",
    "\n",
    "# lower\n",
    "print(\"lower\")\n",
    "# parameter: none\n",
    "# Returns a string in all lowercase\n",
    "s = s.lower()\n",
    "print(s)\n",
    "\n",
    "# count\n",
    "# parameter: item\n",
    "# Returns the number of occurrences of item\n",
    "print(\"count\")\n",
    "print(s.count('s'))\n",
    "\n",
    "# index\n",
    "# parameter: item\n",
    "# Returns the leftmost index where the substring item is found and causes a runtime error if item is not found\n",
    "print(\"item\")\n",
    "print(s.index('s'))\n",
    "\n",
    "# strip\n",
    "# parameter:none\n",
    "# Returns a string with the leading and trailing whitespace removed\n",
    "print(\"strip\")\n",
    "s= ' sadsfdgf'\n",
    "s = s.strip()\n",
    "print(s)\n",
    "\n",
    "\n",
    "# replace\n",
    "# old, new\n",
    "# Replaces all occurrences of old substring with new\n",
    "print(\"replace\")\n",
    "s=s.replace('s','t')\n",
    "print(s)\n",
    "\n",
    "\n",
    "# format\n",
    "# substitutions\n",
    "# Involved! See String Format Method, below\n",
    "scores = [(\"Rodney Dangerfield\", -1), (\"Marlon Brando\", 1), (\"You\", 100)]\n",
    "for person in scores:\n",
    "    name = person[0]\n",
    "    score = person[1]\n",
    "    print(\"Hello {}. Your score is {}.\".format(name, score))"
   ]
  },
  {
   "cell_type": "code",
   "execution_count": 10,
   "metadata": {},
   "outputs": [
    {
     "name": "stdout",
     "output_type": "stream",
     "text": [
      "Enter the original price: $34\n",
      "Enter discount percentage: 5\n",
      "34.00 discounted by 5.0% is $32.3.\n"
     ]
    }
   ],
   "source": [
    "origPrice = float(input('Enter the original price: $'))\n",
    "discount = float(input('Enter discount percentage: '))\n",
    "newPrice = (1 - discount/100)*origPrice\n",
    "calculation = f'{origPrice:0.2f} discounted by {discount}% is ${newPrice}.'\n",
    "print(calculation)\n"
   ]
  },
  {
   "cell_type": "code",
   "execution_count": 11,
   "metadata": {},
   "outputs": [
    {
     "name": "stdout",
     "output_type": "stream",
     "text": [
      "Hello, Sally. Nice to meet you.\n"
     ]
    }
   ],
   "source": [
    "name = \"Sally\"\n",
    "greeting = \"Nice to meet you\"\n",
    "s = f\"Hello, {name}. {greeting}.\"\n",
    "print(s)"
   ]
  },
  {
   "cell_type": "markdown",
   "metadata": {},
   "source": [
    "### Don't mutate a list that you are iterating"
   ]
  },
  {
   "cell_type": "code",
   "execution_count": 2,
   "metadata": {},
   "outputs": [
    {
     "name": "stdout",
     "output_type": "stream",
     "text": [
      "Red\n",
      "Orange\n",
      "Yellow\n",
      "Green\n",
      "Blue\n",
      "Violet\n",
      "Purple\n",
      "Brown\n",
      "Turquois\n",
      "Beige\n"
     ]
    },
    {
     "ename": "IndexError",
     "evalue": "list index out of range",
     "output_type": "error",
     "traceback": [
      "\u001b[1;31m---------------------------------------------------------------------------\u001b[0m",
      "\u001b[1;31mIndexError\u001b[0m                                Traceback (most recent call last)",
      "\u001b[1;32m<ipython-input-2-54875101d250>\u001b[0m in \u001b[0;36m<module>\u001b[1;34m\u001b[0m\n\u001b[0;32m      3\u001b[0m \u001b[1;33m\u001b[0m\u001b[0m\n\u001b[0;32m      4\u001b[0m \u001b[1;32mfor\u001b[0m \u001b[0mposition\u001b[0m \u001b[1;32min\u001b[0m \u001b[0mrange\u001b[0m\u001b[1;33m(\u001b[0m\u001b[0mlen\u001b[0m\u001b[1;33m(\u001b[0m\u001b[0mcolors\u001b[0m\u001b[1;33m)\u001b[0m\u001b[1;33m)\u001b[0m\u001b[1;33m:\u001b[0m\u001b[1;33m\u001b[0m\u001b[1;33m\u001b[0m\u001b[0m\n\u001b[1;32m----> 5\u001b[1;33m     \u001b[0mcolor\u001b[0m \u001b[1;33m=\u001b[0m \u001b[0mcolors\u001b[0m\u001b[1;33m[\u001b[0m\u001b[0mposition\u001b[0m\u001b[1;33m]\u001b[0m\u001b[1;33m\u001b[0m\u001b[1;33m\u001b[0m\u001b[0m\n\u001b[0m\u001b[0;32m      6\u001b[0m     \u001b[0mprint\u001b[0m\u001b[1;33m(\u001b[0m\u001b[0mcolor\u001b[0m\u001b[1;33m)\u001b[0m\u001b[1;33m\u001b[0m\u001b[1;33m\u001b[0m\u001b[0m\n\u001b[0;32m      7\u001b[0m     \u001b[1;32mif\u001b[0m \u001b[0mcolor\u001b[0m\u001b[1;33m[\u001b[0m\u001b[1;36m0\u001b[0m\u001b[1;33m]\u001b[0m \u001b[1;32min\u001b[0m \u001b[1;33m[\u001b[0m\u001b[1;34m\"P\"\u001b[0m\u001b[1;33m,\u001b[0m \u001b[1;34m\"B\"\u001b[0m\u001b[1;33m,\u001b[0m \u001b[1;34m\"T\"\u001b[0m\u001b[1;33m]\u001b[0m\u001b[1;33m:\u001b[0m\u001b[1;33m\u001b[0m\u001b[1;33m\u001b[0m\u001b[0m\n",
      "\u001b[1;31mIndexError\u001b[0m: list index out of range"
     ]
    }
   ],
   "source": [
    "# the error is expected since we delete elements from the list\n",
    "colors = [\"Red\", \"Orange\", \"Yellow\", \"Green\", \"Blue\", \"Indigo\", \"Violet\", \"Purple\", \"Pink\", \"Brown\", \"Teal\", \"Turquois\", \"Peach\", \"Beige\"]\n",
    "\n",
    "for position in range(len(colors)):\n",
    "    color = colors[position]\n",
    "    print(color)\n",
    "    if color[0] in [\"P\", \"B\", \"T\"]:\n",
    "        del colors[position]\n",
    "\n",
    "print(colors)"
   ]
  },
  {
   "cell_type": "markdown",
   "metadata": {},
   "source": [
    "**---------------------------------------------------------------------------------------------------------------------------------------------------------------------------------------------------**\n",
    "\n",
    "# Files\n",
    "\n",
    "|Method Name|Use|Explanation|\n",
    "|-----------|---|-----------|\n",
    "|write|filevar.write(astring)|Add a string to the end of the file. filevar must refer to a file that has been opened for writing.|\n",
    "|read(n)|filevar.read()|Read and return a string of n characters, or the entire file as a single string if n is not provided.|\n",
    "|readline(n)|filevar.readline()|Read and return the next line of the file with all text up to and including the newline character. If n is provided as a parameter, then only n characters will be returned if the line is longer than n. Note the parameter n is not supported in the browser version of Python, and in fact is rarely used in practice, you can safely ignore it.|\n",
    "|readlines(n)|filevar.readlines()|Returns a list of strings, each representing a single line of the file. If n is not provided then all lines of the file are returned. If n is provided then n characters are read but n is rounded up so that an entire line is returned. Note Like readline readlines ignores the parameter n in the browser.|\n",
    "\n"
   ]
  },
  {
   "cell_type": "markdown",
   "metadata": {},
   "source": [
    "### sample code\n",
    "```\n",
    "fileref = open(\"travel_plans2.txt\", \"r\")\n",
    "file = fileref.readlines()\n",
    "num_lines = len(file)\n",
    "fileref.close()\n",
    "```"
   ]
  },
  {
   "cell_type": "markdown",
   "metadata": {},
   "source": [
    "**efficient processing**: Python provides a built-in way to iterate through the contents of a file one line at a time, without first reading them all into a list.\n",
    "\n",
    "```\n",
    "olypmicsfile = open(\"olypmics.txt\", \"r\")\n",
    "\n",
    "for aline in olypmicsfile:\n",
    "    values = aline.split(\",\")\n",
    "    print(values)\n",
    "    print(values[0], \"is from\", values[3], \"and is on the roster for\", values[4])\n",
    "\n",
    "olypmicsfile.close()\n",
    "```\n",
    "\n",
    "But the we have to handle the `\\n` new line character at the end."
   ]
  },
  {
   "cell_type": "markdown",
   "metadata": {},
   "source": [
    "### Using with \n",
    "\n",
    "- The first line of the with statement opens the file and assigns it to the variable md. \n",
    "- Then we can iterate over the file in any of the usual ways. \n",
    "- When we are done we simply stop indenting and let Python take care of closing the file and cleaning up. \n",
    "\n",
    "```\n",
    "with open('mydata.txt', 'r') as md:\n",
    "    for line in md:\n",
    "        print(line)\n",
    "```"
   ]
  },
  {
   "cell_type": "markdown",
   "metadata": {},
   "source": [
    "### Reading csv\n",
    "\n",
    "We are using csv to strip the `\\n` characters\n",
    "\n",
    "```\n",
    " fileconnection = open(\"olympics.txt\", 'r')\n",
    " lines = fileconnection.readlines()\n",
    " header = lines[0]\n",
    " field_names = header.strip().split(',')\n",
    " print(field_names)\n",
    " for row in lines[1:]:\n",
    "     vals = row.strip().split(',')\n",
    "     if vals[5] != \"NA\":\n",
    "         print(\"{}: {}; {}\".format(\n",
    "                 vals[0],\n",
    "                 vals[4],\n",
    "                 vals[5]))\n",
    "```\n",
    "\n",
    "### Writing csv\n",
    "\n",
    "```\n",
    "olympians = [(\"John Aalberg\", 31, \"Cross Country Skiing, 15KM\"),\n",
    "             (\"Minna Maarit Aalto\", 30, \"Sailing\"),\n",
    "             (\"Win Valdemar Aaltonen\", 54, \"Art Competitions\"),\n",
    "             (\"Wakako Abe\", 18, \"Cycling\")]\n",
    "\n",
    "outfile = open(\"reduced_olympics2.csv\", \"w\")\n",
    "# output the header row\n",
    "outfile.write('\"Name\",\"Age\",\"Sport\"')\n",
    "outfile.write('\\n')\n",
    "# output each of the rows:\n",
    "for olympian in olympians:\n",
    "    row_string = '\"{}\", \"{}\", \"{}\"'.format(olympian[0], olympian[1], olympian[2])\n",
    "    outfile.write(row_string)\n",
    "    outfile.write('\\n')\n",
    "outfile.close()\n",
    "```\n",
    "**---------------------------------------------------------------------------------------------------------------------------------------------------------------------------------------------------**"
   ]
  },
  {
   "cell_type": "markdown",
   "metadata": {},
   "source": [
    "# Dictionary\n",
    "\n",
    "- unordered collection and mutable\n",
    "\n",
    "#### Operations\n",
    "- Use `del` to delete key, values in dict\n",
    "- `len` function is used to determine the number of key- value pairs"
   ]
  },
  {
   "cell_type": "code",
   "execution_count": 1,
   "metadata": {},
   "outputs": [
    {
     "data": {
      "text/plain": [
       "3"
      ]
     },
     "execution_count": 1,
     "metadata": {},
     "output_type": "execute_result"
    }
   ],
   "source": [
    "mydict = {\"cat\":12, \"dog\":6, \"elephant\":23, \"human\":34445}\n",
    "\n",
    "# delete\n",
    "del mydict['human']\n",
    "\n",
    "# length\n",
    "len(mydict)"
   ]
  },
  {
   "cell_type": "code",
   "execution_count": 19,
   "metadata": {},
   "outputs": [
    {
     "name": "stdout",
     "output_type": "stream",
     "text": [
      "dict_keys(['apples', 'bananas', 'oranges', 'pears'])\n",
      "['apples', 'bananas', 'oranges', 'pears']\n",
      "\n",
      "\n",
      "iterating over a dictionary implicitly iterates over its keys.\n",
      "Got key apples\n",
      "Got key bananas\n",
      "Got key oranges\n",
      "Got key pears\n",
      "\n",
      "\n",
      "values: Returns a view of the values in the dictionary\n",
      "[430, 312, 525, 217]\n",
      "\n",
      "\n",
      "items Returns a view of the key-value pairs in the dictionary\n",
      "dict_items([('apples', 430), ('bananas', 312), ('oranges', 525), ('pears', 217)])\n",
      "\n",
      "\n",
      "get returns the value associated with key; None otherwise\n",
      "430\n",
      "None\n",
      "\n",
      "\n",
      "get(item,alter) Returns the value associated with key; alternative- alt otherwise\n",
      "0\n",
      "\n",
      "\n"
     ]
    }
   ],
   "source": [
    "inventory = {'apples': 430, 'bananas': 312, 'oranges': 525, 'pears': 217}\n",
    "\n",
    "#*keys*\n",
    "#parameter: none\n",
    "#Returns a view of the keys in the dictionary\n",
    "print(inventory.keys())\n",
    "#convert to a list\n",
    "print(list(inventory.keys()))\n",
    "print('\\n')\n",
    "\n",
    "\n",
    "print('iterating over a dictionary implicitly iterates over its keys.')\n",
    "for k in inventory:\n",
    "    print(\"Got key\", k)\n",
    "print('\\n')\n",
    "\n",
    "\n",
    "# *values*\n",
    "# parameter: none\n",
    "print('values: Returns a view of the values in the dictionary')\n",
    "print(list(inventory.values()))\n",
    "print('\\n')\n",
    "\n",
    "# *items*\n",
    "# parameter: none\n",
    "print('items Returns a view of the key-value pairs in the dictionary')\n",
    "print(inventory.items())\n",
    "print('\\n')\n",
    "\n",
    "# *get*\n",
    "# parameter: key\n",
    "print('get returns the value associated with key; None otherwise')\n",
    "print(inventory.get('apples'))\n",
    "print(inventory.get('apple'))\n",
    "print('\\n')\n",
    "\n",
    "\n",
    "# *get*\n",
    "# parameter: key,alt\n",
    "print('get(item,alter) Returns the value associated with key; alternative- alt otherwise')\n",
    "print(inventory.get('apple',0))\n",
    "print('\\n')"
   ]
  },
  {
   "cell_type": "markdown",
   "metadata": {},
   "source": [
    "## Aliasing and copying"
   ]
  },
  {
   "cell_type": "markdown",
   "metadata": {},
   "source": [
    "- Because dictionaries are mutable, whenever two variables refer to the same dictionary object, changes to one affect the other. For example, opposites is a dictionary that contains pairs of opposites."
   ]
  },
  {
   "cell_type": "code",
   "execution_count": 21,
   "metadata": {},
   "outputs": [
    {
     "name": "stdout",
     "output_type": "stream",
     "text": [
      "True\n",
      "left\n"
     ]
    }
   ],
   "source": [
    "opposites = {'up': 'down', 'right': 'wrong', 'true': 'false'}\n",
    "alias = opposites\n",
    "\n",
    "print(alias is opposites)\n",
    "\n",
    "alias['right'] = 'left'\n",
    "print(opposites['right'])\n"
   ]
  },
  {
   "cell_type": "markdown",
   "metadata": {},
   "source": [
    "- To modify a dictionary and keep a copy of the original, use the dictionary `copy` method."
   ]
  },
  {
   "cell_type": "code",
   "execution_count": 23,
   "metadata": {},
   "outputs": [
    {
     "data": {
      "text/plain": [
       "'wrong'"
      ]
     },
     "execution_count": 23,
     "metadata": {},
     "output_type": "execute_result"
    }
   ],
   "source": [
    "opposites = {'up': 'down', 'right': 'wrong', 'true': 'false'}\n",
    "acopy = opposites.copy()\n",
    "acopy['right'] = 'left'\n",
    "opposites['right']"
   ]
  },
  {
   "cell_type": "code",
   "execution_count": 25,
   "metadata": {},
   "outputs": [
    {
     "data": {
      "text/plain": [
       "10"
      ]
     },
     "execution_count": 25,
     "metadata": {},
     "output_type": "execute_result"
    }
   ],
   "source": [
    "# using tuple as it is immutable\n",
    "dict_tuple ={('US','Chicago'): 10, ('US','Penn'): 34}\n",
    "dict_tuple[('US','Chicago')]"
   ]
  },
  {
   "cell_type": "markdown",
   "metadata": {},
   "source": [
    "**---------------------------------------------------------------------------------------------------------------------------------------------------------------------------------------------------**\n",
    "\n",
    "## Functions\n",
    "\n",
    "- Functions that return values are sometimes called **fruitful functions**.\n",
    "- In many other languages, a function that doesn’t return a value is called a **procedure**, but we will stick here with the Python way of also calling it a function, or if we want to stress it, a non-fruitful function.\n",
    "- All **Python functions return the special value `None`** unless there is an explicit return statement with a value other than None.\n",
    "- A return statement, once executed, immediately terminates execution of a function, even if it is not the last statement in the function.\n",
    "- process of breaking a problem into smaller subproblems is called **functional decomposition**.\n",
    "    "
   ]
  },
  {
   "cell_type": "markdown",
   "metadata": {},
   "source": [
    "#### Mutable object side effects\n",
    "\n",
    "The global variable which is a `list` could be changed if made changes within a function."
   ]
  },
  {
   "cell_type": "code",
   "execution_count": 26,
   "metadata": {},
   "outputs": [
    {
     "name": "stdout",
     "output_type": "stream",
     "text": [
      "5\n",
      "['Michigan', 'Wolverines', 'are', 'awesome']\n"
     ]
    }
   ],
   "source": [
    "def double(y):\n",
    "    y = 2 * y\n",
    "\n",
    "def changeit(lst):\n",
    "    lst[0] = \"Michigan\"\n",
    "    lst[1] = \"Wolverines\"\n",
    "\n",
    "y = 5\n",
    "double(y)\n",
    "print(y)\n",
    "\n",
    "mylst = ['our', 'students', 'are', 'awesome']\n",
    "changeit(mylst)\n",
    "print(mylst)"
   ]
  },
  {
   "cell_type": "markdown",
   "metadata": {},
   "source": [
    "**---------------------------------------------------------------------------------------------------------------------------------------------------------------------------------------------------**\n",
    "## Tuple Packing\n",
    "\n",
    "- Wherever python expects a single value, if multiple expressions are provided, separated by commas, they are automatically packed into a tuple. \n",
    "- For example, we can omit the parentheses when assigning a tuple of values to a single variable."
   ]
  },
  {
   "cell_type": "code",
   "execution_count": 8,
   "metadata": {},
   "outputs": [
    {
     "name": "stdout",
     "output_type": "stream",
     "text": [
      "2009\n"
     ]
    }
   ],
   "source": [
    "julia = (\"Julia\", \"Roberts\", 1967, \"Duplicity\", 2009, \"Actress\", \"Atlanta, Georgia\")\n",
    "# or equivalently\n",
    "julia = \"Julia\", \"Roberts\", 1967, \"Duplicity\", 2009, \"Actress\", \"Atlanta, Georgia\"\n",
    "print(julia[4])"
   ]
  },
  {
   "cell_type": "markdown",
   "metadata": {},
   "source": [
    "- Python has a very powerful tuple assignment feature that allows a tuple of variable names on the left of an assignment statement to be assigned values from a tuple on the right of the assignment.\n",
    "- Another way to think of this is that the **tuple of values is unpacked into the variable names**."
   ]
  },
  {
   "cell_type": "code",
   "execution_count": 9,
   "metadata": {},
   "outputs": [
    {
     "name": "stdout",
     "output_type": "stream",
     "text": [
      "Julia\n"
     ]
    }
   ],
   "source": [
    "julia = \"Julia\", \"Roberts\", 1967, \"Duplicity\", 2009, \"Actress\", \"Atlanta, Georgia\"\n",
    "\n",
    "name, surname, birth_year, movie, movie_year, profession, birth_place = julia\n",
    "\n",
    "print(name)"
   ]
  },
  {
   "cell_type": "markdown",
   "metadata": {},
   "source": [
    "#### Pythonic way for swapping values\n",
    "\n",
    "- we dont need to use a temp variable"
   ]
  },
  {
   "cell_type": "code",
   "execution_count": 27,
   "metadata": {},
   "outputs": [
    {
     "name": "stdout",
     "output_type": "stream",
     "text": [
      "2 1\n"
     ]
    }
   ],
   "source": [
    "a = 1\n",
    "b = 2\n",
    "(a, b) = (b, a)\n",
    "print(a, b)"
   ]
  },
  {
   "cell_type": "markdown",
   "metadata": {},
   "source": [
    "#### Pythonic approach to enumerating items in a sequence."
   ]
  },
  {
   "cell_type": "code",
   "execution_count": 11,
   "metadata": {},
   "outputs": [
    {
     "name": "stdout",
     "output_type": "stream",
     "text": [
      "0 apple\n",
      "1 pear\n",
      "2 apricot\n",
      "3 cherry\n",
      "4 peach\n"
     ]
    }
   ],
   "source": [
    "fruits = ['apple', 'pear', 'apricot', 'cherry', 'peach']\n",
    "for idx, fruit in enumerate(fruits):\n",
    "    print(idx, fruit)"
   ]
  },
  {
   "cell_type": "markdown",
   "metadata": {},
   "source": [
    "####  Unpacking Tuples as Arguments to Function Calls"
   ]
  },
  {
   "cell_type": "code",
   "execution_count": 12,
   "metadata": {},
   "outputs": [
    {
     "name": "stdout",
     "output_type": "stream",
     "text": [
      "7\n",
      "9\n"
     ]
    }
   ],
   "source": [
    "#Passing tuple as a parameter\n",
    "def add(x, y):\n",
    "    return x + y\n",
    "\n",
    "print(add(3, 4))\n",
    "z = (5, 4)\n",
    "print(add(*z)) # this line will cause the values to be unpacked\n"
   ]
  },
  {
   "cell_type": "markdown",
   "metadata": {},
   "source": [
    "**---------------------------------------------------------------------------------------------------------------------------------------------------------------------------------------------------**\n",
    "\n",
    "# More Iteration: while\n",
    "\n",
    "- use a for loop whenever it will be known at the beginning of the iteration process how many times the block of code needs to be executed.\n",
    "- One very common pattern is called a **listener loop**. Inside the while loop there is a function call to get user input. "
   ]
  },
  {
   "cell_type": "code",
   "execution_count": 30,
   "metadata": {},
   "outputs": [
    {
     "name": "stdout",
     "output_type": "stream",
     "text": [
      "next number to add up (enter 0 if no more numbers): 5\n",
      "next number to add up (enter 0 if no more numbers): 6\n",
      "next number to add up (enter 0 if no more numbers): 7\n",
      "next number to add up (enter 0 if no more numbers): 23\n",
      "next number to add up (enter 0 if no more numbers): -1\n",
      "next number to add up (enter 0 if no more numbers): -1\n",
      "next number to add up (enter 0 if no more numbers): -1\n",
      "next number to add up (enter 0 if no more numbers): -1\n",
      "next number to add up (enter 0 if no more numbers): 0\n",
      "37\n"
     ]
    }
   ],
   "source": [
    "theSum = 0\n",
    "x = -1\n",
    "\n",
    "while (x != 0):\n",
    "    x = int(input(\"next number to add up (enter 0 if no more numbers): \"))\n",
    "    theSum = theSum + x\n",
    "\n",
    "print(theSum)"
   ]
  },
  {
   "cell_type": "markdown",
   "metadata": {},
   "source": [
    "- total - this will start at zero\n",
    "- count - the number of items, which also starts at zero\n",
    "- moreItems - a boolean that tells us whether more items are waiting; this starts as True\n",
    "\n",
    "```\n",
    "while moreItems\n",
    "    ask for price\n",
    "    add price to total\n",
    "    add one to count\n",
    "```"
   ]
  },
  {
   "cell_type": "markdown",
   "metadata": {},
   "source": [
    "### Break and Continue\n",
    "\n",
    "- break allows the program to immediately ‘break out’ of the loop, regardless of the loop’s conditional structure.\n",
    "- continue allows the program to immediately “continue” with the next iteration. The program will skip the rest of the iteration, recheck the condition, and maybe does another iteration depending on the condition set for the while loop."
   ]
  },
  {
   "cell_type": "code",
   "execution_count": 36,
   "metadata": {},
   "outputs": [
    {
     "name": "stdout",
     "output_type": "stream",
     "text": [
      "we are incrementing x by 3\n",
      "3\n",
      "we are incrementing by 5\n",
      "8\n",
      "we are incrementing by 5\n",
      "14\n",
      "Done with our loop! X has the value: 15\n"
     ]
    }
   ],
   "source": [
    "x = 0\n",
    "while x < 10:\n",
    "    \n",
    "    if x % 2 == 0:\n",
    "        print(\"we are incrementing x by 3\")\n",
    "        x += 3\n",
    "        print(x)\n",
    "        continue\n",
    "    if x % 3 == 0:\n",
    "        print(\"we are incrementing by 5\")    \n",
    "        x += 5\n",
    "        print(x)\n",
    "    x += 1\n",
    "print(\"Done with our loop! X has the value: \" + str(x))"
   ]
  },
  {
   "cell_type": "code",
   "execution_count": null,
   "metadata": {},
   "outputs": [],
   "source": []
  }
 ],
 "metadata": {
  "kernelspec": {
   "display_name": "Python 3",
   "language": "python",
   "name": "python3"
  },
  "language_info": {
   "codemirror_mode": {
    "name": "ipython",
    "version": 3
   },
   "file_extension": ".py",
   "mimetype": "text/x-python",
   "name": "python",
   "nbconvert_exporter": "python",
   "pygments_lexer": "ipython3",
   "version": "3.7.6"
  }
 },
 "nbformat": 4,
 "nbformat_minor": 2
}
