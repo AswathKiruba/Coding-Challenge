{
 "cells": [
  {
   "cell_type": "markdown",
   "metadata": {},
   "source": [
    "A **statement** is an instruction that the Python interpreter can execute.  Examples are while statements, for statements, if statements, and import statements. \n",
    "\n",
    "An **expression** is a combination of literals, variable names, operators, and calls to functions. Expressions need to be evaluated.\n",
    "It can contain function call expression or operator expression.\n",
    "\n",
    "## Sequential  collection\n",
    "**Strings** can be defined as sequential collections of characters\n",
    "\n",
    "A **list** is a sequential collection of Python data values, where each value is identified by an index. The values that make up a list are called its elements. Lists are similar to strings, which are ordered collections of characters, except that the elements of a list can have any type and for any one list, the items can be of different types.\n",
    "\n",
    "There are several ways to create a new list. The simplest is to enclose the elements in square brackets ( [ and ]).\n",
    "Example\n",
    "* [10, 20, 30, 40]\n",
    "* [\"spam\", \"bungee\", \"swallow\"]\n",
    "* [\"hello\", 2.0, 5, [10, 20]]\n",
    "\n",
    "A **tuple**, like a list, is a sequence of items of any type. The printed representation of a tuple is a comma-separated sequence of values, enclosed in parentheses. In other words, the representation is just like lists, except with parentheses () instead of square brackets [].\n",
    "\n",
    "One way to create a tuple is to write an expression, enclosed in parentheses, that consists of multiple other expressions, separated by commas.\n",
    "\n",
    "To create a tuple with a single element (but you’re probably not likely to do that too often), we have to include the final comma, because without the final comma, Python treats the (5) below as an integer in parentheses:\n",
    "t = (5,) -- would be tuple\n",
    "t = (5) -- would be int\n",
    "\n",
    "The **slice operator** [n:m] returns the part of the string starting with the character at index n and go up to but **not including the character at index m**. Or with normal counting from 1, this is the (n+1)st character up to and including the mth character.\n",
    "\n",
    "As with strings, the `+` operator concatenates lists. Similarly, the `*` operator repeats the items in a list a given number of times.\n",
    "\n",
    "* .count('ha') can be used on strings and list to count the number of times that occured in the string or list. (For strings the parameter should always be string) **It is case sensitive**\n",
    "* .index('ha) For both strings and lists, index returns the leftmost index where the argument is found.(For strings the parameter should always be string)\n",
    "* The split method breaks a string into a list of words. By default, any number of whitespace characters is considered a word boundary. Pass delimiter as an paramater\n",
    "* The inverse of the split method is join. You choose a desired separator string, (often called the glue) and join the list with the glue between each of the elements. Example: \" \".join(list)\n",
    "\n",
    "## Iteration\n",
    "\n",
    "* for\n",
    "* while\n",
    "\n",
    "**Iteration by item**\n",
    "Since a `string` is simply a sequence of characters, the for loop iterates over each character automatically.\n",
    "\n",
    "A list is a sequence of items, so the for loop iterates over each item in the list automatically.\n",
    "\n",
    "The anatomy of the `accumulation pattern` includes:\n",
    "1. initializing an “accumulator” variable to an initial value (such as 0 if accumulating a sum)\n",
    "2. iterating (e.g., traversing the items in a sequence)\n",
    "3. updating the accumulator variable on each iteration (i.e., when processing each item in the sequence)\n",
    "\n",
    "\n"
   ]
  },
  {
   "cell_type": "code",
   "execution_count": 1,
   "metadata": {},
   "outputs": [
    {
     "name": "stdout",
     "output_type": "stream",
     "text": [
      "55\n"
     ]
    }
   ],
   "source": [
    "nums = [1, 2, 3, 4, 5, 6, 7, 8, 9, 10]\n",
    "accum = 0\n",
    "for w in nums:\n",
    "    accum = accum + w\n",
    "print(accum)\n"
   ]
  },
  {
   "cell_type": "markdown",
   "metadata": {},
   "source": [
    "Python also provides an `enumerate` function which provides a more “pythonic” way of enumerating the items in a list.\n",
    "\n",
    "## Conditions\n",
    "\n",
    "There are only two boolean values. They are True and False. Capitalization is important, since true and false are not boolean values (remember Python is case sensitive).\n",
    "\n",
    "There are three logical operators: and, or, and not\n",
    "\n",
    "Note that a string is a substring of itself, and the empty string is a substring of any other string. (Also note that computer scientists like to think about these edge cases quite carefully!)"
   ]
  },
  {
   "cell_type": "code",
   "execution_count": 1,
   "metadata": {},
   "outputs": [
    {
     "name": "stdout",
     "output_type": "stream",
     "text": [
      "True\n",
      "True\n",
      "True\n",
      "True\n"
     ]
    }
   ],
   "source": [
    "print('a' in 'a')\n",
    "print('apple' in 'apple')\n",
    "print('' in 'a')\n",
    "print('' in 'apple')"
   ]
  },
  {
   "cell_type": "markdown",
   "metadata": {},
   "source": [
    "An assignment to an element of a list is called item assignment. Item assignment does not work for strings.\n",
    "\n",
    "**strings are immutable like tuple**\n",
    "\n",
    "We can also remove elements from a list by assigning the empty list."
   ]
  },
  {
   "cell_type": "code",
   "execution_count": 1,
   "metadata": {},
   "outputs": [
    {
     "name": "stdout",
     "output_type": "stream",
     "text": [
      "['a', 'd', 'e', 'f']\n"
     ]
    }
   ],
   "source": [
    "alist = ['a', 'b', 'c', 'd', 'e', 'f']\n",
    "alist[1:3] = []\n",
    "print(alist)\n"
   ]
  },
  {
   "cell_type": "code",
   "execution_count": 3,
   "metadata": {},
   "outputs": [
    {
     "name": "stdout",
     "output_type": "stream",
     "text": [
      "['a', 'b', 'c', 'd', 'f']\n",
      "['a', 'b', 'c', 'd', 'e', 'f']\n"
     ]
    }
   ],
   "source": [
    "#**Squeezing**\n",
    "\n",
    "alist = ['a', 'd', 'f']\n",
    "alist[1:1] = ['b', 'c']\n",
    "print(alist)\n",
    "alist[4:4] = ['e']\n",
    "print(alist)\n"
   ]
  },
  {
   "cell_type": "code",
   "execution_count": 4,
   "metadata": {},
   "outputs": [
    {
     "name": "stdout",
     "output_type": "stream",
     "text": [
      "['one', 'three']\n",
      "['three']\n"
     ]
    }
   ],
   "source": [
    "#list delete\n",
    "\n",
    "a = ['one', 'two', 'three']\n",
    "del a[1]\n",
    "print(a)\n",
    "\n",
    "a[0:1]=[]\n",
    "print(a)"
   ]
  },
  {
   "cell_type": "markdown",
   "metadata": {},
   "source": [
    "### Objects and reference list and strings\n",
    "\n",
    "Since strings are immutable, the Python interpreter often optimizes resources by making two names that refer to the same string value refer to the same object. You shouldn’t count on this (that is, use == to compare strings, not is), but don’t be surprised if you find that two variables,each bound to the string “banana”, have the same id..\n",
    "\n",
    "This is not the case with lists, which never share an id just because they have the same contents. Consider the following example. Here, a and b refer to two different lists, each of which happens to have the same element values. They need to have different ids so that mutations of list a do not affect list b."
   ]
  },
  {
   "cell_type": "code",
   "execution_count": 5,
   "metadata": {},
   "outputs": [
    {
     "name": "stdout",
     "output_type": "stream",
     "text": [
      "140224139741704\n",
      "140224139741704\n",
      "True\n"
     ]
    }
   ],
   "source": [
    "a = \"banana\"\n",
    "b = \"banana\"\n",
    "\n",
    "print(id(a))\n",
    "print(id(b))\n",
    "\n",
    "print(a is b)"
   ]
  },
  {
   "cell_type": "code",
   "execution_count": 6,
   "metadata": {},
   "outputs": [
    {
     "name": "stdout",
     "output_type": "stream",
     "text": [
      "False\n",
      "True\n",
      "140224138587528\n",
      "140224138587784\n"
     ]
    }
   ],
   "source": [
    "a = [81,82,83]\n",
    "b = [81,82,83]\n",
    "\n",
    "print(a is b)\n",
    "\n",
    "print(a == b)\n",
    "\n",
    "print(id(a))\n",
    "print(id(b))\n"
   ]
  },
  {
   "cell_type": "markdown",
   "metadata": {},
   "source": [
    "### Aliasing\n",
    "\n",
    "Since variables refer to objects, if we assign one variable to another, both variables refer to the same objec"
   ]
  },
  {
   "cell_type": "code",
   "execution_count": 10,
   "metadata": {},
   "outputs": [
    {
     "name": "stdout",
     "output_type": "stream",
     "text": [
      "True\n",
      "[9, 82, 83]\n",
      "[9, 82, 83]\n",
      "True\n"
     ]
    }
   ],
   "source": [
    "a = [81, 82, 83]\n",
    "b = a\n",
    "print(a is b)\n",
    "b[0]=9\n",
    "\n",
    "print(a)\n",
    "print(b)\n",
    "print(a is b)\n",
    "\n",
    "#aliasing is not recommended for list manipulation"
   ]
  },
  {
   "cell_type": "markdown",
   "metadata": {},
   "source": [
    "### Cloning\n",
    "If we want to modify a list and also keep a copy of the original, we need to be able to make a copy of the list itself, not just the reference. This process is sometimes called cloning, to avoid the ambiguity of the word copy."
   ]
  },
  {
   "cell_type": "code",
   "execution_count": 8,
   "metadata": {},
   "outputs": [
    {
     "name": "stdout",
     "output_type": "stream",
     "text": [
      "True\n",
      "False\n",
      "[81, 82, 83]\n",
      "[5, 82, 83]\n"
     ]
    }
   ],
   "source": [
    "a = [81,82,83]\n",
    "\n",
    "b = a[:]       # make a clone using slice\n",
    "print(a == b)\n",
    "print(a is b)\n",
    "\n",
    "b[0] = 5\n",
    "\n",
    "print(a)\n",
    "print(b)\n"
   ]
  },
  {
   "cell_type": "code",
   "execution_count": 11,
   "metadata": {},
   "outputs": [
    {
     "name": "stdout",
     "output_type": "stream",
     "text": [
      "[81, 82, 83]\n",
      "False\n",
      "[81, 82, 83, 81, 82, 83]\n"
     ]
    }
   ],
   "source": [
    "a = [81, 82, 83]\n",
    "b = a*2\n",
    "\n",
    "print(a)\n",
    "print(a is b)\n",
    "print(b)"
   ]
  },
  {
   "cell_type": "markdown",
   "metadata": {},
   "source": [
    "## List methods"
   ]
  },
  {
   "cell_type": "code",
   "execution_count": 20,
   "metadata": {},
   "outputs": [
    {
     "name": "stdout",
     "output_type": "stream",
     "text": [
      "append\n",
      "[5, 27, 3, 12]\n",
      "insert\n",
      "[5, 12, 27, 3, 12]\n",
      "2\n",
      "index\n",
      "3\n",
      "count\n",
      "1\n",
      "reverse\n",
      "[12, 3, 27, 12, 5]\n",
      "sort\n",
      "[3, 5, 12, 12, 27]\n",
      "remove\n",
      "[3, 12, 12, 27]\n",
      "pop\n",
      "27\n",
      "3\n",
      "[12, 12]\n"
     ]
    }
   ],
   "source": [
    "\n",
    "# Adds a new item to the end of a list\n",
    "print(\"append\")\n",
    "mylist = []\n",
    "mylist.append(5)\n",
    "mylist.append(27)\n",
    "mylist.append(3)\n",
    "mylist.append(12)\n",
    "print(mylist)\n",
    "\n",
    "# Inserts a new item at the position given\n",
    "print(\"insert\")\n",
    "mylist.insert(1, 12)\n",
    "print(mylist)\n",
    "print(mylist.count(12))\n",
    "\n",
    "# Returns the position of first occurrence of item\n",
    "print(\"index\")\n",
    "print(mylist.index(3))\n",
    "\n",
    "# Returns the number of occurrences of item\n",
    "print(\"count\")\n",
    "print(mylist.count(5))\n",
    "\n",
    "# Modifies a list to be in reverse order\n",
    "print(\"reverse\")\n",
    "mylist.reverse()\n",
    "print(mylist)\n",
    "\n",
    "# Modifies a list to be sorted\n",
    "print(\"sort\")\n",
    "mylist.sort()\n",
    "print(mylist)\n",
    "\n",
    "# Removes the first occurrence of item\n",
    "print(\"remove\")\n",
    "mylist.remove(5)\n",
    "print(mylist)\n",
    "\n",
    "# Removes and returns the last item\n",
    "print(\"pop\")\n",
    "lastitem = mylist.pop()\n",
    "print(lastitem)\n",
    "first = mylist.pop(0)\n",
    "print(first)\n",
    "print(mylist)\n",
    "\n",
    "#Removes and returns the last item\n"
   ]
  },
  {
   "cell_type": "markdown",
   "metadata": {},
   "source": [
    "NOTE:\n",
    "  It is important to remember that methods like append, sort, and reverse all return None. They change the list; they don’t produce a new list. So, while we did reassignment to increment a number, as in x = x + 1, doing the analogous thing with these operations will lose the entire list contents (see line 8 below)\n",
    "  "
   ]
  },
  {
   "cell_type": "code",
   "execution_count": 28,
   "metadata": {},
   "outputs": [
    {
     "name": "stdout",
     "output_type": "stream",
     "text": [
      "upper\n",
      "ASDFGH\n",
      "lower\n",
      "asdfgh\n",
      "count\n",
      "1\n",
      "item\n",
      "1\n",
      "strip\n",
      "replace\n",
      "atdfgh\n",
      "Hello Rodney Dangerfield. Your score is -1.\n",
      "Hello Marlon Brando. Your score is 1.\n",
      "Hello You. Your score is 100.\n"
     ]
    }
   ],
   "source": [
    "print(\"upper\")\n",
    "\n",
    "#parameter: none\n",
    "#Returns a string in all uppercase\n",
    "s = 'asdfgh'\n",
    "s =s.upper()\n",
    "print(s)\n",
    "\n",
    "# lower\n",
    "print(\"lower\")\n",
    "# parameter: none\n",
    "# Returns a string in all lowercase\n",
    "s = s.lower()\n",
    "print(s)\n",
    "\n",
    "# count\n",
    "# parameter: item\n",
    "# Returns the number of occurrences of item\n",
    "print(\"count\")\n",
    "print(s.count('s'))\n",
    "\n",
    "# index\n",
    "# parameter: item\n",
    "# Returns the leftmost index where the substring item is found and causes a runtime error if item is not found\n",
    "print(\"item\")\n",
    "print(s.index('s'))\n",
    "\n",
    "# strip\n",
    "# parameter:none\n",
    "# Returns a string with the leading and trailing whitespace removed\n",
    "print(\"strip\")\n",
    "\n",
    "\n",
    "# replace\n",
    "# old, new\n",
    "# Replaces all occurrences of old substring with new\n",
    "print(\"replace\")\n",
    "s=s.replace('s','t')\n",
    "print(s)\n",
    "\n",
    "\n",
    "# format\n",
    "# substitutions\n",
    "# Involved! See String Format Method, below\n",
    "scores = [(\"Rodney Dangerfield\", -1), (\"Marlon Brando\", 1), (\"You\", 100)]\n",
    "for person in scores:\n",
    "    name = person[0]\n",
    "    score = person[1]\n",
    "    print(\"Hello {}. Your score is {}.\".format(name, score))"
   ]
  },
  {
   "cell_type": "code",
   "execution_count": 29,
   "metadata": {},
   "outputs": [
    {
     "name": "stdout",
     "output_type": "stream",
     "text": [
      "Hello, Sally. Nice to meet you.\n",
      "Hello, Nice to meet you. Sally.\n"
     ]
    },
    {
     "ename": "IndexError",
     "evalue": "tuple index out of range",
     "output_type": "error",
     "traceback": [
      "\u001b[0;31m---------------------------------------------------------------------------\u001b[0m",
      "\u001b[0;31mIndexError\u001b[0m                                Traceback (most recent call last)",
      "\u001b[0;32m<ipython-input-29-4c3d07808565>\u001b[0m in \u001b[0;36m<module>\u001b[0;34m\u001b[0m\n\u001b[1;32m      7\u001b[0m \u001b[0mprint\u001b[0m\u001b[0;34m(\u001b[0m\u001b[0ms\u001b[0m\u001b[0;34m.\u001b[0m\u001b[0mformat\u001b[0m\u001b[0;34m(\u001b[0m\u001b[0mgreeting\u001b[0m\u001b[0;34m,\u001b[0m\u001b[0mname\u001b[0m\u001b[0;34m)\u001b[0m\u001b[0;34m)\u001b[0m \u001b[0;31m# will print Hello, Nice to meet you. Sally.\u001b[0m\u001b[0;34m\u001b[0m\u001b[0;34m\u001b[0m\u001b[0m\n\u001b[1;32m      8\u001b[0m \u001b[0;34m\u001b[0m\u001b[0m\n\u001b[0;32m----> 9\u001b[0;31m \u001b[0mprint\u001b[0m\u001b[0;34m(\u001b[0m\u001b[0ms\u001b[0m\u001b[0;34m.\u001b[0m\u001b[0mformat\u001b[0m\u001b[0;34m(\u001b[0m\u001b[0mname\u001b[0m\u001b[0;34m)\u001b[0m\u001b[0;34m)\u001b[0m \u001b[0;31m# 2 {}s, only one interpolation item! Not ideal.\u001b[0m\u001b[0;34m\u001b[0m\u001b[0;34m\u001b[0m\u001b[0m\n\u001b[0m",
      "\u001b[0;31mIndexError\u001b[0m: tuple index out of range"
     ]
    }
   ],
   "source": [
    "name = \"Sally\"\n",
    "greeting = \"Nice to meet you\"\n",
    "s = \"Hello, {}. {}.\"\n",
    "\n",
    "print(s.format(name,greeting)) # will print Hello, Sally. Nice to meet you.\n",
    "\n",
    "print(s.format(greeting,name)) # will print Hello, Nice to meet you. Sally.\n",
    "\n",
    "print(s.format(name)) # 2 {}s, only one interpolation item! Not ideal."
   ]
  },
  {
   "cell_type": "markdown",
   "metadata": {},
   "source": [
    "## Dictionary\n",
    "\n",
    "unordered collection and mutable\n",
    "\n",
    "Use del to delete key, values in dict\n",
    "Example: del test_dict['Mani'] \n",
    "\n",
    "*keys*\n",
    "parameter: none\n",
    "Returns a view of the keys in the dictionary\n",
    "\n",
    "*values*\n",
    "parameter: none\n",
    "Returns a view of the values in the dictionary\n",
    "\n",
    "*items*\n",
    "parameter: none\n",
    "Returns a view of the key-value pairs in the dictionary\n",
    "\n",
    "*get*\n",
    "parameter: key\n",
    "Returns the value associated with key; None otherwise\n",
    "\n",
    "*get*\n",
    "parameter: key,alt\n",
    "Returns the value associated with key; alternative- alt otherwise"
   ]
  },
  {
   "cell_type": "code",
   "execution_count": 32,
   "metadata": {},
   "outputs": [
    {
     "name": "stdout",
     "output_type": "stream",
     "text": [
      "Got key apples\n",
      "Got key bananas\n",
      "Got key oranges\n",
      "Got key pears\n",
      "Got key apples\n",
      "Got key bananas\n",
      "Got key oranges\n",
      "Got key pears\n"
     ]
    }
   ],
   "source": [
    "inventory = {'apples': 430, 'bananas': 312, 'oranges': 525, 'pears': 217}\n",
    "for k in inventory:\n",
    "    print(\"Got key\", k)\n",
    "\n",
    "# same as using the key\n",
    "\n",
    "for k in inventory.keys():\n",
    "    print(\"Got key\", k)\n"
   ]
  },
  {
   "cell_type": "markdown",
   "metadata": {},
   "source": [
    "Because dictionaries are mutable, you need to be aware of aliasing (as we saw with lists). Whenever two variables refer to the same dictionary object, changes to one affect the other. For example, opposites is a dictionary that contains pairs of opposites."
   ]
  },
  {
   "cell_type": "code",
   "execution_count": 33,
   "metadata": {},
   "outputs": [
    {
     "name": "stdout",
     "output_type": "stream",
     "text": [
      "True\n",
      "left\n"
     ]
    }
   ],
   "source": [
    "opposites = {'up': 'down', 'right': 'wrong', 'true': 'false'}\n",
    "alias = opposites\n",
    "\n",
    "print(alias is opposites)\n",
    "\n",
    "alias['right'] = 'left'\n",
    "print(opposites['right'])\n"
   ]
  },
  {
   "cell_type": "markdown",
   "metadata": {},
   "source": [
    "## Functions\n",
    "\n",
    "Functions that return values are sometimes called fruitful functions. In many other languages, a function that doesn’t return a value is called a procedure, but we will stick here with the Python way of also calling it a function, or if we want to stress it, a non-fruitful function.\n",
    "\n",
    "\n",
    "There is one more aspect of function return values that should be noted. All Python functions return the special value None unless there is an explicit return statement with a value other than None.\n",
    "    "
   ]
  },
  {
   "cell_type": "code",
   "execution_count": 2,
   "metadata": {},
   "outputs": [],
   "source": [
    "from dataclasses import dataclass\n",
    "\n",
    "@dataclass\n",
    "class Check:\n",
    "    vst: str\n",
    "    ast: int\n",
    "    raj: int\n",
    "        \n",
    "all = [Check(vst='Aswa',ast=1,raj=2)]"
   ]
  },
  {
   "cell_type": "code",
   "execution_count": 5,
   "metadata": {},
   "outputs": [
    {
     "name": "stdout",
     "output_type": "stream",
     "text": [
      "Aswa\n"
     ]
    }
   ],
   "source": [
    "for i in all:\n",
    "    print(i.vst)"
   ]
  },
  {
   "cell_type": "markdown",
   "metadata": {},
   "source": [
    "We say that the function changeit has a side effect on the list object that is passed to it. Global variables are another way to have side effects. For example, similar to examples you have seen above, we could make double have a side effect on the global variable y."
   ]
  },
  {
   "cell_type": "code",
   "execution_count": 7,
   "metadata": {},
   "outputs": [
    {
     "name": "stdout",
     "output_type": "stream",
     "text": [
      "10\n",
      "complete 1\n",
      "5\n",
      "['Michigan', 'Wolverines', 'are', 'awesome']\n"
     ]
    }
   ],
   "source": [
    "def double(n):\n",
    "    return 2 * n\n",
    "\n",
    "y = 5\n",
    "y = double(y)\n",
    "print(y)\n",
    "\n",
    "print(\"complete 1\")\n",
    "def double(y):\n",
    "    y = 2 * y\n",
    "\n",
    "def changeit(lst):\n",
    "    lst[0] = \"Michigan\"\n",
    "    lst[1] = \"Wolverines\"\n",
    "\n",
    "y = 5\n",
    "double(y)\n",
    "print(y)\n",
    "\n",
    "mylst = ['our', 'students', 'are', 'awesome']\n",
    "changeit(mylst)\n",
    "print(mylst)"
   ]
  },
  {
   "cell_type": "markdown",
   "metadata": {},
   "source": [
    "## Tuple Packing\n",
    "\n",
    "Wherever python expects a single value, if multiple expressions are provided, separated by commas, they are automatically packed into a tuple. For example, we can omit the parentheses when assigning a tuple of values to a single variable.\n",
    "\n"
   ]
  },
  {
   "cell_type": "code",
   "execution_count": 8,
   "metadata": {},
   "outputs": [
    {
     "name": "stdout",
     "output_type": "stream",
     "text": [
      "2009\n"
     ]
    }
   ],
   "source": [
    "julia = (\"Julia\", \"Roberts\", 1967, \"Duplicity\", 2009, \"Actress\", \"Atlanta, Georgia\")\n",
    "# or equivalently\n",
    "julia = \"Julia\", \"Roberts\", 1967, \"Duplicity\", 2009, \"Actress\", \"Atlanta, Georgia\"\n",
    "print(julia[4])"
   ]
  },
  {
   "cell_type": "markdown",
   "metadata": {},
   "source": [
    "Python has a very powerful tuple assignment feature that allows a tuple of variable names on the left of an assignment statement to be assigned values from a tuple on the right of the assignment. Another way to think of this is that the tuple of values is unpacked into the variable names."
   ]
  },
  {
   "cell_type": "code",
   "execution_count": 9,
   "metadata": {},
   "outputs": [
    {
     "name": "stdout",
     "output_type": "stream",
     "text": [
      "Julia\n"
     ]
    }
   ],
   "source": [
    "julia = \"Julia\", \"Roberts\", 1967, \"Duplicity\", 2009, \"Actress\", \"Atlanta, Georgia\"\n",
    "\n",
    "name, surname, birth_year, movie, movie_year, profession, birth_place = julia\n",
    "\n",
    "print(name)"
   ]
  },
  {
   "cell_type": "code",
   "execution_count": 11,
   "metadata": {},
   "outputs": [
    {
     "name": "stdout",
     "output_type": "stream",
     "text": [
      "0 apple\n",
      "1 pear\n",
      "2 apricot\n",
      "3 cherry\n",
      "4 peach\n"
     ]
    }
   ],
   "source": [
    "#enumerate\n",
    "\n",
    "fruits = ['apple', 'pear', 'apricot', 'cherry', 'peach']\n",
    "for idx, fruit in enumerate(fruits):\n",
    "    print(idx, fruit)"
   ]
  },
  {
   "cell_type": "code",
   "execution_count": 12,
   "metadata": {},
   "outputs": [
    {
     "name": "stdout",
     "output_type": "stream",
     "text": [
      "7\n",
      "9\n"
     ]
    }
   ],
   "source": [
    "#Passing tuple as a parameter\n",
    "def add(x, y):\n",
    "    return x + y\n",
    "\n",
    "print(add(3, 4))\n",
    "z = (5, 4)\n",
    "print(add(*z)) # this line will cause the values to be unpacked\n"
   ]
  },
  {
   "cell_type": "code",
   "execution_count": null,
   "metadata": {},
   "outputs": [],
   "source": []
  }
 ],
 "metadata": {
  "kernelspec": {
   "display_name": "Python 3",
   "language": "python",
   "name": "python3"
  },
  "language_info": {
   "codemirror_mode": {
    "name": "ipython",
    "version": 3
   },
   "file_extension": ".py",
   "mimetype": "text/x-python",
   "name": "python",
   "nbconvert_exporter": "python",
   "pygments_lexer": "ipython3",
   "version": "3.7.6"
  }
 },
 "nbformat": 4,
 "nbformat_minor": 2
}
