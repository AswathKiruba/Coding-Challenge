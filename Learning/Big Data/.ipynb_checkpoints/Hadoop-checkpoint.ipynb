{
 "cells": [
  {
   "cell_type": "markdown",
   "metadata": {},
   "source": [
    "## Hadoop\n",
    "\n",
    "It contains\n",
    "1. HDFS: File system to manage the storage of data\n",
    "2. MapReduce: A framework to process data across multiple servers\n",
    "\n",
    "* Based on GFS\n",
    "\n",
    "In 2013, Hadoop's MapReduce was divided into 2\n",
    "1. MapReduce (defines): framework to define a data processing task\n",
    "2. YARN (runs): framework to run the data processing tasks\n",
    "\n",
    "# Intro\n",
    "\n",
    "### HDFS\n",
    "Hadoop is deployed on a group of machine (refered as cluster). Each machine in the cluster is called as node.\n",
    "* **Name node**: acts as mster node. manages overall file system.\n",
    "    * It stores the directory structure\n",
    "    * Metadata for all the files (block locations of each file)\n",
    "* **Data node**: data is physically stored in name nodes\n",
    "\n",
    "For example a file is broken into blocks of size 128 MB.\n",
    "**How is the size choosed?**\n",
    "Aimed to minimize the time to seek the block on the disk. Once seeked we could read the data. \n",
    "\n",
    "**Steps on reading a File**\n",
    "\n",
    "1. The metadata in name node (its referred first)\n",
    "2. The blocks in the data node\n",
    "\n",
    "**What if one of the blocks get corrupted or what happens when a node fail?**\n",
    "Solution: replication factor. Copy the blocks in different node.\n",
    "\n",
    "### MapReduce\n",
    "\n",
    "**Find the number of time hello has occured in the file**\n",
    "\n",
    "1. **Map Phase**: Process each block in the node that its stored and get intermediate results.\n",
    "2. **Reduce Phase**: Take all the results to one node and combine them.\n",
    "\n",
    "### YARN\n",
    "\n",
    "**Yet another resource negotiator**\n",
    "1. Resposible for the management of resources on the Hadoop cluster.\n",
    "2. Monitor failures\n",
    "\n",
    "### Different modes\n",
    "1. Standalone mode: only one node (technically no HDFS, no YARN)\n",
    "2. Pseudo-distributed: two nodes are running,one acts as a name node and other as a data node\n",
    "3. Fully distributed: Manually configuring and managing nodes in a Hadoop cluster is complicated and error-prone. We could use enterprise edition of Hadoop: Cloudera, Hortonworks"
   ]
  },
  {
   "cell_type": "markdown",
   "metadata": {},
   "source": [
    "## MapReduce\n",
    "\n",
    "Any data processing task can be parallelized if we express it as \n",
    "<key, value> --> map() --> <key, value> --> reduce()\n",
    "\n",
    "We could also chain transformations.\n",
    "\n",
    "**Once the results from all the mapper come, it stored on a single node. In this node an operation called sort/merge occurs.**\n",
    "\n",
    "\n",
    "### Combiner function\n",
    "(reducer applied at each data node)\n",
    "\n",
    "Map operation is highly parallelized. Example: constitutes to the number of data nodes which actually contains the blocks of data.\n",
    "\n",
    "Instead of sending the mapper results to a single node to perform sort/merge we could use the combiner function to merge/combine the key value pairs with the same keys.\n",
    "\n",
    "The combiner function is implemented by extending the reducer class.\n",
    "\n",
    "**IMP**\n",
    "The combiner makes the MapReduce task faster by \n",
    "1. Reduce operation is partially parallelized\n",
    "2. Less data needs to be transferred across the network\n",
    "\n"
   ]
  },
  {
   "cell_type": "code",
   "execution_count": null,
   "metadata": {},
   "outputs": [],
   "source": []
  }
 ],
 "metadata": {
  "kernelspec": {
   "display_name": "Python 3",
   "language": "python",
   "name": "python3"
  },
  "language_info": {
   "codemirror_mode": {
    "name": "ipython",
    "version": 3
   },
   "file_extension": ".py",
   "mimetype": "text/x-python",
   "name": "python",
   "nbconvert_exporter": "python",
   "pygments_lexer": "ipython3",
   "version": "3.7.1"
  }
 },
 "nbformat": 4,
 "nbformat_minor": 2
}
